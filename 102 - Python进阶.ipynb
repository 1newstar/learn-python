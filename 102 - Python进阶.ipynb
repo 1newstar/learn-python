{
 "metadata": {
  "name": "",
  "signature": "sha256:5c263b89158060ce08f407953834fdb3ada7d6ef74fbe8f07005eee924178701"
 },
 "nbformat": 3,
 "nbformat_minor": 0,
 "worksheets": [
  {
   "cells": [
    {
     "cell_type": "heading",
     "level": 1,
     "metadata": {},
     "source": [
      "\u6309\u540d\u79f0\u4f20\u9012\u53c2\u6570"
     ]
    },
    {
     "cell_type": "code",
     "collapsed": false,
     "input": [
      "def func(a, b=5, c=10):\n",
      "    print('a is', a, 'and b is', b, 'and c is', c)\n",
      "\n",
      "func(3, 7)\n",
      "func(25, c=24)\n",
      "func(c=50, a=100)"
     ],
     "language": "python",
     "metadata": {},
     "outputs": [
      {
       "output_type": "stream",
       "stream": "stdout",
       "text": [
        "('a is', 3, 'and b is', 7, 'and c is', 10)\n",
        "('a is', 25, 'and b is', 5, 'and c is', 24)\n",
        "('a is', 100, 'and b is', 5, 'and c is', 50)\n"
       ]
      }
     ],
     "prompt_number": 1
    },
    {
     "cell_type": "heading",
     "level": 1,
     "metadata": {},
     "source": [
      "\u53ef\u53d8\u53c2\u6570"
     ]
    },
    {
     "cell_type": "code",
     "collapsed": false,
     "input": [
      "def any_arguments(*p, **kw):\n",
      "    print(p)\n",
      "    print(kw)\n",
      "\n",
      "any_arguments(1, 2, 3, 4, 5, a=1, b=2, c=3, d=4, e=5)"
     ],
     "language": "python",
     "metadata": {},
     "outputs": [
      {
       "output_type": "stream",
       "stream": "stdout",
       "text": [
        "(1, 2, 3, 4, 5)\n",
        "{'a': 1, 'c': 3, 'b': 2, 'e': 5, 'd': 4}\n"
       ]
      }
     ],
     "prompt_number": 2
    },
    {
     "cell_type": "code",
     "collapsed": false,
     "input": [
      "def sum(a, b, *p):\n",
      "    s = a + b\n",
      "    for i in p: s += i\n",
      "    return s\n",
      "\n",
      "print(sum(1, 2))\n",
      "print(sum(1, 2, 3))"
     ],
     "language": "python",
     "metadata": {},
     "outputs": [
      {
       "output_type": "stream",
       "stream": "stdout",
       "text": [
        "3\n",
        "6\n"
       ]
      }
     ],
     "prompt_number": 3
    },
    {
     "cell_type": "code",
     "collapsed": false,
     "input": [
      "def sum(l, inital=0):\n",
      "    s = inital\n",
      "    for i in l: s += i\n",
      "    return s\n",
      "\n",
      "print(sum(range(101)))"
     ],
     "language": "python",
     "metadata": {},
     "outputs": [
      {
       "output_type": "stream",
       "stream": "stdout",
       "text": [
        "5050\n"
       ]
      }
     ],
     "prompt_number": 4
    },
    {
     "cell_type": "heading",
     "level": 1,
     "metadata": {},
     "source": [
      "\u7b2c\u4e00\u7c7b\u51fd\u6570\u5bf9\u8c61"
     ]
    },
    {
     "cell_type": "code",
     "collapsed": false,
     "input": [
      "op_set = {\n",
      "    '+': lambda x, y: x+y,\n",
      "    '-': lambda x, y: x-y,\n",
      "    '*': lambda x, y: x*y,\n",
      "    '/': lambda x, y: float(x)/y,\n",
      "}\n",
      "\n",
      "print(op_set['+'](1, 2))"
     ],
     "language": "python",
     "metadata": {},
     "outputs": [
      {
       "output_type": "stream",
       "stream": "stdout",
       "text": [
        "3\n"
       ]
      }
     ],
     "prompt_number": 5
    },
    {
     "cell_type": "heading",
     "level": 1,
     "metadata": {},
     "source": [
      "\u95ed\u5305"
     ]
    },
    {
     "cell_type": "code",
     "collapsed": false,
     "input": [
      "def addn(n):\n",
      "    def add(x):\n",
      "        return x+n\n",
      "    return add\n",
      "\n",
      "add10 = addn(10)\n",
      "print(add10(50))"
     ],
     "language": "python",
     "metadata": {},
     "outputs": [
      {
       "output_type": "stream",
       "stream": "stdout",
       "text": [
        "60\n"
       ]
      }
     ],
     "prompt_number": 6
    },
    {
     "cell_type": "code",
     "collapsed": false,
     "input": [
      "class addn(object):\n",
      "    def __init__(self, n):\n",
      "        self.n = n\n",
      "    def __call__(self, x):\n",
      "        return x + self.n\n",
      "\n",
      "add10 = addn(10)\n",
      "print(add10(50))"
     ],
     "language": "python",
     "metadata": {},
     "outputs": [
      {
       "output_type": "stream",
       "stream": "stdout",
       "text": [
        "60\n"
       ]
      }
     ],
     "prompt_number": 7
    },
    {
     "cell_type": "heading",
     "level": 1,
     "metadata": {},
     "source": [
      "LEGB"
     ]
    },
    {
     "cell_type": "code",
     "collapsed": false,
     "input": [
      "my_variable = 1\n",
      "\n",
      "def func():\n",
      "    my_variable = 2\n",
      "    print(my_variable)\n",
      "    \n",
      "func()"
     ],
     "language": "python",
     "metadata": {},
     "outputs": [
      {
       "output_type": "stream",
       "stream": "stdout",
       "text": [
        "2\n"
       ]
      }
     ],
     "prompt_number": 8
    },
    {
     "cell_type": "code",
     "collapsed": false,
     "input": [
      "my_variable = 1\n",
      "\n",
      "def func():\n",
      "    my_variable = 2\n",
      "    def func1():\n",
      "        my_variable = 3\n",
      "        print(my_variable)\n",
      "    return func1\n",
      "    \n",
      "func()()"
     ],
     "language": "python",
     "metadata": {},
     "outputs": [
      {
       "output_type": "stream",
       "stream": "stdout",
       "text": [
        "3\n"
       ]
      }
     ],
     "prompt_number": 9
    },
    {
     "cell_type": "heading",
     "level": 1,
     "metadata": {},
     "source": [
      "\u88c5\u9970\u5668"
     ]
    },
    {
     "cell_type": "code",
     "collapsed": false,
     "input": [
      "class print_arg(object):\n",
      "    def __init__(self, f):\n",
      "        self.f = f\n",
      "    def __call__(self, *p, **kw):\n",
      "        print(\"{0}, {1}\".format(p, kw))\n",
      "        return self.f(*p, **kw)\n",
      "\n",
      "def add(a, b):\n",
      "    return a+b\n",
      "add = print_arg(add)\n",
      "\n",
      "print(add(10, 20))"
     ],
     "language": "python",
     "metadata": {},
     "outputs": [
      {
       "output_type": "stream",
       "stream": "stdout",
       "text": [
        "(10, 20), {}\n",
        "30\n"
       ]
      }
     ],
     "prompt_number": 10
    },
    {
     "cell_type": "code",
     "collapsed": false,
     "input": [
      "def print_arg(f):\n",
      "    def inner(*p, **kw):\n",
      "        print(\"{0}, {1}\".format(p, kw))\n",
      "        return f(*p, **kw)\n",
      "    return inner\n",
      "\n",
      "def add(a, b):\n",
      "    return a+b\n",
      "add = print_arg(add)\n",
      "\n",
      "print(add(10, 20))"
     ],
     "language": "python",
     "metadata": {},
     "outputs": [
      {
       "output_type": "stream",
       "stream": "stdout",
       "text": [
        "(10, 20), {}\n",
        "30\n"
       ]
      }
     ],
     "prompt_number": 11
    },
    {
     "cell_type": "heading",
     "level": 1,
     "metadata": {},
     "source": [
      "\u88c5\u9970\u5668\u8bed\u6cd5\u7cd6"
     ]
    },
    {
     "cell_type": "code",
     "collapsed": false,
     "input": [
      "@print_arg\n",
      "def add(a, b):\n",
      "    return a+b\n",
      "\n",
      "print(add(10, 20))"
     ],
     "language": "python",
     "metadata": {},
     "outputs": [
      {
       "output_type": "stream",
       "stream": "stdout",
       "text": [
        "(10, 20), {}\n",
        "30\n"
       ]
      }
     ],
     "prompt_number": 12
    },
    {
     "cell_type": "heading",
     "level": 1,
     "metadata": {},
     "source": [
      "\u88c5\u9970\u5668\u7ec3\u4e60"
     ]
    },
    {
     "cell_type": "code",
     "collapsed": false,
     "input": [
      "def fib(n):\n",
      "    if n <= 1: return 1\n",
      "    return fib(n-1) + fib(n-2)\n",
      "\n",
      "%time fib(35)"
     ],
     "language": "python",
     "metadata": {},
     "outputs": [
      {
       "output_type": "stream",
       "stream": "stdout",
       "text": [
        "CPU times: user 3.19 s, sys: 8 ms, total: 3.2 s\n",
        "Wall time: 3.14 s\n"
       ]
      },
      {
       "metadata": {},
       "output_type": "pyout",
       "prompt_number": 13,
       "text": [
        "14930352"
       ]
      }
     ],
     "prompt_number": 13
    },
    {
     "cell_type": "code",
     "collapsed": false,
     "input": [
      "def memorized(f):\n",
      "    cache = {}\n",
      "    def inner(n):\n",
      "        if n not in cache:\n",
      "            cache[n] = f(n)\n",
      "        return cache[n]\n",
      "    return inner\n",
      "\n",
      "@memorized\n",
      "def fib(n):\n",
      "    if n <= 1: return 1\n",
      "    return fib(n-1) + fib(n-2)\n",
      "\n",
      "%time fib(35)"
     ],
     "language": "python",
     "metadata": {},
     "outputs": [
      {
       "output_type": "stream",
       "stream": "stdout",
       "text": [
        "CPU times: user 0 ns, sys: 0 ns, total: 0 ns\n",
        "Wall time: 50.1 \u00b5s\n"
       ]
      },
      {
       "metadata": {},
       "output_type": "pyout",
       "prompt_number": 14,
       "text": [
        "14930352"
       ]
      }
     ],
     "prompt_number": 14
    },
    {
     "cell_type": "code",
     "collapsed": false,
     "input": [
      "def memorized(f):\n",
      "    cache = {}\n",
      "    def inner(*p):\n",
      "        if p not in cache:\n",
      "            cache[p] = f(*p)\n",
      "        return cache[p]\n",
      "    return inner\n",
      "\n",
      "@memorized\n",
      "def fib(n):\n",
      "    if n <= 1: return 1\n",
      "    return fib(n-1) + fib(n-2)\n",
      "\n",
      "%time fib(35)"
     ],
     "language": "python",
     "metadata": {},
     "outputs": [
      {
       "output_type": "stream",
       "stream": "stdout",
       "text": [
        "CPU times: user 0 ns, sys: 0 ns, total: 0 ns\n",
        "Wall time: 57.9 \u00b5s\n"
       ]
      },
      {
       "metadata": {},
       "output_type": "pyout",
       "prompt_number": 15,
       "text": [
        "14930352"
       ]
      }
     ],
     "prompt_number": 15
    },
    {
     "cell_type": "heading",
     "level": 1,
     "metadata": {},
     "source": [
      "\u751f\u6210\u5668"
     ]
    },
    {
     "cell_type": "code",
     "collapsed": false,
     "input": [
      "def fib_seq(n):\n",
      "    l = []\n",
      "    a, b = 1, 1\n",
      "    for i in range(n):\n",
      "        a, b = a+b, a\n",
      "        l.append(a)\n",
      "    return l\n",
      "\n",
      "print(fib_seq(20))"
     ],
     "language": "python",
     "metadata": {},
     "outputs": [
      {
       "output_type": "stream",
       "stream": "stdout",
       "text": [
        "[2, 3, 5, 8, 13, 21, 34, 55, 89, 144, 233, 377, 610, 987, 1597, 2584, 4181, 6765, 10946, 17711]\n"
       ]
      }
     ],
     "prompt_number": 16
    },
    {
     "cell_type": "code",
     "collapsed": false,
     "input": [
      "def fib_seq(n):\n",
      "    a, b = 1, 1\n",
      "    for i in range(n):\n",
      "        a, b = a+b, a\n",
      "        yield a\n",
      "\n",
      "print(fib_seq(20))\n",
      "print(list(fib_seq(20)))"
     ],
     "language": "python",
     "metadata": {},
     "outputs": [
      {
       "output_type": "stream",
       "stream": "stdout",
       "text": [
        "<generator object fib_seq at 0x7f75a1924f00>\n",
        "[2, 3, 5, 8, 13, 21, 34, 55, 89, 144, 233, 377, 610, 987, 1597, 2584, 4181, 6765, 10946, 17711]\n"
       ]
      }
     ],
     "prompt_number": 17
    },
    {
     "cell_type": "heading",
     "level": 1,
     "metadata": {},
     "source": [
      "\u65e0\u9650\u751f\u6210\u5668"
     ]
    },
    {
     "cell_type": "code",
     "collapsed": false,
     "input": [
      "def fib_seq():\n",
      "    a = b = 1\n",
      "    while True:\n",
      "        a, b = a+b, a\n",
      "        yield b\n",
      "\n",
      "def size_limited_seq(seq, n):\n",
      "    for i in seq:\n",
      "        if n <= 0: return\n",
      "        yield i\n",
      "        n -= 1\n",
      "\n",
      "print(list(size_limited_seq(fib_seq(), 10)))"
     ],
     "language": "python",
     "metadata": {},
     "outputs": [
      {
       "output_type": "stream",
       "stream": "stdout",
       "text": [
        "[1, 2, 3, 5, 8, 13, 21, 34, 55, 89]\n"
       ]
      }
     ],
     "prompt_number": 18
    },
    {
     "cell_type": "code",
     "collapsed": false,
     "input": [
      "def number_limited_seq(seq, n):\n",
      "    for i in seq:\n",
      "        if i >= n: break\n",
      "        yield i\n",
      "\n",
      "print(list(number_limited_seq(fib_seq(), 100000)))"
     ],
     "language": "python",
     "metadata": {},
     "outputs": [
      {
       "output_type": "stream",
       "stream": "stdout",
       "text": [
        "[1, 2, 3, 5, 8, 13, 21, 34, 55, 89, 144, 233, 377, 610, 987, 1597, 2584, 4181, 6765, 10946, 17711, 28657, 46368, 75025]\n"
       ]
      }
     ],
     "prompt_number": 19
    },
    {
     "cell_type": "code",
     "collapsed": false,
     "input": [
      "# \u548c\u524d\u9762\u5b9a\u4e49\u7684sum\u51fd\u6570\u8054\u7528\uff0csum\u51fd\u6570\u652f\u6301\u751f\u6210\u5668\n",
      "print(sum(number_limited_seq(fib_seq(), 100000)))"
     ],
     "language": "python",
     "metadata": {},
     "outputs": [
      {
       "output_type": "stream",
       "stream": "stdout",
       "text": [
        "196416\n"
       ]
      }
     ],
     "prompt_number": 20
    },
    {
     "cell_type": "heading",
     "level": 1,
     "metadata": {},
     "source": [
      "map/filter/reduce"
     ]
    },
    {
     "cell_type": "code",
     "collapsed": false,
     "input": [
      "print(map(lambda x: x*x, range(20)))"
     ],
     "language": "python",
     "metadata": {},
     "outputs": [
      {
       "output_type": "stream",
       "stream": "stdout",
       "text": [
        "[0, 1, 4, 9, 16, 25, 36, 49, 64, 81, 100, 121, 144, 169, 196, 225, 256, 289, 324, 361]\n"
       ]
      }
     ],
     "prompt_number": 21
    },
    {
     "cell_type": "code",
     "collapsed": false,
     "input": [
      "filter(lambda x: x % 2 == 0, range(20))"
     ],
     "language": "python",
     "metadata": {},
     "outputs": [
      {
       "metadata": {},
       "output_type": "pyout",
       "prompt_number": 22,
       "text": [
        "[0, 2, 4, 6, 8, 10, 12, 14, 16, 18]"
       ]
      }
     ],
     "prompt_number": 22
    },
    {
     "cell_type": "code",
     "collapsed": false,
     "input": [
      "reduce(lambda x, y: x*y, range(1, 20))"
     ],
     "language": "python",
     "metadata": {},
     "outputs": [
      {
       "metadata": {},
       "output_type": "pyout",
       "prompt_number": 23,
       "text": [
        "121645100408832000"
       ]
      }
     ],
     "prompt_number": 23
    },
    {
     "cell_type": "heading",
     "level": 1,
     "metadata": {},
     "source": [
      "map/filter\uff0c\u5217\u8868\u63a8\u5bfc\u5f0f\u548cfor\u5faa\u73af\u7684\u6bd4\u8f83"
     ]
    },
    {
     "cell_type": "code",
     "collapsed": false,
     "input": [
      "print([x*x for x in range(20)])"
     ],
     "language": "python",
     "metadata": {},
     "outputs": [
      {
       "output_type": "stream",
       "stream": "stdout",
       "text": [
        "[0, 1, 4, 9, 16, 25, 36, 49, 64, 81, 100, 121, 144, 169, 196, 225, 256, 289, 324, 361]\n"
       ]
      }
     ],
     "prompt_number": 24
    },
    {
     "cell_type": "code",
     "collapsed": false,
     "input": [
      "l = []\n",
      "for x in range(20):\n",
      "    l.append(x*x)\n",
      "print(l)"
     ],
     "language": "python",
     "metadata": {},
     "outputs": [
      {
       "output_type": "stream",
       "stream": "stdout",
       "text": [
        "[0, 1, 4, 9, 16, 25, 36, 49, 64, 81, 100, 121, 144, 169, 196, 225, 256, 289, 324, 361]\n"
       ]
      }
     ],
     "prompt_number": 25
    },
    {
     "cell_type": "code",
     "collapsed": false,
     "input": [
      "print([x for x in range(20) if x % 2 == 0])"
     ],
     "language": "python",
     "metadata": {},
     "outputs": [
      {
       "output_type": "stream",
       "stream": "stdout",
       "text": [
        "[0, 2, 4, 6, 8, 10, 12, 14, 16, 18]\n"
       ]
      }
     ],
     "prompt_number": 26
    },
    {
     "cell_type": "code",
     "collapsed": false,
     "input": [
      "l = []\n",
      "for x in range(20):\n",
      "    if x % 2 == 0:\n",
      "        l.append(x)\n",
      "print(l)"
     ],
     "language": "python",
     "metadata": {},
     "outputs": [
      {
       "output_type": "stream",
       "stream": "stdout",
       "text": [
        "[0, 2, 4, 6, 8, 10, 12, 14, 16, 18]\n"
       ]
      }
     ],
     "prompt_number": 27
    },
    {
     "cell_type": "heading",
     "level": 1,
     "metadata": {},
     "source": [
      "\u4f8b\u5b50: \u8ba1\u7b97\u5668"
     ]
    },
    {
     "cell_type": "code",
     "collapsed": false,
     "input": [
      "op_set = {\n",
      "    '+': lambda x, y: x+y,\n",
      "    '-': lambda x, y: x-y,\n",
      "    '*': lambda x, y: x*y,\n",
      "    '/': lambda x, y: float(x)/y,\n",
      "}\n",
      "\n",
      "def parser_exp(exp):\n",
      "    s = ''\n",
      "    for c in exp:\n",
      "        if c in op_set:\n",
      "            yield s\n",
      "            s = ''\n",
      "            yield c\n",
      "        else:\n",
      "            s += c\n",
      "    if s: yield s\n",
      "\n",
      "print(list(parser_exp('1+2')))\n",
      "\n",
      "def eval_exp(exp):\n",
      "    num = None\n",
      "    s = parser_exp(exp)\n",
      "    for e in s:\n",
      "        if e in op_set:\n",
      "            r = float(s.next())\n",
      "            num = op_set[e](num, r)\n",
      "        else:\n",
      "            num = float(e)\n",
      "    return num\n",
      "\n",
      "print(eval_exp('2*3+1'))\n",
      "print(eval_exp('1+2*3'))"
     ],
     "language": "python",
     "metadata": {},
     "outputs": [
      {
       "output_type": "stream",
       "stream": "stdout",
       "text": [
        "['1', '+', '2']\n",
        "7.0\n",
        "9.0\n"
       ]
      }
     ],
     "prompt_number": 28
    },
    {
     "cell_type": "heading",
     "level": 1,
     "metadata": {},
     "source": [
      "\u5f15\u7528\u548c\u590d\u5236"
     ]
    },
    {
     "cell_type": "code",
     "collapsed": false,
     "input": [
      "print('Simple Assignment')\n",
      "shoplist = ['apple', 'mango', 'carrot', 'banana']\n",
      "mylist = shoplist\n",
      "\n",
      "del shoplist[0]\n",
      "print('shoplist is', shoplist)\n",
      "print('mylist is', mylist)\n",
      "print('Copy by making a full slice')\n",
      "\n",
      "mylist = shoplist[:]\n",
      "del mylist[0]\n",
      "print('shoplist is', shoplist)\n",
      "print('mylist is', mylist)"
     ],
     "language": "python",
     "metadata": {},
     "outputs": [
      {
       "output_type": "stream",
       "stream": "stdout",
       "text": [
        "Simple Assignment\n",
        "('shoplist is', ['mango', 'carrot', 'banana'])\n",
        "('mylist is', ['mango', 'carrot', 'banana'])\n",
        "Copy by making a full slice\n",
        "('shoplist is', ['mango', 'carrot', 'banana'])\n",
        "('mylist is', ['carrot', 'banana'])\n"
       ]
      }
     ],
     "prompt_number": 29
    },
    {
     "cell_type": "code",
     "collapsed": false,
     "input": [
      "import copy\n",
      "\n",
      "orig_list = [1, 2, 3, [4, 5, 6]]\n",
      "\n",
      "new_list = copy.deepcopy(orig_list)\n",
      "print(new_list)\n",
      "new_list[3].append(7)\n",
      "new_list.append(8)\n",
      "print(new_list)\n",
      "print(orig_list)\n",
      "\n",
      "print('-----------')\n",
      "\n",
      "new_list = copy.copy(orig_list)\n",
      "print(new_list)\n",
      "new_list[3].append(7)\n",
      "new_list.append(8)\n",
      "print(new_list)\n",
      "print(orig_list)"
     ],
     "language": "python",
     "metadata": {},
     "outputs": [
      {
       "output_type": "stream",
       "stream": "stdout",
       "text": [
        "[1, 2, 3, [4, 5, 6]]\n",
        "[1, 2, 3, [4, 5, 6, 7], 8]\n",
        "[1, 2, 3, [4, 5, 6]]\n",
        "-----------\n",
        "[1, 2, 3, [4, 5, 6]]\n",
        "[1, 2, 3, [4, 5, 6, 7], 8]\n",
        "[1, 2, 3, [4, 5, 6, 7]]\n"
       ]
      }
     ],
     "prompt_number": 30
    },
    {
     "cell_type": "heading",
     "level": 1,
     "metadata": {},
     "source": [
      "\u7ec3\u4e60"
     ]
    },
    {
     "cell_type": "code",
     "collapsed": false,
     "input": [
      "l = [1,2,3,4,5]\n",
      "\n",
      "def my_reverse(l):\n",
      "    for i in range(1, len(l)+1):\n",
      "        yield l[len(l)-i]\n",
      "\n",
      "print(list(my_reverse(l)))"
     ],
     "language": "python",
     "metadata": {},
     "outputs": [
      {
       "output_type": "stream",
       "stream": "stdout",
       "text": [
        "[5, 4, 3, 2, 1]\n"
       ]
      }
     ],
     "prompt_number": 31
    },
    {
     "cell_type": "code",
     "collapsed": false,
     "input": [
      "l = [1,2,3,4,5]\n",
      "\n",
      "def my_reverse(l):\n",
      "    t = l[:]\n",
      "    del l[:]\n",
      "    for i in range(1, len(t)+1):\n",
      "        l.append(t[len(t)-i])\n",
      "\n",
      "my_reverse(l)\n",
      "print(l)"
     ],
     "language": "python",
     "metadata": {},
     "outputs": [
      {
       "output_type": "stream",
       "stream": "stdout",
       "text": [
        "[5, 4, 3, 2, 1]\n"
       ]
      }
     ],
     "prompt_number": 32
    },
    {
     "cell_type": "code",
     "collapsed": false,
     "input": [
      "l = []\n",
      "l.append(l)\n",
      "l.append(l)\n",
      "print(l)"
     ],
     "language": "python",
     "metadata": {},
     "outputs": [
      {
       "output_type": "stream",
       "stream": "stdout",
       "text": [
        "[[...], [...]]\n"
       ]
      }
     ],
     "prompt_number": 33
    },
    {
     "cell_type": "heading",
     "level": 1,
     "metadata": {},
     "source": [
      "unicode"
     ]
    },
    {
     "cell_type": "code",
     "collapsed": false,
     "input": [
      "\"hello world\""
     ],
     "language": "python",
     "metadata": {},
     "outputs": [
      {
       "metadata": {},
       "output_type": "pyout",
       "prompt_number": 34,
       "text": [
        "'hello world'"
       ]
      }
     ],
     "prompt_number": 34
    },
    {
     "cell_type": "code",
     "collapsed": false,
     "input": [
      "type(\"hello world\")"
     ],
     "language": "python",
     "metadata": {},
     "outputs": [
      {
       "metadata": {},
       "output_type": "pyout",
       "prompt_number": 35,
       "text": [
        "str"
       ]
      }
     ],
     "prompt_number": 35
    },
    {
     "cell_type": "code",
     "collapsed": false,
     "input": [
      "u\"hello world\""
     ],
     "language": "python",
     "metadata": {},
     "outputs": [
      {
       "metadata": {},
       "output_type": "pyout",
       "prompt_number": 36,
       "text": [
        "u'hello world'"
       ]
      }
     ],
     "prompt_number": 36
    },
    {
     "cell_type": "code",
     "collapsed": false,
     "input": [
      "type(u\"hello world\")"
     ],
     "language": "python",
     "metadata": {},
     "outputs": [
      {
       "metadata": {},
       "output_type": "pyout",
       "prompt_number": 37,
       "text": [
        "unicode"
       ]
      }
     ],
     "prompt_number": 37
    },
    {
     "cell_type": "code",
     "collapsed": false,
     "input": [
      "# encoding=utf-8\n",
      "import io\n",
      "\n",
      "f = io.open(\"abc.txt\", \"wt\", encoding=\"utf-8\")\n",
      "f.write(u\"\u60f3\u8c61\u4e00\u4e0b\u8fd9\u91cc\u662f\u67d0\u4e9b\u4e2d\u6587\u5185\u5bb9\uff0c\u4e5f\u53ef\u80fd\u662f\u65e5\u6587\u6216\u8005\u97e9\u6587\")\n",
      "f.close()\n",
      "\n",
      "# \u5982\u679c\u5728windows\u4e0b\uff0c\u8fd9\u4e2a\u884c\u4e3a\u53cd\u800c\u53ef\u80fd\u51fa\u73b0\u4e71\u7801\u3002\u56e0\u4e3awindows\u7684\u9ed8\u8ba4\u7f16\u7801\u4e3aCP936\uff0c\u800c\u4e0d\u662fUTF-8\u3002\n",
      "text = io.open(\"abc.txt\", encoding=\"utf-8\").read()\n",
      "print(text)"
     ],
     "language": "python",
     "metadata": {},
     "outputs": [
      {
       "output_type": "stream",
       "stream": "stdout",
       "text": [
        "\u60f3\u8c61\u4e00\u4e0b\u8fd9\u91cc\u662f\u67d0\u4e9b\u4e2d\u6587\u5185\u5bb9\uff0c\u4e5f\u53ef\u80fd\u662f\u65e5\u6587\u6216\u8005\u97e9\u6587\n"
       ]
      }
     ],
     "prompt_number": 38
    },
    {
     "cell_type": "code",
     "collapsed": false,
     "input": [
      "!ls -l abc.txt"
     ],
     "language": "python",
     "metadata": {},
     "outputs": [
      {
       "output_type": "stream",
       "stream": "stdout",
       "text": [
        "-rw-r--r-- 1 shell shell 72 9\u6708   2 17:23 abc.txt\r\n"
       ]
      }
     ],
     "prompt_number": 39
    },
    {
     "cell_type": "code",
     "collapsed": false,
     "input": [
      "!cat abc.txt"
     ],
     "language": "python",
     "metadata": {},
     "outputs": [
      {
       "output_type": "stream",
       "stream": "stdout",
       "text": [
        "\u60f3\u8c61\u4e00\u4e0b\u8fd9\u91cc\u662f\u67d0\u4e9b\u4e2d\u6587\u5185\u5bb9\uff0c\u4e5f\u53ef\u80fd\u662f\u65e5\u6587\u6216\u8005\u97e9\u6587"
       ]
      }
     ],
     "prompt_number": 40
    },
    {
     "cell_type": "code",
     "collapsed": false,
     "input": [
      "# encoding=utf-8\n",
      "import io\n",
      "\n",
      "f = io.open(\"abc.txt\", \"wt\", encoding=\"gbk\")\n",
      "f.write(u\"\u60f3\u8c61\u4e00\u4e0b\u8fd9\u91cc\u662f\u67d0\u4e9b\u4e2d\u6587\u5185\u5bb9\uff0c\u4e5f\u53ef\u80fd\u662f\u65e5\u6587\u6216\u8005\u97e9\u6587\")\n",
      "f.close()\n",
      "\n",
      "text = io.open(\"abc.txt\", encoding=\"gbk\").read()\n",
      "print(text)\n",
      "\n",
      "text = open(\"abc.txt\").read()\n",
      "print(text)\n",
      "\n",
      "text = io.open(\"abc.txt\", encoding=\"utf-8\").read()\n",
      "print(text)"
     ],
     "language": "python",
     "metadata": {},
     "outputs": [
      {
       "output_type": "stream",
       "stream": "stdout",
       "text": [
        "\u60f3\u8c61\u4e00\u4e0b\u8fd9\u91cc\u662f\u67d0\u4e9b\u4e2d\u6587\u5185\u5bb9\uff0c\u4e5f\u53ef\u80fd\u662f\u65e5\u6587\u6216\u8005\u97e9\u6587\n",
        "\ufffd\ufffd\ufffd\ufffd\u04bb\ufffd\ufffd\ufffd\ufffd\ufffd\ufffd\ufffd\ufffd\u0133\u0429\ufffd\ufffd\ufffd\ufffd\ufffd\ufffd\ufffd\u0763\ufffd\u04b2\ufffd\ufffd\ufffd\ufffd\ufffd\ufffd\ufffd\ufffd\ufffd\u013b\ufffd\ufffd\u07fa\ufffd\ufffd\ufffd\n"
       ]
      },
      {
       "ename": "UnicodeDecodeError",
       "evalue": "'utf8' codec can't decode byte 0xcf in position 0: invalid continuation byte",
       "output_type": "pyerr",
       "traceback": [
        "\u001b[0;31m---------------------------------------------------------------------------\u001b[0m\n\u001b[0;31mUnicodeDecodeError\u001b[0m                        Traceback (most recent call last)",
        "\u001b[0;32m<ipython-input-41-d2ca517a40b2>\u001b[0m in \u001b[0;36m<module>\u001b[0;34m()\u001b[0m\n\u001b[1;32m     12\u001b[0m \u001b[0;32mprint\u001b[0m\u001b[0;34m(\u001b[0m\u001b[0mtext\u001b[0m\u001b[0;34m)\u001b[0m\u001b[0;34m\u001b[0m\u001b[0m\n\u001b[1;32m     13\u001b[0m \u001b[0;34m\u001b[0m\u001b[0m\n\u001b[0;32m---> 14\u001b[0;31m \u001b[0mtext\u001b[0m \u001b[0;34m=\u001b[0m \u001b[0mio\u001b[0m\u001b[0;34m.\u001b[0m\u001b[0mopen\u001b[0m\u001b[0;34m(\u001b[0m\u001b[0;34m\"abc.txt\"\u001b[0m\u001b[0;34m,\u001b[0m \u001b[0mencoding\u001b[0m\u001b[0;34m=\u001b[0m\u001b[0;34m\"utf-8\"\u001b[0m\u001b[0;34m)\u001b[0m\u001b[0;34m.\u001b[0m\u001b[0mread\u001b[0m\u001b[0;34m(\u001b[0m\u001b[0;34m)\u001b[0m\u001b[0;34m\u001b[0m\u001b[0m\n\u001b[0m\u001b[1;32m     15\u001b[0m \u001b[0;32mprint\u001b[0m\u001b[0;34m(\u001b[0m\u001b[0mtext\u001b[0m\u001b[0;34m)\u001b[0m\u001b[0;34m\u001b[0m\u001b[0m\n",
        "\u001b[0;32m/usr/lib/python2.7/codecs.pyc\u001b[0m in \u001b[0;36mdecode\u001b[0;34m(self, input, final)\u001b[0m\n\u001b[1;32m    312\u001b[0m         \u001b[0;31m# decode input (taking the buffer into account)\u001b[0m\u001b[0;34m\u001b[0m\u001b[0;34m\u001b[0m\u001b[0m\n\u001b[1;32m    313\u001b[0m         \u001b[0mdata\u001b[0m \u001b[0;34m=\u001b[0m \u001b[0mself\u001b[0m\u001b[0;34m.\u001b[0m\u001b[0mbuffer\u001b[0m \u001b[0;34m+\u001b[0m \u001b[0minput\u001b[0m\u001b[0;34m\u001b[0m\u001b[0m\n\u001b[0;32m--> 314\u001b[0;31m         \u001b[0;34m(\u001b[0m\u001b[0mresult\u001b[0m\u001b[0;34m,\u001b[0m \u001b[0mconsumed\u001b[0m\u001b[0;34m)\u001b[0m \u001b[0;34m=\u001b[0m \u001b[0mself\u001b[0m\u001b[0;34m.\u001b[0m\u001b[0m_buffer_decode\u001b[0m\u001b[0;34m(\u001b[0m\u001b[0mdata\u001b[0m\u001b[0;34m,\u001b[0m \u001b[0mself\u001b[0m\u001b[0;34m.\u001b[0m\u001b[0merrors\u001b[0m\u001b[0;34m,\u001b[0m \u001b[0mfinal\u001b[0m\u001b[0;34m)\u001b[0m\u001b[0;34m\u001b[0m\u001b[0m\n\u001b[0m\u001b[1;32m    315\u001b[0m         \u001b[0;31m# keep undecoded input until the next call\u001b[0m\u001b[0;34m\u001b[0m\u001b[0;34m\u001b[0m\u001b[0m\n\u001b[1;32m    316\u001b[0m         \u001b[0mself\u001b[0m\u001b[0;34m.\u001b[0m\u001b[0mbuffer\u001b[0m \u001b[0;34m=\u001b[0m \u001b[0mdata\u001b[0m\u001b[0;34m[\u001b[0m\u001b[0mconsumed\u001b[0m\u001b[0;34m:\u001b[0m\u001b[0;34m]\u001b[0m\u001b[0;34m\u001b[0m\u001b[0m\n",
        "\u001b[0;31mUnicodeDecodeError\u001b[0m: 'utf8' codec can't decode byte 0xcf in position 0: invalid continuation byte"
       ]
      }
     ],
     "prompt_number": 41
    },
    {
     "cell_type": "code",
     "collapsed": false,
     "input": [
      "!ls -l abc.txt"
     ],
     "language": "python",
     "metadata": {},
     "outputs": [
      {
       "output_type": "stream",
       "stream": "stdout",
       "text": [
        "-rw-r--r-- 1 shell shell 48 9\u6708   2 17:23 abc.txt\r\n"
       ]
      }
     ],
     "prompt_number": 42
    },
    {
     "cell_type": "code",
     "collapsed": false,
     "input": [
      "!cat abc.txt"
     ],
     "language": "python",
     "metadata": {},
     "outputs": [
      {
       "output_type": "stream",
       "stream": "stdout",
       "text": [
        "\ufffd\ufffd\ufffd\ufffd\u04bb\ufffd\ufffd\ufffd\ufffd\ufffd\ufffd\ufffd\ufffd\u0133\u0429\ufffd\ufffd\ufffd\ufffd\ufffd\ufffd\ufffd\u0763\ufffd\u04b2\ufffd\ufffd\ufffd\ufffd\ufffd\ufffd\ufffd\ufffd\ufffd\u013b\ufffd\ufffd\u07fa\ufffd\ufffd\ufffd"
       ]
      }
     ],
     "prompt_number": 43
    },
    {
     "cell_type": "code",
     "collapsed": false,
     "input": [
      "!rm abc.txt"
     ],
     "language": "python",
     "metadata": {},
     "outputs": [],
     "prompt_number": 44
    },
    {
     "cell_type": "heading",
     "level": 1,
     "metadata": {},
     "source": [
      "\u7ec3\u4e60"
     ]
    },
    {
     "cell_type": "code",
     "collapsed": false,
     "input": [
      "# encoding=utf-8\n",
      "import chardet\n",
      "\n",
      "text = u\"\u60f3\u8c61\u4e00\u4e0b\u8fd9\u91cc\u662f\u67d0\u4e9b\u4e2d\u6587\u5185\u5bb9\uff0c\u4e5f\u53ef\u80fd\u662f\u65e5\u6587\u6216\u8005\u97e9\u6587\".encode('gbk')\n",
      "print(text)\n",
      "\n",
      "print(chardet.detect(text))\n",
      "text = text.decode(chardet.detect(text)['encoding'])\n",
      "print(text)\n",
      "print(type(text))"
     ],
     "language": "python",
     "metadata": {},
     "outputs": [
      {
       "output_type": "stream",
       "stream": "stdout",
       "text": [
        "\ufffd\ufffd\ufffd\ufffd\u04bb\ufffd\ufffd\ufffd\ufffd\ufffd\ufffd\ufffd\ufffd\u0133\u0429\ufffd\ufffd\ufffd\ufffd\ufffd\ufffd\ufffd\u0763\ufffd\u04b2\ufffd\ufffd\ufffd\ufffd\ufffd\ufffd\ufffd\ufffd\ufffd\u013b\ufffd\ufffd\u07fa\ufffd\ufffd\ufffd\n",
        "{'confidence': 0.99, 'encoding': 'GB2312'}\n",
        "\u60f3\u8c61\u4e00\u4e0b\u8fd9\u91cc\u662f\u67d0\u4e9b\u4e2d\u6587\u5185\u5bb9\uff0c\u4e5f\u53ef\u80fd\u662f\u65e5\u6587\u6216\u8005\u97e9\u6587\n",
        "<type 'unicode'>\n"
       ]
      }
     ],
     "prompt_number": 45
    },
    {
     "cell_type": "code",
     "collapsed": false,
     "input": [
      "# encoding=utf-8\n",
      "import chardet\n",
      "\n",
      "text = u\"\u60f3\u8c61\u4e00\u4e0b\u8fd9\u91cc\u662f\u67d0\u4e9b\u4e2d\u6587\u5185\u5bb9\uff0c\u4e5f\u53ef\u80fd\u662f\u65e5\u6587\u6216\u8005\u97e9\u6587\".encode('utf-8')\n",
      "print(text)\n",
      "\n",
      "print(chardet.detect(text))\n",
      "text = text.decode(chardet.detect(text)['encoding'])\n",
      "print(text)\n",
      "print(type(text))"
     ],
     "language": "python",
     "metadata": {},
     "outputs": [
      {
       "output_type": "stream",
       "stream": "stdout",
       "text": [
        "\u60f3\u8c61\u4e00\u4e0b\u8fd9\u91cc\u662f\u67d0\u4e9b\u4e2d\u6587\u5185\u5bb9\uff0c\u4e5f\u53ef\u80fd\u662f\u65e5\u6587\u6216\u8005\u97e9\u6587\n",
        "{'confidence': 0.99, 'encoding': 'utf-8'}\n",
        "\u60f3\u8c61\u4e00\u4e0b\u8fd9\u91cc\u662f\u67d0\u4e9b\u4e2d\u6587\u5185\u5bb9\uff0c\u4e5f\u53ef\u80fd\u662f\u65e5\u6587\u6216\u8005\u97e9\u6587\n",
        "<type 'unicode'>\n"
       ]
      }
     ],
     "prompt_number": 46
    },
    {
     "cell_type": "heading",
     "level": 1,
     "metadata": {},
     "source": [
      "\u6807\u51c6\u5e93:sys"
     ]
    },
    {
     "cell_type": "code",
     "collapsed": false,
     "input": [
      "import sys\n",
      "print sys.version_info\n",
      "print sys.version_info.major == 3"
     ],
     "language": "python",
     "metadata": {},
     "outputs": [
      {
       "output_type": "stream",
       "stream": "stdout",
       "text": [
        "sys.version_info(major=2, minor=7, micro=12, releaselevel='final', serial=0)\n",
        "False\n"
       ]
      }
     ],
     "prompt_number": 47
    },
    {
     "cell_type": "heading",
     "level": 1,
     "metadata": {},
     "source": [
      "\u6807\u51c6\u5e93:logging"
     ]
    },
    {
     "cell_type": "code",
     "collapsed": false,
     "input": [
      "import os\n",
      "import platform\n",
      "import logging\n",
      "\n",
      "if platform.platform().startswith('Windows'):\n",
      "    logging_file = os.path.join(os.getenv('HOMEDRIVE'),\n",
      "                                os.getenv('HOMEPATH'),\n",
      "                                'test.log')\n",
      "else:\n",
      "    logging_file = os.path.join(os.getenv('HOME'),\n",
      "                                'test.log')\n",
      "\n",
      "print(\"Logging to\", logging_file)\n",
      "\n",
      "logger = logging.getLogger()\n",
      "logger.setLevel(logging.DEBUG)\n",
      "\n",
      "logging.debug(\"Start of the program\")\n",
      "logging.info(\"Doing something\")\n",
      "logging.warning(\"Dying now\")"
     ],
     "language": "python",
     "metadata": {},
     "outputs": [
      {
       "output_type": "stream",
       "stream": "stderr",
       "text": [
        "DEBUG:root:Start of the program\n"
       ]
      },
      {
       "output_type": "stream",
       "stream": "stderr",
       "text": [
        "INFO:root:Doing something\n"
       ]
      },
      {
       "output_type": "stream",
       "stream": "stderr",
       "text": [
        "WARNING:root:Dying now\n"
       ]
      },
      {
       "output_type": "stream",
       "stream": "stdout",
       "text": [
        "('Logging to', '/home/shell/test.log')\n"
       ]
      }
     ],
     "prompt_number": 48
    },
    {
     "cell_type": "heading",
     "level": 1,
     "metadata": {},
     "source": [
      "\u6b63\u5219\u8868\u8fbe\u5f0f\u5165\u95e8"
     ]
    },
    {
     "cell_type": "code",
     "collapsed": false,
     "input": [
      "import re\n",
      "\n",
      "s = 'He was carefully disguised but captured quickly by police.'\n",
      "r = re.compile('\\w+ly')\n",
      "r.findall(s)"
     ],
     "language": "python",
     "metadata": {},
     "outputs": [
      {
       "metadata": {},
       "output_type": "pyout",
       "prompt_number": 49,
       "text": [
        "['carefully', 'quickly']"
       ]
      }
     ],
     "prompt_number": 49
    },
    {
     "cell_type": "heading",
     "level": 1,
     "metadata": {},
     "source": [
      "\u7ec3\u4e60"
     ]
    },
    {
     "cell_type": "code",
     "collapsed": false,
     "input": [
      "import re\n",
      "\n",
      "r = re.compile('1\\d{10}')\n",
      "print(r.match('13512345678'))\n",
      "print(r.match('021-10101010'))"
     ],
     "language": "python",
     "metadata": {},
     "outputs": [
      {
       "output_type": "stream",
       "stream": "stdout",
       "text": [
        "<_sre.SRE_Match object at 0x7f7598107100>\n",
        "None\n"
       ]
      }
     ],
     "prompt_number": 50
    },
    {
     "cell_type": "code",
     "collapsed": false,
     "input": [
      "import re\n",
      "\n",
      "r = re.compile(r'\\d{0,3}\\.\\d{0,3}\\.\\d{0,3}\\.\\d{0,3}')\n",
      "print(r.match('192.168.0.1'))\n",
      "print(r.match('1200.5.4.3'))\n",
      "print(r.match('abc.def.ghi.jkl'))\n",
      "\n",
      "print(r.match('192.168.0.999'))"
     ],
     "language": "python",
     "metadata": {},
     "outputs": [
      {
       "output_type": "stream",
       "stream": "stdout",
       "text": [
        "<_sre.SRE_Match object at 0x7f7598107168>\n",
        "None\n",
        "None\n",
        "<_sre.SRE_Match object at 0x7f7598107168>\n"
       ]
      }
     ],
     "prompt_number": 51
    },
    {
     "cell_type": "code",
     "collapsed": false,
     "input": [
      "import re\n",
      "\n",
      "# source: http://c.biancheng.net/cpp/html/1435.html\n",
      "r = re.compile(r'(http|ftp|https):\\/\\/[\\w\\-_]+(\\.[\\w\\-_]+)+([\\w\\-\\.,@?^=%&amp;:/~\\+#]*)?')\n",
      "print(r.match('http://regxlib.com/Default.aspx'))\n",
      "print(r.match('regxlib.com'))"
     ],
     "language": "python",
     "metadata": {},
     "outputs": [
      {
       "output_type": "stream",
       "stream": "stdout",
       "text": [
        "<_sre.SRE_Match object at 0x7f759c3f7160>\n",
        "None\n"
       ]
      }
     ],
     "prompt_number": 52
    },
    {
     "cell_type": "code",
     "collapsed": false,
     "input": [
      "import re\n",
      "\n",
      "# source: http://bbs.csdn.net/topics/60032440\n",
      "r = re.compile(r'[a-z]([a-z0-9]*[-_]?[a-z0-9]+)*@([a-z0-9]*[-_]?[a-z0-9]+)+[\\.][a-z]{2,3}([\\.][a-z]{2})?')\n",
      "print(r.match('shell999@gmail.com'))\n",
      "print(r.match('000@shell@1'))"
     ],
     "language": "python",
     "metadata": {},
     "outputs": [
      {
       "output_type": "stream",
       "stream": "stdout",
       "text": [
        "<_sre.SRE_Match object at 0x7f759c7c5458>\n",
        "None\n"
       ]
      }
     ],
     "prompt_number": 53
    },
    {
     "cell_type": "heading",
     "level": 1,
     "metadata": {},
     "source": [
      "pickle"
     ]
    },
    {
     "cell_type": "code",
     "collapsed": false,
     "input": [
      "import pickle\n",
      "shoplistfile = 'shoplist.data'\n",
      "shoplist = ['apple', 'mango', 'carrot']\n",
      "f = open(shoplistfile, 'wb')\n",
      "pickle.dump(shoplist, f)\n",
      "f.close()\n",
      "del shoplist\n",
      "f = open(shoplistfile, 'rb')\n",
      "storedlist = pickle.load(f)\n",
      "print(storedlist)"
     ],
     "language": "python",
     "metadata": {},
     "outputs": [
      {
       "output_type": "stream",
       "stream": "stdout",
       "text": [
        "['apple', 'mango', 'carrot']\n"
       ]
      }
     ],
     "prompt_number": 54
    },
    {
     "cell_type": "code",
     "collapsed": false,
     "input": [
      "!ls -l shoplist.data"
     ],
     "language": "python",
     "metadata": {},
     "outputs": [
      {
       "output_type": "stream",
       "stream": "stdout",
       "text": [
        "-rw-r--r-- 1 shell shell 46 9\u6708   2 17:23 shoplist.data\r\n"
       ]
      }
     ],
     "prompt_number": 55
    },
    {
     "cell_type": "code",
     "collapsed": false,
     "input": [
      "!rm shoplist.data"
     ],
     "language": "python",
     "metadata": {},
     "outputs": [],
     "prompt_number": 56
    },
    {
     "cell_type": "heading",
     "level": 1,
     "metadata": {},
     "source": [
      "datetime"
     ]
    },
    {
     "cell_type": "code",
     "collapsed": false,
     "input": [
      "import datetime\n",
      "print(datetime.date(1789, 7, 14).weekday())"
     ],
     "language": "python",
     "metadata": {},
     "outputs": [
      {
       "output_type": "stream",
       "stream": "stdout",
       "text": [
        "1\n"
       ]
      }
     ],
     "prompt_number": 57
    },
    {
     "cell_type": "heading",
     "level": 1,
     "metadata": {},
     "source": [
      "math"
     ]
    },
    {
     "cell_type": "code",
     "collapsed": false,
     "input": [
      "2**15"
     ],
     "language": "python",
     "metadata": {},
     "outputs": [
      {
       "metadata": {},
       "output_type": "pyout",
       "prompt_number": 58,
       "text": [
        "32768"
       ]
      }
     ],
     "prompt_number": 58
    },
    {
     "cell_type": "code",
     "collapsed": false,
     "input": [
      "len(str(2**15))"
     ],
     "language": "python",
     "metadata": {},
     "outputs": [
      {
       "metadata": {},
       "output_type": "pyout",
       "prompt_number": 59,
       "text": [
        "5"
       ]
      }
     ],
     "prompt_number": 59
    },
    {
     "cell_type": "code",
     "collapsed": false,
     "input": [
      "2**1515"
     ],
     "language": "python",
     "metadata": {},
     "outputs": [
      {
       "metadata": {},
       "output_type": "pyout",
       "prompt_number": 60,
       "text": [
        "1149326528034702581682260802282483154731794952366680598907315749676350303455258941969435226491616272765850432529872896570140083779714087641224676603265178037383658094111263859162703551253166913832114001816457662609862015656425761751871770440149072630404384442015791262449967076912697519498726922973530707535919651560412212344672313695699099755325593751836252686364599363077472034064061672117649734107141736148353976201394067293417855894280067914417745952768L"
       ]
      }
     ],
     "prompt_number": 60
    },
    {
     "cell_type": "code",
     "collapsed": false,
     "input": [
      "len(str(2**1515))"
     ],
     "language": "python",
     "metadata": {},
     "outputs": [
      {
       "metadata": {},
       "output_type": "pyout",
       "prompt_number": 61,
       "text": [
        "457"
       ]
      }
     ],
     "prompt_number": 61
    },
    {
     "cell_type": "code",
     "collapsed": false,
     "input": [
      "# log(2**15151515) == log2 * 15151515 == log10 * (log2/log10) * 15151515\n",
      "# 2**15151515 == 10**((log2/log10) * 15151515)\n",
      "import math\n",
      "\n",
      "print((math.log(2)/math.log(10)) * 15)\n",
      "print(int((math.log(2)/math.log(10)) * 15) + 1)\n",
      "\n",
      "print((math.log(2)/math.log(10)) * 1515)\n",
      "print(int((math.log(2)/math.log(10)) * 1515) + 1)\n",
      "\n",
      "print((math.log(2)/math.log(10)) * 15151515)\n",
      "print(int((math.log(2)/math.log(10)) * 15151515) + 1)"
     ],
     "language": "python",
     "metadata": {},
     "outputs": [
      {
       "output_type": "stream",
       "stream": "stdout",
       "text": [
        "4.51544993496\n",
        "5\n",
        "456.060443431\n",
        "457\n",
        "4561060.49475\n",
        "4561061\n"
       ]
      }
     ],
     "prompt_number": 62
    },
    {
     "cell_type": "code",
     "collapsed": false,
     "input": [
      "import math\n",
      "f = lambda x: int((math.log(2)/math.log(10)) * x) + 1\n",
      "\n",
      "print(f(15))\n",
      "print(f(1515))\n",
      "print(f(15151515))"
     ],
     "language": "python",
     "metadata": {},
     "outputs": [
      {
       "output_type": "stream",
       "stream": "stdout",
       "text": [
        "5\n",
        "457\n",
        "4561061\n"
       ]
      }
     ],
     "prompt_number": 63
    },
    {
     "cell_type": "heading",
     "level": 1,
     "metadata": {},
     "source": [
      "random"
     ]
    },
    {
     "cell_type": "code",
     "collapsed": false,
     "input": [
      "s = u'\u8d75\u94b1\u5b59\u674e\u5468\u5434\u90d1\u738b'\n",
      "s = list(s)\n",
      "\n",
      "import random\n",
      "print(random.choice(s))\n",
      "print(random.choice(s))\n",
      "print(random.choice(s))\n",
      "print(random.choice(s))\n",
      "print(random.choice(s))"
     ],
     "language": "python",
     "metadata": {},
     "outputs": [
      {
       "output_type": "stream",
       "stream": "stdout",
       "text": [
        "\u5434\n",
        "\u8d75\n",
        "\u5b59\n",
        "\u674e\n",
        "\u674e\n"
       ]
      }
     ],
     "prompt_number": 64
    },
    {
     "cell_type": "code",
     "collapsed": false,
     "input": [
      "s = u'\u8d75\u94b1\u5b59\u674e\u5468\u5434\u90d1\u738b'\n",
      "s = list(s)\n",
      "\n",
      "import random\n",
      "random.shuffle(s)\n",
      "print(s.pop())\n",
      "print(s.pop())\n",
      "print(s.pop())\n",
      "print(s.pop())\n",
      "print(s.pop())"
     ],
     "language": "python",
     "metadata": {},
     "outputs": [
      {
       "output_type": "stream",
       "stream": "stdout",
       "text": [
        "\u90d1\n",
        "\u5b59\n",
        "\u5434\n",
        "\u738b\n",
        "\u94b1\n"
       ]
      }
     ],
     "prompt_number": 65
    },
    {
     "cell_type": "heading",
     "level": 1,
     "metadata": {},
     "source": [
      "\u7ec3\u4e60"
     ]
    },
    {
     "cell_type": "code",
     "collapsed": false,
     "input": [
      "!cat /etc/rc.local"
     ],
     "language": "python",
     "metadata": {},
     "outputs": [
      {
       "output_type": "stream",
       "stream": "stdout",
       "text": [
        "#!/bin/sh -e\r\n",
        "#\r\n",
        "# rc.local\r\n",
        "#\r\n",
        "# This script is executed at the end of each multiuser runlevel.\r\n",
        "# Make sure that the script will \"exit 0\" on success or any other\r\n",
        "# value on error.\r\n",
        "#\r\n",
        "# In order to enable or disable this script just change the execution\r\n",
        "# bits.\r\n",
        "#\r\n",
        "# By default this script does nothing.\r\n",
        "\r\n",
        "exit 0\r\n"
       ]
      }
     ],
     "prompt_number": 66
    },
    {
     "cell_type": "code",
     "collapsed": false,
     "input": [
      "!grep -v ^# /etc/rc.local | wc -l"
     ],
     "language": "python",
     "metadata": {},
     "outputs": [
      {
       "output_type": "stream",
       "stream": "stdout",
       "text": [
        "2\r\n"
       ]
      }
     ],
     "prompt_number": 67
    },
    {
     "cell_type": "code",
     "collapsed": false,
     "input": [
      "# grep -v ^# file | wc -l\n",
      "import subprocess\n",
      "\n",
      "p1 = subprocess.Popen([\"grep\", \"-v\", \"^#\", \"/etc/rc.local\"], stdout=subprocess.PIPE)\n",
      "p2 = subprocess.Popen([\"wc\", \"-l\"], stdin=p1.stdout, stdout=subprocess.PIPE)\n",
      "output = p2.communicate()[0]\n",
      "int(output.strip())"
     ],
     "language": "python",
     "metadata": {},
     "outputs": [
      {
       "metadata": {},
       "output_type": "pyout",
       "prompt_number": 68,
       "text": [
        "2"
       ]
      }
     ],
     "prompt_number": 68
    },
    {
     "cell_type": "code",
     "collapsed": false,
     "input": [
      "import re\n",
      "\n",
      "r = re.compile('^#')\n",
      "with open('/etc/rc.local', 'rb') as fi:\n",
      "    print(len([line for line in fi if not r.match(line)]))"
     ],
     "language": "python",
     "metadata": {},
     "outputs": [
      {
       "output_type": "stream",
       "stream": "stdout",
       "text": [
        "2\n"
       ]
      }
     ],
     "prompt_number": 69
    },
    {
     "cell_type": "heading",
     "level": 1,
     "metadata": {},
     "source": [
      "Unittest"
     ]
    },
    {
     "cell_type": "code",
     "collapsed": false,
     "input": [
      "import unittest\n",
      "\n",
      "class TestStringMethods(unittest.TestCase):\n",
      "\n",
      "    def test_upper(self):\n",
      "        self.assertEqual('foo'.upper(), 'FOO')\n",
      "\n",
      "    def test_isupper(self):\n",
      "        self.assertTrue('FOO'.isupper())\n",
      "        self.assertFalse('Foo'.isupper())\n",
      "\n",
      "    def test_split(self):\n",
      "        s = 'hello world'\n",
      "        self.assertEqual(s.split(), ['hello', 'world'])\n",
      "        # check that s.split fails when the separator is not a string\n",
      "        with self.assertRaises(TypeError):\n",
      "            s.split(2)\n",
      "\n",
      "suite = unittest.TestLoader().loadTestsFromTestCase(TestStringMethods)\n",
      "unittest.TextTestRunner().run(suite)"
     ],
     "language": "python",
     "metadata": {},
     "outputs": [
      {
       "output_type": "stream",
       "stream": "stderr",
       "text": [
        "."
       ]
      },
      {
       "output_type": "stream",
       "stream": "stderr",
       "text": [
        "."
       ]
      },
      {
       "output_type": "stream",
       "stream": "stderr",
       "text": [
        "."
       ]
      },
      {
       "output_type": "stream",
       "stream": "stderr",
       "text": [
        "\n",
        "----------------------------------------------------------------------\n",
        "Ran 3 tests in 0.001s\n",
        "\n",
        "OK\n"
       ]
      },
      {
       "metadata": {},
       "output_type": "pyout",
       "prompt_number": 70,
       "text": [
        "<unittest.runner.TextTestResult run=3 errors=0 failures=0>"
       ]
      }
     ],
     "prompt_number": 70
    },
    {
     "cell_type": "code",
     "collapsed": false,
     "input": [
      "import re\n",
      "import unittest, unittest.loader\n",
      "\n",
      "class TestMobile(unittest.TestCase):\n",
      "    r = re.compile('1\\d{10}')\n",
      "\n",
      "    def test_match(self):\n",
      "        self.assertTrue(self.r.match('13512345678'))\n",
      "\n",
      "    def test_notmatch(self):\n",
      "        self.assertFalse(self.r.match('021-10101010'))\n",
      "\n",
      "class TestInetAddr(unittest.TestCase):\n",
      "    r = re.compile(r'\\d{0,3}\\.\\d{0,3}\\.\\d{0,3}\\.\\d{0,3}')\n",
      "\n",
      "    def test_ipv4(self):\n",
      "        self.assertTrue(self.r.match('192.168.0.1'))\n",
      "\n",
      "    def test_notmatch(self):\n",
      "        self.assertFalse(self.r.match('1200.5.4.3'))\n",
      "        self.assertFalse(self.r.match('abc.def.ghi.jkl'))\n",
      "\n",
      "    def test_wrong(self):\n",
      "        self.assertFalse(self.r.match('192.168.0.999'))\n",
      "\n",
      "class TestUrl(unittest.TestCase):\n",
      "    # source: http://c.biancheng.net/cpp/html/1435.html\n",
      "    r = re.compile(r'(http|ftp|https):\\/\\/[\\w\\-_]+(\\.[\\w\\-_]+)+([\\w\\-\\.,@?^=%&amp;:/~\\+#]*)?')\n",
      "\n",
      "    def test_url(self):\n",
      "        self.assertTrue(self.r.match('http://regxlib.com/Default.aspx'))\n",
      "\n",
      "    def test_domain(self):\n",
      "        self.assertFalse(self.r.match('regxlib.com'))\n",
      "\n",
      "class TestEmail(unittest.TestCase):\n",
      "    # source: http://bbs.csdn.net/topics/60032440\n",
      "    r = re.compile(r'[a-z]([a-z0-9]*[-_]?[a-z0-9]+)*@([a-z0-9]*[-_]?[a-z0-9]+)+[\\.][a-z]{2,3}([\\.][a-z]{2})?')\n",
      "\n",
      "    def test_email(self):\n",
      "        self.assertTrue(self.r.match('shell999@gmail.com'))\n",
      "\n",
      "    def test_notmatch(self):\n",
      "        self.assertFalse(self.r.match('000@shell@1'))\n",
      "\n",
      "suite = unittest.TestSuite()\n",
      "loader = unittest.TestLoader()\n",
      "suite.addTest(loader.loadTestsFromTestCase(TestMobile))\n",
      "suite.addTest(loader.loadTestsFromTestCase(TestInetAddr))\n",
      "suite.addTest(loader.loadTestsFromTestCase(TestUrl))\n",
      "suite.addTest(loader.loadTestsFromTestCase(TestEmail))\n",
      "unittest.TextTestRunner().run(suite)"
     ],
     "language": "python",
     "metadata": {},
     "outputs": [
      {
       "output_type": "stream",
       "stream": "stderr",
       "text": [
        "."
       ]
      },
      {
       "output_type": "stream",
       "stream": "stderr",
       "text": [
        "."
       ]
      },
      {
       "output_type": "stream",
       "stream": "stderr",
       "text": [
        "."
       ]
      },
      {
       "output_type": "stream",
       "stream": "stderr",
       "text": [
        "."
       ]
      },
      {
       "output_type": "stream",
       "stream": "stderr",
       "text": [
        "F"
       ]
      },
      {
       "output_type": "stream",
       "stream": "stderr",
       "text": [
        "."
       ]
      },
      {
       "output_type": "stream",
       "stream": "stderr",
       "text": [
        "."
       ]
      },
      {
       "output_type": "stream",
       "stream": "stderr",
       "text": [
        "."
       ]
      },
      {
       "output_type": "stream",
       "stream": "stderr",
       "text": [
        "."
       ]
      },
      {
       "output_type": "stream",
       "stream": "stderr",
       "text": [
        "\n",
        "======================================================================\n",
        "FAIL: test_wrong (__main__.TestInetAddr)\n",
        "----------------------------------------------------------------------\n",
        "Traceback (most recent call last):\n",
        "  File \"<ipython-input-71-19a306a3d23e>\", line 24, in test_wrong\n",
        "    self.assertFalse(self.r.match('192.168.0.999'))\n",
        "AssertionError: <_sre.SRE_Match object at 0x7f7598142d98> is not false\n",
        "\n",
        "----------------------------------------------------------------------\n",
        "Ran 9 tests in 0.006s\n",
        "\n",
        "FAILED (failures=1)\n"
       ]
      },
      {
       "metadata": {},
       "output_type": "pyout",
       "prompt_number": 71,
       "text": [
        "<unittest.runner.TextTestResult run=9 errors=0 failures=1>"
       ]
      }
     ],
     "prompt_number": 71
    },
    {
     "cell_type": "heading",
     "level": 1,
     "metadata": {},
     "source": [
      "\u590d\u6742\u4f8b\u5b50\uff1a\u8ba1\u7b97\u5668"
     ]
    },
    {
     "cell_type": "code",
     "collapsed": false,
     "input": [
      "#!/usr/bin/python\n",
      "# -*- coding: utf-8 -*-\n",
      "'''\n",
      "@date: 2016-09-02\n",
      "@author: Shell.Xu\n",
      "@copyright: 2016, Shell.Xu <shell909090@gmail.com>\n",
      "@license: BSD-3-clause\n",
      "'''\n",
      "\n",
      "op_set = {'(': None,\n",
      "    ')': None,\n",
      "    '+': lambda x, y: x+y,\n",
      "    '-': lambda x, y: x-y,\n",
      "    '*': lambda x, y: x*y,\n",
      "    '/': lambda x, y: float(x)/y,}\n",
      "\n",
      "op_priority = {'+': 10, '-': 10,\n",
      "    '*': 20,\n",
      "    '/': 20,}\n",
      "\n",
      "def parser_exp(exp):\n",
      "    s = ''\n",
      "    for c in exp:\n",
      "        if c in op_set:\n",
      "            if s: yield s\n",
      "            s = ''\n",
      "            yield c\n",
      "        else: s += c\n",
      "    if s: yield s\n",
      "\n",
      "def find_last_op(l):\n",
      "    for e in reversed(l):\n",
      "        if e in op_set: return e\n",
      "\n",
      "def force_stack(stack):\n",
      "    r = stack.pop(-1)\n",
      "    op = stack.pop(-1)\n",
      "    l = stack.pop(-1)\n",
      "    result = op_set[op](l, r)\n",
      "    print('{} {} {} => {}'.format(op, l, r, result))\n",
      "    stack.append(result)\n",
      "\n",
      "def eval_exp(exp):\n",
      "    stack = []\n",
      "    for e in exp:\n",
      "        if e == ')': break\n",
      "        elif e == '(':\n",
      "            stack.append(eval_exp(exp))\n",
      "            continue\n",
      "        if e not in op_set:\n",
      "            stack.append(float(e))\n",
      "            continue\n",
      "        while True:\n",
      "            last = find_last_op(stack)\n",
      "            if last is None or op_priority[last] < op_priority[e]: break\n",
      "            force_stack(stack)\n",
      "        stack.append(e)\n",
      "    while len(stack) > 1:\n",
      "        force_stack(stack)\n",
      "    return stack[0]\n",
      "\n",
      "def calc(exp):\n",
      "    s = parser_exp(exp)\n",
      "    return eval_exp(s)\n",
      "\n",
      "print(calc('2*3+1'))\n",
      "print(calc('1+2*3'))\n",
      "print(calc('(1.1+2.5/10)*3/4+1'))"
     ],
     "language": "python",
     "metadata": {},
     "outputs": [
      {
       "output_type": "stream",
       "stream": "stdout",
       "text": [
        "* 2.0 3.0 => 6.0\n",
        "+ 6.0 1.0 => 7.0\n",
        "7.0\n",
        "* 2.0 3.0 => 6.0\n",
        "+ 1.0 6.0 => 7.0\n",
        "7.0\n",
        "/ 2.5 10.0 => 0.25\n",
        "+ 1.1 0.25 => 1.35\n",
        "* 1.35 3.0 => 4.05\n",
        "/ 4.05 4.0 => 1.0125\n",
        "+ 1.0125 1.0 => 2.0125\n",
        "2.0125\n"
       ]
      }
     ],
     "prompt_number": 72
    },
    {
     "cell_type": "heading",
     "level": 1,
     "metadata": {},
     "source": [
      "\u4ee3\u7801\u68c0\u67e5\u5de5\u5177"
     ]
    },
    {
     "cell_type": "code",
     "collapsed": false,
     "input": [
      "%%writefile calc.py\n",
      "#!/usr/bin/python\n",
      "# -*- coding: utf-8 -*-\n",
      "'''\n",
      "@date: 2016-09-02\n",
      "@author: Shell.Xu\n",
      "@copyright: 2016, Shell.Xu <shell909090@gmail.com>\n",
      "@license: BSD-3-clause\n",
      "'''\n",
      "\n",
      "op_set = {'(': None,\n",
      "    ')': None,\n",
      "    '+': lambda x, y: x+y,\n",
      "    '-': lambda x, y: x-y,\n",
      "    '*': lambda x, y: x*y,\n",
      "    '/': lambda x, y: float(x)/y,}\n",
      "\n",
      "op_priority = {'+': 10, '-': 10,\n",
      "    '*': 20,\n",
      "    '/': 20,}\n",
      "\n",
      "def parser_exp(exp):\n",
      "    s = ''\n",
      "    for c in exp:\n",
      "        if c in op_set:\n",
      "            if s: yield s\n",
      "            s = ''\n",
      "            yield c\n",
      "        else: s += c\n",
      "    if s: yield s\n",
      "\n",
      "def find_last_op(l):\n",
      "    for e in reversed(l):\n",
      "        if e in op_set: return e\n",
      "\n",
      "def force_stack(stack):\n",
      "    r = stack.pop(-1)\n",
      "    op = stack.pop(-1)\n",
      "    l = stack.pop(-1)\n",
      "    result = op_set[op](l, r)\n",
      "    print('{} {} {} => {}'.format(op, l, r, result))\n",
      "    stack.append(result)\n",
      "\n",
      "def eval_exp(exp):\n",
      "    stack = []\n",
      "    for e in exp:\n",
      "        if e == ')': break\n",
      "        elif e == '(':\n",
      "            stack.append(eval_exp(exp))\n",
      "            continue\n",
      "        if e not in op_set:\n",
      "            stack.append(float(e))\n",
      "            continue\n",
      "        while True:\n",
      "            last = find_last_op(stack)\n",
      "            if last is None or op_priority[last] < op_priority[e]: break\n",
      "            force_stack(stack)\n",
      "        stack.append(e)\n",
      "    while len(stack) > 1:\n",
      "        force_stack(stack)\n",
      "    return stack[0]\n",
      "\n",
      "def calc(exp):\n",
      "    s = parser_exp(exp)\n",
      "    return eval_exp(s)\n",
      "\n",
      "print(calc('2*3+1'))\n",
      "print(calc('1+2*3'))\n",
      "print(calc('(1.1+2.5/10)*3/4+1'))"
     ],
     "language": "python",
     "metadata": {},
     "outputs": [
      {
       "output_type": "stream",
       "stream": "stdout",
       "text": [
        "Writing calc.py\n"
       ]
      }
     ],
     "prompt_number": 73
    },
    {
     "cell_type": "code",
     "collapsed": false,
     "input": [
      "!pylint calc.py"
     ],
     "language": "python",
     "metadata": {},
     "outputs": [
      {
       "output_type": "stream",
       "stream": "stdout",
       "text": [
        "************* Module calc\r\n",
        "C: 11, 0: Wrong continued indentation (add 6 spaces).\r\n",
        "    ')': None,\r\n",
        "    ^     | (bad-continuation)\r\n",
        "C: 12, 0: Wrong continued indentation (add 6 spaces).\r\n",
        "    '+': lambda x, y: x+y,\r\n",
        "    ^     | (bad-continuation)\r\n",
        "C: 13, 0: Wrong continued indentation (add 6 spaces).\r\n",
        "    '-': lambda x, y: x-y,\r\n",
        "    ^     | (bad-continuation)\r\n",
        "C: 14, 0: Wrong continued indentation (add 6 spaces).\r\n",
        "    '*': lambda x, y: x*y,\r\n",
        "    ^     | (bad-continuation)\r\n",
        "C: 15, 0: Wrong continued indentation (add 6 spaces).\r\n",
        "    '/': lambda x, y: float(x)/y,}\r\n",
        "    ^     | (bad-continuation)\r\n",
        "C: 18, 0: Wrong continued indentation (add 11 spaces).\r\n",
        "    '*': 20,\r\n",
        "    ^          | (bad-continuation)\r\n",
        "C: 19, 0: Wrong continued indentation (add 11 spaces).\r\n",
        "    '/': 20,}\r\n",
        "    ^          | (bad-continuation)\r\n",
        "C: 40, 0: Unnecessary parens after u'print' keyword (superfluous-parens)\r\n",
        "C: 66, 0: Unnecessary parens after u'print' keyword (superfluous-parens)\r\n",
        "C: 67, 0: Unnecessary parens after u'print' keyword (superfluous-parens)\r\n",
        "C: 68, 0: Final newline missing (missing-final-newline)\r\n",
        "C: 68, 0: Unnecessary parens after u'print' keyword (superfluous-parens)\r\n",
        "C: 10, 0: Invalid constant name \"op_set\" (invalid-name)\r\n",
        "C: 17, 0: Invalid constant name \"op_priority\" (invalid-name)\r\n",
        "C: 22, 4: Invalid variable name \"s\" (invalid-name)\r\n",
        "C: 23, 8: Invalid variable name \"c\" (invalid-name)\r\n",
        "C: 25,18: More than one statement on a single line (multiple-statements)\r\n",
        "C: 26,12: Invalid variable name \"s\" (invalid-name)\r\n",
        "C: 28,14: Invalid variable name \"s\" (invalid-name)\r\n",
        "C: 29,10: More than one statement on a single line (multiple-statements)\r\n",
        "C: 31, 0: Invalid argument name \"l\" (invalid-name)\r\n",
        "C: 32, 8: Invalid variable name \"e\" (invalid-name)\r\n",
        "C: 33,24: More than one statement on a single line (multiple-statements)\r\n",
        "C: 36, 4: Invalid variable name \"r\" (invalid-name)\r\n",
        "C: 37, 4: Invalid variable name \"op\" (invalid-name)\r\n",
        "C: 38, 4: Invalid variable name \"l\" (invalid-name)\r\n",
        "C: 45, 8: Invalid variable name \"e\" (invalid-name)\r\n",
        "C: 46,21: More than one statement on a single line (multiple-statements)\r\n"
       ]
      },
      {
       "output_type": "stream",
       "stream": "stdout",
       "text": [
        "C: 55,67: More than one statement on a single line (multiple-statements)\r\n",
        "C: 63, 4: Invalid variable name \"s\" (invalid-name)\r\n",
        "\r\n",
        "\r\n",
        "Report\r\n",
        "======\r\n",
        "50 statements analysed.\r\n",
        "\r\n",
        "Statistics by type\r\n",
        "------------------\r\n",
        "\r\n",
        "+---------+-------+-----------+-----------+------------+---------+\r\n",
        "|type     |number |old number |difference |%documented |%badname |\r\n",
        "+=========+=======+===========+===========+============+=========+\r\n",
        "|module   |1      |1          |=          |100.00      |0.00     |\r\n",
        "+---------+-------+-----------+-----------+------------+---------+\r\n",
        "|class    |0      |0          |=          |0           |0        |\r\n",
        "+---------+-------+-----------+-----------+------------+---------+\r\n",
        "|method   |0      |0          |=          |0           |0        |\r\n",
        "+---------+-------+-----------+-----------+------------+---------+\r\n",
        "|function |5      |5          |=          |0.00        |0.00     |\r\n",
        "+---------+-------+-----------+-----------+------------+---------+\r\n",
        "\r\n",
        "\r\n",
        "\r\n",
        "Raw metrics\r\n",
        "-----------\r\n",
        "\r\n",
        "+----------+-------+------+---------+-----------+\r\n",
        "|type      |number |%     |previous |difference |\r\n",
        "+==========+=======+======+=========+===========+\r\n",
        "|code      |45     |65.22 |57       |-12.00     |\r\n",
        "+----------+-------+------+---------+-----------+\r\n",
        "|docstring |13     |18.84 |16       |-3.00      |\r\n",
        "+----------+-------+------+---------+-----------+\r\n",
        "|comment   |2      |2.90  |2        |=          |\r\n",
        "+----------+-------+------+---------+-----------+\r\n",
        "|empty     |9      |13.04 |15       |-6.00      |\r\n",
        "+----------+-------+------+---------+-----------+\r\n",
        "\r\n",
        "\r\n",
        "\r\n",
        "Duplication\r\n",
        "-----------\r\n",
        "\r\n",
        "+-------------------------+------+---------+-----------+\r\n",
        "|                         |now   |previous |difference |\r\n",
        "+=========================+======+=========+===========+\r\n",
        "|nb duplicated lines      |0     |0        |=          |\r\n",
        "+-------------------------+------+---------+-----------+\r\n",
        "|percent duplicated lines |0.000 |0.000    |=          |\r\n",
        "+-------------------------+------+---------+-----------+\r\n",
        "\r\n",
        "\r\n",
        "\r\n",
        "Messages by category\r\n",
        "--------------------\r\n",
        "\r\n",
        "+-----------+-------+---------+-----------+\r\n",
        "|type       |number |previous |difference |\r\n",
        "+===========+=======+=========+===========+\r\n",
        "|convention |30     |14       |+16.00     |\r\n",
        "+-----------+-------+---------+-----------+\r\n",
        "|refactor   |0      |0        |=          |\r\n",
        "+-----------+-------+---------+-----------+\r\n",
        "|warning    |0      |0        |=          |\r\n",
        "+-----------+-------+---------+-----------+\r\n",
        "|error      |0      |0        |=          |\r\n",
        "+-----------+-------+---------+-----------+\r\n",
        "\r\n",
        "\r\n",
        "\r\n",
        "Messages\r\n",
        "--------\r\n",
        "\r\n",
        "+----------------------+------------+\r\n",
        "|message id            |occurrences |\r\n",
        "+======================+============+\r\n",
        "|invalid-name          |13          |\r\n",
        "+----------------------+------------+\r\n",
        "|bad-continuation      |7           |\r\n",
        "+----------------------+------------+\r\n",
        "|multiple-statements   |5           |\r\n",
        "+----------------------+------------+\r\n",
        "|superfluous-parens    |4           |\r\n",
        "+----------------------+------------+\r\n",
        "|missing-final-newline |1           |\r\n",
        "+----------------------+------------+\r\n",
        "\r\n",
        "\r\n",
        "\r\n",
        "Global evaluation\r\n",
        "-----------------\r\n",
        "Your code has been rated at 4.00/10 (previous run: 7.36/10, -3.36)\r\n",
        "\r\n"
       ]
      }
     ],
     "prompt_number": 74
    },
    {
     "cell_type": "code",
     "collapsed": false,
     "input": [
      "!flake8 calc.py"
     ],
     "language": "python",
     "metadata": {},
     "outputs": [
      {
       "output_type": "stream",
       "stream": "stdout",
       "text": [
        "calc.py:11:5: E128 continuation line under-indented for visual indent\r\n",
        "calc.py:12:5: E128 continuation line under-indented for visual indent\r\n",
        "calc.py:13:5: E128 continuation line under-indented for visual indent\r\n",
        "calc.py:14:5: E128 continuation line under-indented for visual indent\r\n",
        "calc.py:15:5: E128 continuation line under-indented for visual indent\r\n",
        "calc.py:15:33: E231 missing whitespace after ','\r\n",
        "calc.py:18:5: E128 continuation line under-indented for visual indent\r\n",
        "calc.py:19:5: E128 continuation line under-indented for visual indent\r\n",
        "calc.py:19:12: E231 missing whitespace after ','\r\n",
        "calc.py:21:1: E302 expected 2 blank lines, found 1\r\n",
        "calc.py:25:17: E701 multiple statements on one line (colon)\r\n",
        "calc.py:28:13: E701 multiple statements on one line (colon)\r\n",
        "calc.py:29:9: E701 multiple statements on one line (colon)\r\n",
        "calc.py:31:1: E302 expected 2 blank lines, found 1\r\n",
        "calc.py:33:23: E701 multiple statements on one line (colon)\r\n",
        "calc.py:35:1: E302 expected 2 blank lines, found 1\r\n",
        "calc.py:43:1: E302 expected 2 blank lines, found 1\r\n",
        "calc.py:46:20: E701 multiple statements on one line (colon)\r\n",
        "calc.py:55:66: E701 multiple statements on one line (colon)\r\n",
        "calc.py:62:1: E302 expected 2 blank lines, found 1\r\n",
        "calc.py:68:34: W292 no newline at end of file\r\n"
       ]
      }
     ],
     "prompt_number": 75
    },
    {
     "cell_type": "code",
     "collapsed": false,
     "input": [
      "!python3 -m mccabe calc.py"
     ],
     "language": "python",
     "metadata": {},
     "outputs": [
      {
       "output_type": "stream",
       "stream": "stdout",
       "text": [
        "21:1: 'parser_exp' 5\r\n",
        "62:1: 'calc' 1\r\n",
        "35:1: 'force_stack' 1\r\n",
        "31:1: 'find_last_op' 3\r\n",
        "43:1: 'eval_exp' 8\r\n"
       ]
      }
     ],
     "prompt_number": 76
    },
    {
     "cell_type": "code",
     "collapsed": false,
     "input": [
      "%%writefile calc.py\n",
      "#!/usr/bin/python\n",
      "# -*- coding: utf-8 -*-\n",
      "'''\n",
      "@date: 2016-09-02\n",
      "@author: Shell.Xu\n",
      "@copyright: 2016, Shell.Xu <shell909090@gmail.com>\n",
      "@license: BSD-3-clause\n",
      "'''\n",
      "from __future__ import absolute_import, division,\\\n",
      "    print_function, unicode_literals\n",
      "\n",
      "op_set = {\n",
      "    '(': None,\n",
      "    ')': None,\n",
      "    '+': lambda x, y: x+y,\n",
      "    '-': lambda x, y: x-y,\n",
      "    '*': lambda x, y: x*y,\n",
      "    '/': lambda x, y: float(x)/y,\n",
      "}\n",
      "\n",
      "op_priority = {\n",
      "    '+': 10,\n",
      "    '-': 10,\n",
      "    '*': 20,\n",
      "    '/': 20,\n",
      "}\n",
      "\n",
      "\n",
      "def parser_exp(exp):\n",
      "    s = ''\n",
      "    for c in exp:\n",
      "        if c in op_set:\n",
      "            if s:\n",
      "                yield s\n",
      "            s = ''\n",
      "            yield c\n",
      "        else:\n",
      "            s += c\n",
      "    if s:\n",
      "        yield s\n",
      "\n",
      "\n",
      "def find_last_op(l):\n",
      "    for e in reversed(l):\n",
      "        if e in op_set:\n",
      "            return e\n",
      "\n",
      "\n",
      "def force_stack(stack):\n",
      "    r = stack.pop(-1)\n",
      "    op = stack.pop(-1)\n",
      "    l = stack.pop(-1)\n",
      "    result = op_set[op](l, r)\n",
      "    print('{} {} {} => {}'.format(op, l, r, result))\n",
      "    stack.append(result)\n",
      "\n",
      "\n",
      "def eval_exp(exp):\n",
      "    stack = []\n",
      "    for e in exp:\n",
      "        if e == ')':\n",
      "            break\n",
      "        elif e == '(':\n",
      "            stack.append(eval_exp(exp))\n",
      "            continue\n",
      "        if e not in op_set:\n",
      "            stack.append(float(e))\n",
      "            continue\n",
      "        while True:\n",
      "            last = find_last_op(stack)\n",
      "            if last is None or op_priority[last] < op_priority[e]:\n",
      "                break\n",
      "            force_stack(stack)\n",
      "        stack.append(e)\n",
      "    while len(stack) > 1:\n",
      "        force_stack(stack)\n",
      "    return stack[0]\n",
      "\n",
      "\n",
      "def calc(exp):\n",
      "    s = parser_exp(exp)\n",
      "    result = eval_exp(s)\n",
      "    assert not list(s)\n",
      "    return result\n",
      "\n",
      "\n",
      "print(calc('2*3+1'))\n",
      "print(calc('1+2*3'))\n",
      "print(calc('(1.1+2.5/10)*3/4+1'))"
     ],
     "language": "python",
     "metadata": {},
     "outputs": [
      {
       "output_type": "stream",
       "stream": "stdout",
       "text": [
        "Overwriting calc.py\n"
       ]
      }
     ],
     "prompt_number": 77
    },
    {
     "cell_type": "code",
     "collapsed": false,
     "input": [
      "!pylint calc.py"
     ],
     "language": "python",
     "metadata": {},
     "outputs": [
      {
       "output_type": "stream",
       "stream": "stdout",
       "text": [
        "************* Module calc\r\n",
        "C: 89, 0: Final newline missing (missing-final-newline)\r\n",
        "C: 12, 0: Invalid constant name \"op_set\" (invalid-name)\r\n",
        "C: 21, 0: Invalid constant name \"op_priority\" (invalid-name)\r\n",
        "C: 30, 4: Invalid variable name \"s\" (invalid-name)\r\n",
        "C: 31, 8: Invalid variable name \"c\" (invalid-name)\r\n",
        "C: 35,12: Invalid variable name \"s\" (invalid-name)\r\n",
        "C: 38,12: Invalid variable name \"s\" (invalid-name)\r\n",
        "C: 43, 0: Invalid argument name \"l\" (invalid-name)\r\n",
        "C: 44, 8: Invalid variable name \"e\" (invalid-name)\r\n",
        "C: 50, 4: Invalid variable name \"r\" (invalid-name)\r\n",
        "C: 51, 4: Invalid variable name \"op\" (invalid-name)\r\n",
        "C: 52, 4: Invalid variable name \"l\" (invalid-name)\r\n"
       ]
      },
      {
       "output_type": "stream",
       "stream": "stdout",
       "text": [
        "C: 60, 8: Invalid variable name \"e\" (invalid-name)\r\n",
        "C: 81, 4: Invalid variable name \"s\" (invalid-name)\r\n",
        "\r\n",
        "\r\n",
        "Report\r\n",
        "======\r\n",
        "53 statements analysed.\r\n",
        "\r\n",
        "Statistics by type\r\n",
        "------------------\r\n",
        "\r\n",
        "+---------+-------+-----------+-----------+------------+---------+\r\n",
        "|type     |number |old number |difference |%documented |%badname |\r\n",
        "+=========+=======+===========+===========+============+=========+\r\n",
        "|module   |1      |1          |=          |100.00      |0.00     |\r\n",
        "+---------+-------+-----------+-----------+------------+---------+\r\n",
        "|class    |0      |0          |=          |0           |0        |\r\n",
        "+---------+-------+-----------+-----------+------------+---------+\r\n",
        "|method   |0      |0          |=          |0           |0        |\r\n",
        "+---------+-------+-----------+-----------+------------+---------+\r\n",
        "|function |5      |5          |=          |0.00        |0.00     |\r\n",
        "+---------+-------+-----------+-----------+------------+---------+\r\n",
        "\r\n",
        "\r\n",
        "\r\n",
        "Raw metrics\r\n",
        "-----------\r\n",
        "\r\n",
        "+----------+-------+------+---------+-----------+\r\n",
        "|type      |number |%     |previous |difference |\r\n",
        "+==========+=======+======+=========+===========+\r\n",
        "|code      |57     |63.33 |45       |+12.00     |\r\n",
        "+----------+-------+------+---------+-----------+\r\n",
        "|docstring |16     |17.78 |13       |+3.00      |\r\n",
        "+----------+-------+------+---------+-----------+\r\n",
        "|comment   |2      |2.22  |2        |=          |\r\n",
        "+----------+-------+------+---------+-----------+\r\n",
        "|empty     |15     |16.67 |9        |+6.00      |\r\n",
        "+----------+-------+------+---------+-----------+\r\n",
        "\r\n",
        "\r\n",
        "\r\n",
        "Duplication\r\n",
        "-----------\r\n",
        "\r\n",
        "+-------------------------+------+---------+-----------+\r\n",
        "|                         |now   |previous |difference |\r\n",
        "+=========================+======+=========+===========+\r\n",
        "|nb duplicated lines      |0     |0        |=          |\r\n",
        "+-------------------------+------+---------+-----------+\r\n",
        "|percent duplicated lines |0.000 |0.000    |=          |\r\n",
        "+-------------------------+------+---------+-----------+\r\n",
        "\r\n",
        "\r\n",
        "\r\n",
        "Messages by category\r\n",
        "--------------------\r\n",
        "\r\n",
        "+-----------+-------+---------+-----------+\r\n",
        "|type       |number |previous |difference |\r\n",
        "+===========+=======+=========+===========+\r\n",
        "|convention |14     |30       |-16.00     |\r\n",
        "+-----------+-------+---------+-----------+\r\n",
        "|refactor   |0      |0        |=          |\r\n",
        "+-----------+-------+---------+-----------+\r\n",
        "|warning    |0      |0        |=          |\r\n",
        "+-----------+-------+---------+-----------+\r\n",
        "|error      |0      |0        |=          |\r\n",
        "+-----------+-------+---------+-----------+\r\n",
        "\r\n",
        "\r\n",
        "\r\n",
        "Messages\r\n",
        "--------\r\n",
        "\r\n",
        "+----------------------+------------+\r\n",
        "|message id            |occurrences |\r\n",
        "+======================+============+\r\n",
        "|invalid-name          |13          |\r\n",
        "+----------------------+------------+\r\n",
        "|missing-final-newline |1           |\r\n",
        "+----------------------+------------+\r\n",
        "\r\n",
        "\r\n",
        "\r\n",
        "Global evaluation\r\n",
        "-----------------\r\n",
        "Your code has been rated at 7.36/10 (previous run: 4.00/10, +3.36)\r\n",
        "\r\n"
       ]
      }
     ],
     "prompt_number": 78
    },
    {
     "cell_type": "code",
     "collapsed": false,
     "input": [
      "!flake8 calc.py"
     ],
     "language": "python",
     "metadata": {},
     "outputs": [
      {
       "output_type": "stream",
       "stream": "stdout",
       "text": [
        "calc.py:89:34: W292 no newline at end of file\r\n"
       ]
      }
     ],
     "prompt_number": 79
    },
    {
     "cell_type": "code",
     "collapsed": false,
     "input": [
      "!flake8 --max-complexity 10 calc.py"
     ],
     "language": "python",
     "metadata": {},
     "outputs": [
      {
       "output_type": "stream",
       "stream": "stdout",
       "text": [
        "calc.py:89:34: W292 no newline at end of file\r\n"
       ]
      }
     ],
     "prompt_number": 80
    },
    {
     "cell_type": "code",
     "collapsed": false,
     "input": [
      "!python-coverage run calc.py"
     ],
     "language": "python",
     "metadata": {},
     "outputs": [
      {
       "output_type": "stream",
       "stream": "stdout",
       "text": [
        "* 2.0 3.0 => 6.0\r\n",
        "+ 6.0 1.0 => 7.0\r\n",
        "7.0\r\n",
        "* 2.0 3.0 => 6.0\r\n",
        "+ 1.0 6.0 => 7.0\r\n",
        "7.0\r\n",
        "/ 2.5 10.0 => 0.25\r\n",
        "+ 1.1 0.25 => 1.35\r\n",
        "* 1.35 3.0 => 4.05\r\n",
        "/ 4.05 4.0 => 1.0125\r\n",
        "+ 1.0125 1.0 => 2.0125\r\n",
        "2.0125\r\n"
       ]
      }
     ],
     "prompt_number": 81
    },
    {
     "cell_type": "code",
     "collapsed": false,
     "input": [
      "!python-coverage report -m"
     ],
     "language": "python",
     "metadata": {},
     "outputs": [
      {
       "output_type": "stream",
       "stream": "stdout",
       "text": [
        "Name      Stmts   Miss  Cover   Missing\r\n",
        "---------------------------------------\r\n",
        "calc.py      54      0   100%\r\n"
       ]
      }
     ],
     "prompt_number": 82
    },
    {
     "cell_type": "code",
     "collapsed": false,
     "input": [
      "!rm -f calc.py"
     ],
     "language": "python",
     "metadata": {},
     "outputs": [],
     "prompt_number": 83
    }
   ],
   "metadata": {}
  }
 ]
}