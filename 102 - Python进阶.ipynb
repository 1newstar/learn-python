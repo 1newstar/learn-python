{
 "metadata": {
  "name": "",
  "signature": "sha256:c404496ad891276f410b51400d9f179f93b54ae4d252e7e07f381c9c57cb3e49"
 },
 "nbformat": 3,
 "nbformat_minor": 0,
 "worksheets": [
  {
   "cells": [
    {
     "cell_type": "heading",
     "level": 1,
     "metadata": {},
     "source": [
      "\u6309\u540d\u79f0\u4f20\u9012\u53c2\u6570"
     ]
    },
    {
     "cell_type": "code",
     "collapsed": false,
     "input": [
      "def func(a, b=5, c=10):\n",
      "    print('a is', a, 'and b is', b, 'and c is', c)\n",
      "\n",
      "func(3, 7)\n",
      "func(25, c=24)\n",
      "func(c=50, a=100)"
     ],
     "language": "python",
     "metadata": {},
     "outputs": [
      {
       "output_type": "stream",
       "stream": "stdout",
       "text": [
        "('a is', 3, 'and b is', 7, 'and c is', 10)\n",
        "('a is', 25, 'and b is', 5, 'and c is', 24)\n",
        "('a is', 100, 'and b is', 5, 'and c is', 50)\n"
       ]
      }
     ],
     "prompt_number": 2
    },
    {
     "cell_type": "heading",
     "level": 1,
     "metadata": {},
     "source": [
      "\u53ef\u53d8\u53c2\u6570"
     ]
    },
    {
     "cell_type": "code",
     "collapsed": false,
     "input": [
      "def any_arguments(*p, **kw):\n",
      "    print(p)\n",
      "    print(kw)\n",
      "\n",
      "any_arguments(1, 2, 3, 4, 5, a=1, b=2, c=3, d=4, e=5)"
     ],
     "language": "python",
     "metadata": {},
     "outputs": [
      {
       "output_type": "stream",
       "stream": "stdout",
       "text": [
        "(1, 2, 3, 4, 5)\n",
        "{'a': 1, 'c': 3, 'b': 2, 'e': 5, 'd': 4}\n"
       ]
      }
     ],
     "prompt_number": 1
    },
    {
     "cell_type": "code",
     "collapsed": false,
     "input": [
      "def sum(a, b, *p):\n",
      "    s = a + b\n",
      "    for i in p: s += i\n",
      "    return s\n",
      "\n",
      "print(sum(1, 2))\n",
      "print(sum(1, 2, 3))"
     ],
     "language": "python",
     "metadata": {},
     "outputs": [
      {
       "output_type": "stream",
       "stream": "stdout",
       "text": [
        "3\n",
        "6\n"
       ]
      }
     ],
     "prompt_number": 3
    },
    {
     "cell_type": "code",
     "collapsed": false,
     "input": [
      "def sum(l, inital=0):\n",
      "    s = inital\n",
      "    for i in l: s += i\n",
      "    return s\n",
      "\n",
      "print(sum(range(101)))"
     ],
     "language": "python",
     "metadata": {},
     "outputs": [
      {
       "output_type": "stream",
       "stream": "stdout",
       "text": [
        "5050\n"
       ]
      }
     ],
     "prompt_number": 9
    },
    {
     "cell_type": "heading",
     "level": 1,
     "metadata": {},
     "source": [
      "\u7b2c\u4e00\u7c7b\u51fd\u6570\u5bf9\u8c61"
     ]
    },
    {
     "cell_type": "code",
     "collapsed": false,
     "input": [
      "op_set = {\n",
      "    '+': lambda x, y: x+y,\n",
      "    '-': lambda x, y: x-y,\n",
      "    '*': lambda x, y: x*y,\n",
      "    '/': lambda x, y: float(x)/y,\n",
      "}\n",
      "\n",
      "print(op_set['+'](1, 2))"
     ],
     "language": "python",
     "metadata": {},
     "outputs": [
      {
       "output_type": "stream",
       "stream": "stdout",
       "text": [
        "3\n",
        "['1', '+', '2']\n"
       ]
      }
     ],
     "prompt_number": 15
    },
    {
     "cell_type": "heading",
     "level": 1,
     "metadata": {},
     "source": [
      "\u95ed\u5305"
     ]
    },
    {
     "cell_type": "code",
     "collapsed": false,
     "input": [
      "def addn(n):\n",
      "    def add(x):\n",
      "        return x+n\n",
      "    return add\n",
      "\n",
      "add10 = addn(10)\n",
      "print(add10(50))"
     ],
     "language": "python",
     "metadata": {},
     "outputs": [
      {
       "output_type": "stream",
       "stream": "stdout",
       "text": [
        "60\n"
       ]
      }
     ],
     "prompt_number": 6
    },
    {
     "cell_type": "code",
     "collapsed": false,
     "input": [
      "class addn(object):\n",
      "    def __init__(self, n):\n",
      "        self.n = n\n",
      "    def __call__(self, x):\n",
      "        return x + self.n\n",
      "\n",
      "add10 = addn(10)\n",
      "print(add10(50))"
     ],
     "language": "python",
     "metadata": {},
     "outputs": [
      {
       "output_type": "stream",
       "stream": "stdout",
       "text": [
        "60\n"
       ]
      }
     ],
     "prompt_number": 19
    },
    {
     "cell_type": "heading",
     "level": 1,
     "metadata": {},
     "source": [
      "LEGB"
     ]
    },
    {
     "cell_type": "code",
     "collapsed": false,
     "input": [
      "my_variable = 1\n",
      "\n",
      "def func():\n",
      "    my_variable = 2\n",
      "    print(my_variable)\n",
      "    \n",
      "func()"
     ],
     "language": "python",
     "metadata": {},
     "outputs": [
      {
       "output_type": "stream",
       "stream": "stdout",
       "text": [
        "2\n"
       ]
      }
     ],
     "prompt_number": 10
    },
    {
     "cell_type": "code",
     "collapsed": false,
     "input": [
      "my_variable = 1\n",
      "\n",
      "def func():\n",
      "    my_variable = 2\n",
      "    def func1():\n",
      "        my_variable = 3\n",
      "        print(my_variable)\n",
      "    return func1\n",
      "    \n",
      "func()()"
     ],
     "language": "python",
     "metadata": {},
     "outputs": [
      {
       "output_type": "stream",
       "stream": "stdout",
       "text": [
        "3\n"
       ]
      }
     ],
     "prompt_number": 11
    },
    {
     "cell_type": "heading",
     "level": 1,
     "metadata": {},
     "source": [
      "\u88c5\u9970\u5668"
     ]
    },
    {
     "cell_type": "code",
     "collapsed": false,
     "input": [
      "class print_arg(object):\n",
      "    def __init__(self, f):\n",
      "        self.f = f\n",
      "    def __call__(self, *p, **kw):\n",
      "        print(\"{0}, {1}\".format(p, kw))\n",
      "        return self.f(*p, **kw)\n",
      "\n",
      "def add(a, b):\n",
      "    return a+b\n",
      "add = print_arg(add)\n",
      "\n",
      "print(add(10, 20))"
     ],
     "language": "python",
     "metadata": {},
     "outputs": [
      {
       "output_type": "stream",
       "stream": "stdout",
       "text": [
        "(10, 20), {}\n",
        "30\n"
       ]
      }
     ],
     "prompt_number": 20
    },
    {
     "cell_type": "code",
     "collapsed": false,
     "input": [
      "def print_arg(f):\n",
      "    def inner(*p, **kw):\n",
      "        print(\"{0}, {1}\".format(p, kw))\n",
      "        return f(*p, **kw)\n",
      "    return inner\n",
      "\n",
      "def add(a, b):\n",
      "    return a+b\n",
      "add = print_arg(add)\n",
      "\n",
      "print(add(10, 20))"
     ],
     "language": "python",
     "metadata": {},
     "outputs": [
      {
       "output_type": "stream",
       "stream": "stdout",
       "text": [
        "(10, 20), {}\n",
        "30\n"
       ]
      }
     ],
     "prompt_number": 21
    },
    {
     "cell_type": "heading",
     "level": 1,
     "metadata": {},
     "source": [
      "\u88c5\u9970\u5668\u8bed\u6cd5\u7cd6"
     ]
    },
    {
     "cell_type": "code",
     "collapsed": false,
     "input": [
      "@print_arg\n",
      "def add(a, b):\n",
      "    return a+b\n",
      "\n",
      "print(add(10, 20))"
     ],
     "language": "python",
     "metadata": {},
     "outputs": [
      {
       "output_type": "stream",
       "stream": "stdout",
       "text": [
        "(10, 20), {}\n",
        "30\n"
       ]
      }
     ],
     "prompt_number": 22
    },
    {
     "cell_type": "heading",
     "level": 1,
     "metadata": {},
     "source": [
      "\u88c5\u9970\u5668\u7ec3\u4e60"
     ]
    },
    {
     "cell_type": "code",
     "collapsed": false,
     "input": [
      "def fib(n):\n",
      "    if n <= 1: return 1\n",
      "    return fib(n-1) + fib(n-2)\n",
      "\n",
      "%time fib(35)"
     ],
     "language": "python",
     "metadata": {},
     "outputs": [
      {
       "output_type": "stream",
       "stream": "stdout",
       "text": [
        "CPU times: user 3.13 s, sys: 0 ns, total: 3.13 s\n",
        "Wall time: 3.13 s\n"
       ]
      },
      {
       "metadata": {},
       "output_type": "pyout",
       "prompt_number": 36,
       "text": [
        "14930352"
       ]
      }
     ],
     "prompt_number": 36
    },
    {
     "cell_type": "code",
     "collapsed": false,
     "input": [
      "def memorized(f):\n",
      "    cache = {}\n",
      "    def inner(n):\n",
      "        if n not in cache:\n",
      "            cache[n] = f(n)\n",
      "        return cache[n]\n",
      "    return inner\n",
      "\n",
      "@memorized\n",
      "def fib(n):\n",
      "    if n <= 1: return 1\n",
      "    return fib(n-1) + fib(n-2)\n",
      "\n",
      "%time fib(35)"
     ],
     "language": "python",
     "metadata": {},
     "outputs": [
      {
       "output_type": "stream",
       "stream": "stdout",
       "text": [
        "CPU times: user 0 ns, sys: 0 ns, total: 0 ns\n",
        "Wall time: 85.8 \u00b5s\n"
       ]
      },
      {
       "metadata": {},
       "output_type": "pyout",
       "prompt_number": 37,
       "text": [
        "14930352"
       ]
      }
     ],
     "prompt_number": 37
    },
    {
     "cell_type": "code",
     "collapsed": false,
     "input": [
      "def memorized(f):\n",
      "    cache = {}\n",
      "    def inner(*p):\n",
      "        if p not in cache:\n",
      "            cache[p] = f(*p)\n",
      "        return cache[p]\n",
      "    return inner\n",
      "\n",
      "@memorized\n",
      "def fib(n):\n",
      "    if n <= 1: return 1\n",
      "    return fib(n-1) + fib(n-2)\n",
      "\n",
      "%time fib(35)"
     ],
     "language": "python",
     "metadata": {},
     "outputs": [
      {
       "output_type": "stream",
       "stream": "stdout",
       "text": [
        "CPU times: user 0 ns, sys: 0 ns, total: 0 ns\n",
        "Wall time: 186 \u00b5s\n"
       ]
      },
      {
       "metadata": {},
       "output_type": "pyout",
       "prompt_number": 38,
       "text": [
        "14930352"
       ]
      }
     ],
     "prompt_number": 38
    },
    {
     "cell_type": "heading",
     "level": 1,
     "metadata": {},
     "source": [
      "\u751f\u6210\u5668"
     ]
    },
    {
     "cell_type": "code",
     "collapsed": false,
     "input": [
      "def fib_seq(n):\n",
      "    l = []\n",
      "    a, b = 1, 1\n",
      "    for i in range(n):\n",
      "        a, b = a+b, a\n",
      "        l.append(a)\n",
      "    return l\n",
      "\n",
      "print(fib_seq(20))"
     ],
     "language": "python",
     "metadata": {},
     "outputs": [
      {
       "output_type": "stream",
       "stream": "stdout",
       "text": [
        "[2, 3, 5, 8, 13, 21, 34, 55, 89, 144, 233, 377, 610, 987, 1597, 2584, 4181, 6765, 10946, 17711]\n"
       ]
      }
     ],
     "prompt_number": 31
    },
    {
     "cell_type": "code",
     "collapsed": false,
     "input": [
      "def fib_seq(n):\n",
      "    a, b = 1, 1\n",
      "    for i in range(n):\n",
      "        a, b = a+b, a\n",
      "        yield a\n",
      "\n",
      "print(fib_seq(20))\n",
      "print(list(fib_seq(20)))"
     ],
     "language": "python",
     "metadata": {},
     "outputs": [
      {
       "output_type": "stream",
       "stream": "stdout",
       "text": [
        "<generator object fib_seq at 0x7f10ef7db910>\n",
        "[2, 3, 5, 8, 13, 21, 34, 55, 89, 144, 233, 377, 610, 987, 1597, 2584, 4181, 6765, 10946, 17711]\n"
       ]
      }
     ],
     "prompt_number": 32
    },
    {
     "cell_type": "heading",
     "level": 1,
     "metadata": {},
     "source": [
      "\u65e0\u9650\u751f\u6210\u5668"
     ]
    },
    {
     "cell_type": "code",
     "collapsed": false,
     "input": [
      "def fib_seq():\n",
      "    a = b = 1\n",
      "    while True:\n",
      "        a, b = a+b, a\n",
      "        yield b\n",
      "\n",
      "def size_limited_seq(seq, n):\n",
      "    for i in seq:\n",
      "        if n <= 0: return\n",
      "        yield i\n",
      "        n -= 1\n",
      "\n",
      "print(list(size_limited_seq(fib_seq(), 10)))"
     ],
     "language": "python",
     "metadata": {},
     "outputs": [
      {
       "output_type": "stream",
       "stream": "stdout",
       "text": [
        "[1, 2, 3, 5, 8, 13, 21, 34, 55, 89]\n"
       ]
      }
     ],
     "prompt_number": 33
    },
    {
     "cell_type": "code",
     "collapsed": false,
     "input": [
      "def number_limited_seq(seq, n):\n",
      "    for i in seq:\n",
      "        if i >= n: break\n",
      "        yield i\n",
      "\n",
      "print(list(number_limited_seq(fib_seq(), 100000)))"
     ],
     "language": "python",
     "metadata": {},
     "outputs": [
      {
       "output_type": "stream",
       "stream": "stdout",
       "text": [
        "[1, 2, 3, 5, 8, 13, 21, 34, 55, 89, 144, 233, 377, 610, 987, 1597, 2584, 4181, 6765, 10946, 17711, 28657, 46368, 75025]\n"
       ]
      }
     ],
     "prompt_number": 34
    },
    {
     "cell_type": "code",
     "collapsed": false,
     "input": [
      "# \u548c\u524d\u9762\u5b9a\u4e49\u7684sum\u51fd\u6570\u8054\u7528\uff0csum\u51fd\u6570\u652f\u6301\u751f\u6210\u5668\n",
      "print(sum(number_limited_seq(fib_seq(), 100000)))"
     ],
     "language": "python",
     "metadata": {},
     "outputs": [
      {
       "output_type": "stream",
       "stream": "stdout",
       "text": [
        "196416\n"
       ]
      }
     ],
     "prompt_number": 35
    },
    {
     "cell_type": "heading",
     "level": 1,
     "metadata": {},
     "source": [
      "map/filter/reduce"
     ]
    },
    {
     "cell_type": "code",
     "collapsed": false,
     "input": [
      "print(map(lambda x: x*x, range(20)))"
     ],
     "language": "python",
     "metadata": {},
     "outputs": [
      {
       "output_type": "stream",
       "stream": "stdout",
       "text": [
        "[0, 1, 4, 9, 16, 25, 36, 49, 64, 81, 100, 121, 144, 169, 196, 225, 256, 289, 324, 361]\n"
       ]
      }
     ],
     "prompt_number": 39
    },
    {
     "cell_type": "code",
     "collapsed": false,
     "input": [
      "filter(lambda x: x % 2 == 0, range(20))"
     ],
     "language": "python",
     "metadata": {},
     "outputs": [
      {
       "metadata": {},
       "output_type": "pyout",
       "prompt_number": 15,
       "text": [
        "[0, 2, 4, 6, 8, 10, 12, 14, 16, 18]"
       ]
      }
     ],
     "prompt_number": 15
    },
    {
     "cell_type": "code",
     "collapsed": false,
     "input": [
      "reduce(lambda x, y: x*y, range(1, 20))"
     ],
     "language": "python",
     "metadata": {},
     "outputs": [
      {
       "metadata": {},
       "output_type": "pyout",
       "prompt_number": 16,
       "text": [
        "121645100408832000"
       ]
      }
     ],
     "prompt_number": 16
    },
    {
     "cell_type": "heading",
     "level": 1,
     "metadata": {},
     "source": [
      "map/filter\uff0c\u5217\u8868\u63a8\u5bfc\u5f0f\u548cfor\u5faa\u73af\u7684\u6bd4\u8f83"
     ]
    },
    {
     "cell_type": "code",
     "collapsed": false,
     "input": [
      "print([x*x for x in range(20)])"
     ],
     "language": "python",
     "metadata": {},
     "outputs": [
      {
       "output_type": "stream",
       "stream": "stdout",
       "text": [
        "[0, 1, 4, 9, 16, 25, 36, 49, 64, 81, 100, 121, 144, 169, 196, 225, 256, 289, 324, 361]\n"
       ]
      }
     ],
     "prompt_number": 40
    },
    {
     "cell_type": "code",
     "collapsed": false,
     "input": [
      "l = []\n",
      "for x in range(20):\n",
      "    l.append(x*x)\n",
      "print(l)"
     ],
     "language": "python",
     "metadata": {},
     "outputs": [
      {
       "output_type": "stream",
       "stream": "stdout",
       "text": [
        "[0, 1, 4, 9, 16, 25, 36, 49, 64, 81, 100, 121, 144, 169, 196, 225, 256, 289, 324, 361]\n"
       ]
      }
     ],
     "prompt_number": 43
    },
    {
     "cell_type": "code",
     "collapsed": false,
     "input": [
      "print([x for x in range(20) if x % 2 == 0])"
     ],
     "language": "python",
     "metadata": {},
     "outputs": [
      {
       "output_type": "stream",
       "stream": "stdout",
       "text": [
        "[0, 2, 4, 6, 8, 10, 12, 14, 16, 18]\n"
       ]
      }
     ],
     "prompt_number": 41
    },
    {
     "cell_type": "code",
     "collapsed": false,
     "input": [
      "l = []\n",
      "for x in range(20):\n",
      "    if x % 2 == 0:\n",
      "        l.append(x)\n",
      "print(l)"
     ],
     "language": "python",
     "metadata": {},
     "outputs": [
      {
       "output_type": "stream",
       "stream": "stdout",
       "text": [
        "[0, 2, 4, 6, 8, 10, 12, 14, 16, 18]\n"
       ]
      }
     ],
     "prompt_number": 44
    },
    {
     "cell_type": "heading",
     "level": 1,
     "metadata": {},
     "source": [
      "\u4f8b\u5b50: \u8ba1\u7b97\u5668"
     ]
    },
    {
     "cell_type": "code",
     "collapsed": false,
     "input": [
      "op_set = {\n",
      "    '+': lambda x, y: x+y,\n",
      "    '-': lambda x, y: x-y,\n",
      "    '*': lambda x, y: x*y,\n",
      "    '/': lambda x, y: float(x)/y,\n",
      "}\n",
      "\n",
      "def parser_exp(exp):\n",
      "    s = ''\n",
      "    for c in exp:\n",
      "        if c in op_set:\n",
      "            yield s\n",
      "            s = ''\n",
      "            yield c\n",
      "        else:\n",
      "            s += c\n",
      "    if s: yield s\n",
      "\n",
      "print(list(parser_exp('1+2')))\n",
      "\n",
      "def eval_exp(exp):\n",
      "    num = None\n",
      "    s = parser_exp(exp)\n",
      "    for e in s:\n",
      "        if e in op_set:\n",
      "            r = float(s.next())\n",
      "            num = op_set[e](num, r)\n",
      "        else:\n",
      "            num = float(e)\n",
      "    return num\n",
      "\n",
      "print(eval_exp('2*3+1'))\n",
      "print(eval_exp('1+2*3'))"
     ],
     "language": "python",
     "metadata": {},
     "outputs": [
      {
       "output_type": "stream",
       "stream": "stdout",
       "text": [
        "['1', '+', '2']\n",
        "7.0\n",
        "9.0\n"
       ]
      }
     ],
     "prompt_number": 53
    },
    {
     "cell_type": "heading",
     "level": 1,
     "metadata": {},
     "source": [
      "\u5f15\u7528\u548c\u590d\u5236"
     ]
    },
    {
     "cell_type": "code",
     "collapsed": false,
     "input": [
      "print('Simple Assignment')\n",
      "shoplist = ['apple', 'mango', 'carrot', 'banana']\n",
      "mylist = shoplist\n",
      "\n",
      "del shoplist[0]\n",
      "print('shoplist is', shoplist)\n",
      "print('mylist is', mylist)\n",
      "print('Copy by making a full slice')\n",
      "\n",
      "mylist = shoplist[:]\n",
      "del mylist[0]\n",
      "print('shoplist is', shoplist)\n",
      "print('mylist is', mylist)"
     ],
     "language": "python",
     "metadata": {},
     "outputs": [
      {
       "output_type": "stream",
       "stream": "stdout",
       "text": [
        "Simple Assignment\n",
        "('shoplist is', ['mango', 'carrot', 'banana'])\n",
        "('mylist is', ['mango', 'carrot', 'banana'])\n",
        "Copy by making a full slice\n",
        "('shoplist is', ['mango', 'carrot', 'banana'])\n",
        "('mylist is', ['carrot', 'banana'])\n"
       ]
      }
     ],
     "prompt_number": 21
    },
    {
     "cell_type": "heading",
     "level": 1,
     "metadata": {},
     "source": [
      "\u7ec3\u4e60"
     ]
    },
    {
     "cell_type": "code",
     "collapsed": false,
     "input": [
      "l = [1,2,3,4,5]\n",
      "\n",
      "def my_reverse(l):\n",
      "    for i in range(1, len(l)+1):\n",
      "        yield l[len(l)-i]\n",
      "\n",
      "print(list(my_reverse(l)))"
     ],
     "language": "python",
     "metadata": {},
     "outputs": [
      {
       "output_type": "stream",
       "stream": "stdout",
       "text": [
        "[5, 4, 3, 2, 1]\n"
       ]
      }
     ],
     "prompt_number": 22
    },
    {
     "cell_type": "code",
     "collapsed": false,
     "input": [
      "l = [1,2,3,4,5]\n",
      "\n",
      "def my_reverse(l):\n",
      "    t = l[:]\n",
      "    del l[:]\n",
      "    for i in range(1, len(t)+1):\n",
      "        l.append(t[len(t)-i])\n",
      "\n",
      "my_reverse(l)\n",
      "print(l)"
     ],
     "language": "python",
     "metadata": {},
     "outputs": [
      {
       "output_type": "stream",
       "stream": "stdout",
       "text": [
        "[5, 4, 3, 2, 1]\n"
       ]
      }
     ],
     "prompt_number": 23
    },
    {
     "cell_type": "code",
     "collapsed": false,
     "input": [
      "l = []\n",
      "l.append(l)\n",
      "l.append(l)\n",
      "print(l)"
     ],
     "language": "python",
     "metadata": {},
     "outputs": [
      {
       "output_type": "stream",
       "stream": "stdout",
       "text": [
        "[[...], [...]]\n"
       ]
      }
     ],
     "prompt_number": 24
    },
    {
     "cell_type": "heading",
     "level": 1,
     "metadata": {},
     "source": [
      "unicode"
     ]
    },
    {
     "cell_type": "code",
     "collapsed": false,
     "input": [
      "\"hello world\""
     ],
     "language": "python",
     "metadata": {},
     "outputs": [
      {
       "metadata": {},
       "output_type": "pyout",
       "prompt_number": 25,
       "text": [
        "'hello world'"
       ]
      }
     ],
     "prompt_number": 25
    },
    {
     "cell_type": "code",
     "collapsed": false,
     "input": [
      "type(\"hello world\")"
     ],
     "language": "python",
     "metadata": {},
     "outputs": [
      {
       "metadata": {},
       "output_type": "pyout",
       "prompt_number": 26,
       "text": [
        "str"
       ]
      }
     ],
     "prompt_number": 26
    },
    {
     "cell_type": "code",
     "collapsed": false,
     "input": [
      "u\"hello world\""
     ],
     "language": "python",
     "metadata": {},
     "outputs": [
      {
       "metadata": {},
       "output_type": "pyout",
       "prompt_number": 27,
       "text": [
        "u'hello world'"
       ]
      }
     ],
     "prompt_number": 27
    },
    {
     "cell_type": "code",
     "collapsed": false,
     "input": [
      "type(u\"hello world\")"
     ],
     "language": "python",
     "metadata": {},
     "outputs": [
      {
       "metadata": {},
       "output_type": "pyout",
       "prompt_number": 28,
       "text": [
        "unicode"
       ]
      }
     ],
     "prompt_number": 28
    },
    {
     "cell_type": "code",
     "collapsed": false,
     "input": [
      "# encoding=utf-8\n",
      "import io\n",
      "\n",
      "f = io.open(\"abc.txt\", \"wt\", encoding=\"utf-8\")\n",
      "f.write(u\"\u60f3\u8c61\u4e00\u4e0b\u8fd9\u91cc\u662f\u67d0\u4e9b\u4e2d\u6587\u5185\u5bb9\uff0c\u4e5f\u53ef\u80fd\u662f\u65e5\u6587\u6216\u8005\u97e9\u6587\")\n",
      "f.close()\n",
      "\n",
      "# \u5982\u679c\u5728windows\u4e0b\uff0c\u8fd9\u4e2a\u884c\u4e3a\u53cd\u800c\u53ef\u80fd\u51fa\u73b0\u4e71\u7801\u3002\u56e0\u4e3awindows\u7684\u9ed8\u8ba4\u7f16\u7801\u4e3aCP936\uff0c\u800c\u4e0d\u662fUTF-8\u3002\n",
      "text = io.open(\"abc.txt\", encoding=\"utf-8\").read()\n",
      "print(text)"
     ],
     "language": "python",
     "metadata": {},
     "outputs": [
      {
       "output_type": "stream",
       "stream": "stdout",
       "text": [
        "\u60f3\u8c61\u4e00\u4e0b\u8fd9\u91cc\u662f\u67d0\u4e9b\u4e2d\u6587\u5185\u5bb9\uff0c\u4e5f\u53ef\u80fd\u662f\u65e5\u6587\u6216\u8005\u97e9\u6587\n"
       ]
      }
     ],
     "prompt_number": 29
    },
    {
     "cell_type": "code",
     "collapsed": false,
     "input": [
      "!ls -l abc.txt"
     ],
     "language": "python",
     "metadata": {},
     "outputs": [
      {
       "output_type": "stream",
       "stream": "stdout",
       "text": [
        "-rw-r--r-- 1 shell shell 72 7\u6708   6 16:17 abc.txt\r\n"
       ]
      }
     ],
     "prompt_number": 30
    },
    {
     "cell_type": "code",
     "collapsed": false,
     "input": [
      "!cat abc.txt"
     ],
     "language": "python",
     "metadata": {},
     "outputs": [
      {
       "output_type": "stream",
       "stream": "stdout",
       "text": [
        "\u60f3\u8c61\u4e00\u4e0b\u8fd9\u91cc\u662f\u67d0\u4e9b\u4e2d\u6587\u5185\u5bb9\uff0c\u4e5f\u53ef\u80fd\u662f\u65e5\u6587\u6216\u8005\u97e9\u6587"
       ]
      }
     ],
     "prompt_number": 31
    },
    {
     "cell_type": "code",
     "collapsed": false,
     "input": [
      "# encoding=utf-8\n",
      "import io\n",
      "\n",
      "f = io.open(\"abc.txt\", \"wt\", encoding=\"gbk\")\n",
      "f.write(u\"\u60f3\u8c61\u4e00\u4e0b\u8fd9\u91cc\u662f\u67d0\u4e9b\u4e2d\u6587\u5185\u5bb9\uff0c\u4e5f\u53ef\u80fd\u662f\u65e5\u6587\u6216\u8005\u97e9\u6587\")\n",
      "f.close()\n",
      "\n",
      "text = io.open(\"abc.txt\", encoding=\"gbk\").read()\n",
      "print(text)\n",
      "\n",
      "text = open(\"abc.txt\").read()\n",
      "print(text)\n",
      "\n",
      "text = io.open(\"abc.txt\", encoding=\"utf-8\").read()\n",
      "print(text)"
     ],
     "language": "python",
     "metadata": {},
     "outputs": [
      {
       "output_type": "stream",
       "stream": "stdout",
       "text": [
        "\u60f3\u8c61\u4e00\u4e0b\u8fd9\u91cc\u662f\u67d0\u4e9b\u4e2d\u6587\u5185\u5bb9\uff0c\u4e5f\u53ef\u80fd\u662f\u65e5\u6587\u6216\u8005\u97e9\u6587\n",
        "\ufffd\ufffd\ufffd\ufffd\u04bb\ufffd\ufffd\ufffd\ufffd\ufffd\ufffd\ufffd\ufffd\u0133\u0429\ufffd\ufffd\ufffd\ufffd\ufffd\ufffd\ufffd\u0763\ufffd\u04b2\ufffd\ufffd\ufffd\ufffd\ufffd\ufffd\ufffd\ufffd\ufffd\u013b\ufffd\ufffd\u07fa\ufffd\ufffd\ufffd\n"
       ]
      },
      {
       "ename": "UnicodeDecodeError",
       "evalue": "'utf8' codec can't decode byte 0xcf in position 0: invalid continuation byte",
       "output_type": "pyerr",
       "traceback": [
        "\u001b[0;31m---------------------------------------------------------------------------\u001b[0m\n\u001b[0;31mUnicodeDecodeError\u001b[0m                        Traceback (most recent call last)",
        "\u001b[0;32m<ipython-input-32-d2ca517a40b2>\u001b[0m in \u001b[0;36m<module>\u001b[0;34m()\u001b[0m\n\u001b[1;32m     12\u001b[0m \u001b[0;32mprint\u001b[0m\u001b[0;34m(\u001b[0m\u001b[0mtext\u001b[0m\u001b[0;34m)\u001b[0m\u001b[0;34m\u001b[0m\u001b[0m\n\u001b[1;32m     13\u001b[0m \u001b[0;34m\u001b[0m\u001b[0m\n\u001b[0;32m---> 14\u001b[0;31m \u001b[0mtext\u001b[0m \u001b[0;34m=\u001b[0m \u001b[0mio\u001b[0m\u001b[0;34m.\u001b[0m\u001b[0mopen\u001b[0m\u001b[0;34m(\u001b[0m\u001b[0;34m\"abc.txt\"\u001b[0m\u001b[0;34m,\u001b[0m \u001b[0mencoding\u001b[0m\u001b[0;34m=\u001b[0m\u001b[0;34m\"utf-8\"\u001b[0m\u001b[0;34m)\u001b[0m\u001b[0;34m.\u001b[0m\u001b[0mread\u001b[0m\u001b[0;34m(\u001b[0m\u001b[0;34m)\u001b[0m\u001b[0;34m\u001b[0m\u001b[0m\n\u001b[0m\u001b[1;32m     15\u001b[0m \u001b[0;32mprint\u001b[0m\u001b[0;34m(\u001b[0m\u001b[0mtext\u001b[0m\u001b[0;34m)\u001b[0m\u001b[0;34m\u001b[0m\u001b[0m\n",
        "\u001b[0;32m/usr/lib/python2.7/codecs.pyc\u001b[0m in \u001b[0;36mdecode\u001b[0;34m(self, input, final)\u001b[0m\n\u001b[1;32m    312\u001b[0m         \u001b[0;31m# decode input (taking the buffer into account)\u001b[0m\u001b[0;34m\u001b[0m\u001b[0;34m\u001b[0m\u001b[0m\n\u001b[1;32m    313\u001b[0m         \u001b[0mdata\u001b[0m \u001b[0;34m=\u001b[0m \u001b[0mself\u001b[0m\u001b[0;34m.\u001b[0m\u001b[0mbuffer\u001b[0m \u001b[0;34m+\u001b[0m \u001b[0minput\u001b[0m\u001b[0;34m\u001b[0m\u001b[0m\n\u001b[0;32m--> 314\u001b[0;31m         \u001b[0;34m(\u001b[0m\u001b[0mresult\u001b[0m\u001b[0;34m,\u001b[0m \u001b[0mconsumed\u001b[0m\u001b[0;34m)\u001b[0m \u001b[0;34m=\u001b[0m \u001b[0mself\u001b[0m\u001b[0;34m.\u001b[0m\u001b[0m_buffer_decode\u001b[0m\u001b[0;34m(\u001b[0m\u001b[0mdata\u001b[0m\u001b[0;34m,\u001b[0m \u001b[0mself\u001b[0m\u001b[0;34m.\u001b[0m\u001b[0merrors\u001b[0m\u001b[0;34m,\u001b[0m \u001b[0mfinal\u001b[0m\u001b[0;34m)\u001b[0m\u001b[0;34m\u001b[0m\u001b[0m\n\u001b[0m\u001b[1;32m    315\u001b[0m         \u001b[0;31m# keep undecoded input until the next call\u001b[0m\u001b[0;34m\u001b[0m\u001b[0;34m\u001b[0m\u001b[0m\n\u001b[1;32m    316\u001b[0m         \u001b[0mself\u001b[0m\u001b[0;34m.\u001b[0m\u001b[0mbuffer\u001b[0m \u001b[0;34m=\u001b[0m \u001b[0mdata\u001b[0m\u001b[0;34m[\u001b[0m\u001b[0mconsumed\u001b[0m\u001b[0;34m:\u001b[0m\u001b[0;34m]\u001b[0m\u001b[0;34m\u001b[0m\u001b[0m\n",
        "\u001b[0;31mUnicodeDecodeError\u001b[0m: 'utf8' codec can't decode byte 0xcf in position 0: invalid continuation byte"
       ]
      }
     ],
     "prompt_number": 32
    },
    {
     "cell_type": "code",
     "collapsed": false,
     "input": [
      "!ls -l abc.txt"
     ],
     "language": "python",
     "metadata": {},
     "outputs": [
      {
       "output_type": "stream",
       "stream": "stdout",
       "text": [
        "-rw-r--r-- 1 shell shell 48 7\u6708   6 16:17 abc.txt\r\n"
       ]
      }
     ],
     "prompt_number": 33
    },
    {
     "cell_type": "code",
     "collapsed": false,
     "input": [
      "!cat abc.txt"
     ],
     "language": "python",
     "metadata": {},
     "outputs": [
      {
       "output_type": "stream",
       "stream": "stdout",
       "text": [
        "\ufffd\ufffd\ufffd\ufffd\u04bb\ufffd\ufffd\ufffd\ufffd\ufffd\ufffd\ufffd\ufffd\u0133\u0429\ufffd\ufffd\ufffd\ufffd\ufffd\ufffd\ufffd\u0763\ufffd\u04b2\ufffd\ufffd\ufffd\ufffd\ufffd\ufffd\ufffd\ufffd\ufffd\u013b\ufffd\ufffd\u07fa\ufffd\ufffd\ufffd"
       ]
      }
     ],
     "prompt_number": 34
    },
    {
     "cell_type": "code",
     "collapsed": false,
     "input": [
      "!rm abc.txt"
     ],
     "language": "python",
     "metadata": {},
     "outputs": [],
     "prompt_number": 35
    },
    {
     "cell_type": "heading",
     "level": 1,
     "metadata": {},
     "source": [
      "\u7ec3\u4e60"
     ]
    },
    {
     "cell_type": "code",
     "collapsed": false,
     "input": [
      "# encoding=utf-8\n",
      "import chardet\n",
      "\n",
      "text = u\"\u60f3\u8c61\u4e00\u4e0b\u8fd9\u91cc\u662f\u67d0\u4e9b\u4e2d\u6587\u5185\u5bb9\uff0c\u4e5f\u53ef\u80fd\u662f\u65e5\u6587\u6216\u8005\u97e9\u6587\".encode('gbk')\n",
      "print(text)\n",
      "\n",
      "print(chardet.detect(text))\n",
      "text = text.decode(chardet.detect(text)['encoding'])\n",
      "print(text)\n",
      "print(type(text))"
     ],
     "language": "python",
     "metadata": {},
     "outputs": [
      {
       "output_type": "stream",
       "stream": "stdout",
       "text": [
        "\ufffd\ufffd\ufffd\ufffd\u04bb\ufffd\ufffd\ufffd\ufffd\ufffd\ufffd\ufffd\ufffd\u0133\u0429\ufffd\ufffd\ufffd\ufffd\ufffd\ufffd\ufffd\u0763\ufffd\u04b2\ufffd\ufffd\ufffd\ufffd\ufffd\ufffd\ufffd\ufffd\ufffd\u013b\ufffd\ufffd\u07fa\ufffd\ufffd\ufffd\n",
        "{'confidence': 0.99, 'encoding': 'GB2312'}\n",
        "\u60f3\u8c61\u4e00\u4e0b\u8fd9\u91cc\u662f\u67d0\u4e9b\u4e2d\u6587\u5185\u5bb9\uff0c\u4e5f\u53ef\u80fd\u662f\u65e5\u6587\u6216\u8005\u97e9\u6587\n",
        "<type 'unicode'>\n"
       ]
      }
     ],
     "prompt_number": 36
    },
    {
     "cell_type": "code",
     "collapsed": false,
     "input": [
      "# encoding=utf-8\n",
      "import chardet\n",
      "\n",
      "text = u\"\u60f3\u8c61\u4e00\u4e0b\u8fd9\u91cc\u662f\u67d0\u4e9b\u4e2d\u6587\u5185\u5bb9\uff0c\u4e5f\u53ef\u80fd\u662f\u65e5\u6587\u6216\u8005\u97e9\u6587\".encode('utf-8')\n",
      "print(text)\n",
      "\n",
      "print(chardet.detect(text))\n",
      "text = text.decode(chardet.detect(text)['encoding'])\n",
      "print(text)\n",
      "print(type(text))"
     ],
     "language": "python",
     "metadata": {},
     "outputs": [
      {
       "output_type": "stream",
       "stream": "stdout",
       "text": [
        "\u60f3\u8c61\u4e00\u4e0b\u8fd9\u91cc\u662f\u67d0\u4e9b\u4e2d\u6587\u5185\u5bb9\uff0c\u4e5f\u53ef\u80fd\u662f\u65e5\u6587\u6216\u8005\u97e9\u6587\n",
        "{'confidence': 0.99, 'encoding': 'utf-8'}\n",
        "\u60f3\u8c61\u4e00\u4e0b\u8fd9\u91cc\u662f\u67d0\u4e9b\u4e2d\u6587\u5185\u5bb9\uff0c\u4e5f\u53ef\u80fd\u662f\u65e5\u6587\u6216\u8005\u97e9\u6587\n",
        "<type 'unicode'>\n"
       ]
      }
     ],
     "prompt_number": 37
    },
    {
     "cell_type": "heading",
     "level": 1,
     "metadata": {},
     "source": [
      "\u6807\u51c6\u5e93:sys"
     ]
    },
    {
     "cell_type": "code",
     "collapsed": false,
     "input": [
      "import sys\n",
      "print sys.version_info\n",
      "print sys.version_info.major == 3"
     ],
     "language": "python",
     "metadata": {},
     "outputs": [
      {
       "output_type": "stream",
       "stream": "stdout",
       "text": [
        "sys.version_info(major=2, minor=7, micro=12, releaselevel='final', serial=0)\n",
        "False\n"
       ]
      }
     ],
     "prompt_number": 1
    },
    {
     "cell_type": "heading",
     "level": 1,
     "metadata": {},
     "source": [
      "\u6807\u51c6\u5e93:logging"
     ]
    },
    {
     "cell_type": "code",
     "collapsed": false,
     "input": [
      "import os\n",
      "import platform\n",
      "import logging\n",
      "\n",
      "if platform.platform().startswith('Windows'):\n",
      "    logging_file = os.path.join(os.getenv('HOMEDRIVE'),\n",
      "                                os.getenv('HOMEPATH'),\n",
      "                                'test.log')\n",
      "else:\n",
      "    logging_file = os.path.join(os.getenv('HOME'),\n",
      "                                'test.log')\n",
      "\n",
      "print(\"Logging to\", logging_file)\n",
      "\n",
      "logger = logging.getLogger()\n",
      "logger.setLevel(logging.DEBUG)\n",
      "\n",
      "logging.debug(\"Start of the program\")\n",
      "logging.info(\"Doing something\")\n",
      "logging.warning(\"Dying now\")"
     ],
     "language": "python",
     "metadata": {},
     "outputs": [
      {
       "output_type": "stream",
       "stream": "stderr",
       "text": [
        "DEBUG:root:Start of the program\n"
       ]
      },
      {
       "output_type": "stream",
       "stream": "stderr",
       "text": [
        "INFO:root:Doing something\n"
       ]
      },
      {
       "output_type": "stream",
       "stream": "stderr",
       "text": [
        "WARNING:root:Dying now\n"
       ]
      },
      {
       "output_type": "stream",
       "stream": "stdout",
       "text": [
        "('Logging to', '/home/shell/test.log')\n"
       ]
      }
     ],
     "prompt_number": 2
    },
    {
     "cell_type": "heading",
     "level": 1,
     "metadata": {},
     "source": [
      "\u6b63\u5219\u8868\u8fbe\u5f0f\u5165\u95e8"
     ]
    },
    {
     "cell_type": "code",
     "collapsed": false,
     "input": [
      "import re\n",
      "\n",
      "s = 'He was carefully disguised but captured quickly by police.'\n",
      "r = re.compile('\\w+ly')\n",
      "r.findall(s)"
     ],
     "language": "python",
     "metadata": {},
     "outputs": [
      {
       "metadata": {},
       "output_type": "pyout",
       "prompt_number": 40,
       "text": [
        "['carefully', 'quickly']"
       ]
      }
     ],
     "prompt_number": 40
    },
    {
     "cell_type": "heading",
     "level": 1,
     "metadata": {},
     "source": [
      "\u7ec3\u4e60"
     ]
    },
    {
     "cell_type": "code",
     "collapsed": false,
     "input": [
      "import re\n",
      "\n",
      "r = re.compile('1\\d{10}')\n",
      "print(r.match('13512345678'))\n",
      "print(r.match('021-10101010'))"
     ],
     "language": "python",
     "metadata": {},
     "outputs": [
      {
       "output_type": "stream",
       "stream": "stdout",
       "text": [
        "<_sre.SRE_Match object at 0x7f186841ea58>\n",
        "None\n"
       ]
      }
     ],
     "prompt_number": 41
    },
    {
     "cell_type": "code",
     "collapsed": false,
     "input": [
      "import re\n",
      "\n",
      "r = re.compile(r'\\d{0,3}\\.\\d{0,3}\\.\\d{0,3}\\.\\d{0,3}')\n",
      "print(r.match('192.168.0.1'))\n",
      "print(r.match('1200.5.4.3'))\n",
      "print(r.match('abc.def.ghi.jkl'))\n",
      "\n",
      "print(r.match('192.168.0.999'))"
     ],
     "language": "python",
     "metadata": {},
     "outputs": [
      {
       "output_type": "stream",
       "stream": "stdout",
       "text": [
        "<_sre.SRE_Match object at 0x7f186841e988>\n",
        "None\n",
        "None\n",
        "<_sre.SRE_Match object at 0x7f186841e988>\n"
       ]
      }
     ],
     "prompt_number": 42
    },
    {
     "cell_type": "code",
     "collapsed": false,
     "input": [
      "import re\n",
      "\n",
      "# source: http://c.biancheng.net/cpp/html/1435.html\n",
      "r = re.compile(r'(http|ftp|https):\\/\\/[\\w\\-_]+(\\.[\\w\\-_]+)+([\\w\\-\\.,@?^=%&amp;:/~\\+#]*)?')\n",
      "print(r.match('http://regxlib.com/Default.aspx'))\n",
      "print(r.match('regxlib.com'))"
     ],
     "language": "python",
     "metadata": {},
     "outputs": [
      {
       "output_type": "stream",
       "stream": "stdout",
       "text": [
        "<_sre.SRE_Match object at 0x7f186c6ebd40>\n",
        "None\n"
       ]
      }
     ],
     "prompt_number": 43
    },
    {
     "cell_type": "code",
     "collapsed": false,
     "input": [
      "import re\n",
      "\n",
      "# source: http://bbs.csdn.net/topics/60032440\n",
      "r = re.compile(r'[a-z]([a-z0-9]*[-_]?[a-z0-9]+)*@([a-z0-9]*[-_]?[a-z0-9]+)+[\\.][a-z]{2,3}([\\.][a-z]{2})?')\n",
      "print(r.match('shell999@gmail.com'))\n",
      "print(r.match('000@shell@1'))"
     ],
     "language": "python",
     "metadata": {},
     "outputs": [
      {
       "output_type": "stream",
       "stream": "stdout",
       "text": [
        "<_sre.SRE_Match object at 0x7f186ca360c8>\n",
        "None\n"
       ]
      }
     ],
     "prompt_number": 44
    },
    {
     "cell_type": "heading",
     "level": 1,
     "metadata": {},
     "source": [
      "os"
     ]
    },
    {
     "cell_type": "code",
     "collapsed": false,
     "input": [
      "import os\n",
      "\n",
      "# /tmp/\u662flinux\u8def\u5f84\uff0cwindows\u4e0b\u53ef\u4ee5\u6362\u4e3a\u522b\u7684\u8def\u5f84\n",
      "for base, dirs, files in os.walk('/tmp/'):\n",
      "    for filename in files:\n",
      "        if filename.endswith('.bak') or filename.endswith('~'):\n",
      "            print base, filename"
     ],
     "language": "python",
     "metadata": {},
     "outputs": [
      {
       "output_type": "stream",
       "stream": "stdout",
       "text": [
        "/tmp/emacs-backup !home!shell!.mutt!qiniu.rc.~1~\n",
        "/tmp/emacs-backup !home!shell!.mutt!qiniu.ini.~1~\n",
        "/tmp/emacs-backup !home!shell!.mutt!ldap.ini.~1~\n",
        "/tmp/emacs-backup !home!shell!.mutt!fetchmailrc.~1~\n"
       ]
      }
     ],
     "prompt_number": 45
    },
    {
     "cell_type": "heading",
     "level": 1,
     "metadata": {},
     "source": [
      "pickle"
     ]
    },
    {
     "cell_type": "code",
     "collapsed": false,
     "input": [
      "import pickle\n",
      "shoplistfile = 'shoplist.data'\n",
      "shoplist = ['apple', 'mango', 'carrot']\n",
      "f = open(shoplistfile, 'wb')\n",
      "pickle.dump(shoplist, f)\n",
      "f.close()\n",
      "del shoplist\n",
      "f = open(shoplistfile, 'rb')\n",
      "storedlist = pickle.load(f)\n",
      "print(storedlist)"
     ],
     "language": "python",
     "metadata": {},
     "outputs": [
      {
       "output_type": "stream",
       "stream": "stdout",
       "text": [
        "['apple', 'mango', 'carrot']\n"
       ]
      }
     ],
     "prompt_number": 46
    },
    {
     "cell_type": "code",
     "collapsed": false,
     "input": [
      "!ls -l shoplist.data"
     ],
     "language": "python",
     "metadata": {},
     "outputs": [
      {
       "output_type": "stream",
       "stream": "stdout",
       "text": [
        "-rw-r--r-- 1 shell shell 46 7\u6708   6 16:17 shoplist.data\r\n"
       ]
      }
     ],
     "prompt_number": 47
    },
    {
     "cell_type": "code",
     "collapsed": false,
     "input": [
      "!rm shoplist.data"
     ],
     "language": "python",
     "metadata": {},
     "outputs": [],
     "prompt_number": 48
    },
    {
     "cell_type": "heading",
     "level": 1,
     "metadata": {},
     "source": [
      "datetime"
     ]
    },
    {
     "cell_type": "code",
     "collapsed": false,
     "input": [
      "import datetime\n",
      "print(datetime.date(1789, 7, 14).weekday())"
     ],
     "language": "python",
     "metadata": {},
     "outputs": [
      {
       "output_type": "stream",
       "stream": "stdout",
       "text": [
        "1\n"
       ]
      }
     ],
     "prompt_number": 49
    },
    {
     "cell_type": "heading",
     "level": 1,
     "metadata": {},
     "source": [
      "math"
     ]
    },
    {
     "cell_type": "code",
     "collapsed": false,
     "input": [
      "2**15"
     ],
     "language": "python",
     "metadata": {},
     "outputs": [
      {
       "metadata": {},
       "output_type": "pyout",
       "prompt_number": 50,
       "text": [
        "32768"
       ]
      }
     ],
     "prompt_number": 50
    },
    {
     "cell_type": "code",
     "collapsed": false,
     "input": [
      "len(str(2**15))"
     ],
     "language": "python",
     "metadata": {},
     "outputs": [
      {
       "metadata": {},
       "output_type": "pyout",
       "prompt_number": 51,
       "text": [
        "5"
       ]
      }
     ],
     "prompt_number": 51
    },
    {
     "cell_type": "code",
     "collapsed": false,
     "input": [
      "2**1515"
     ],
     "language": "python",
     "metadata": {},
     "outputs": [
      {
       "metadata": {},
       "output_type": "pyout",
       "prompt_number": 52,
       "text": [
        "1149326528034702581682260802282483154731794952366680598907315749676350303455258941969435226491616272765850432529872896570140083779714087641224676603265178037383658094111263859162703551253166913832114001816457662609862015656425761751871770440149072630404384442015791262449967076912697519498726922973530707535919651560412212344672313695699099755325593751836252686364599363077472034064061672117649734107141736148353976201394067293417855894280067914417745952768L"
       ]
      }
     ],
     "prompt_number": 52
    },
    {
     "cell_type": "code",
     "collapsed": false,
     "input": [
      "len(str(2**1515))"
     ],
     "language": "python",
     "metadata": {},
     "outputs": [
      {
       "metadata": {},
       "output_type": "pyout",
       "prompt_number": 53,
       "text": [
        "457"
       ]
      }
     ],
     "prompt_number": 53
    },
    {
     "cell_type": "code",
     "collapsed": false,
     "input": [
      "# log(2**15151515) == log2 * 15151515 == log10 * (log2/log10) * 15151515\n",
      "# 2**15151515 == 10**((log2/log10) * 15151515)\n",
      "import math\n",
      "\n",
      "print((math.log(2)/math.log(10)) * 15)\n",
      "print(int((math.log(2)/math.log(10)) * 15) + 1)\n",
      "\n",
      "print((math.log(2)/math.log(10)) * 1515)\n",
      "print(int((math.log(2)/math.log(10)) * 1515) + 1)\n",
      "\n",
      "print((math.log(2)/math.log(10)) * 15151515)\n",
      "print(int((math.log(2)/math.log(10)) * 15151515) + 1)"
     ],
     "language": "python",
     "metadata": {},
     "outputs": [
      {
       "output_type": "stream",
       "stream": "stdout",
       "text": [
        "4.51544993496\n",
        "5\n",
        "456.060443431\n",
        "457\n",
        "4561060.49475\n",
        "4561061\n"
       ]
      }
     ],
     "prompt_number": 54
    },
    {
     "cell_type": "code",
     "collapsed": false,
     "input": [
      "import math\n",
      "f = lambda x: int((math.log(2)/math.log(10)) * x) + 1\n",
      "\n",
      "print(f(15))\n",
      "print(f(1515))\n",
      "print(f(15151515))"
     ],
     "language": "python",
     "metadata": {},
     "outputs": [
      {
       "output_type": "stream",
       "stream": "stdout",
       "text": [
        "5\n",
        "457\n",
        "4561061\n"
       ]
      }
     ],
     "prompt_number": 55
    },
    {
     "cell_type": "heading",
     "level": 1,
     "metadata": {},
     "source": [
      "random"
     ]
    },
    {
     "cell_type": "code",
     "collapsed": false,
     "input": [
      "s = u'\u8d75\u94b1\u5b59\u674e\u5468\u5434\u90d1\u738b'\n",
      "s = list(s)\n",
      "\n",
      "import random\n",
      "print(random.choice(s))\n",
      "print(random.choice(s))\n",
      "print(random.choice(s))\n",
      "print(random.choice(s))\n",
      "print(random.choice(s))"
     ],
     "language": "python",
     "metadata": {},
     "outputs": [
      {
       "output_type": "stream",
       "stream": "stdout",
       "text": [
        "\u90d1\n",
        "\u5b59\n",
        "\u5b59\n",
        "\u5434\n",
        "\u8d75\n"
       ]
      }
     ],
     "prompt_number": 65
    },
    {
     "cell_type": "code",
     "collapsed": false,
     "input": [
      "s = u'\u8d75\u94b1\u5b59\u674e\u5468\u5434\u90d1\u738b'\n",
      "s = list(s)\n",
      "\n",
      "import random\n",
      "random.shuffle(s)\n",
      "print(s.pop())\n",
      "print(s.pop())\n",
      "print(s.pop())\n",
      "print(s.pop())\n",
      "print(s.pop())"
     ],
     "language": "python",
     "metadata": {},
     "outputs": [
      {
       "output_type": "stream",
       "stream": "stdout",
       "text": [
        "\u5434\n",
        "\u5b59\n",
        "\u5468\n",
        "\u674e\n",
        "\u738b\n"
       ]
      }
     ],
     "prompt_number": 57
    },
    {
     "cell_type": "heading",
     "level": 1,
     "metadata": {},
     "source": [
      "\u7ec3\u4e60"
     ]
    },
    {
     "cell_type": "code",
     "collapsed": false,
     "input": [
      "!cat /etc/rc.local"
     ],
     "language": "python",
     "metadata": {},
     "outputs": [
      {
       "output_type": "stream",
       "stream": "stdout",
       "text": [
        "#!/bin/sh -e\r\n",
        "#\r\n",
        "# rc.local\r\n",
        "#\r\n",
        "# This script is executed at the end of each multiuser runlevel.\r\n",
        "# Make sure that the script will \"exit 0\" on success or any other\r\n",
        "# value on error.\r\n",
        "#\r\n",
        "# In order to enable or disable this script just change the execution\r\n",
        "# bits.\r\n",
        "#\r\n",
        "# By default this script does nothing.\r\n",
        "\r\n",
        "exit 0\r\n"
       ]
      }
     ],
     "prompt_number": 58
    },
    {
     "cell_type": "code",
     "collapsed": false,
     "input": [
      "!grep -v ^# /etc/rc.local | wc -l"
     ],
     "language": "python",
     "metadata": {},
     "outputs": [
      {
       "output_type": "stream",
       "stream": "stdout",
       "text": [
        "2\r\n"
       ]
      }
     ],
     "prompt_number": 59
    },
    {
     "cell_type": "code",
     "collapsed": false,
     "input": [
      "# grep -v ^# file | wc -l\n",
      "import subprocess\n",
      "\n",
      "p1 = subprocess.Popen([\"grep\", \"-v\", \"^#\", \"/etc/rc.local\"], stdout=subprocess.PIPE)\n",
      "p2 = subprocess.Popen([\"wc\", \"-l\"], stdin=p1.stdout, stdout=subprocess.PIPE)\n",
      "output = p2.communicate()[0]\n",
      "int(output.strip())"
     ],
     "language": "python",
     "metadata": {},
     "outputs": [
      {
       "metadata": {},
       "output_type": "pyout",
       "prompt_number": 60,
       "text": [
        "2"
       ]
      }
     ],
     "prompt_number": 60
    },
    {
     "cell_type": "code",
     "collapsed": false,
     "input": [
      "import re\n",
      "\n",
      "r = re.compile('^#')\n",
      "with open('/etc/rc.local', 'rb') as fi:\n",
      "    print(len([line for line in fi if not r.match(line)]))"
     ],
     "language": "python",
     "metadata": {},
     "outputs": [
      {
       "output_type": "stream",
       "stream": "stdout",
       "text": [
        "2\n"
       ]
      }
     ],
     "prompt_number": 61
    },
    {
     "cell_type": "heading",
     "level": 1,
     "metadata": {},
     "source": [
      "Unittest"
     ]
    },
    {
     "cell_type": "code",
     "collapsed": false,
     "input": [
      "import unittest\n",
      "\n",
      "class TestStringMethods(unittest.TestCase):\n",
      "\n",
      "    def test_upper(self):\n",
      "        self.assertEqual('foo'.upper(), 'FOO')\n",
      "\n",
      "    def test_isupper(self):\n",
      "        self.assertTrue('FOO'.isupper())\n",
      "        self.assertFalse('Foo'.isupper())\n",
      "\n",
      "    def test_split(self):\n",
      "        s = 'hello world'\n",
      "        self.assertEqual(s.split(), ['hello', 'world'])\n",
      "        # check that s.split fails when the separator is not a string\n",
      "        with self.assertRaises(TypeError):\n",
      "            s.split(2)\n",
      "\n",
      "suite = unittest.TestLoader().loadTestsFromTestCase(TestStringMethods)\n",
      "unittest.TextTestRunner().run(suite)"
     ],
     "language": "python",
     "metadata": {},
     "outputs": [
      {
       "output_type": "stream",
       "stream": "stderr",
       "text": [
        "."
       ]
      },
      {
       "output_type": "stream",
       "stream": "stderr",
       "text": [
        "."
       ]
      },
      {
       "output_type": "stream",
       "stream": "stderr",
       "text": [
        "."
       ]
      },
      {
       "output_type": "stream",
       "stream": "stderr",
       "text": [
        "\n",
        "----------------------------------------------------------------------\n",
        "Ran 3 tests in 0.001s\n",
        "\n",
        "OK\n"
       ]
      },
      {
       "metadata": {},
       "output_type": "pyout",
       "prompt_number": 62,
       "text": [
        "<unittest.runner.TextTestResult run=3 errors=0 failures=0>"
       ]
      }
     ],
     "prompt_number": 62
    },
    {
     "cell_type": "code",
     "collapsed": false,
     "input": [
      "import re\n",
      "import unittest, unittest.loader\n",
      "\n",
      "class TestMobile(unittest.TestCase):\n",
      "    r = re.compile('1\\d{10}')\n",
      "\n",
      "    def test_match(self):\n",
      "        self.assertTrue(self.r.match('13512345678'))\n",
      "\n",
      "    def test_notmatch(self):\n",
      "        self.assertFalse(self.r.match('021-10101010'))\n",
      "\n",
      "class TestInetAddr(unittest.TestCase):\n",
      "    r = re.compile(r'\\d{0,3}\\.\\d{0,3}\\.\\d{0,3}\\.\\d{0,3}')\n",
      "\n",
      "    def test_ipv4(self):\n",
      "        self.assertTrue(self.r.match('192.168.0.1'))\n",
      "\n",
      "    def test_notmatch(self):\n",
      "        self.assertFalse(self.r.match('1200.5.4.3'))\n",
      "        self.assertFalse(self.r.match('abc.def.ghi.jkl'))\n",
      "\n",
      "    def test_wrong(self):\n",
      "        self.assertFalse(self.r.match('192.168.0.999'))\n",
      "\n",
      "class TestUrl(unittest.TestCase):\n",
      "    # source: http://c.biancheng.net/cpp/html/1435.html\n",
      "    r = re.compile(r'(http|ftp|https):\\/\\/[\\w\\-_]+(\\.[\\w\\-_]+)+([\\w\\-\\.,@?^=%&amp;:/~\\+#]*)?')\n",
      "\n",
      "    def test_url(self):\n",
      "        self.assertTrue(self.r.match('http://regxlib.com/Default.aspx'))\n",
      "\n",
      "    def test_domain(self):\n",
      "        self.assertFalse(self.r.match('regxlib.com'))\n",
      "\n",
      "class TestEmail(unittest.TestCase):\n",
      "    # source: http://bbs.csdn.net/topics/60032440\n",
      "    r = re.compile(r'[a-z]([a-z0-9]*[-_]?[a-z0-9]+)*@([a-z0-9]*[-_]?[a-z0-9]+)+[\\.][a-z]{2,3}([\\.][a-z]{2})?')\n",
      "\n",
      "    def test_email(self):\n",
      "        self.assertTrue(self.r.match('shell999@gmail.com'))\n",
      "\n",
      "    def test_notmatch(self):\n",
      "        self.assertFalse(self.r.match('000@shell@1'))\n",
      "\n",
      "suite = unittest.TestSuite()\n",
      "loader = unittest.TestLoader()\n",
      "suite.addTest(loader.loadTestsFromTestCase(TestMobile))\n",
      "suite.addTest(loader.loadTestsFromTestCase(TestInetAddr))\n",
      "suite.addTest(loader.loadTestsFromTestCase(TestUrl))\n",
      "suite.addTest(loader.loadTestsFromTestCase(TestEmail))\n",
      "unittest.TextTestRunner().run(suite)"
     ],
     "language": "python",
     "metadata": {},
     "outputs": [
      {
       "output_type": "stream",
       "stream": "stderr",
       "text": [
        "."
       ]
      },
      {
       "output_type": "stream",
       "stream": "stderr",
       "text": [
        "."
       ]
      },
      {
       "output_type": "stream",
       "stream": "stderr",
       "text": [
        "."
       ]
      },
      {
       "output_type": "stream",
       "stream": "stderr",
       "text": [
        "."
       ]
      },
      {
       "output_type": "stream",
       "stream": "stderr",
       "text": [
        "F"
       ]
      },
      {
       "output_type": "stream",
       "stream": "stderr",
       "text": [
        "."
       ]
      },
      {
       "output_type": "stream",
       "stream": "stderr",
       "text": [
        "."
       ]
      },
      {
       "output_type": "stream",
       "stream": "stderr",
       "text": [
        "."
       ]
      },
      {
       "output_type": "stream",
       "stream": "stderr",
       "text": [
        "."
       ]
      },
      {
       "output_type": "stream",
       "stream": "stderr",
       "text": [
        "\n",
        "======================================================================\n",
        "FAIL: test_wrong (__main__.TestInetAddr)\n",
        "----------------------------------------------------------------------\n",
        "Traceback (most recent call last):\n",
        "  File \"<ipython-input-63-19a306a3d23e>\", line 24, in test_wrong\n",
        "    self.assertFalse(self.r.match('192.168.0.999'))\n",
        "AssertionError: <_sre.SRE_Match object at 0x7f1871b73988> is not false\n",
        "\n",
        "----------------------------------------------------------------------\n",
        "Ran 9 tests in 0.002s\n",
        "\n",
        "FAILED (failures=1)\n"
       ]
      },
      {
       "metadata": {},
       "output_type": "pyout",
       "prompt_number": 63,
       "text": [
        "<unittest.runner.TextTestResult run=9 errors=0 failures=1>"
       ]
      }
     ],
     "prompt_number": 63
    }
   ],
   "metadata": {}
  }
 ]
}