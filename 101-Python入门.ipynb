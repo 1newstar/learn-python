{
 "metadata": {
  "celltoolbar": "Slideshow",
  "name": "",
  "signature": "sha256:1fdf266158f9d1d11740c6bb260f0d1c186fab9dc6a99ad502a24bbf2d06189f"
 },
 "nbformat": 3,
 "nbformat_minor": 0,
 "worksheets": [
  {
   "cells": [
    {
     "cell_type": "markdown",
     "metadata": {
      "slideshow": {
       "slide_type": "slide"
      }
     },
     "source": [
      "# Python\u5165\u95e8"
     ]
    },
    {
     "cell_type": "markdown",
     "metadata": {
      "slideshow": {
       "slide_type": "subslide"
      }
     },
     "source": [
      "## License\n",
      "\n",
      "CC-BY-SA 4.0\n",
      "\n",
      "\u5927\u90e8\u5206\u5185\u5bb9\u6765\u81ea\u201da byte of python\u201d\uff0c\u5728\u6b64\u611f\u8c22\u4f5c\u8005\u3002\n",
      "\n",
      "http://python.swaroopch.com/"
     ]
    },
    {
     "cell_type": "markdown",
     "metadata": {
      "slideshow": {
       "slide_type": "subslide"
      }
     },
     "source": [
      "## python\u7684\u5386\u53f2\n",
      "\n",
      "\u4f5c\u8005\uff1aGuido van Rossum\n",
      "\n",
      "\u9996\u6b21\u53d1\u884c\u65f6\u95f4\uff1a1991\n",
      "\n",
      "\u7248\u672c\u7cfb\u5217\uff1a2.7 / 3.5\n",
      "\n",
      "\u5206\u7c7b\uff1a\u5f3a\u7c7b\u578b\u52a8\u6001\u8bed\u8a00\n",
      "\n",
      "\u652f\u6301\u7cfb\u7edf\uff1a\u51e0\u4e4e\u5168\u90e8"
     ]
    },
    {
     "cell_type": "markdown",
     "metadata": {
      "slideshow": {
       "slide_type": "subslide"
      }
     },
     "source": [
      "## \u672c\u8bb2\u4e49\u7684\u517c\u5bb9\u6027\n",
      "\n",
      "\u672c\u8bb2\u4e49\u7684\u57fa\u7840\u73af\u5883\u4e3apython2.7/3.5\u3002\u4ee3\u7801\u5728\u8fd9\u4e24\u79cd\u7cfb\u7edf\u4e0a\u6d4b\u8bd5\u901a\u8fc7\u3002\n",
      "\n",
      "\u5176\u4e2d\u6709\u5c11\u91cf\u4ee3\u7801\u67092/3\u4e0d\u517c\u5bb9\u73b0\u8c61\uff0c\u5728\u8bb2\u8bfe\u65f6\u4f1a\u7279\u522b\u63d0\u51fa\u3002\n",
      "\n",
      "\u672c\u8bb2\u4e49\u7684\u7cfb\u7edf\u73af\u5883\u4e3aLinux(Debian Stretch)\uff0c\u6709\u5c11\u91cf\u6307\u4ee4\u5728windows\u4e0b\u6709\u53d8\u5316\uff0c\u4ea6\u4f1a\u7279\u522b\u63d0\u51fa\u3002"
     ]
    },
    {
     "cell_type": "markdown",
     "metadata": {
      "slideshow": {
       "slide_type": "subslide"
      }
     },
     "source": [
      "## Python\u7684\u6210\u529f\u6848\u4f8b\n",
      "\n",
      "\u77e5\u540d\u516c\u53f8\n",
      "\n",
      "* Industrial Light & Magic (\u5de5\u4e1a\u5149\u9b54) \u7535\u5f71\u5236\u4f5c\n",
      "* D-Link Australia Firmware\u66f4\u65b0\n",
      "* Odoo ERP\u4ea7\u54c1\n",
      "* Douban \u5168\u7ad9\n",
      "* Eleme \u5168\u7ad9\n",
      "\n",
      "\u77e5\u540d\u5e94\u7528\n",
      "\n",
      "* Django \u7f51\u9875\u5f00\u53d1\n",
      "* Odoo ERP\u4ea7\u54c1\n",
      "* OpenStack \u865a\u62df\u5316\u7ba1\u7406\u5e73\u53f0\n",
      "* SaltStack \u81ea\u52a8\u5316\u8fd0\u7ef4\n",
      "* Ansible \u81ea\u52a8\u5316\u8fd0\u7ef4\n",
      "* Pandas \u6570\u636e\u5206\u6790\n",
      "* PySpark \u5185\u5b58\u8ba1\u7b97\n",
      "* TensorFlow \u673a\u5668\u5b66\u4e60"
     ]
    },
    {
     "cell_type": "markdown",
     "metadata": {
      "slideshow": {
       "slide_type": "slide"
      }
     },
     "source": [
      "# \u57fa\u7840\u73af\u5883\u51c6\u5907"
     ]
    },
    {
     "cell_type": "markdown",
     "metadata": {
      "slideshow": {
       "slide_type": "subslide"
      }
     },
     "source": [
      "## python\u73af\u5883\u5b89\u88c5\n",
      "\n",
      "Windows/MacOS:\n",
      "\n",
      "1. \u8bbf\u95ee https://www.python.org/downloads/\n",
      "2. \u4e0b\u8f7d\u5408\u9002\u7684\u7248\u672c\n",
      "3. \u70b9\u51fb\u5b89\u88c5\n",
      "\n",
      "Linux:\n",
      "\n",
      "1. \u591a\u6570\u7cfb\u7edf\u81ea\u5e26\n",
      "2. \u8bf7\u627e\u5bf9\u5e94\u7cfb\u7edf\u624b\u518c"
     ]
    },
    {
     "cell_type": "markdown",
     "metadata": {
      "slideshow": {
       "slide_type": "subslide"
      }
     },
     "source": [
      "## python\u8fd0\u884c\u4ea4\u4e92\u754c\u9762\n",
      "\n",
      "\u5728\u547d\u4ee4\u884c\u4e0b\u6267\u884cpython\uff0c\u8fdb\u5165python\u4ea4\u4e92\u754c\u9762\u3002\u7c7b\u4f3c\u8fd9\u6837\uff1a\n",
      "\n",
      "    Python 2.7.11+ (default, Apr 17 2016, 14:00:29)\n",
      "    [GCC 5.3.1 20160409] on linux2\n",
      "    Type \"help\", \"copyright\", \"credits\" or \"license\" for more information.\n",
      "    >>>\n",
      "\n",
      "\u51fa\u73b0\u8fd9\u4e2a\u754c\u9762\uff0c\u8bf4\u660e\u4f60\u6b63\u5e38\u7684\u5b89\u88c5\u4e86python\u3002"
     ]
    },
    {
     "cell_type": "markdown",
     "metadata": {
      "slideshow": {
       "slide_type": "subslide"
      }
     },
     "source": [
      "## Jupyter\u6f14\u793a\u754c\u9762\n",
      "\n",
      "Jupyter\u662f\u4e00\u79cd\u8bb0\u4e8b\u672c\u5de5\u5177\u3002\u53ef\u4ee5\u63d2\u5165\u4ee3\u7801\uff0c\u8fdb\u884c\u6267\u884c\uff0c\u663e\u793a\u7ed3\u679c\uff0c\u5e76\u628a\u8fd9\u4e9b\u5185\u5bb9\u4fdd\u5b58\u6210\u8bb0\u4e8b\u672c\u4ee5\u4f9b\u540e\u7eed\u67e5\u9605\u3002\n",
      "\n",
      "\u4e0b\u9762\u6211\u4eec\u4f1a\u5927\u91cf\u4f7f\u7528Jupyter\u8fdb\u884c\u4ee3\u7801\u6267\u884c\u5c55\u793a\u3002"
     ]
    },
    {
     "cell_type": "markdown",
     "metadata": {
      "slideshow": {
       "slide_type": "subslide"
      }
     },
     "source": [
      "## \u7b80\u5355\u547d\u4ee4\u6d4b\u8bd5\n",
      "\n",
      "\u5728\u4ea4\u4e92\u754c\u9762\u6572\u51651 + 2\uff0c\u51fa\u73b0\u5982\u4e0b\u7ed3\u679c\uff1a\n",
      "\n",
      "    >>> 1 + 2\n",
      "    3\n",
      "\n",
      "\u5728\u4ea4\u4e92\u754c\u9762\u6572\u5165print(\u20181+2\u2019)\uff0c\u51fa\u73b0\u5982\u4e0b\u7ed3\u679c\uff1a\n",
      "    >>> print('1+2')\n",
      "    1+2"
     ]
    },
    {
     "cell_type": "code",
     "collapsed": false,
     "input": [
      "1 + 2"
     ],
     "language": "python",
     "metadata": {
      "slideshow": {
       "slide_type": "subslide"
      }
     },
     "outputs": [
      {
       "metadata": {},
       "output_type": "pyout",
       "prompt_number": 1,
       "text": [
        "3"
       ]
      }
     ],
     "prompt_number": 1
    },
    {
     "cell_type": "code",
     "collapsed": false,
     "input": [
      "print('1+2')"
     ],
     "language": "python",
     "metadata": {},
     "outputs": [
      {
       "output_type": "stream",
       "stream": "stdout",
       "text": [
        "1+2\n"
       ]
      }
     ],
     "prompt_number": 2
    },
    {
     "cell_type": "markdown",
     "metadata": {
      "slideshow": {
       "slide_type": "subslide"
      }
     },
     "source": [
      "## \u6587\u4ef6\u7f16\u8f91\u548c\u6267\u884c\n",
      "\n",
      "\u7528\u4efb\u610f\u7f16\u8f91\u5668\uff08\u968f\u4f60\u559c\u6b22\uff09\u65b0\u5efa\u4e00\u6587\u4ef6\uff0c\u4fee\u6539\u5185\u5bb9\u4e3aprint('1+2')\uff0c\u7136\u540e\u5c06\u5176\u4fdd\u5b58\u4e3axxx.py\u6587\u4ef6\u3002\n",
      "\n",
      "\u7136\u540e\u7528python\u6267\u884c\u6587\u4ef6\uff1apython xxx.py\n",
      "\n",
      "\u6ce8\u610f\uff0c\u5982\u679cpython\u4e0d\u5728\u9ed8\u8ba4\u8def\u5f84\u4e2d\uff08\u5e38\u89c1\u4e8ewindows\uff09\uff0c\u9700\u8981\u5199\u5b8c\u6574\u8def\u5f84\u3002"
     ]
    },
    {
     "cell_type": "markdown",
     "metadata": {
      "slideshow": {
       "slide_type": "subslide"
      }
     },
     "source": [
      "\u4ee5\u4e0b\u4ee3\u7801\uff0c%%\u5f00\u5934\u7684\u4e3ajupyter\u5185\u90e8\u6307\u4ee4\u3002writefile\u4e3a\u5199\u5165\u6587\u4ef6\u3002\n",
      "\n",
      "!\u5f00\u5934\u7684\u4e3a\u7cfb\u7edf\u6307\u4ee4\u3002cat\u548crm\u4e3alinux\u7cfb\u7edf\u6307\u4ee4\uff0cwindows\u4e0b\u9700\u8981\u505a\u53d8\u66f4\u3002"
     ]
    },
    {
     "cell_type": "code",
     "collapsed": false,
     "input": [
      "%%writefile test.py\n",
      "print('1+2')"
     ],
     "language": "python",
     "metadata": {},
     "outputs": [
      {
       "output_type": "stream",
       "stream": "stdout",
       "text": [
        "Writing test.py\n"
       ]
      }
     ],
     "prompt_number": 3
    },
    {
     "cell_type": "code",
     "collapsed": false,
     "input": [
      "!cat test.py"
     ],
     "language": "python",
     "metadata": {},
     "outputs": [
      {
       "output_type": "stream",
       "stream": "stdout",
       "text": [
        "print('1+2')"
       ]
      }
     ],
     "prompt_number": 4
    },
    {
     "cell_type": "code",
     "collapsed": false,
     "input": [
      "!python test.py"
     ],
     "language": "python",
     "metadata": {},
     "outputs": [
      {
       "output_type": "stream",
       "stream": "stdout",
       "text": [
        "1+2\r\n"
       ]
      }
     ],
     "prompt_number": 5
    },
    {
     "cell_type": "code",
     "collapsed": false,
     "input": [
      "!rm test.py"
     ],
     "language": "python",
     "metadata": {
      "slideshow": {
       "slide_type": "skip"
      }
     },
     "outputs": [],
     "prompt_number": 6
    },
    {
     "cell_type": "markdown",
     "metadata": {
      "slideshow": {
       "slide_type": "slide"
      }
     },
     "source": [
      "# Python\u57fa\u672c\u8bed\u6cd5"
     ]
    },
    {
     "cell_type": "markdown",
     "metadata": {
      "slideshow": {
       "slide_type": "subslide"
      }
     },
     "source": [
      "## \u57fa\u672c\u7c7b\u578b\n",
      "\n",
      "* \u6ce8\u91ca\uff1a\u4ee5#\u5f00\u5934\u7684\u4e3a\u6ce8\u91ca\uff0c\u76f4\u5230\u884c\u7ed3\u675f\u4e3a\u6b62\u3002\n",
      "* \u6570\u5b57\uff1a\u4ee5\u6570\u5b57\uff0c.\u6216\u8005-\u5f00\u5934\u7684\u4e3a\u6570\u5b57\u3002\u5e26\u5c0f\u6570\u70b9.\u7684\u4e3a\u6d6e\u70b9\u6570\uff0c\u4e0d\u5e26\u5c0f\u6570\u70b9\u7684\u4e3a\u6574\u6570\u3002\u652f\u6301\u79d1\u5b66\u8ba1\u6570\u6cd5\uff0c\u4f8b\u598252.3E-4\u3002\n",
      "* \u5b57\u7b26\u4e32\uff1a\u4ee5\u5355\u5f15\u53f7\u2019\uff0c\u53cc\u5f15\u53f7\u201d\uff0c\u4e09\u5f15\u53f7\u2019\u2019\u2019\u5f00\u59cb\uff0c\u540c\u6837\u7b26\u53f7\u7ed3\u675f\u3002\n",
      "* \u5e03\u5c14\u503c\uff1a\u53ea\u6709\u4e24\u4e2a\uff0cTrue\u548cFalse\u3002\u5927\u5c0f\u5199\u654f\u611f\u3002\n",
      "* \u7a7a\u503c\uff1a\u53ea\u6709\u4e00\u4e2a\uff0cNone\u3002\u5927\u5c0f\u5199\u654f\u611f\u3002\u8868\u793a\u6ca1\u6709\u503c\u7684\u503c\u3002\n",
      "\n",
      "\u7ec3\u4e60\uff1a\u5199\u51fa\u6570\u5b57\u548c\u5b57\u7b26\u4e32\u7684\u4f8b\u5b50\uff0c\u5e76\u52a0\u4ee5\u6ce8\u91ca\u3002"
     ]
    },
    {
     "cell_type": "markdown",
     "metadata": {
      "slideshow": {
       "slide_type": "subslide"
      }
     },
     "source": [
      "## \u4f8b\u5b50"
     ]
    },
    {
     "cell_type": "code",
     "collapsed": false,
     "input": [
      "52.3E-4"
     ],
     "language": "python",
     "metadata": {},
     "outputs": [
      {
       "metadata": {},
       "output_type": "pyout",
       "prompt_number": 7,
       "text": [
        "0.00523"
       ]
      }
     ],
     "prompt_number": 7
    },
    {
     "cell_type": "code",
     "collapsed": false,
     "input": [
      "'string'"
     ],
     "language": "python",
     "metadata": {},
     "outputs": [
      {
       "metadata": {},
       "output_type": "pyout",
       "prompt_number": 8,
       "text": [
        "'string'"
       ]
      }
     ],
     "prompt_number": 8
    },
    {
     "cell_type": "code",
     "collapsed": false,
     "input": [
      "\"string\""
     ],
     "language": "python",
     "metadata": {},
     "outputs": [
      {
       "metadata": {},
       "output_type": "pyout",
       "prompt_number": 9,
       "text": [
        "'string'"
       ]
      }
     ],
     "prompt_number": 9
    },
    {
     "cell_type": "code",
     "collapsed": false,
     "input": [
      "'''string'''"
     ],
     "language": "python",
     "metadata": {},
     "outputs": [
      {
       "metadata": {},
       "output_type": "pyout",
       "prompt_number": 10,
       "text": [
        "'string'"
       ]
      }
     ],
     "prompt_number": 10
    },
    {
     "cell_type": "code",
     "collapsed": false,
     "input": [
      "True"
     ],
     "language": "python",
     "metadata": {
      "slideshow": {
       "slide_type": "subslide"
      }
     },
     "outputs": [
      {
       "metadata": {},
       "output_type": "pyout",
       "prompt_number": 11,
       "text": [
        "True"
       ]
      }
     ],
     "prompt_number": 11
    },
    {
     "cell_type": "code",
     "collapsed": false,
     "input": [
      "False"
     ],
     "language": "python",
     "metadata": {},
     "outputs": [
      {
       "metadata": {},
       "output_type": "pyout",
       "prompt_number": 12,
       "text": [
        "False"
       ]
      }
     ],
     "prompt_number": 12
    },
    {
     "cell_type": "code",
     "collapsed": false,
     "input": [
      "1 == 0"
     ],
     "language": "python",
     "metadata": {
      "slideshow": {
       "slide_type": "-"
      }
     },
     "outputs": [
      {
       "metadata": {},
       "output_type": "pyout",
       "prompt_number": 13,
       "text": [
        "False"
       ]
      }
     ],
     "prompt_number": 13
    },
    {
     "cell_type": "code",
     "collapsed": false,
     "input": [
      "1 == 1"
     ],
     "language": "python",
     "metadata": {},
     "outputs": [
      {
       "metadata": {},
       "output_type": "pyout",
       "prompt_number": 14,
       "text": [
        "True"
       ]
      }
     ],
     "prompt_number": 14
    },
    {
     "cell_type": "code",
     "collapsed": false,
     "input": [
      "None"
     ],
     "language": "python",
     "metadata": {},
     "outputs": [],
     "prompt_number": 15
    },
    {
     "cell_type": "markdown",
     "metadata": {
      "slideshow": {
       "slide_type": "subslide"
      }
     },
     "source": [
      "## \u5b57\u7b26\u4e32\u8f6c\u4e49\n",
      "\n",
      "\u5728\u5355\u5f15\u53f7\u5b57\u7b26\u4e32\u4e2d\u8868\u8fbe\u5355\u5f15\u53f7\u9700\u8981\u8f6c\u4e49\uff0c\u53cc\u5f15\u53f7\u548c\u4e09\u5f15\u53f7\u540c\u3002\u4f8b\u5982\uff1a\n",
      "\n",
      "\u201cwhat\u2019s wrong\u201d\u662f\u5408\u6cd5\u5b57\u7b26\u4e32\u3002\u2019what\u2019s wrong\u2019\u4f1a\u51fa\u9519\uff0c\u9700\u8981\u5199\u4e3a\u2019what\\\u2019s wrong\u2019\u3002\n",
      "\n",
      "\u8f6c\u4e49\u4e5f\u53ef\u4ee5\u7528\u4e8e\u8868\u8fbe\u4e0d\u53ef\u89c1\u5b57\u7b26\uff0c\u4f8b\u5982tab\uff1a\\t\u3002\n",
      "\n",
      "\u5982\u679c\u8981\u8868\u8fbe\\\u672c\u8eab\uff0c\u4e5f\u9700\u8981\u8f6c\u4e49\uff0c\u5199\u4e3a\\\\\u3002"
     ]
    },
    {
     "cell_type": "code",
     "collapsed": false,
     "input": [
      "'what\\'s wrong'"
     ],
     "language": "python",
     "metadata": {},
     "outputs": [
      {
       "metadata": {},
       "output_type": "pyout",
       "prompt_number": 16,
       "text": [
        "\"what's wrong\""
       ]
      }
     ],
     "prompt_number": 16
    },
    {
     "cell_type": "markdown",
     "metadata": {
      "slideshow": {
       "slide_type": "subslide"
      }
     },
     "source": [
      "## Raw String\n",
      "\n",
      "\u5728\u5b57\u7b26\u4e32\u7684\u5f00\u59cb\u52a0r\uff0c\u4f7f\u5f97\u5b57\u7b26\u4e32\u4e2d\u4e0d\u53d1\u751f\u8f6c\u4e49\u3002\n",
      "\n",
      "\u5e38\u7528\u4e8e\u5927\u91cf\u9700\u8981\u8868\u8fbe\\\u7684\u5b57\u7b26\u4e32\u3002"
     ]
    },
    {
     "cell_type": "code",
     "collapsed": false,
     "input": [
      "r'what\\'s wrong'"
     ],
     "language": "python",
     "metadata": {},
     "outputs": [
      {
       "metadata": {},
       "output_type": "pyout",
       "prompt_number": 17,
       "text": [
        "\"what\\\\'s wrong\""
       ]
      }
     ],
     "prompt_number": 17
    },
    {
     "cell_type": "markdown",
     "metadata": {
      "slideshow": {
       "slide_type": "subslide"
      }
     },
     "source": [
      "## Unicode\u5b57\u7b26\u4e32\n",
      "\n",
      "\u5728\u5b57\u7b26\u4e32\u524d\u52a0u\uff0c\u8868\u793a\u8fd9\u662f\u4e00\u4e2aunicode\u5b57\u7b26\u4e32\u3002\n",
      "\n",
      "unicode\u5b57\u7b26\u4e32\u548c\u666e\u901a\u5b57\u7b26\u4e32\u7684\u533a\u522b\u5728\u4e8e\u3002unicode\u5b57\u7b26\u4e32\u4e2d\uff0c\u6bcf\u4e00\u4e2a\u4f4d\u8868\u793a\u4e00\u4e2a\u201c\u5b57\u201d\u3002\n",
      "\n",
      "\u800c\u666e\u901a\u5b57\u7b26\u4e32\u4e2d\uff0c\u4e00\u4e2a\u201c\u5b57\u201d\u53ef\u80fd\u7531\u591a\u4e2a\u4f4d\u8868\u793a\u3002\u5c24\u5176\u662f\u4e2d\u6587\u7684\u60c5\u51b5\u4e0b\u3002\n",
      "\n",
      "unicode\u5b57\u7b26\u4e32\u548c\u666e\u901a\u5b57\u7b26\u4e32\u5916\u5f62\u76f8\u4f3c\uff0c\u4f46\u662f\u5f88\u591a\u5730\u65b9\u65e0\u6cd5\u6df7\u7528\u3002\n",
      "\n",
      "\u66f4\u8fdb\u4e00\u6b65\u4fe1\u606f\u5728\u201c\u5b57\u7b26\u7f16\u7801\u7b80\u8bf4\u201d\u8fd9\u7ae0\u6709\u8be6\u7ec6\u89e3\u91ca\u3002"
     ]
    },
    {
     "cell_type": "code",
     "collapsed": false,
     "input": [
      "u'string'"
     ],
     "language": "python",
     "metadata": {
      "slideshow": {
       "slide_type": "subslide"
      }
     },
     "outputs": [
      {
       "metadata": {},
       "output_type": "pyout",
       "prompt_number": 18,
       "text": [
        "u'string'"
       ]
      }
     ],
     "prompt_number": 18
    },
    {
     "cell_type": "code",
     "collapsed": false,
     "input": [
      "'string' == u'string'"
     ],
     "language": "python",
     "metadata": {},
     "outputs": [
      {
       "metadata": {},
       "output_type": "pyout",
       "prompt_number": 19,
       "text": [
        "True"
       ]
      }
     ],
     "prompt_number": 19
    },
    {
     "cell_type": "code",
     "collapsed": false,
     "input": [
      "# -*- coding: utf-8 -*-\n",
      "'\u4e2d\u6587' == u'\u4e2d\u6587'\n",
      "# \u5728Python2\u4e0b\u4e0d\u76f8\u7b49\uff0cPython3\u4e0b\u76f8\u7b49\u3002\u56e0\u4e3aPython3\u4e0b\u90fd\u662fUnicode\u3002"
     ],
     "language": "python",
     "metadata": {},
     "outputs": [
      {
       "output_type": "stream",
       "stream": "stderr",
       "text": [
        "-c:2: UnicodeWarning: Unicode equal comparison failed to convert both arguments to Unicode - interpreting them as being unequal\n"
       ]
      },
      {
       "metadata": {},
       "output_type": "pyout",
       "prompt_number": 20,
       "text": [
        "False"
       ]
      }
     ],
     "prompt_number": 20
    },
    {
     "cell_type": "markdown",
     "metadata": {
      "slideshow": {
       "slide_type": "subslide"
      }
     },
     "source": [
      "## \u53d8\u91cf\n",
      "\n",
      "\u53d8\u91cf\u9700\u8981\u4e00\u4e2a\u540d\u5b57\u3002\n",
      "\n",
      "\u9996\u5b57\u6bcd\u9700\u8981\u662f\u5b57\u6bcd\u6216\u4e0b\u5212\u7ebf\uff0c\u5176\u4f59\u90e8\u5206\u53ef\u4ee5\u662f\u5b57\u6bcd\uff0c\u4e0b\u5212\u7ebf\u548c\u6570\u5b57\u3002\n",
      "\n",
      "\u53d8\u91cf\u5927\u5c0f\u5199\u654f\u611f\uff0c\u4f46\u662f\u4f7f\u7528\u5927\u5c0f\u5199\u533a\u5206\u53d8\u91cf\u662f\u4e0d\u53ef\u53d6\u7684\u3002"
     ]
    },
    {
     "cell_type": "markdown",
     "metadata": {
      "slideshow": {
       "slide_type": "subslide"
      }
     },
     "source": [
      "## \u53d8\u91cf\u7c7b\u578b\n",
      "\n",
      "\u6bcf\u4e2a\u53d8\u91cf\u90fd\u4f1a\u6307\u5411\u4e00\u4e2a\u503c\uff0c\u6bcf\u4e2a\u503c\u90fd\u62e5\u6709\u4e00\u4e2a\u7c7b\u578b\u3002\n",
      "\n",
      "\u53d8\u91cf\u5728\u8fd0\u884c\u8fc7\u7a0b\u4e2d\u53ef\u4ee5\u6307\u5411\u4e0d\u540c\u7684\u503c\uff0c\u62e5\u6709\u4e0d\u540c\u7684\u7c7b\u578b\u3002\n",
      "\n",
      "\u56e0\u6b64\u5728\u8fd0\u884c\u524d\u65e0\u6cd5\u77e5\u9053\u540d\u5b57\u6240\u5bf9\u5e94\u7684\u7c7b\u578b\u3002\uff08\u52a8\u6001\u7c7b\u578b\u8bed\u8a00\u7279\u5f81\uff09"
     ]
    },
    {
     "cell_type": "markdown",
     "metadata": {
      "slideshow": {
       "slide_type": "slide"
      }
     },
     "source": [
      "# \u7b97\u7b26\u548c\u8868\u8fbe\u5f0f"
     ]
    },
    {
     "cell_type": "markdown",
     "metadata": {
      "slideshow": {
       "slide_type": "subslide"
      }
     },
     "source": [
      "## \u7b97\u7b26\n",
      "\n",
      "\u7b97\u7b26\u662f\u8fde\u63a5\u4e00\u4e2a\u6216\u591a\u4e2a\u5143\u7d20\u7684\u7b26\u53f7\uff0c\u7528\u6765\u8868\u8fbe\u8ba1\u7b97\u3002\n",
      "\n",
      "\u5e38\u89c1\u7b97\u7b26\uff1a\n",
      "\n",
      "    + - * ** / // % << >> & | ^ ~ < > <= >= == != not and or\n",
      "\n",
      "\u7b97\u7b26\u548c\u8d4b\u503c\u7684\u5feb\u901f\u5199\u6cd5\n",
      "\n",
      "    a = 10\n",
      "    a = a + 10\n",
      "    a += 10"
     ]
    },
    {
     "cell_type": "markdown",
     "metadata": {
      "slideshow": {
       "slide_type": "notes"
      }
     },
     "source": [
      "\u53ef\u4ee5\u6311\u8bb2\u5e38\u89c1\u7b97\u7b26\u3002\u4e00\u822c+ - * /\u9700\u8981\u91cd\u70b9\u8bb2\u89e3\uff0c\u5176\u4ed6\u7b97\u7b26\u53ef\u4ee5\u7b80\u5355\u4ecb\u7ecd\uff0c\u7b49\u5230\u5408\u9002\u7684\u673a\u4f1a\u518d\u8bb2\u3002\n",
      "\n",
      "\u5728\u8fd9\u91cc\uff0c/\u548c//\u7b97\u7b26\uff0c2\u548c3\u7684\u5dee\u5f02\u662f\u5e38\u88ab\u63d0\u5230\u7684\u8bdd\u9898\u3002//\u662f\u6574\u6570\u9664\u6cd5\uff0c\u65e0\u8bba\u53c2\u4e0e\u6570\u662f\u6d6e\u70b9\u8fd8\u662f\u6574\u6570\u3002\n",
      "\n",
      "\u53e6\u4e00\u4e2a\u8bb2\u89e3\u91cd\u70b9\u5728\u4e8epython\u4e0d\u4f1a\u81ea\u52a8\u8f6c\u6362\u7c7b\u578b\u3002\u8fd9\u70b9\u5373\u662f\u201c\u5f3a\u7c7b\u578b\u8bed\u8a00\u201d\u3002"
     ]
    },
    {
     "cell_type": "markdown",
     "metadata": {
      "slideshow": {
       "slide_type": "subslide"
      }
     },
     "source": [
      "## \u7b97\u7b26\u4f18\u5148\u7ea7\n",
      "\n",
      "* lambda\n",
      "* if - else\n",
      "* or\n",
      "* and\n",
      "* not\n",
      "* in, not in, is, is not, <, <=, >, >=, !=, == \n",
      "* |\n",
      "* ^\n",
      "* &\n",
      "* <<, >>\n",
      "* +, -\n",
      "* *, /, //, %\n",
      "* +x, -x, ~x\n",
      "* \\*\\*\n",
      "* x[index], x[index:index], x(arguments...), x.attribute\n",
      "* (expressions...), [expressions...], {key: value...}, {expressions...} \n",
      "\n",
      "\u4f7f\u7528()\u53ef\u4ee5\u6539\u53d8\u4f18\u5148\u7ea7\u987a\u5e8f"
     ]
    },
    {
     "cell_type": "markdown",
     "metadata": {
      "slideshow": {
       "slide_type": "notes"
      }
     },
     "source": [
      "\u540c\u6837\u6311\u8bb2\u4f18\u5148\u7ea7\uff0c\u91cd\u70b9\u51e0\u4e4e\u53ea\u6709+ - * /\u4e4b\u95f4\u3002101\u4e0d\u8981\u5168\u90e8\u5c55\u5f00\u3002\n",
      "\n",
      "\u4f18\u5148\u7ea7\u7684\u6b63\u89e3\u5e94\u5f53\u662f\u5c3d\u91cf\u4f7f\u7528()\uff0c\u4e0d\u786e\u5b9a\u7684\u5e94\u5f53\u7528python\u53bb\u89e3\u51b3\u800c\u4e0d\u662f\u5927\u8111\u3002"
     ]
    },
    {
     "cell_type": "markdown",
     "metadata": {
      "slideshow": {
       "slide_type": "subslide"
      }
     },
     "source": [
      "## \u7ec3\u4e60\n",
      "\n",
      "\u8ba1\u7b97\u4ee5\u4e0b\u8868\u8fbe\u5f0f\u7684\u6c42\u503c\u987a\u5e8f\uff0c\u5e76\u6c42\u503c\u7b97\u51fa\u7ed3\u679c\uff1a\n",
      "\n",
      "    1 + 8 <= 1 + 2 * 3\n",
      "    1 + 2 and 3 * 4 or 5 ** 6"
     ]
    },
    {
     "cell_type": "markdown",
     "metadata": {
      "slideshow": {
       "slide_type": "notes"
      }
     },
     "source": [
      "\u5f3a\u8c03\u503c\u7684\u771f\u5047\uff0cand\u548cor\u7684\u8fd0\u7b97\u7279\u6027\u3002"
     ]
    },
    {
     "cell_type": "markdown",
     "metadata": {
      "slideshow": {
       "slide_type": "subslide"
      }
     },
     "source": [
      "## \u7b54\u6848"
     ]
    },
    {
     "cell_type": "code",
     "collapsed": false,
     "input": [
      "1 + 8 <= 1 + 2 * 3"
     ],
     "language": "python",
     "metadata": {},
     "outputs": [
      {
       "metadata": {},
       "output_type": "pyout",
       "prompt_number": 21,
       "text": [
        "False"
       ]
      }
     ],
     "prompt_number": 21
    },
    {
     "cell_type": "code",
     "collapsed": false,
     "input": [
      "1 + 2 and 3 * 4 or 5 ** 6"
     ],
     "language": "python",
     "metadata": {},
     "outputs": [
      {
       "metadata": {},
       "output_type": "pyout",
       "prompt_number": 22,
       "text": [
        "12"
       ]
      }
     ],
     "prompt_number": 22
    },
    {
     "cell_type": "markdown",
     "metadata": {
      "slideshow": {
       "slide_type": "subslide"
      }
     },
     "source": [
      "## \u8868\u8fbe\u5f0f\n",
      "\n",
      "\u8868\u8fbe\u5f0f\u4e3a\u4e00\u4e32\u7531\u7b97\u7b26\u8fde\u63a5\u7684\u5143\u7d20\u3002\n",
      "\n",
      "\u8868\u8fbe\u5f0f\u4e00\u822c\u4f1a\u6709\u503c\uff0c\u503c\u4e3a\u6309\u7167\u4f18\u5148\u7ea7\u4f9d\u6b21\u6c42\u89e3\u8868\u8fbe\u5f0f\u5f97\u5230\u7684\u7ed3\u679c\u3002\n",
      "\n",
      "\u6709\u4e9b\u8868\u8fbe\u5f0f\u5728\u8bed\u6cd5\u4e0a\u4ea6\u4e0d\u53ef\u6c42\u503c\u3002\n",
      "\n",
      "\u8868\u8fbe\u5f0f\u9664\u4e86\u503c\u4ee5\u5916\uff0c\u8fd8\u53ef\u80fd\u9020\u6210\u201c\u526f\u4f5c\u7528\u201d\u3002\u5373\u9020\u6210\u73af\u5883\u6539\u53d8\uff0c\u6216\u6267\u884c\u67d0\u4e9b\u64cd\u4f5c\u3002"
     ]
    },
    {
     "cell_type": "code",
     "collapsed": false,
     "input": [
      "Pi = 3.14\n",
      "r = 5\n",
      "area = Pi * r * r\n",
      "print(\"area is {0}\".format(area))"
     ],
     "language": "python",
     "metadata": {
      "slideshow": {
       "slide_type": "subslide"
      }
     },
     "outputs": [
      {
       "output_type": "stream",
       "stream": "stdout",
       "text": [
        "area is 78.5\n"
       ]
      }
     ],
     "prompt_number": 23
    },
    {
     "cell_type": "markdown",
     "metadata": {
      "slideshow": {
       "slide_type": "subslide"
      }
     },
     "source": [
      "## \u683c\u5f0f\u5316\u5b57\u7b26\u4e32\n",
      "\n",
      "\u5c06\u53d8\u91cf\u7684\u503c\u683c\u5f0f\u5316\u5230\u5b57\u7b26\u4e32\u4e2d\uff0c\u5f62\u6210\u65b0\u7684\u5b57\u7b26\u4e32\u3002\n",
      "\n",
      "\u5e38\u7528\u4e8e\u8f93\u51fa\u6570\u636e\u5185\u5bb9\u3002"
     ]
    },
    {
     "cell_type": "code",
     "collapsed": false,
     "input": [
      "name = 'shell'\n",
      "\n",
      "print('my name is {0} and the length of name is {1}'.format(name, len(name)))\n",
      "print('my name is %s and the length of name is %d' % (name, len(name)))"
     ],
     "language": "python",
     "metadata": {
      "slideshow": {
       "slide_type": "subslide"
      }
     },
     "outputs": [
      {
       "output_type": "stream",
       "stream": "stdout",
       "text": [
        "my name is shell and the length of name is 5\n",
        "my name is shell and the length of name is 5\n"
       ]
      }
     ],
     "prompt_number": 24
    },
    {
     "cell_type": "markdown",
     "metadata": {
      "slideshow": {
       "slide_type": "subslide"
      }
     },
     "source": [
      "## \u7ec3\u4e60\n",
      "\n",
      "* \u7f16\u5199\u4e00\u884c\u4ee3\u7801\uff0c\u6253\u5370\u51fahello, world\u3002\n",
      "* \u5047\u5b9a\u6709\u53d8\u91cfname\uff0c\u503c\u4e3a\u4f60\u7684\u540d\u5b57\u3002\u7f16\u5199\u4ee3\u7801\u6253\u5370\u51fahello, [your name]\u3002"
     ]
    },
    {
     "cell_type": "markdown",
     "metadata": {
      "slideshow": {
       "slide_type": "slide"
      }
     },
     "source": [
      "# \u6267\u884c\u6d41\u63a7\u5236\n",
      "\n",
      "\u6267\u884c\u6d41\u63a7\u5236\u4ee3\u7801\u63a7\u5236\u6d41\u7684\u5148\u540e\u6267\u884c\u987a\u5e8f\u3002"
     ]
    },
    {
     "cell_type": "markdown",
     "metadata": {
      "slideshow": {
       "slide_type": "subslide"
      }
     },
     "source": [
      "## \u903b\u8f91\u884c\u548c\u7269\u7406\u884c\n",
      "\n",
      "Python\u8bed\u53e5\u6267\u884c\u4ee5\u884c\u4e3a\u5355\u4f4d\u3002\u6bcf\u884c\u53ef\u9009\u7684\u53ef\u4ee5\u4ee5\u5206\u53f7;\u7ed3\u5c3e\u3002\n",
      "\n",
      "\u4f46\u662f\u7269\u7406\u4e0a\u7684\u4e00\u884c\u53ef\u4ee5\u5305\u542b\u591a\u4e2a\u6267\u884c\u5355\u4f4d\uff0c\u4f8b\u5982\uff1a"
     ]
    },
    {
     "cell_type": "code",
     "collapsed": false,
     "input": [
      "i = 5; print(i);"
     ],
     "language": "python",
     "metadata": {},
     "outputs": [
      {
       "output_type": "stream",
       "stream": "stdout",
       "text": [
        "5\n"
       ]
      }
     ],
     "prompt_number": 25
    },
    {
     "cell_type": "markdown",
     "metadata": {},
     "source": [
      "\u540c\u4e00\u4e2a\u6267\u884c\u5355\u4f4d\u4e5f\u53ef\u4ee5\u62c6\u5206\u4e3a\u591a\u884c\uff0c\u4f8b\u5982\uff1a"
     ]
    },
    {
     "cell_type": "code",
     "collapsed": false,
     "input": [
      "print(\n",
      "'Hello, world')"
     ],
     "language": "python",
     "metadata": {},
     "outputs": [
      {
       "output_type": "stream",
       "stream": "stdout",
       "text": [
        "Hello, world\n"
       ]
      }
     ],
     "prompt_number": 26
    },
    {
     "cell_type": "markdown",
     "metadata": {
      "slideshow": {
       "slide_type": "subslide"
      }
     },
     "source": [
      "## \u683c\u5f0f\u5bf9\u9f50\n",
      "\n",
      "Python\u4f7f\u7528\u5bf9\u9f50\u8868\u8fbe\u903b\u8f91\uff0c\u4f8b\u5982\uff1a"
     ]
    },
    {
     "cell_type": "code",
     "collapsed": false,
     "input": [
      "a = 1\n",
      "if a == 1:\n",
      "    print('ok')\n",
      "print('done')"
     ],
     "language": "python",
     "metadata": {},
     "outputs": [
      {
       "output_type": "stream",
       "stream": "stdout",
       "text": [
        "ok\n",
        "done\n"
       ]
      }
     ],
     "prompt_number": 27
    },
    {
     "cell_type": "markdown",
     "metadata": {
      "slideshow": {
       "slide_type": "-"
      }
     },
     "source": [
      "\u5f53print(\u2018done\u2019)\u548cif\u5bf9\u9f50\u65f6\uff0c\u5fc5\u7136\u88ab\u6267\u884c\u3002\u800c\u548cprint(\u2018ok\u2019)\u5bf9\u9f50\u65f6\uff0c\u5728\u6761\u4ef6\u4e0b\u6267\u884c\u3002\n",
      "\n",
      "\u56e0\u6b64\u5bf9\u9f50\u4e0d\u5408\u9002\u7684\u4ee3\u7801\u4f1a\u5f15\u53d1\u8bed\u6cd5\u9519\u8bef\u3002"
     ]
    },
    {
     "cell_type": "code",
     "collapsed": false,
     "input": [
      "a = 0\n",
      "if a == 1:\n",
      "    print('ok')\n",
      "print('done')\n",
      "\n",
      "print('------')\n",
      "\n",
      "a = 1\n",
      "if a == 1:\n",
      "    print('ok')\n",
      "print('done')"
     ],
     "language": "python",
     "metadata": {
      "slideshow": {
       "slide_type": "subslide"
      }
     },
     "outputs": [
      {
       "output_type": "stream",
       "stream": "stdout",
       "text": [
        "done\n",
        "------\n",
        "ok\n",
        "done\n"
       ]
      }
     ],
     "prompt_number": 28
    },
    {
     "cell_type": "code",
     "collapsed": false,
     "input": [
      "a = 0\n",
      "if a == 1:\n",
      "    print('ok')\n",
      "    print('done')\n",
      "\n",
      "print('------')\n",
      "\n",
      "a = 1\n",
      "if a == 1:\n",
      "    print('ok')\n",
      "    print('done')"
     ],
     "language": "python",
     "metadata": {
      "slideshow": {
       "slide_type": "subslide"
      }
     },
     "outputs": [
      {
       "output_type": "stream",
       "stream": "stdout",
       "text": [
        "------\n",
        "ok\n",
        "done\n"
       ]
      }
     ],
     "prompt_number": 29
    },
    {
     "cell_type": "markdown",
     "metadata": {
      "slideshow": {
       "slide_type": "subslide"
      }
     },
     "source": [
      "## \u5355\u884c\u5199\u6cd5"
     ]
    },
    {
     "cell_type": "code",
     "collapsed": false,
     "input": [
      "if True: print('ok')"
     ],
     "language": "python",
     "metadata": {},
     "outputs": [
      {
       "output_type": "stream",
       "stream": "stdout",
       "text": [
        "ok\n"
       ]
      }
     ],
     "prompt_number": 30
    },
    {
     "cell_type": "markdown",
     "metadata": {
      "slideshow": {
       "slide_type": "subslide"
      }
     },
     "source": [
      "## if"
     ]
    },
    {
     "cell_type": "code",
     "collapsed": false,
     "input": [
      "number = 23\n",
      "# input\u662fpython3\u5199\u6cd5\uff0craw_input\u662f\u5bf9\u5e94\u7684python2\u5199\u6cd5\u3002\n",
      "try:\n",
      "    guess = int(raw_input('Enter an integer : '))\n",
      "except NameError:\n",
      "    guess = int(input('Enter an integer : '))\n",
      "if guess == number:\n",
      "    print('Congratulations, you guessed it.')\n",
      "    print('(but you do not win any prizes!)')\n",
      "elif guess < number:\n",
      "    print('No, it is a little higher than that')\n",
      "else:\n",
      "    print('No, it is a little lower than that')\n",
      "print('Done')"
     ],
     "language": "python",
     "metadata": {},
     "outputs": [
      {
       "name": "stdout",
       "output_type": "stream",
       "stream": "stdout",
       "text": [
        "Enter an integer : 10\n"
       ]
      },
      {
       "output_type": "stream",
       "stream": "stdout",
       "text": [
        "No, it is a little higher than that\n",
        "Done\n"
       ]
      }
     ],
     "prompt_number": 31
    },
    {
     "cell_type": "markdown",
     "metadata": {
      "slideshow": {
       "slide_type": "subslide"
      }
     },
     "source": [
      "## while"
     ]
    },
    {
     "cell_type": "code",
     "collapsed": false,
     "input": [
      "number = 23\n",
      "running = True\n",
      "while running:\n",
      "    try:\n",
      "        guess = int(raw_input('Enter an integer : '))\n",
      "    except NameError:\n",
      "        guess = int(input('Enter an integer : '))\n",
      "    if guess == number:\n",
      "        print('Congratulations, you guessed it.')\n",
      "        running = False\n",
      "    elif guess < number:\n",
      "        print('No, it is a little higher than that.')\n",
      "    else:\n",
      "        print('No, it is a little lower than that.')\n",
      "else:\n",
      "    print('The while loop is over.')\n",
      "print('Done')"
     ],
     "language": "python",
     "metadata": {},
     "outputs": [
      {
       "name": "stdout",
       "output_type": "stream",
       "stream": "stdout",
       "text": [
        "Enter an integer : 10\n"
       ]
      },
      {
       "output_type": "stream",
       "stream": "stdout",
       "text": [
        "No, it is a little higher than that.\n"
       ]
      },
      {
       "name": "stdout",
       "output_type": "stream",
       "stream": "stdout",
       "text": [
        "Enter an integer : 30\n"
       ]
      },
      {
       "output_type": "stream",
       "stream": "stdout",
       "text": [
        "No, it is a little lower than that.\n"
       ]
      },
      {
       "name": "stdout",
       "output_type": "stream",
       "stream": "stdout",
       "text": [
        "Enter an integer : 23\n"
       ]
      },
      {
       "output_type": "stream",
       "stream": "stdout",
       "text": [
        "Congratulations, you guessed it.\n",
        "The while loop is over.\n",
        "Done\n"
       ]
      }
     ],
     "prompt_number": 32
    },
    {
     "cell_type": "markdown",
     "metadata": {
      "slideshow": {
       "slide_type": "subslide"
      }
     },
     "source": [
      "## for"
     ]
    },
    {
     "cell_type": "code",
     "collapsed": false,
     "input": [
      "for i in range(1, 5):\n",
      "    print(i)\n",
      "else:\n",
      "    print('The for loop is over')"
     ],
     "language": "python",
     "metadata": {},
     "outputs": [
      {
       "output_type": "stream",
       "stream": "stdout",
       "text": [
        "1\n",
        "2\n",
        "3\n",
        "4\n",
        "The for loop is over\n"
       ]
      }
     ],
     "prompt_number": 33
    },
    {
     "cell_type": "markdown",
     "metadata": {
      "slideshow": {
       "slide_type": "subslide"
      }
     },
     "source": [
      "## break"
     ]
    },
    {
     "cell_type": "code",
     "collapsed": false,
     "input": [
      "while True:\n",
      "    try:\n",
      "        s = raw_input('Enter something : ')\n",
      "    except NameError:\n",
      "        s = input('Enter something : ')\n",
      "    if s == 'quit':\n",
      "        break\n",
      "    print('Length of the string is %d' % len(s))\n",
      "print('Done')"
     ],
     "language": "python",
     "metadata": {},
     "outputs": [
      {
       "name": "stdout",
       "output_type": "stream",
       "stream": "stdout",
       "text": [
        "Enter something : 1\n"
       ]
      },
      {
       "output_type": "stream",
       "stream": "stdout",
       "text": [
        "Length of the string is 1\n"
       ]
      },
      {
       "name": "stdout",
       "output_type": "stream",
       "stream": "stdout",
       "text": [
        "Enter something : quit\n"
       ]
      },
      {
       "output_type": "stream",
       "stream": "stdout",
       "text": [
        "Done\n"
       ]
      }
     ],
     "prompt_number": 34
    },
    {
     "cell_type": "markdown",
     "metadata": {
      "slideshow": {
       "slide_type": "subslide"
      }
     },
     "source": [
      "## continue"
     ]
    },
    {
     "cell_type": "code",
     "collapsed": false,
     "input": [
      "while True:\n",
      "    try:\n",
      "        s = raw_input('Enter something : ')\n",
      "    except NameError:\n",
      "        s = input('Enter something : ')\n",
      "    if s == 'quit':\n",
      "        break\n",
      "    if len(s) < 3:\n",
      "        print('Too small')\n",
      "        continue\n",
      "    print('Input is of sufficient length')"
     ],
     "language": "python",
     "metadata": {},
     "outputs": [
      {
       "name": "stdout",
       "output_type": "stream",
       "stream": "stdout",
       "text": [
        "Enter something : 1\n"
       ]
      },
      {
       "output_type": "stream",
       "stream": "stdout",
       "text": [
        "Too small\n"
       ]
      },
      {
       "name": "stdout",
       "output_type": "stream",
       "stream": "stdout",
       "text": [
        "Enter something : 123\n"
       ]
      },
      {
       "output_type": "stream",
       "stream": "stdout",
       "text": [
        "Input is of sufficient length\n"
       ]
      },
      {
       "name": "stdout",
       "output_type": "stream",
       "stream": "stdout",
       "text": [
        "Enter something : quit\n"
       ]
      }
     ],
     "prompt_number": 35
    },
    {
     "cell_type": "markdown",
     "metadata": {
      "slideshow": {
       "slide_type": "subslide"
      }
     },
     "source": [
      "## \u7ec3\u4e60\n",
      "\n",
      "\u8bf4\u51fa\u4e0b\u9762\u4ee3\u7801\u7684\u6267\u884c\u8fc7\u7a0b\u548c\u8f93\u51fa\u7ed3\u679c\uff1a\n",
      "\n",
      "    for i in range(10):\n",
      "        if i < 5:\n",
      "            continue\n",
      "        elif i > 9:\n",
      "            break\n",
      "        else:\n",
      "            print(i)"
     ]
    },
    {
     "cell_type": "markdown",
     "metadata": {
      "slideshow": {
       "slide_type": "subslide"
      }
     },
     "source": [
      "## \u7b54\u6848"
     ]
    },
    {
     "cell_type": "code",
     "collapsed": false,
     "input": [
      "for i in range(10):\n",
      "    if i < 5:\n",
      "        continue\n",
      "    elif i > 9:\n",
      "        break\n",
      "    else:\n",
      "        print(i)"
     ],
     "language": "python",
     "metadata": {},
     "outputs": [
      {
       "output_type": "stream",
       "stream": "stdout",
       "text": [
        "5\n",
        "6\n",
        "7\n",
        "8\n",
        "9\n"
       ]
      }
     ],
     "prompt_number": 36
    },
    {
     "cell_type": "markdown",
     "metadata": {
      "slideshow": {
       "slide_type": "slide"
      }
     },
     "source": [
      "# \u51fd\u6570"
     ]
    },
    {
     "cell_type": "markdown",
     "metadata": {
      "slideshow": {
       "slide_type": "subslide"
      }
     },
     "source": [
      "## \u51fd\u6570\u7684\u5b9a\u4e49\u548c\u8c03\u7528\n",
      "\n",
      "\u5b9a\u4e49\uff1a"
     ]
    },
    {
     "cell_type": "code",
     "collapsed": false,
     "input": [
      "def say_hello():\n",
      "    print('hello world')"
     ],
     "language": "python",
     "metadata": {},
     "outputs": [],
     "prompt_number": 37
    },
    {
     "cell_type": "markdown",
     "metadata": {},
     "source": [
      "\u8c03\u7528\uff1a"
     ]
    },
    {
     "cell_type": "code",
     "collapsed": false,
     "input": [
      "say_hello()"
     ],
     "language": "python",
     "metadata": {},
     "outputs": [
      {
       "output_type": "stream",
       "stream": "stdout",
       "text": [
        "hello world\n"
       ]
      }
     ],
     "prompt_number": 38
    },
    {
     "cell_type": "markdown",
     "metadata": {
      "slideshow": {
       "slide_type": "subslide"
      }
     },
     "source": [
      "## \u53c2\u6570\n",
      "\n",
      "\u53ef\u4ee5\u901a\u8fc7\u53c2\u6570\u5411\u51fd\u6570\u4f20\u9012\u6570\u636e\u3002"
     ]
    },
    {
     "cell_type": "code",
     "collapsed": false,
     "input": [
      "def print_max(a, b):\n",
      "    if a > b:\n",
      "        print('{0} is maximum'.format(a))\n",
      "    elif a == b:\n",
      "        print('{0} is equal to {1}'.format(a, b))\n",
      "    else:\n",
      "        print('{0} is maximum'.format(b))\n",
      "print_max(3, 4)"
     ],
     "language": "python",
     "metadata": {},
     "outputs": [
      {
       "output_type": "stream",
       "stream": "stdout",
       "text": [
        "4 is maximum\n"
       ]
      }
     ],
     "prompt_number": 39
    },
    {
     "cell_type": "code",
     "collapsed": false,
     "input": [
      "print_max(3, '4')\n",
      "print_max('3', 4)"
     ],
     "language": "python",
     "metadata": {},
     "outputs": [
      {
       "output_type": "stream",
       "stream": "stdout",
       "text": [
        "4 is maximum\n",
        "3 is maximum\n"
       ]
      }
     ],
     "prompt_number": 40
    },
    {
     "cell_type": "markdown",
     "metadata": {
      "slideshow": {
       "slide_type": "notes"
      }
     },
     "source": [
      "\u5751\u7239\u3002print_max(3, '4')\u5c45\u7136\u4e5f\u80fd\u6267\u884c\u3002\u8bf4\u597d\u7684\u5f3a\u7c7b\u578b\u5462\uff1f\n",
      "\n",
      "\u9700\u8981\u7740\u91cd\u58f0\u660e\u4f8b\u5b50\u4e2d\u7684\u8fd4\u56de\u662f\u8fdd\u80cc\u5e38\u7406\u7684\u3002"
     ]
    },
    {
     "cell_type": "markdown",
     "metadata": {
      "slideshow": {
       "slide_type": "subslide"
      }
     },
     "source": [
      "## \u5c40\u90e8\u53d8\u91cf\n",
      "\n",
      "\u5728\u51fd\u6570\u4f53\u5185\u5b9a\u4e49\u7684\u53d8\u91cf\u79f0\u4e3a\u5c40\u90e8\u53d8\u91cf\u3002\n",
      "\n",
      "\u5c40\u90e8\u53d8\u91cf\u5728\u51fd\u6570\u6267\u884c\u65f6\u4ea7\u751f\uff0c\u5728\u51fd\u6570\u7ed3\u675f\u65f6\u6d88\u4ea1\u3002\u51fd\u6570\u5916\u65e0\u6cd5\u770b\u5230\u5c40\u90e8\u53d8\u91cf\u3002\n",
      "\n",
      "\u53c2\u6570\u53ef\u89c6\u4e3a\u4e00\u79cd\u5c40\u90e8\u53d8\u91cf\u3002\n",
      "\n",
      "\u5bf9\u5c40\u90e8\u53d8\u91cf\u7684\u4fee\u6539\u4e0d\u5f71\u54cd\u5168\u5c40\u53d8\u91cf\u3002"
     ]
    },
    {
     "cell_type": "code",
     "collapsed": false,
     "input": [
      "x = 50\n",
      "def func():\n",
      "    x = 2\n",
      "    print('Changed local x to {0}'.format(x))\n",
      "func()\n",
      "print(x)"
     ],
     "language": "python",
     "metadata": {
      "slideshow": {
       "slide_type": "subslide"
      }
     },
     "outputs": [
      {
       "output_type": "stream",
       "stream": "stdout",
       "text": [
        "Changed local x to 2\n",
        "50\n"
       ]
      }
     ],
     "prompt_number": 41
    },
    {
     "cell_type": "code",
     "collapsed": false,
     "input": [
      "x = 50\n",
      "def func(x):\n",
      "    print('Changed local x to {0}'.format(x))\n",
      "func(2)\n",
      "print(x)"
     ],
     "language": "python",
     "metadata": {},
     "outputs": [
      {
       "output_type": "stream",
       "stream": "stdout",
       "text": [
        "Changed local x to 2\n",
        "50\n"
       ]
      }
     ],
     "prompt_number": 42
    },
    {
     "cell_type": "markdown",
     "metadata": {
      "slideshow": {
       "slide_type": "subslide"
      }
     },
     "source": [
      "## \u5168\u5c40\u53d8\u91cf\n",
      "\n",
      "\u5728\u6a21\u5757\u5185\u5b9a\u4e49\u7684\u53d8\u91cf\u53eb\u5168\u5c40\u53d8\u91cf\u3002\n",
      "\n",
      "\u5168\u5c40\u53d8\u91cf\u5728\u5168\u5c40\u53ef\u89c1\uff0c\u51fd\u6570\u4f53\u5185\u53ef\u4ee5\u5f15\u7528\u5168\u5c40\u53d8\u91cf\u3002\n",
      "\n",
      "\u51fd\u6570\u53ef\u4ee5\u7528global\u5173\u952e\u5b57\u58f0\u660e\u67d0\u53d8\u91cf\u662f\u5168\u5c40\u7684\u3002"
     ]
    },
    {
     "cell_type": "code",
     "collapsed": false,
     "input": [
      "x = 50\n",
      "def func():\n",
      "    print('x is {0}'.format(x))\n",
      "func()"
     ],
     "language": "python",
     "metadata": {
      "slideshow": {
       "slide_type": "subslide"
      }
     },
     "outputs": [
      {
       "output_type": "stream",
       "stream": "stdout",
       "text": [
        "x is 50\n"
       ]
      }
     ],
     "prompt_number": 43
    },
    {
     "cell_type": "code",
     "collapsed": false,
     "input": [
      "x = 50\n",
      "def func():\n",
      "    global x\n",
      "    print('x is {0}'.format(x))\n",
      "    x = 2\n",
      "    print('Changed x to {0}'.format(x))\n",
      "    \n",
      "print('x is {0} before function.'.format(x))\n",
      "func()\n",
      "print('x is {0} after function.'.format(x))"
     ],
     "language": "python",
     "metadata": {},
     "outputs": [
      {
       "output_type": "stream",
       "stream": "stdout",
       "text": [
        "x is 50 before function.\n",
        "x is 50\n",
        "Changed x to 2\n",
        "x is 2 after function.\n"
       ]
      }
     ],
     "prompt_number": 44
    },
    {
     "cell_type": "markdown",
     "metadata": {
      "slideshow": {
       "slide_type": "subslide"
      }
     },
     "source": [
      "## \u4f5c\u7528\u57df\n",
      "\n",
      "\u53d8\u91cf\u53ef\u89c1\u7684\u8303\u56f4\u53eb\u505a\u53d8\u91cf\u7684\u4f5c\u7528\u57df\u3002\n",
      "\n",
      "\u5c40\u90e8\u53d8\u91cf\u7684\u4f5c\u7528\u57df\u5728\u51fd\u6570\u5185\uff0c\u5168\u5c40\u53d8\u91cf\u7684\u4f5c\u7528\u57df\u5728\u6a21\u5757\u5185\uff08\u5173\u4e8e\u6a21\u5757\u540e\u6587\u4f1a\u8bb2\uff09\u3002\n",
      "\n",
      "\u4f5c\u7528\u57df\u7684\u57fa\u672c\u539f\u5219\u662f\uff0c\u5185\u5c42\u4f5c\u7528\u57df\u53ef\u8bbf\u95ee\u5916\u5c42\u4f5c\u7528\u57df\u7684\u53d8\u91cf\uff0c\u53cd\u4e4b\u5916\u5c42\u4e0d\u53ef\u8bbf\u95ee\u5185\u5c42\u53d8\u91cf\u3002\n",
      "\n",
      "\u5982\u679c\u4e24\u4e2a\u4f5c\u7528\u57df\u5185\u6709\u540c\u4e00\u4e2a\u540d\u5b57\uff0c\u90a3\u4e48\u5185\u5c42\u7684\u8d77\u4f5c\u7528\u3002"
     ]
    },
    {
     "cell_type": "markdown",
     "metadata": {
      "slideshow": {
       "slide_type": "subslide"
      }
     },
     "source": [
      "## Unbound\u5f02\u5e38\n",
      "\n",
      "python\u5185\u7684\u201clocal\u4e2d\u6709\u53d8\u91cf\u5b9a\u4e49\u201d\uff0c\u662f\u4ee5local\u4e2d\u5b58\u5728\u5bf9\u53d8\u91cf\u6784\u5efa\u7684\u8bed\u6cd5\uff08\u4f8b\u5982\u8d4b\u503c\uff09\u4e3a\u6807\u51c6\u7684\u3002\n",
      "\n",
      "\u8fd9\u4e2a\u6784\u5efa\u8bed\u6cd5\u6240\u5728\u884c\u53ef\u80fd\u5c1a\u672a\u6267\u884c\uff08\u6216\u6c38\u8fdc\u65e0\u6cd5\u6267\u884c\u5230\uff09\uff0c\u4f46\u662f\u8fd9\u5e76\u4e0d\u5f71\u54cd\u201clocal\u4e2d\u6709\u53d8\u91cf\u5b9a\u4e49\u201d\u8fd9\u4e2a\u4e8b\u5b9e\u3002\n",
      "\n",
      "\u5f53local\u4e2d\u5b9a\u4e49\u4e86\u53d8\u91cf\uff0c\u4f46\u662f\u53d8\u91cf\u5c1a\u672a\u5b8c\u6210\u6784\u5efa\u65f6\uff0c\u5bf9\u53d8\u91cf\u505a\u5f15\u7528\uff0c\u4f1a\u53d1\u751f\u4ec0\u4e48\uff1f"
     ]
    },
    {
     "cell_type": "code",
     "collapsed": false,
     "input": [
      "my_variable = 1\n",
      "\n",
      "def func():\n",
      "    print(my_variable)\n",
      "    my_variable = 2\n",
      "    \n",
      "func()"
     ],
     "language": "python",
     "metadata": {
      "slideshow": {
       "slide_type": "subslide"
      }
     },
     "outputs": [
      {
       "ename": "UnboundLocalError",
       "evalue": "local variable 'my_variable' referenced before assignment",
       "output_type": "pyerr",
       "traceback": [
        "\u001b[0;31m---------------------------------------------------------------------------\u001b[0m\n\u001b[0;31mUnboundLocalError\u001b[0m                         Traceback (most recent call last)",
        "\u001b[0;32m<ipython-input-45-d5f2fcf5ccf1>\u001b[0m in \u001b[0;36m<module>\u001b[0;34m()\u001b[0m\n\u001b[1;32m      5\u001b[0m     \u001b[0mmy_variable\u001b[0m \u001b[0;34m=\u001b[0m \u001b[0;36m2\u001b[0m\u001b[0;34m\u001b[0m\u001b[0m\n\u001b[1;32m      6\u001b[0m \u001b[0;34m\u001b[0m\u001b[0m\n\u001b[0;32m----> 7\u001b[0;31m \u001b[0mfunc\u001b[0m\u001b[0;34m(\u001b[0m\u001b[0;34m)\u001b[0m\u001b[0;34m\u001b[0m\u001b[0m\n\u001b[0m",
        "\u001b[0;32m<ipython-input-45-d5f2fcf5ccf1>\u001b[0m in \u001b[0;36mfunc\u001b[0;34m()\u001b[0m\n\u001b[1;32m      2\u001b[0m \u001b[0;34m\u001b[0m\u001b[0m\n\u001b[1;32m      3\u001b[0m \u001b[0;32mdef\u001b[0m \u001b[0mfunc\u001b[0m\u001b[0;34m(\u001b[0m\u001b[0;34m)\u001b[0m\u001b[0;34m:\u001b[0m\u001b[0;34m\u001b[0m\u001b[0m\n\u001b[0;32m----> 4\u001b[0;31m     \u001b[0;32mprint\u001b[0m\u001b[0;34m(\u001b[0m\u001b[0mmy_variable\u001b[0m\u001b[0;34m)\u001b[0m\u001b[0;34m\u001b[0m\u001b[0m\n\u001b[0m\u001b[1;32m      5\u001b[0m     \u001b[0mmy_variable\u001b[0m \u001b[0;34m=\u001b[0m \u001b[0;36m2\u001b[0m\u001b[0;34m\u001b[0m\u001b[0m\n\u001b[1;32m      6\u001b[0m \u001b[0;34m\u001b[0m\u001b[0m\n",
        "\u001b[0;31mUnboundLocalError\u001b[0m: local variable 'my_variable' referenced before assignment"
       ]
      }
     ],
     "prompt_number": 45
    },
    {
     "cell_type": "markdown",
     "metadata": {
      "slideshow": {
       "slide_type": "subslide"
      }
     },
     "source": [
      "## \u53c2\u6570\u9ed8\u8ba4\u503c\n",
      "\n",
      "\u51fd\u6570\u5b9a\u4e49\u65f6\uff0c\u53ef\u4ee5\u7ed9\u53c2\u6570\u4e00\u4e2a\u503c\u3002\u5f53\u8c03\u7528\u65f6\uff0c\u8be5\u53c2\u6570\u5e76\u672a\u7ed9\u51fa\u7684\u60c5\u51b5\u4e0b\uff0c\u4f7f\u7528\u9ed8\u8ba4\u503c\u3002\n",
      "\n",
      "\u63d0\u793a\uff1a\u4ece\u5b89\u5168\u6027\u89d2\u5ea6\u6765\u8bf4\uff0c\u4e0d\u8981\u4f7f\u7528\u53ef\u53d8\u5bf9\u8c61\u4f5c\u4e3a\u53c2\u6570\u9ed8\u8ba4\u503c\u3002"
     ]
    },
    {
     "cell_type": "code",
     "collapsed": false,
     "input": [
      "def say(message, times=1):\n",
      "    print(message * times)\n",
      "\n",
      "say('Hello')\n",
      "say('World', 5)"
     ],
     "language": "python",
     "metadata": {},
     "outputs": [
      {
       "output_type": "stream",
       "stream": "stdout",
       "text": [
        "Hello\n",
        "WorldWorldWorldWorldWorld\n"
       ]
      }
     ],
     "prompt_number": 46
    },
    {
     "cell_type": "code",
     "collapsed": false,
     "input": [
      "def append1(l=[]):\n",
      "    l.append(1)\n",
      "    return l\n",
      "\n",
      "print(append1([]))\n",
      "print(append1([]))\n",
      "\n",
      "print('------')\n",
      "\n",
      "print(append1())\n",
      "print(append1())"
     ],
     "language": "python",
     "metadata": {
      "slideshow": {
       "slide_type": "subslide"
      }
     },
     "outputs": [
      {
       "output_type": "stream",
       "stream": "stdout",
       "text": [
        "[1]\n",
        "[1]\n",
        "------\n",
        "[1]\n",
        "[1, 1]\n"
       ]
      }
     ],
     "prompt_number": 47
    },
    {
     "cell_type": "markdown",
     "metadata": {
      "slideshow": {
       "slide_type": "subslide"
      }
     },
     "source": [
      "\u9047\u5230\u5e0c\u671b\u4f7f\u7528\u53ef\u53d8\u5bf9\u8c61\u4f5c\u4e3a\u53c2\u6570\u9ed8\u8ba4\u503c\u7684\u60c5\u51b5\uff0c\u9700\u8981\u4f7f\u7528None\u4f5c\u4e3a\u9ed8\u8ba4\u503c\u3002\n",
      "\n",
      "\u5728\u51fd\u6570\u4e2d\u5224\u65ad\u662f\u5426\u4e3aNone\uff0c\u662f\u7684\u8bdd\u518d\u5bf9\u53c2\u6570\u505a\u9ed8\u8ba4\u503c\u8d4b\u503c\u5904\u7406\u3002\n",
      "\n",
      "\u4ee5\u6b64\u6a21\u5f0f\u6765\u907f\u514d\u4e0a\u8ff0\u95ee\u9898\u3002"
     ]
    },
    {
     "cell_type": "code",
     "collapsed": false,
     "input": [
      "def append1(l=None):\n",
      "    if l is None:\n",
      "        l = []\n",
      "    l.append(1)\n",
      "    return l\n",
      "\n",
      "print(append1([]))\n",
      "print(append1([]))\n",
      "\n",
      "print('------')\n",
      "\n",
      "print(append1())\n",
      "print(append1())"
     ],
     "language": "python",
     "metadata": {
      "slideshow": {
       "slide_type": "subslide"
      }
     },
     "outputs": [
      {
       "output_type": "stream",
       "stream": "stdout",
       "text": [
        "[1]\n",
        "[1]\n",
        "------\n",
        "[1]\n",
        "[1]\n"
       ]
      }
     ],
     "prompt_number": 48
    },
    {
     "cell_type": "markdown",
     "metadata": {
      "slideshow": {
       "slide_type": "subslide"
      }
     },
     "source": [
      "## \u8fd4\u56de\u503c\n",
      "\n",
      "\u5c06\u51fd\u6570\u5185\u6570\u636e\u4f20\u9012\u56de\u53bb\u3002"
     ]
    },
    {
     "cell_type": "code",
     "collapsed": false,
     "input": [
      "def maximum(x, y):\n",
      "    if x > y:\n",
      "        return x\n",
      "    elif x == y:\n",
      "        return 'The numbers are equal'\n",
      "    else:\n",
      "        return y\n",
      "\n",
      "print(maximum(2, 3))\n",
      "print(maximum(2, 2))"
     ],
     "language": "python",
     "metadata": {},
     "outputs": [
      {
       "output_type": "stream",
       "stream": "stdout",
       "text": [
        "3\n",
        "The numbers are equal\n"
       ]
      }
     ],
     "prompt_number": 49
    },
    {
     "cell_type": "markdown",
     "metadata": {
      "slideshow": {
       "slide_type": "subslide"
      }
     },
     "source": [
      "## \u591a\u503c\u8fd4\u56de\n",
      "\n",
      "Python\u5141\u8bb8\u4e00\u6b21\u8fd4\u56de\u591a\u4e2a\u503c\u3002\n",
      "\n",
      "\u591a\u503c\u8fd4\u56de\u7684\u672c\u8d28\u662f\u4f7f\u7528tuple\u4e2d\u8f6c\uff08\u540e\u9762\u8be6\u7ec6\u8bb2\u89e3\uff09\u3002"
     ]
    },
    {
     "cell_type": "markdown",
     "metadata": {
      "slideshow": {
       "slide_type": "notes"
      }
     },
     "source": [
      "\u63d0\u524d\u5f3a\u8c03\u201c\u6700\u5c0f\u60ca\u8bb6\u539f\u5219\u201d\u3002"
     ]
    },
    {
     "cell_type": "code",
     "collapsed": false,
     "input": [
      "def f():\n",
      "    return 1,2,3,4,5\n",
      "print (f())\n",
      "\n",
      "a,b,c,d,e = f()\n",
      "print(c)"
     ],
     "language": "python",
     "metadata": {},
     "outputs": [
      {
       "output_type": "stream",
       "stream": "stdout",
       "text": [
        "(1, 2, 3, 4, 5)\n",
        "3\n"
       ]
      }
     ],
     "prompt_number": 50
    },
    {
     "cell_type": "markdown",
     "metadata": {
      "slideshow": {
       "slide_type": "subslide"
      }
     },
     "source": [
      "## Doc String\n",
      "\n",
      "Python\u5141\u8bb8\u4e3a\u6bcf\u4e2a\u51fd\u6570\u589e\u52a0\u4e00\u4e2a\u6587\u6863\u5b57\u7b26\u4e32\uff0c\u8fd9\u4e2a\u6587\u6863\u5b57\u7b26\u4e32\u53ef\u4ee5\u88ab\u4ee3\u7801\u8bbf\u95ee\u3002\n",
      "\n",
      "\u5177\u4f53\u65b9\u5f0f\u662f\uff0c\u5728\u51fd\u6570\u7684\u7b2c\u4e00\u4e2a\u903b\u8f91\u884c\u5b9a\u4e49\u4e00\u4e2a\u5b57\u7b26\u4e32\uff08\u4e0d\u6267\u884c\u4efb\u4f55\u64cd\u4f5c\uff09\u3002\n",
      "\n",
      "\u8bbf\u95ee\u65b9\u5f0f\u662ffunction.\\_\\_doc\\_\\_\u3002"
     ]
    },
    {
     "cell_type": "markdown",
     "metadata": {
      "slideshow": {
       "slide_type": "notes"
      }
     },
     "source": [
      "\u8bb2\u89e3doc string\u5728\u6587\u6863\u91cc\u7684\u4f5c\u7528\uff0c\u5bf9\u6bd4java doc\u3002"
     ]
    },
    {
     "cell_type": "code",
     "collapsed": false,
     "input": [
      "def print_max(x, y):\n",
      "    '''Prints the maximum of two numbers. \\nThe two values must be integers.'''\n",
      "    x = int(x)\n",
      "    y = int(y)\n",
      "    if x > y:\n",
      "        print('{} is maximum'.format(x))\n",
      "    else:\n",
      "        print('{} is maximum'.format(y))\n",
      "\n",
      "print_max(3, 5)\n",
      "print(print_max.__doc__)"
     ],
     "language": "python",
     "metadata": {
      "slideshow": {
       "slide_type": "subslide"
      }
     },
     "outputs": [
      {
       "output_type": "stream",
       "stream": "stdout",
       "text": [
        "5 is maximum\n",
        "Prints the maximum of two numbers. \n",
        "The two values must be integers.\n"
       ]
      }
     ],
     "prompt_number": 51
    },
    {
     "cell_type": "markdown",
     "metadata": {
      "slideshow": {
       "slide_type": "subslide"
      }
     },
     "source": [
      "## lambda\n",
      "\n",
      "\u4e00\u79cd\u5feb\u901f\u5b9a\u4e49\u7b80\u5355\u51fd\u6570\u7684\u65b9\u6cd5\u3002"
     ]
    },
    {
     "cell_type": "code",
     "collapsed": false,
     "input": [
      "def inc(n):\n",
      "    return n+1\n",
      "print(inc(10))\n",
      "\n",
      "inc = lambda n: n+1\n",
      "print(inc(10))"
     ],
     "language": "python",
     "metadata": {},
     "outputs": [
      {
       "output_type": "stream",
       "stream": "stdout",
       "text": [
        "11\n",
        "11\n"
       ]
      }
     ],
     "prompt_number": 52
    },
    {
     "cell_type": "markdown",
     "metadata": {
      "slideshow": {
       "slide_type": "subslide"
      }
     },
     "source": [
      "## \u7ec3\u4e60\n",
      "\n",
      "\u5b9a\u4e49fib\u51fd\u6570\u3002\n",
      "\n",
      "\u8f93\u5165n\uff0cfib\u7684\u8f93\u51fa\u4e3a\u6570\u5217\u7b2cn\u9879\u7684\u503c\u3002\n",
      "\n",
      "\u6570\u5217\u67d0\u9879\u7b49\u4e8e\u524d\u4e24\u9879\u4e4b\u548c\u3002"
     ]
    },
    {
     "cell_type": "markdown",
     "metadata": {
      "slideshow": {
       "slide_type": "notes"
      }
     },
     "source": [
      "\u53ef\u6f14\u793a\u9012\u5f52\u548c\u5faa\u73af\u7b97\u6cd5\uff0c\u6bd4\u8f83\u5176\u7279\u6027\u3002\u8bf4\u660e\u7b80\u6d01\u548c\u5feb\u901f\u7684\u77db\u76fe\u3002\n",
      "\n",
      "\u53ef\u4ee5\u5728\u6700\u540e\u4f7f\u7528for\u5faa\u73af\u6253\u5370\u8f93\u51fa\uff0c\u4e3a\u540e\u9762\u201c\\_\\_main\\_\\_\u6807\u51c6\u5199\u6cd5\u201d\u6253\u57fa\u7840\u3002"
     ]
    },
    {
     "cell_type": "markdown",
     "metadata": {
      "slideshow": {
       "slide_type": "subslide"
      }
     },
     "source": [
      "## \u7b54\u6848"
     ]
    },
    {
     "cell_type": "code",
     "collapsed": false,
     "input": [
      "def fib(n):\n",
      "    if n <= 1: return 1\n",
      "    return fib(n-1) + fib(n-2)\n",
      "\n",
      "fib(10)"
     ],
     "language": "python",
     "metadata": {},
     "outputs": [
      {
       "metadata": {},
       "output_type": "pyout",
       "prompt_number": 53,
       "text": [
        "89"
       ]
      }
     ],
     "prompt_number": 53
    },
    {
     "cell_type": "markdown",
     "metadata": {
      "slideshow": {
       "slide_type": "slide"
      }
     },
     "source": [
      "# \u6a21\u5757"
     ]
    },
    {
     "cell_type": "markdown",
     "metadata": {
      "slideshow": {
       "slide_type": "subslide"
      }
     },
     "source": [
      "## Module\n",
      "\n",
      "\u9884\u5148\u5199\u597d\u7684\u4ee3\u7801\uff0c\u4f9b\u5176\u4ed6\u4ee3\u7801\u4f7f\u7528\u3002\n",
      "\n",
      "\u4e00\u4e2amodule\u662f\u4e00\u4e2a\u72ec\u7acb\u6587\u4ef6\u3002\n",
      "\n",
      "\u6bcf\u4e2amodule\u62e5\u6709\u81ea\u5df1\u7684\u5168\u5c40\u53d8\u91cf\u7a7a\u95f4\u3002\u6570\u636e\u5b9a\u4e49\uff0c\u51fd\u6570\uff0c\u5747\u5b9a\u4e49\u5728\u5176\u4e2d\u3002"
     ]
    },
    {
     "cell_type": "code",
     "collapsed": false,
     "input": [
      "%%writefile testmod.py\n",
      "varible1 = 1\n",
      "varible2 = 2\n",
      "\n",
      "def add(a, b):\n",
      "    return a+b\n",
      "\n",
      "if __name__ == '__main__':\n",
      "    print('run as script')"
     ],
     "language": "python",
     "metadata": {
      "slideshow": {
       "slide_type": "subslide"
      }
     },
     "outputs": [
      {
       "output_type": "stream",
       "stream": "stdout",
       "text": [
        "Writing testmod.py\n"
       ]
      }
     ],
     "prompt_number": 54
    },
    {
     "cell_type": "code",
     "collapsed": false,
     "input": [
      "!ls -l testmod.py"
     ],
     "language": "python",
     "metadata": {},
     "outputs": [
      {
       "output_type": "stream",
       "stream": "stdout",
       "text": [
        "-rw-r--r-- 1 shell shell 111 9\u6708   6 13:03 testmod.py\r\n"
       ]
      }
     ],
     "prompt_number": 55
    },
    {
     "cell_type": "markdown",
     "metadata": {
      "slideshow": {
       "slide_type": "subslide"
      }
     },
     "source": [
      "## import\n",
      "\n",
      "import\u5f15\u5165\u67d0\u4e2amodule\u5bf9\u8c61\uff0c\u53ef\u4f7f\u7528module.name\u7684\u65b9\u5f0f\u5f15\u7528\u5b83\u7684\u5168\u5c40\u53d8\u91cf\u3002"
     ]
    },
    {
     "cell_type": "code",
     "collapsed": false,
     "input": [
      "import testmod\n",
      "testmod.varible1"
     ],
     "language": "python",
     "metadata": {},
     "outputs": [
      {
       "metadata": {},
       "output_type": "pyout",
       "prompt_number": 56,
       "text": [
        "1"
       ]
      }
     ],
     "prompt_number": 56
    },
    {
     "cell_type": "markdown",
     "metadata": {
      "slideshow": {
       "slide_type": "subslide"
      }
     },
     "source": [
      "## from import\n",
      "\n",
      "from import\u5f15\u5165\u6a21\u5757\u4e2d\u7684\u67d0\u4e2a\uff08\u6216\u5168\u90e8\uff09\u53d8\u91cf\u3002\n",
      "\n",
      "\u88ab\u5f15\u5165\u53d8\u91cf\u4e0d\u9700\u8981module.name\u6765\u8bbf\u95ee\uff0c\u4ec5\u9700\u8981name\u3002\n",
      "\n",
      "\u6ce8\u610f\uff1a\u4e0d\u63a8\u8350\u5f15\u5165\u5168\u90e8\u53d8\u91cf\uff0c\u4f1a\u5f15\u8d77\u540d\u79f0\u7a7a\u95f4\u6c61\u67d3\u3002"
     ]
    },
    {
     "cell_type": "code",
     "collapsed": false,
     "input": [
      "from testmod import varible2\n",
      "varible2"
     ],
     "language": "python",
     "metadata": {},
     "outputs": [
      {
       "metadata": {},
       "output_type": "pyout",
       "prompt_number": 57,
       "text": [
        "2"
       ]
      }
     ],
     "prompt_number": 57
    },
    {
     "cell_type": "markdown",
     "metadata": {
      "slideshow": {
       "slide_type": "subslide"
      }
     },
     "source": [
      "## dir\n",
      "\n",
      "\u5217\u51fa\u67d0\u4e2a\u6a21\u5757\u7684\u6240\u6709\u53d8\u91cf\u3002"
     ]
    },
    {
     "cell_type": "code",
     "collapsed": false,
     "input": [
      "import testmod\n",
      "dir(testmod)"
     ],
     "language": "python",
     "metadata": {},
     "outputs": [
      {
       "metadata": {},
       "output_type": "pyout",
       "prompt_number": 58,
       "text": [
        "['__builtins__',\n",
        " '__doc__',\n",
        " '__file__',\n",
        " '__name__',\n",
        " '__package__',\n",
        " 'add',\n",
        " 'varible1',\n",
        " 'varible2']"
       ]
      }
     ],
     "prompt_number": 58
    },
    {
     "cell_type": "markdown",
     "metadata": {
      "slideshow": {
       "slide_type": "subslide"
      }
     },
     "source": [
      "## \u6a21\u5757\u9884\u7f16\u8bd1\n",
      "\n",
      "\u5f53import\u65f6\uff0cpython\u4f1a\u8bd5\u56fe\u53bb\u7f16\u8bd1\u51fapyc\u6587\u4ef6\u6765\u3002\n",
      "\n",
      "pyc\u662f\u88ab\u7f16\u8bd1\u8fc7\u7684py\u6587\u4ef6\uff0c\u52a0\u8f7dpyc\u6587\u4ef6\u53ef\u4ee5\u8df3\u8fc7\u8bed\u6cd5\u89e3\u6790\u8fc7\u7a0b\u3002\n",
      "\n",
      "\u5f53py\u65e5\u671f\u65b0\u4e8epyc\u65f6\uff0c\u91cd\u65b0\u751f\u6210pyc\u3002\u6240\u4ee5\u65e5\u671f\u7d0a\u4e71\u53ef\u80fd\u5bfc\u81f4\u6267\u884c\u8001\u4ee3\u7801\u3002\n",
      "\n",
      "\u5728Python3(3.2\u4ee5\u540e)\u4e2d\uff0c\u4f1a\u5728\u5f53\u524d\u76ee\u5f55\u4e0b\u751f\u6210\\_\\_pycache\\_\\_\u76ee\u5f55\uff0c\u6765\u7f13\u5b58pyc\u6587\u4ef6\u3002\n",
      "\n",
      "\u8fd9\u6837\u53ef\u4ee5\u907f\u514d\u591a\u4e2aPython\u89e3\u91ca\u5668\u65e0\u6cd5\u4e92\u76f8\u8f7d\u5165\u5bf9\u65b9\u7684pyc\u6587\u4ef6\u3002\n",
      "\n",
      "\u5177\u4f53\u53ef\u4ee5\u53c2\u8003\u8fd9\u91cc\uff1a https://docs.python.org/3/whatsnew/3.2.html "
     ]
    },
    {
     "cell_type": "markdown",
     "metadata": {
      "slideshow": {
       "slide_type": "notes"
      }
     },
     "source": [
      "\u6ce8\u610f\u52a0\u8f7d\u987a\u5e8f\u5bfc\u81f4\u5f53\u524d\u76ee\u5f55\u6a21\u5757\u540d\u548c\u7cfb\u7edf\u76f8\u540c\u65f6\u4f1a\u53d1\u751f\u8986\u76d6\u95ee\u9898\u3002\n",
      "\n",
      "\u540c\u65f6\u6ce8\u610f\u8fd9\u4e2a\u73b0\u8c61\u53d7\u5236\u4e8e\u7cfb\u7edf\u5e93\u662f\u5426\u5df2\u7ecf\u8f7d\u5165\uff0c\u4ece\u800c\u5f15\u51fa\u7cfb\u7edf\u5e93\u4e0d\u4f1a\u591a\u6b21\u201c\u52a0\u8f7d\u201d\u7684\u7ed3\u8bba\u3002"
     ]
    },
    {
     "cell_type": "code",
     "collapsed": false,
     "input": [
      "!ls -l testmod*"
     ],
     "language": "python",
     "metadata": {
      "slideshow": {
       "slide_type": "subslide"
      }
     },
     "outputs": [
      {
       "output_type": "stream",
       "stream": "stdout",
       "text": [
        "-rw-r--r-- 1 shell shell 111 9\u6708   6 13:03 testmod.py\r\n",
        "-rw-r--r-- 1 shell shell 333 9\u6708   6 13:03 testmod.pyc\r\n"
       ]
      }
     ],
     "prompt_number": 59
    },
    {
     "cell_type": "code",
     "collapsed": false,
     "input": [
      "!ls -l __pycache__/testmod*"
     ],
     "language": "python",
     "metadata": {},
     "outputs": [
      {
       "output_type": "stream",
       "stream": "stdout",
       "text": [
        "ls: \u65e0\u6cd5\u8bbf\u95ee'__pycache__/testmod*': \u6ca1\u6709\u90a3\u4e2a\u6587\u4ef6\u6216\u76ee\u5f55\r\n"
       ]
      }
     ],
     "prompt_number": 60
    },
    {
     "cell_type": "markdown",
     "metadata": {},
     "source": [
      "\u7531\u4e8e\u8fd9\u4e2a\u7cfb\u7edf\u4f7f\u7528\u4e86python2\u4f5c\u4e3a\u57fa\u7840\uff0c\u56e0\u6b64\u6ca1\u6709\\_\\_pycache\\_\\_\u3002"
     ]
    },
    {
     "cell_type": "markdown",
     "metadata": {
      "slideshow": {
       "slide_type": "subslide"
      }
     },
     "source": [
      "## \\_\\_name\\_\\_\u5c5e\u6027\n",
      "\n",
      "\u6a21\u5757\u6709\u4e00\u4e2a\u5c5e\u6027\uff0c\\_\\_name\\_\\_\u3002\u5f53\u8fd9\u4e2a\u5c5e\u6027\u4e3a'\\_\\_main\\_\\_'\u65f6\uff0c\u8bf4\u660e\u5f53\u524d\u6a21\u5757\u88ab\u4f5c\u4e3a\u811a\u672c\u8fd0\u884c\u3002\n",
      "\n",
      "\u6a21\u5757\u88ab\u4f5c\u4e3a\u4ee5\u811a\u672c\u8fd0\u884c\u65f6\uff0c\u4e0d\u751f\u6210pyc\u6587\u4ef6\uff08\u56e0\u4e3a\u4e0d\u662fimport\uff09\u3002"
     ]
    },
    {
     "cell_type": "code",
     "collapsed": false,
     "input": [
      "__name__"
     ],
     "language": "python",
     "metadata": {},
     "outputs": [
      {
       "metadata": {},
       "output_type": "pyout",
       "prompt_number": 61,
       "text": [
        "'__main__'"
       ]
      }
     ],
     "prompt_number": 61
    },
    {
     "cell_type": "code",
     "collapsed": false,
     "input": [
      "testmod.__name__"
     ],
     "language": "python",
     "metadata": {},
     "outputs": [
      {
       "metadata": {},
       "output_type": "pyout",
       "prompt_number": 62,
       "text": [
        "'testmod'"
       ]
      }
     ],
     "prompt_number": 62
    },
    {
     "cell_type": "markdown",
     "metadata": {
      "slideshow": {
       "slide_type": "subslide"
      }
     },
     "source": [
      "## Main\u6587\u4ef6\u6a21\u5f0f\u5316\u5199\u6cd5"
     ]
    },
    {
     "cell_type": "code",
     "collapsed": false,
     "input": [
      "!tail -n 2 testmod.py"
     ],
     "language": "python",
     "metadata": {},
     "outputs": [
      {
       "output_type": "stream",
       "stream": "stdout",
       "text": [
        "if __name__ == '__main__':\r\n",
        "    print('run as script')"
       ]
      }
     ],
     "prompt_number": 63
    },
    {
     "cell_type": "code",
     "collapsed": false,
     "input": [
      "!python testmod.py"
     ],
     "language": "python",
     "metadata": {},
     "outputs": [
      {
       "output_type": "stream",
       "stream": "stdout",
       "text": [
        "run as script\r\n"
       ]
      }
     ],
     "prompt_number": 64
    },
    {
     "cell_type": "code",
     "collapsed": false,
     "input": [
      "!rm testmod*"
     ],
     "language": "python",
     "metadata": {
      "slideshow": {
       "slide_type": "skip"
      }
     },
     "outputs": [],
     "prompt_number": 65
    },
    {
     "cell_type": "markdown",
     "metadata": {
      "slideshow": {
       "slide_type": "subslide"
      }
     },
     "source": [
      "## Package\n",
      "\n",
      "\u4ece\u7ec4\u7ec7\u7ed3\u6784\u4e0a\u8bf4\uff0cpackage\u662f\u6bd4modules\u66f4\u5927\u4e00\u7ea7\u7684\u7ed3\u6784\u3002\n",
      "\n",
      "\u4e00\u4e2apackage\u91cc\u53ef\u4ee5\u5305\u542b\u591a\u4e2amodules\u548cpackages\u3002\n",
      "\n",
      "\u4e00\u822c\u4e00\u4e2apackage\u662f\u4e00\u4e2a\u72ec\u7acb\u76ee\u5f55\uff0c\u91cc\u9762\u6709\\_\\_init\\_\\_.py\u6587\u4ef6\u3002\n",
      "\n",
      "\u8fd9\u4e2a\u6587\u4ef6\u6307\u660e\u4e86\u5982\u4f55\u52a0\u8f7d\u6574\u4e2apackage\u3002"
     ]
    },
    {
     "cell_type": "markdown",
     "metadata": {
      "slideshow": {
       "slide_type": "notes"
      }
     },
     "source": [
      "\u53ef\u4ee5\u627e\u4e00\u4e9b\u5b9e\u9645\u7684\u6587\u4ef6\u5e03\u5c40\u7684\u4f8b\u5b50\u3002"
     ]
    },
    {
     "cell_type": "markdown",
     "metadata": {
      "slideshow": {
       "slide_type": "subslide"
      }
     },
     "source": [
      "## \u7ec3\u4e60\n",
      "\n",
      "* \u5bfc\u5165\u7cfb\u7edfsys\u6a21\u5757\n",
      "* \u5217\u51fasys\u6a21\u5757\u4e2d\u4ee5s\u5f00\u5934\u5e76\u4e14\u4ee5e\u7ed3\u5c3e\u7684\u6210\u5458\u3002"
     ]
    },
    {
     "cell_type": "markdown",
     "metadata": {
      "slideshow": {
       "slide_type": "notes"
      }
     },
     "source": [
      "\u6b64\u5904\u9700\u8981\u63d0\u524d\u8bf4\u660estartswith\u548cendswith\u7684\u7528\u6cd5\u3002"
     ]
    },
    {
     "cell_type": "markdown",
     "metadata": {
      "slideshow": {
       "slide_type": "subslide"
      }
     },
     "source": [
      "## \u7b54\u6848"
     ]
    },
    {
     "cell_type": "code",
     "collapsed": false,
     "input": [
      "import sys\n",
      "for name in dir(sys):\n",
      "    if name.startswith('s') and name.endswith('e'):\n",
      "        print(name)"
     ],
     "language": "python",
     "metadata": {},
     "outputs": [
      {
       "output_type": "stream",
       "stream": "stdout",
       "text": [
        "setprofile\n",
        "settrace\n"
       ]
      }
     ],
     "prompt_number": 66
    },
    {
     "cell_type": "markdown",
     "metadata": {
      "slideshow": {
       "slide_type": "slide"
      }
     },
     "source": [
      "# \u5185\u7f6e\u6570\u636e\u7ed3\u6784\n",
      "\n",
      "* list\n",
      "* tuple\n",
      "* dict\n",
      "* set\n",
      "* string"
     ]
    },
    {
     "cell_type": "markdown",
     "metadata": {
      "slideshow": {
       "slide_type": "subslide"
      }
     },
     "source": [
      "## list\n",
      "\n",
      "\u5177\u6709\u987a\u5e8f\u7684\u4e00\u7ec4\u5bf9\u8c61\u3002\n",
      "\n",
      "\u53ef\u4ee5\u968f\u610f\u8bbf\u95ee\u5176\u4e2d\u7684\u4efb\u610f\u4f4d\u7f6e\u3002\n",
      "\n",
      "\u53ef\u4ee5\u6dfb\u52a0\u548c\u5220\u9664\u3002\n",
      "\n",
      "\u5176\u4e2d\u7684\u5143\u7d20\u4e0d\u9700\u8981\u662f\u540c\u7c7b\u578b\u3002"
     ]
    },
    {
     "cell_type": "markdown",
     "metadata": {
      "slideshow": {
       "slide_type": "notes"
      }
     },
     "source": [
      "\u539f\u4e66\u4f8b\u5b50\u6709\u95ee\u9898\uff0c\u90a3\u662fpython3\u7684\u4ee3\u7801\u3002"
     ]
    },
    {
     "cell_type": "code",
     "collapsed": false,
     "input": [
      "import sys\n",
      "shoplist = ['apple', 'mango', 'carrot', 'banana']\n",
      "\n",
      "print('I have {} items to purchase.'.format(len(shoplist)))\n",
      "sys.stdout.write('These items are: ')\n",
      "for item in shoplist:\n",
      "    sys.stdout.write(str(item) + ' ')\n",
      "\n",
      "print('\\nI also have to buy rice.')\n",
      "shoplist.append('rice')\n",
      "print('My shopping list is now {0}'.format(shoplist))\n",
      "\n",
      "print('I will sort my list now')\n",
      "shoplist.sort()\n",
      "print('Sorted shopping list is {0}'.format(shoplist))\n",
      "\n",
      "print('The first item I will buy is {0}'.format(shoplist[0]))\n",
      "olditem = shoplist[0]\n",
      "del shoplist[0]\n",
      "print('I bought the {0}'.format(olditem))\n",
      "print('My shopping list is now {0}'.format(shoplist))"
     ],
     "language": "python",
     "metadata": {
      "slideshow": {
       "slide_type": "subslide"
      }
     },
     "outputs": [
      {
       "output_type": "stream",
       "stream": "stdout",
       "text": [
        "I have 4 items to purchase.\n",
        "These items are: apple mango carrot banana \n",
        "I also have to buy rice.\n",
        "My shopping list is now ['apple', 'mango', 'carrot', 'banana', 'rice']\n",
        "I will sort my list now\n",
        "Sorted shopping list is ['apple', 'banana', 'carrot', 'mango', 'rice']\n",
        "The first item I will buy is apple\n",
        "I bought the apple\n",
        "My shopping list is now ['banana', 'carrot', 'mango', 'rice']\n"
       ]
      }
     ],
     "prompt_number": 67
    },
    {
     "cell_type": "markdown",
     "metadata": {
      "slideshow": {
       "slide_type": "subslide"
      }
     },
     "source": [
      "## tuple\n",
      "\n",
      "\u5177\u6709\u987a\u5e8f\u7684\u4e00\u7ec4\u5bf9\u8c61\u3002\n",
      "\n",
      "\u53ef\u4ee5\u968f\u610f\u8bbf\u95ee\u5176\u4e2d\u7684\u4efb\u610f\u4f4d\u7f6e\u3002\n",
      "\n",
      "\u4e0d\u53ef\u4ee5\u6dfb\u52a0\u548c\u5220\u9664\u3002\n",
      "\n",
      "\u5176\u4e2d\u7684\u5143\u7d20\u4e0d\u9700\u8981\u662f\u540c\u7c7b\u578b\u3002"
     ]
    },
    {
     "cell_type": "code",
     "collapsed": false,
     "input": [
      "zoo = ('python', 'elephant', 'penguin')\n",
      "print('Number of animals in the zoo is {0}'.format(len(zoo)))\n",
      "\n",
      "new_zoo = 'monkey', 'camel', zoo\n",
      "print('Number of cages in the new zoo is {0}'.format(len(new_zoo)))\n",
      "\n",
      "print('All animals in new zoo are {0}'.format(new_zoo))\n",
      "print('Animals brought from old zoo are {0}'.format(new_zoo[2]))\n",
      "print('Last animal brought from old zoo is {0}'.format(new_zoo[2][2]))\n",
      "print('Number of animals in the new zoo is {0}'.format(len(new_zoo)-1+len(new_zoo[2])))"
     ],
     "language": "python",
     "metadata": {
      "slideshow": {
       "slide_type": "subslide"
      }
     },
     "outputs": [
      {
       "output_type": "stream",
       "stream": "stdout",
       "text": [
        "Number of animals in the zoo is 3\n",
        "Number of cages in the new zoo is 3\n",
        "All animals in new zoo are ('monkey', 'camel', ('python', 'elephant', 'penguin'))\n",
        "Animals brought from old zoo are ('python', 'elephant', 'penguin')\n",
        "Last animal brought from old zoo is penguin\n",
        "Number of animals in the new zoo is 5\n"
       ]
      }
     ],
     "prompt_number": 68
    },
    {
     "cell_type": "code",
     "collapsed": false,
     "input": [
      "r = 1, 2, 3\n",
      "r"
     ],
     "language": "python",
     "metadata": {
      "slideshow": {
       "slide_type": "subslide"
      }
     },
     "outputs": [
      {
       "metadata": {},
       "output_type": "pyout",
       "prompt_number": 69,
       "text": [
        "(1, 2, 3)"
       ]
      }
     ],
     "prompt_number": 69
    },
    {
     "cell_type": "code",
     "collapsed": false,
     "input": [
      "a, b, c = r\n",
      "print(a)\n",
      "print(b)\n",
      "print(c)"
     ],
     "language": "python",
     "metadata": {},
     "outputs": [
      {
       "output_type": "stream",
       "stream": "stdout",
       "text": [
        "1\n",
        "2\n",
        "3\n"
       ]
      }
     ],
     "prompt_number": 70
    },
    {
     "cell_type": "code",
     "collapsed": false,
     "input": [
      "a, b = b, a\n",
      "print(a)\n",
      "print(b)"
     ],
     "language": "python",
     "metadata": {},
     "outputs": [
      {
       "output_type": "stream",
       "stream": "stdout",
       "text": [
        "2\n",
        "1\n"
       ]
      }
     ],
     "prompt_number": 71
    },
    {
     "cell_type": "markdown",
     "metadata": {
      "slideshow": {
       "slide_type": "subslide"
      }
     },
     "source": [
      "## \u64cd\u4f5c\u5e8f\u5217\u5bf9\u8c61\n",
      "\n",
      "* \u901a\u8fc7[]\u8bbf\u95ee\n",
      "* \u901a\u8fc7[]\u8bbe\u5b9a\u503c\n",
      "* \u901a\u8fc7for\u679a\u4e3e\n",
      "* \u901a\u8fc7[:]\u8bbf\u95ee\n",
      "* \u901a\u8fc7[:]\u8bbe\u5b9a\u503c\n",
      "* \u901a\u8fc7[::]\u8bbe\u5b9a\u6b65\u8fdb"
     ]
    },
    {
     "cell_type": "code",
     "collapsed": false,
     "input": [
      "shoplist = ['apple', 'mango', 'carrot', 'banana']\n",
      "name = 'swaroop'\n",
      "print('Item 0 is {0}'.format(shoplist[0]))\n",
      "print('Item 1 is {0}'.format(shoplist[1]))\n",
      "print('Item 2 is {0}'.format(shoplist[2]))\n",
      "print('Item 3 is {0}'.format(shoplist[3]))\n",
      "print('Item -1 is {0}'.format(shoplist[-1]))\n",
      "print('Item -2 is {0}'.format(shoplist[-2]))\n",
      "print('Character 0 is {0}'.format(name[0]))\n",
      "\n",
      "print('Item 1 to 3 is {0}'.format(shoplist[1:3]))\n",
      "print('Item 2 to end is {0}'.format(shoplist[2:]))\n",
      "print('Item 1 to -1 is {0}'.format(shoplist[1:-1]))\n",
      "print('Item start to end is {0}'.format(shoplist[:]))\n",
      "print('characters 1 to 3 is {0}'.format(name[1:3]))\n",
      "print('characters 2 to end is {0}'.format(name[2:]))\n",
      "print('characters 1 to -1 is {0}'.format(name[1:-1]))\n",
      "print('characters start to end is {0}'.format(name[:]))\n",
      "print('reversed characters is {0}'.format(name[::-1]))"
     ],
     "language": "python",
     "metadata": {
      "slideshow": {
       "slide_type": "subslide"
      }
     },
     "outputs": [
      {
       "output_type": "stream",
       "stream": "stdout",
       "text": [
        "Item 0 is apple\n",
        "Item 1 is mango\n",
        "Item 2 is carrot\n",
        "Item 3 is banana\n",
        "Item -1 is banana\n",
        "Item -2 is carrot\n",
        "Character 0 is s\n",
        "Item 1 to 3 is ['mango', 'carrot']\n",
        "Item 2 to end is ['carrot', 'banana']\n",
        "Item 1 to -1 is ['mango', 'carrot']\n",
        "Item start to end is ['apple', 'mango', 'carrot', 'banana']\n",
        "characters 1 to 3 is wa\n",
        "characters 2 to end is aroop\n",
        "characters 1 to -1 is waroo\n",
        "characters start to end is swaroop\n",
        "reversed characters is pooraws\n"
       ]
      }
     ],
     "prompt_number": 72
    },
    {
     "cell_type": "markdown",
     "metadata": {
      "slideshow": {
       "slide_type": "subslide"
      }
     },
     "source": [
      "## \u7ec3\u4e60\n",
      "\n",
      "1. \u5efa\u7acb\u4e00\u4e2alist\uff0c\u5185\u5bb9\u4e3a10\u4ee5\u5185\u7684\u6240\u6709\u8d28\u6570\u3002\n",
      "2. \u5411\u8fd9\u4e2a\u5217\u8868\uff0c\u6dfb\u52a010-100\u4ee5\u5185\u7684\u6240\u6709\u8d28\u6570\u3002\u6700\u7ec8\u5f97\u5230\u7684\u5e94\u8be5\u662f100\u5185\u6240\u6709\u8d28\u6570\u7684\u5217\u8868\u3002\n",
      "3. \u5c06\u8fd9\u4e2a\u5217\u8868\u8f6c\u4e3atuple\u3002\n",
      "4. \u6839\u636e\u4e0a\u9762\u7684tuple\uff0c\u83b7\u5f97\u53cd\u8f6c\u7684tuple\u3002\n",
      "5. \u5c06\u4e00\u4e2alist\u5206\u4e3a\u4e24\u4e2a\uff1a\u7b2c\u4e00\u4e2alist\u62e5\u6709\u539f\u672clist\u524d\u4e00\u534a\u7684\u53cd\u5411\uff0c\u7b2c\u4e8c\u4e2alist\u62e5\u6709\u539f\u672clist\u540e\u4e00\u534a\u7684\u53cd\u5411\u3002"
     ]
    },
    {
     "cell_type": "markdown",
     "metadata": {
      "slideshow": {
       "slide_type": "notes"
      }
     },
     "source": [
      "\u57c3\u62c9\u6258\u65af\u7279\u5c3c\u7b5b\u6cd5\u3002\u6ce8\u610f\u4ee3\u7801\u5b9e\u73b0\u4e2d\u7684\u7b5b\u6cd5\u6548\u7387\u662f\u6709\u95ee\u9898\u7684\u3002\u4e3b\u8981\u56e0\u4e3asqrt\u51fd\u6570\u6ca1\u6559\u8fc7\u3002"
     ]
    },
    {
     "cell_type": "markdown",
     "metadata": {
      "slideshow": {
       "slide_type": "subslide"
      }
     },
     "source": [
      "## \u7b54\u6848"
     ]
    },
    {
     "cell_type": "code",
     "collapsed": false,
     "input": [
      "primes = [2, 3, 5, 7]\n",
      "primes"
     ],
     "language": "python",
     "metadata": {},
     "outputs": [
      {
       "metadata": {},
       "output_type": "pyout",
       "prompt_number": 73,
       "text": [
        "[2, 3, 5, 7]"
       ]
      }
     ],
     "prompt_number": 73
    },
    {
     "cell_type": "code",
     "collapsed": false,
     "input": [
      "for i in range(10, 100):\n",
      "    prime = True\n",
      "    for j in primes:\n",
      "        if i % j == 0:\n",
      "            prime = False\n",
      "            break\n",
      "    if prime:\n",
      "        primes.append(i)\n",
      "print(primes)"
     ],
     "language": "python",
     "metadata": {
      "slideshow": {
       "slide_type": "subslide"
      }
     },
     "outputs": [
      {
       "output_type": "stream",
       "stream": "stdout",
       "text": [
        "[2, 3, 5, 7, 11, 13, 17, 19, 23, 29, 31, 37, 41, 43, 47, 53, 59, 61, 67, 71, 73, 79, 83, 89, 97]\n"
       ]
      }
     ],
     "prompt_number": 74
    },
    {
     "cell_type": "code",
     "collapsed": false,
     "input": [
      "tuple_primes = tuple(primes)\n",
      "print(tuple_primes)"
     ],
     "language": "python",
     "metadata": {
      "slideshow": {
       "slide_type": "subslide"
      }
     },
     "outputs": [
      {
       "output_type": "stream",
       "stream": "stdout",
       "text": [
        "(2, 3, 5, 7, 11, 13, 17, 19, 23, 29, 31, 37, 41, 43, 47, 53, 59, 61, 67, 71, 73, 79, 83, 89, 97)\n"
       ]
      }
     ],
     "prompt_number": 75
    },
    {
     "cell_type": "code",
     "collapsed": false,
     "input": [
      "print(tuple_primes[::-1])"
     ],
     "language": "python",
     "metadata": {
      "slideshow": {
       "slide_type": "subslide"
      }
     },
     "outputs": [
      {
       "output_type": "stream",
       "stream": "stdout",
       "text": [
        "(97, 89, 83, 79, 73, 71, 67, 61, 59, 53, 47, 43, 41, 37, 31, 29, 23, 19, 17, 13, 11, 7, 5, 3, 2)\n"
       ]
      }
     ],
     "prompt_number": 76
    },
    {
     "cell_type": "code",
     "collapsed": false,
     "input": [
      "print(tuple(reversed(tuple_primes)))"
     ],
     "language": "python",
     "metadata": {
      "slideshow": {
       "slide_type": "-"
      }
     },
     "outputs": [
      {
       "output_type": "stream",
       "stream": "stdout",
       "text": [
        "(97, 89, 83, 79, 73, 71, 67, 61, 59, 53, 47, 43, 41, 37, 31, 29, 23, 19, 17, 13, 11, 7, 5, 3, 2)\n"
       ]
      }
     ],
     "prompt_number": 77
    },
    {
     "cell_type": "code",
     "collapsed": false,
     "input": [
      "# Python2\u4e0b\u53ef\u4ee5\u4e0d\u9700\u8981int\uff0c\u56e0\u4e3alen\u7ed3\u679c\u662f\u6574\u6570\uff0c\u6574\u6570\u9664\u6cd5\u7ed3\u679c\u662f\u6574\u6570\u3002\n",
      "# \u5728Python3\uff0c\u6ca1\u6709int\u4f1a\u5bfc\u81f4\u51fa\u9519\u3002\n",
      "list(reversed(primes[:int(len(primes)/2)])), list(reversed(primes[int(len(primes)/2):]))"
     ],
     "language": "python",
     "metadata": {
      "slideshow": {
       "slide_type": "subslide"
      }
     },
     "outputs": [
      {
       "metadata": {},
       "output_type": "pyout",
       "prompt_number": 78,
       "text": [
        "([37, 31, 29, 23, 19, 17, 13, 11, 7, 5, 3, 2],\n",
        " [97, 89, 83, 79, 73, 71, 67, 61, 59, 53, 47, 43, 41])"
       ]
      }
     ],
     "prompt_number": 78
    },
    {
     "cell_type": "code",
     "collapsed": false,
     "input": [
      "primes[int(len(primes)/2-1)::-1], primes[:int(len(primes)/2-1):-1]"
     ],
     "language": "python",
     "metadata": {},
     "outputs": [
      {
       "metadata": {},
       "output_type": "pyout",
       "prompt_number": 79,
       "text": [
        "([37, 31, 29, 23, 19, 17, 13, 11, 7, 5, 3, 2],\n",
        " [97, 89, 83, 79, 73, 71, 67, 61, 59, 53, 47, 43, 41])"
       ]
      }
     ],
     "prompt_number": 79
    },
    {
     "cell_type": "markdown",
     "metadata": {
      "slideshow": {
       "slide_type": "subslide"
      }
     },
     "source": [
      "## \u5217\u8868\u63a8\u5bfc\u5f0f"
     ]
    },
    {
     "cell_type": "code",
     "collapsed": false,
     "input": [
      "l = [1, 2, 3, 4, 5]\n",
      "t = [i * i for i in l]\n",
      "print(t)"
     ],
     "language": "python",
     "metadata": {},
     "outputs": [
      {
       "output_type": "stream",
       "stream": "stdout",
       "text": [
        "[1, 4, 9, 16, 25]\n"
       ]
      }
     ],
     "prompt_number": 80
    },
    {
     "cell_type": "markdown",
     "metadata": {
      "slideshow": {
       "slide_type": "subslide"
      }
     },
     "source": [
      "## \u7ec3\u4e60\n",
      "\n",
      "\u601d\u8003\u4e00\u4e0b\uff0c\u5217\u8868\u63a8\u5bfc\u5f0f\u662f\u5426\u80fd\u591f\u5c06\u7d20\u6570\u5217\u8868\u76f4\u63a5\u5b9e\u73b0\u51fa\u6765\uff1f\u4e3a\u4ec0\u4e48\uff1f\n",
      "\n",
      "\u7136\u540e\u81ea\u5df1\u6d4b\u8bd5\u4e00\u4e0b\u3002"
     ]
    },
    {
     "cell_type": "markdown",
     "metadata": {
      "slideshow": {
       "slide_type": "notes"
      }
     },
     "source": [
      "\u95ee\u9898\u7684\u5173\u952e\u5728\u4e8e\u201c\u751f\u6210\u5217\u8868\u7684\u65f6\u5019\u5217\u8868\u662f\u7a7a\u7684\u201d\u3002\u6240\u4ee5\u4e0d\u80fd\u4e00\u6b21\u6027\u751f\u6210\uff0c\u5fc5\u987b\u6e10\u8fdb\u3002"
     ]
    },
    {
     "cell_type": "markdown",
     "metadata": {
      "slideshow": {
       "slide_type": "subslide"
      }
     },
     "source": [
      "## dict\n",
      "\n",
      "\u5177\u6709\u4e00\u7cfb\u5217\u6210\u5bf9\u5bf9\u8c61\u3002\u4e00\u4e2a\u53eb\u505akey\uff0c\u4e00\u4e2a\u53eb\u505avalue\u3002\n",
      "\n",
      "\u65e0\u987a\u5e8f\uff0ckey\u4e0d\u53ef\u91cd\u590d\u3002\n",
      "\n",
      "\u901a\u8fc7\u5176\u4e2d\u4e00\u4e2a(key)\u53ef\u4ee5\u552f\u4e00\u786e\u5b9a\u53e6\u5916\u4e00\u4e2a(value)\uff0c\u53cd\u4e4b\u672a\u5fc5\u3002\n",
      "\n",
      "\u53ef\u4ee5\u6dfb\u52a0\u548c\u5220\u9664\u3002\n",
      "\n",
      "\u5176\u4e2d\u7684\u5143\u7d20(\u5305\u62eckey\u548cvalue)\u4e0d\u9700\u8981\u662f\u540c\u7c7b\u578b\u3002\n",
      "\n",
      "key\u5fc5\u987b\u662f\u4e0d\u53ef\u53d8\u5bf9\u8c61\u3002"
     ]
    },
    {
     "cell_type": "code",
     "collapsed": false,
     "input": [
      "ab = {\n",
      "    'Swaroop': 'swaroop@swaroopch.com',\n",
      "    'Larry': 'larry@wall.org',\n",
      "    'Matsumoto': 'matz@ruby-lang.org',\n",
      "    'Spammer': 'spammer@hotmail.com'\n",
      "}\n",
      "\n",
      "print(\"Swaroop's address is {}\".format(ab['Swaroop']))\n",
      "del ab['Spammer']\n",
      "\n",
      "print('There are {} contacts in the address-book'.format(len(ab)))\n",
      "for name, address in ab.items():\n",
      "    print('Contact {} at {}'.format(name, address))\n",
      "\n",
      "ab['Guido'] = 'guido@python.org'\n",
      "if 'Guido' in ab:\n",
      "    print(\"Guido's address is {}\".format(ab['Guido']))"
     ],
     "language": "python",
     "metadata": {
      "slideshow": {
       "slide_type": "subslide"
      }
     },
     "outputs": [
      {
       "output_type": "stream",
       "stream": "stdout",
       "text": [
        "Swaroop's address is swaroop@swaroopch.com\n",
        "There are 3 contacts in the address-book\n",
        "Contact Swaroop at swaroop@swaroopch.com\n",
        "Contact Matsumoto at matz@ruby-lang.org\n",
        "Contact Larry at larry@wall.org\n",
        "Guido's address is guido@python.org\n"
       ]
      }
     ],
     "prompt_number": 81
    },
    {
     "cell_type": "markdown",
     "metadata": {
      "slideshow": {
       "slide_type": "subslide"
      }
     },
     "source": [
      "## set\n",
      "\n",
      "\u5177\u6709\u4e00\u7ec4\u5bf9\u8c61\u3002\u65e0\u987a\u5e8f\uff0c\u4e0d\u53ef\u91cd\u590d\u3002\n",
      "\n",
      "\u53ef\u4ee5\u6dfb\u52a0\u548c\u5220\u9664\u3002\n",
      "\n",
      "\u5176\u4e2d\u7684\u5143\u7d20\u4e0d\u9700\u8981\u662f\u540c\u7c7b\u578b\uff0c\u4f46\u5fc5\u987b\u662f\u4e0d\u53ef\u53d8\u5bf9\u8c61\u3002"
     ]
    },
    {
     "cell_type": "code",
     "collapsed": false,
     "input": [
      "bri = set(['brazil', 'russia', 'india'])\n",
      "bri = {'brazil', 'russia', 'india'} # python2.7\u4ee5\u540e\u53ef\u7528\n",
      "'india' in bri"
     ],
     "language": "python",
     "metadata": {
      "slideshow": {
       "slide_type": "subslide"
      }
     },
     "outputs": [
      {
       "metadata": {},
       "output_type": "pyout",
       "prompt_number": 82,
       "text": [
        "True"
       ]
      }
     ],
     "prompt_number": 82
    },
    {
     "cell_type": "code",
     "collapsed": false,
     "input": [
      "'usa' in bri"
     ],
     "language": "python",
     "metadata": {},
     "outputs": [
      {
       "metadata": {},
       "output_type": "pyout",
       "prompt_number": 83,
       "text": [
        "False"
       ]
      }
     ],
     "prompt_number": 83
    },
    {
     "cell_type": "code",
     "collapsed": false,
     "input": [
      "bric = bri.copy()\n",
      "bric.add('china')\n",
      "bric.issuperset(bri)"
     ],
     "language": "python",
     "metadata": {},
     "outputs": [
      {
       "metadata": {},
       "output_type": "pyout",
       "prompt_number": 84,
       "text": [
        "True"
       ]
      }
     ],
     "prompt_number": 84
    },
    {
     "cell_type": "code",
     "collapsed": false,
     "input": [
      "bri.remove('russia')\n",
      "bri & bric"
     ],
     "language": "python",
     "metadata": {},
     "outputs": [
      {
       "metadata": {},
       "output_type": "pyout",
       "prompt_number": 85,
       "text": [
        "{'brazil', 'india'}"
       ]
      }
     ],
     "prompt_number": 85
    },
    {
     "cell_type": "markdown",
     "metadata": {
      "slideshow": {
       "slide_type": "subslide"
      }
     },
     "source": [
      "## \u7ec3\u4e60\n",
      "\n",
      "\u6bcf\u4e2a\u56fd\u5bb6\u90fd\u6709\u4e00\u5b9a\u7684\u5730\u533a\u53f7\u7801\uff0c\u73b0\u5728\u6211\u4eec\u77e5\u9053\u8fd9\u4e9b\u56fd\u5bb6\u548c\u5730\u533a\u53f7\u7801\u5173\u7cfb\uff1a\n",
      "\n",
      "+30 \u5e0c\u814a +45 \u4e39\u9ea6 +51 \u79d8\u9c81 +65 \u65b0\u52a0\u5761 +86 \u4e2d\u56fd\n",
      "\n",
      "\u5199\u4ee3\u7801\u6c42\u51fa\u4ee5\u4e0b\u7535\u8bdd\u53f7\u7801\u91cc\u9762\u6709\u51e0\u4e2a\u56fd\u5bb6\uff1a\n",
      "\n",
      "+86 1123 +65 1234 +51 2347 +30 9123 +65 1246 +30 2347 +86 2935"
     ]
    },
    {
     "cell_type": "markdown",
     "metadata": {
      "slideshow": {
       "slide_type": "subslide"
      }
     },
     "source": [
      "## \u7b54\u6848"
     ]
    },
    {
     "cell_type": "code",
     "collapsed": false,
     "input": [
      "number2country = {\n",
      "    '+30': '\u5e0c\u814a',\n",
      "    '+45': '\u4e39\u9ea6',\n",
      "    '+51': '\u79d8\u9c81',\n",
      "    '+65': '\u65b0\u52a0\u5761',\n",
      "    '+86': '\u4e2d\u56fd'\n",
      "}\n",
      "\n",
      "numbers = \"+86 1123 +65 1234 +51 2347 +30 9123 +65 1246 +30 2347 +86 2935\".split()\n",
      "country_set = set([number2country[n] for n in numbers if n.startswith('+')])\n",
      "\n",
      "print(len(country_set))\n",
      "# \u6ce8\u610f\uff1a\u8fd9\u91cc\u7684\u8f93\u51fa\u987a\u5e8f\u5728\u4e0d\u540c\u7684\u673a\u5668\u4e0a\u53ef\u80fd\u4e0d\u4e00\u6837\uff0c\u5177\u4f53\u4f9d\u8d56\u4e8epython\u7684\u7248\u672c\u548c\u5b9e\u73b0\u3002set\u672c\u8eab\u662f\u6ca1\u6709\u987a\u5e8f\u7ea6\u5b9a\u7684\u3002\n",
      "for c in country_set: print(c)"
     ],
     "language": "python",
     "metadata": {},
     "outputs": [
      {
       "output_type": "stream",
       "stream": "stdout",
       "text": [
        "4\n",
        "\u4e2d\u56fd\n",
        "\u5e0c\u814a\n",
        "\u65b0\u52a0\u5761\n",
        "\u79d8\u9c81\n"
       ]
      }
     ],
     "prompt_number": 86
    },
    {
     "cell_type": "markdown",
     "metadata": {
      "slideshow": {
       "slide_type": "subslide"
      }
     },
     "source": [
      "## string\u7684\u4e00\u4e9b\u5176\u4ed6\u65b9\u6cd5\n",
      "\n",
      "* startswith\n",
      "* endswith\n",
      "* in\n",
      "* find\n",
      "* join"
     ]
    },
    {
     "cell_type": "code",
     "collapsed": false,
     "input": [
      "name = 'Swaroop'\n",
      "if name.startswith('Swa'):\n",
      "    print('Yes, the string starts with \"Swa\"')\n",
      "if 'a' in name:\n",
      "    print('Yes, it contains the string \"a\"')\n",
      "if name.find('war') != -1:\n",
      "    print('Yes, it contains the string \"war\"')\n",
      "delimiter = '_*_'\n",
      "mylist = ['Brazil', 'Russia', 'India', 'China']\n",
      "print(delimiter.join(mylist))"
     ],
     "language": "python",
     "metadata": {
      "slideshow": {
       "slide_type": "subslide"
      }
     },
     "outputs": [
      {
       "output_type": "stream",
       "stream": "stdout",
       "text": [
        "Yes, the string starts with \"Swa\"\n",
        "Yes, it contains the string \"a\"\n",
        "Yes, it contains the string \"war\"\n",
        "Brazil_*_Russia_*_India_*_China\n"
       ]
      }
     ],
     "prompt_number": 87
    },
    {
     "cell_type": "markdown",
     "metadata": {
      "slideshow": {
       "slide_type": "slide"
      }
     },
     "source": [
      "# \u9762\u5bf9\u5bf9\u8c61\u7f16\u7a0b"
     ]
    },
    {
     "cell_type": "markdown",
     "metadata": {
      "slideshow": {
       "slide_type": "notes"
      }
     },
     "source": [
      "\u201c\u4e00\u4e2a\u82f9\u679c\u52a0\u4e00\u4e2a\u82f9\u679c\u662f\u4ec0\u4e48\uff1f\u201d\n",
      "\n",
      "\u201c\u4e24\u4e2a\u82f9\u679c\u3002\u201d\n",
      "\n",
      "\u201c\u4e00\u4e2a\u96ea\u68a8\u52a0\u4e00\u4e2a\u96ea\u68a8\u5462\uff1f\u201d\n",
      "\n",
      "\u201c\u4e24\u4e2a\u96ea\u68a8\u3002\u201d\n",
      "\n",
      "\u201c\u4e00\u4e2a\u82f9\u679c\u52a0\u4e00\u4e2a\u96ea\u68a8\u5462\uff1f\u201d\n",
      "\n",
      "\u201c\u2026\u2026\u201d\n",
      "\n",
      "\u867d\u7136\u59b2\u67ef\u59ae\u4e1d\u4e0d\u77e5\u9053\u8fd9\u548c\u6b23\u8d4f\u62bd\u8c61\u753b\u6709\u4ec0\u4e48\u5173\u7cfb\uff0c\u4f46\u8fd8\u662f\u6572\u7740\u989d\u5934\u60f3\u4e86\u60f3\u3002\n",
      "\n",
      "\u201c\u2026\u2026\u4e24\u4e2a\u6c34\u679c\uff1f\u201d\n",
      "\n",
      "\u201c\u660e\u767d\u4e86\u5427\uff1f\u201d\u51b0\u6e05\u7075\u770b\u7740\u82e5\u6709\u6240\u601d\u7684\u59b2\u67ef\u59ae\u4e1d\u7b11\u9053\uff0c\u201c\u4ece\u82f9\u679c\u3001\u96ea\u68a8\u5230\u6c34\u679c\uff0c\u5176\u5b9e\u662f\u4e00\u4e2a\u53bb\u6389\u4e0d\u540c\u7684\u90e8\u5206\uff0c\u7136\u540e\u628a\u76f8\u540c\u7684\u90e8\u5206\u8fdb\u884c\u7d2f\u52a0\u7684\u4e00\u4e2a\u8fc7\u7a0b\u3002\u4ece\u6c34\u679c\u3001\u676f\u5b50\u5230\u2018\u4e1c\u897f\u2019\uff0c\u4e5f\u662f\u5b83\u4eec\u7684\u5b58\u5728\u672c\u8eab\uff0c\u4e5f\u662f\u4e00\u6837\u7684\u9053\u7406\u3002\u201d\n",
      "\n",
      "\u2014\u2014XINPINGYE\u300a\u5fa1\u5929\u8005.\u661f\u661f\u300b"
     ]
    },
    {
     "cell_type": "markdown",
     "metadata": {
      "slideshow": {
       "slide_type": "subslide"
      }
     },
     "source": [
      "## class\n",
      "\n",
      "\u5982\u4f55\u5b9a\u4e49\u7c7b\uff1a"
     ]
    },
    {
     "cell_type": "code",
     "collapsed": false,
     "input": [
      "class Person:\n",
      "    pass  # An empty block"
     ],
     "language": "python",
     "metadata": {},
     "outputs": [],
     "prompt_number": 88
    },
    {
     "cell_type": "markdown",
     "metadata": {},
     "source": [
      "\u5982\u4f55\u4f7f\u7528\u7c7b\u4ea7\u751f\u5bf9\u8c61\uff1a"
     ]
    },
    {
     "cell_type": "code",
     "collapsed": false,
     "input": [
      "p = Person()\n",
      "print(p)"
     ],
     "language": "python",
     "metadata": {},
     "outputs": [
      {
       "output_type": "stream",
       "stream": "stdout",
       "text": [
        "<__main__.Person instance at 0x7fe2440da5f0>\n"
       ]
      }
     ],
     "prompt_number": 89
    },
    {
     "cell_type": "markdown",
     "metadata": {
      "slideshow": {
       "slide_type": "subslide"
      }
     },
     "source": [
      "## \u65b9\u6cd5\n",
      "\n",
      "\u5982\u4f55\u5b9a\u4e49\u7c7b\u7684\u6210\u5458\u65b9\u6cd5\uff1a"
     ]
    },
    {
     "cell_type": "code",
     "collapsed": false,
     "input": [
      "class Person:\n",
      "    def say_hi(self):\n",
      "        print('Hello, how are you?')\n",
      "\n",
      "p = Person()\n",
      "p.say_hi()"
     ],
     "language": "python",
     "metadata": {},
     "outputs": [
      {
       "output_type": "stream",
       "stream": "stdout",
       "text": [
        "Hello, how are you?\n"
       ]
      }
     ],
     "prompt_number": 90
    },
    {
     "cell_type": "markdown",
     "metadata": {
      "slideshow": {
       "slide_type": "subslide"
      }
     },
     "source": [
      "## \u6570\u636e\n",
      "\n",
      "\u5bf9\u8c61\u91cc\u5305\u542b\u7684\u6570\u636e\u3002\n",
      "\n",
      "\u53ef\u4ee5\u7528.\u8bbf\u95ee\u3002\n",
      "\n",
      "\u548c\u65b9\u6cd5\u7684\u4e3b\u8981\u5dee\u522b\u5728\u4e8e\u3002\u65b9\u6cd5\u9700\u8981\u4f7f\u7528()\u6765\u8c03\u7528\uff0c\u800c\u6570\u636e\u4e0d\u9700\u8981\u3002"
     ]
    },
    {
     "cell_type": "code",
     "collapsed": false,
     "input": [
      "class Person:\n",
      "    def set_name(self, name):\n",
      "        self.name = name\n",
      "\n",
      "    def say_hi(self):\n",
      "        print('hello, {}, how are you?'.format(self.name))\n",
      "        \n",
      "p = Person()\n",
      "p.set_name('shell')\n",
      "print(p.name)\n",
      "p.say_hi()"
     ],
     "language": "python",
     "metadata": {},
     "outputs": [
      {
       "output_type": "stream",
       "stream": "stdout",
       "text": [
        "shell\n",
        "hello, shell, how are you?\n"
       ]
      }
     ],
     "prompt_number": 91
    },
    {
     "cell_type": "markdown",
     "metadata": {
      "slideshow": {
       "slide_type": "subslide"
      }
     },
     "source": [
      "## self\n",
      "\n",
      "\u5728python\u4e2d\uff0c\u6210\u5458\u51fd\u6570\u4f7f\u7528\u201dself\u201d\u6765\u6307\u4ee3\u5bf9\u8c61\u81ea\u8eab\u3002\u7c7b\u4f3c\u4e8ejava\u548cC++\u4e2d\u7684\u201dthis\u201d\u3002\n",
      "\n",
      "\u5728\u8c03\u7528\u65f6\uff0cp.say_hi()\u5373\u53ef\u3002\u4e0d\u9700\u8981\u4f20\u9012p.say_hi(self)\u6216\u8005p.say_hi(p)\u3002\n",
      "\n",
      "\u5728\u4f7f\u7528\u65f6\uff0c\u9700\u8981\u5148\u5c06self\u5b9a\u4e49\u4e3a\u7b2c\u4e00\u4e2a\u53c2\u6570\u3002\u4f8b\u5982def say_hi(self):\u3002\n",
      "    \n",
      "\u5728\u51fd\u6570\u5185\u4f7f\u7528\u65f6\uff0c\u5bf9\u8c61\u7684\u6210\u5458\u9700\u8981\u7528self.xx\u7684\u65b9\u5f0f\u4f7f\u7528\uff0c\u4f8b\u5982self.name\u3002\n",
      "\n",
      "self\u4e0d\u662f\u5173\u952e\u8bcd\uff0c\u4e5f\u4e0d\u662f\u5f3a\u5236\u540d\u79f0\u3002\u5b83\u53ea\u662f\u51fd\u6570\u7684\u7b2c\u4e00\u4e2a\u53c2\u6570\u3002\u4f46\u662f\u4e3a\u4e86\u4fdd\u6301\u4f20\u7edf\uff0c\u8bf7\u4e0d\u8981\u5c06\u4ed6\u6539\u4e3a\u5176\u4ed6\u540d\u79f0\u3002"
     ]
    },
    {
     "cell_type": "markdown",
     "metadata": {
      "slideshow": {
       "slide_type": "subslide"
      }
     },
     "source": [
      "## \\_\\_init\\_\\_\u65b9\u6cd5\n",
      "\n",
      "\\_\\_init\\_\\_\u662f\u5bf9\u8c61\u7684\u7b2c\u4e00\u4e2a\u65b9\u6cd5\uff0c\u7528\u4e8e\u521d\u59cb\u5316\u5bf9\u8c61\u6570\u636e\u3002\n",
      "\n",
      "\\_\\_init\\_\\_\u51fd\u6570\u662f\u521d\u59cb\u5316\u65b9\u6cd5\uff0c\u800c\u975e\u6784\u9020\u65b9\u6cd5\u3002\n",
      "\n",
      "\u5728\\_\\_init\\_\\_\u51fd\u6570\u88ab\u8c03\u7528\u65f6\uff0cself\u5bf9\u8c61\u5df2\u7ecf\u521b\u5efa\u5b8c\u6bd5\u3002\n",
      "\n",
      "\u5728python\u4e2d\uff0c\u5bf9\u8c61\u7684\u5c5e\u6027\u53ef\u4ee5\u81ea\u7531\u6dfb\u52a0\u5220\u9664\uff0c\u4e0d\u9700\u8981\u5148\u5728\u7c7b\u91cc\u9762\u58f0\u660e\u3002\n",
      "\n",
      "\u4e00\u822c\u800c\u8a00\uff0c\u5bf9\u8c61\u91cc\u7684\u6240\u6709\u6570\u636e\u4f1a\u5728\\_\\_init\\_\\_\u65b9\u6cd5\u4e2d\u8d4b\u503c\uff0c\u540e\u9762\u53ef\u4ee5\u53d8\u66f4\u3002\n",
      "\n",
      "\u4f46\u662f\u4e0d\u5728\\_\\_init\\_\\_\u4e2d\u8d4b\u503c\uff0c\u540e\u9762\u76f4\u63a5\u8d4b\u503c\u521b\u5efa\u5c5e\u6027\u4e5f\u662f\u5408\u6cd5\u7684\u3002"
     ]
    },
    {
     "cell_type": "code",
     "collapsed": false,
     "input": [
      "class Person:\n",
      "    def __init__(self, name):\n",
      "        self.name = name\n",
      "\n",
      "    def set_name(self, name):\n",
      "        self.name = name\n",
      "\n",
      "    def say_hi(self):\n",
      "        print('hello, {}, how are you?'.format(self.name))\n",
      "\n",
      "p = Person('Swaroop')\n",
      "print(p.name)\n",
      "p.say_hi()\n",
      "\n",
      "p.set_name('shell')\n",
      "print(p.name)\n",
      "p.say_hi()"
     ],
     "language": "python",
     "metadata": {
      "slideshow": {
       "slide_type": "subslide"
      }
     },
     "outputs": [
      {
       "output_type": "stream",
       "stream": "stdout",
       "text": [
        "Swaroop\n",
        "hello, Swaroop, how are you?\n",
        "shell\n",
        "hello, shell, how are you?\n"
       ]
      }
     ],
     "prompt_number": 92
    },
    {
     "cell_type": "markdown",
     "metadata": {
      "slideshow": {
       "slide_type": "subslide"
      }
     },
     "source": [
      "## \u7ec3\u4e60\n",
      "\n",
      "\u5b9a\u4e49\u4e00\u4e2a\u9a6c\u514b\u676f\u7c7b\uff0c\u5b9a\u4e49\u4e00\u4e2a\u52a0\u6c34\u65b9\u6cd5\u548c\u4e00\u4e2a\u559d\u6c34\u65b9\u6cd5\u3002"
     ]
    },
    {
     "cell_type": "markdown",
     "metadata": {
      "slideshow": {
       "slide_type": "subslide"
      }
     },
     "source": [
      "## \u7b54\u6848"
     ]
    },
    {
     "cell_type": "code",
     "collapsed": false,
     "input": [
      "class Mug:\n",
      "    def __init__(self):\n",
      "        self.water = 0\n",
      "    def drink(self, mass):\n",
      "        self.water -= mass\n",
      "    def watering(self, mass):\n",
      "        self.water += mass"
     ],
     "language": "python",
     "metadata": {},
     "outputs": [],
     "prompt_number": 93
    },
    {
     "cell_type": "markdown",
     "metadata": {
      "slideshow": {
       "slide_type": "subslide"
      }
     },
     "source": [
      "## \u7c7b\u6210\u5458\u548c\u5bf9\u8c61\u6210\u5458\n",
      "\n",
      "\u7c7b\u548c\u5bf9\u8c61\u5206\u522b\u62e5\u6709\u6210\u5458\uff0c\u4f8b\u5982\u6570\u636e\u548c\u65b9\u6cd5\u3002\n",
      "\n",
      "\u5bf9\u8c61\u53ef\u4ee5\u5f15\u7528\u7c7b\u6210\u5458\uff0c\u4f8b\u5982p.say_hi()\u3002\u4e5f\u53ef\u4ee5\u5f15\u7528\u5bf9\u8c61\u6210\u5458\uff0c\u6216\u8005self.name\u3002\n",
      "\n",
      "\u5f53\u6709\u91cd\u540d\u65f6\u4f18\u5148\u5f15\u7528\u5bf9\u8c61\u6210\u5458\u3002\n",
      "\n",
      "\u7c7b\u6210\u5458\u5728\u6240\u6709\u5bf9\u8c61\u95f4\u5171\u4eab\uff0c\u800c\u5bf9\u8c61\u6210\u5458\u53ea\u662f\u5b83\u81ea\u5df1\u7684\u3002"
     ]
    },
    {
     "cell_type": "markdown",
     "metadata": {
      "slideshow": {
       "slide_type": "notes"
      }
     },
     "source": [
      "\u8fd9\u91cc\u662f\u5426\u8981\u52a0\u4e2a\u4f8b\u5b50\u8bf4\u660e\u7c7b\u548c\u5bf9\u8c61\u53d8\u91cf\u7684\u4f18\u5148\u5f15\u7528\u6b21\u5e8f\u3002"
     ]
    },
    {
     "cell_type": "code",
     "collapsed": false,
     "input": [
      "class Robot:\n",
      "    \"\"\"Represents a robot, with a name.\"\"\"\n",
      "\n",
      "    # A class variable, counting the number of robots\n",
      "    population = 0\n",
      "\n",
      "    def __init__(self, name):\n",
      "        \"\"\"Initializes the data.\"\"\"\n",
      "        self.name = name\n",
      "        print(\"(Initializing {})\".format(self.name))\n",
      "        # When this person is created, the robot\n",
      "        # adds to the population\n",
      "        Robot.population += 1\n",
      "\n",
      "    def die(self):\n",
      "        \"\"\"I am dying.\"\"\"\n",
      "        print(\"{} is being destroyed!\".format(self.name))\n",
      "        Robot.population -= 1\n",
      "        if Robot.population == 0:\n",
      "            print(\"{} was the last one.\".format(self.name))\n",
      "        else:\n",
      "            print(\"There are still {:d} robots working.\".format(\n",
      "                Robot.population))\n",
      "\n",
      "    def say_hi(self):\n",
      "        \"\"\"Greeting by the robot.\n",
      "        Yeah, they can do that.\"\"\"\n",
      "        print(\"Greetings, my masters call me {}.\".format(self.name))\n",
      "\n",
      "    @classmethod\n",
      "    def how_many(cls):\n",
      "        \"\"\"Prints the current population.\"\"\"\n",
      "        print(\"We have {:d} robots.\".format(cls.population))"
     ],
     "language": "python",
     "metadata": {
      "slideshow": {
       "slide_type": "subslide"
      }
     },
     "outputs": [],
     "prompt_number": 94
    },
    {
     "cell_type": "code",
     "collapsed": false,
     "input": [
      "droid1 = Robot(\"R2-D2\")\n",
      "droid1.say_hi()\n",
      "Robot.how_many()\n",
      "\n",
      "droid2 = Robot(\"C-3PO\")\n",
      "droid2.say_hi()\n",
      "Robot.how_many()\n",
      "\n",
      "print(\"\\nRobots can do some work here.\\n\")\n",
      "\n",
      "print(\"Robots have finished their work. So let's destroy them.\")\n",
      "droid1.die()\n",
      "droid2.die()\n",
      "\n",
      "Robot.how_many()"
     ],
     "language": "python",
     "metadata": {
      "slideshow": {
       "slide_type": "subslide"
      }
     },
     "outputs": [
      {
       "output_type": "stream",
       "stream": "stdout",
       "text": [
        "(Initializing R2-D2)\n",
        "Greetings, my masters call me R2-D2.\n",
        "We have 1 robots.\n",
        "(Initializing C-3PO)\n",
        "Greetings, my masters call me C-3PO.\n",
        "We have 2 robots.\n",
        "\n",
        "Robots can do some work here.\n",
        "\n",
        "Robots have finished their work. So let's destroy them.\n",
        "R2-D2 is being destroyed!\n",
        "There are still 1 robots working.\n",
        "C-3PO is being destroyed!\n",
        "C-3PO was the last one.\n",
        "We have 0 robots.\n"
       ]
      }
     ],
     "prompt_number": 95
    },
    {
     "cell_type": "markdown",
     "metadata": {
      "slideshow": {
       "slide_type": "subslide"
      }
     },
     "source": [
      "## \u7ec3\u4e60\n",
      "\n",
      "\u56de\u60f3\u4e00\u4e0b\uff0c\u4e0a\u4e00\u8282\u4f60\u7684\u5b9a\u4e49\u91cc\u662f\u5426\u8003\u8651\u4e86\u9a6c\u514b\u676f\u7684\u201c\u6700\u5927\u5bb9\u91cf\u201d\u3002\u5982\u679c\u6ca1\u6709\uff0c\u8bf7\u52a0\u4e0a\u3002\n",
      "\n",
      "\u601d\u8003\u4e00\u4e0b\uff0c\u201c\u6700\u5927\u5bb9\u91cf\u201d\u662f\u5bf9\u8c61\u5c5e\u6027\u8fd8\u662f\u7c7b\u5c5e\u6027\uff0c\u4e3a\u4ec0\u4e48\uff1f"
     ]
    },
    {
     "cell_type": "markdown",
     "metadata": {
      "slideshow": {
       "slide_type": "subslide"
      }
     },
     "source": [
      "## \u7b54\u6848"
     ]
    },
    {
     "cell_type": "code",
     "collapsed": false,
     "input": [
      "class Mug:\n",
      "    capacity = 300\n",
      "    def __init__(self):\n",
      "        self.water = 0\n",
      "    def drink(self, mass):\n",
      "        self.water -= mass\n",
      "        if self.water < 0:\n",
      "            self.water = 0\n",
      "    def watering(self, mass):\n",
      "        self.water += mass\n",
      "        if self.water > self.capacity:\n",
      "            self.water = self.capacity"
     ],
     "language": "python",
     "metadata": {},
     "outputs": [],
     "prompt_number": 96
    },
    {
     "cell_type": "markdown",
     "metadata": {
      "slideshow": {
       "slide_type": "subslide"
      }
     },
     "source": [
      "## \u7ee7\u627f\n",
      "\n",
      "\u7ee7\u627f\u5173\u7cfb\u5206\u4e3a\u57fa\u7c7b\u548c\u7ee7\u627f\u7c7b\uff08\u4e5f\u53eb\u7236\u7c7b\u548c\u5b50\u7c7b\uff09\u3002\n",
      "\n",
      "\u5b50\u7c7b\u53ef\u4ee5\u7ee7\u627f\u7236\u7c7b\u7684\u6210\u5458\u3002\u5f53\u5b50\u7c7b\u548c\u7236\u7c7b\u5b9a\u4e49\u540c\u540d\u6210\u5458\u65f6\uff0c\u4f18\u5148\u5f15\u7528\u5b50\u7c7b\u7684\u3002\n",
      "\n",
      "\u539f\u5219\u4e0a\u8bf4\uff0c\u7236\u7c7b\u80fd\u505a\u7684\u4e8b\uff0c\u5b50\u7c7b\u4e00\u5b9a\u80fd\u505a\uff08\u867d\u7136\u884c\u4e3a\u53ef\u80fd\u6709\u5dee\u5f02\uff09\u3002\u7236\u7c7b\u80fd\u51fa\u73b0\u7684\u5730\u65b9\uff0c\u5b50\u7c7b\u4e00\u5b9a\u80fd\u51fa\u73b0\u3002\n",
      "\n",
      "\u56e0\u4e3a\u5b50\u7c7b\u62e5\u6709\u7236\u7c7b\u7684\u6240\u6709\u6210\u5458\u3002\n",
      "\n",
      "\u7ee7\u627f\u7684\u5199\u6cd5\u4e3a\uff1a\n",
      "\n",
      "    class Person(Animal):\n",
      "        pass"
     ]
    },
    {
     "cell_type": "code",
     "collapsed": false,
     "input": [
      "class SchoolMember:\n",
      "    '''Represents any school member.'''\n",
      "    def __init__(self, name, age):\n",
      "        self.name = name\n",
      "        self.age = age\n",
      "        print('(Initialized SchoolMember: {})'.format(self.name))\n",
      "\n",
      "    def tell(self):\n",
      "        '''Tell my details.'''\n",
      "        print('Name:\"{}\" Age:\"{}\"'.format(self.name, self.age))\n",
      "\n",
      "\n",
      "class Teacher(SchoolMember):\n",
      "    '''Represents a teacher.'''\n",
      "    def __init__(self, name, age, salary):\n",
      "        SchoolMember.__init__(self, name, age)\n",
      "        self.salary = salary\n",
      "        print('(Initialized Teacher: {})'.format(self.name))\n",
      "\n",
      "    def tell(self):\n",
      "        SchoolMember.tell(self)\n",
      "        print('Salary: \"{:d}\"'.format(self.salary))"
     ],
     "language": "python",
     "metadata": {
      "slideshow": {
       "slide_type": "subslide"
      }
     },
     "outputs": [],
     "prompt_number": 97
    },
    {
     "cell_type": "code",
     "collapsed": false,
     "input": [
      "class Student(SchoolMember):\n",
      "    '''Represents a student.'''\n",
      "    def __init__(self, name, age, marks):\n",
      "        SchoolMember.__init__(self, name, age)\n",
      "        self.marks = marks\n",
      "        print('(Initialized Student: {})'.format(self.name))\n",
      "\n",
      "    def tell(self):\n",
      "        SchoolMember.tell(self)\n",
      "        print('Marks: \"{:d}\"'.format(self.marks))\n",
      "\n",
      "t = Teacher('Mrs. Shrividya', 40, 30000)\n",
      "s = Student('Swaroop', 25, 75)\n",
      "\n",
      "# prints a blank line\n",
      "print()\n",
      "\n",
      "members = [t, s]\n",
      "for member in members:\n",
      "    # Works for both Teachers and Students\n",
      "    member.tell()"
     ],
     "language": "python",
     "metadata": {
      "slideshow": {
       "slide_type": "subslide"
      }
     },
     "outputs": [
      {
       "output_type": "stream",
       "stream": "stdout",
       "text": [
        "(Initialized SchoolMember: Mrs. Shrividya)\n",
        "(Initialized Teacher: Mrs. Shrividya)\n",
        "(Initialized SchoolMember: Swaroop)\n",
        "(Initialized Student: Swaroop)\n",
        "()\n",
        "Name:\"Mrs. Shrividya\" Age:\"40\"\n",
        "Salary: \"30000\"\n",
        "Name:\"Swaroop\" Age:\"25\"\n",
        "Marks: \"75\"\n"
       ]
      }
     ],
     "prompt_number": 98
    },
    {
     "cell_type": "markdown",
     "metadata": {
      "slideshow": {
       "slide_type": "subslide"
      }
     },
     "source": [
      "## \u7ec3\u4e60\n",
      "\n",
      "\u8bf7\u4e3a\u9a6c\u514b\u676f\u589e\u52a0\u4e00\u4e2a\u201c\u6dfb\u6ee1\u201d\u65b9\u6cd5\uff0c\u53ef\u4ee5\u6c42\u51fa\u9700\u8981\u6dfb\u591a\u5c11\u6c34\u5230\u52a0\u6ee1\uff0c\u5e76\u81ea\u52a8\u4e3a\u676f\u5b50\u52a0\u6c34\u3002"
     ]
    },
    {
     "cell_type": "markdown",
     "metadata": {
      "slideshow": {
       "slide_type": "subslide"
      }
     },
     "source": [
      "## \u7b54\u6848"
     ]
    },
    {
     "cell_type": "code",
     "collapsed": false,
     "input": [
      "class Mug(object):\n",
      "    capacity = 300\n",
      "\n",
      "    def __init__(self):\n",
      "        self.water = 0\n",
      "\n",
      "    def drink(self, mass):\n",
      "        self.water -= mass\n",
      "        if self.water < 0:\n",
      "            self.water = 0\n",
      "\n",
      "    def watering(self, mass):\n",
      "        self.water += mass\n",
      "        if self.water > self.capacity:\n",
      "            self.water = self.capacity\n",
      "\n",
      "    def full(self):\n",
      "        mass = self.capacity - self.water\n",
      "        self.watering(mass)"
     ],
     "language": "python",
     "metadata": {},
     "outputs": [],
     "prompt_number": 99
    },
    {
     "cell_type": "markdown",
     "metadata": {
      "slideshow": {
       "slide_type": "subslide"
      }
     },
     "source": [
      "## \u7ec3\u4e60\n",
      "\n",
      "\u8bf7\u5b9a\u4e49\u4e00\u4e2a\u8fd0\u52a8\u676f\u7c7b\uff0c\u5e76\u540c\u6837\u5b9e\u73b0\u201c\u559d\u6c34\u201d\uff0c\u201c\u52a0\u6c34\u201d\u548c\u201c\u6dfb\u6ee1\u201d\u65b9\u6cd5\u3002"
     ]
    },
    {
     "cell_type": "markdown",
     "metadata": {
      "slideshow": {
       "slide_type": "subslide"
      }
     },
     "source": [
      "## \u7ec3\u4e60\n",
      "\n",
      "\u8003\u8651\u4e00\u4e0b\uff0c\u5982\u679c\u201c\u9a6c\u514b\u676f\u201d\u548c\u201c\u8fd0\u52a8\u676f\u201d\u7684\u201c\u559d\u6c34\u201d\u548c\u201c\u6dfb\u6c34\u201d\u884c\u4e3a\u662f\u4e0d\u4e00\u6837\u7684\u3002\n",
      "\n",
      "\u90a3\u4e48\uff0c\u201c\u6dfb\u6ee1\u201d\u884c\u4e3a\u662f\u5426\u4e00\u6837\uff0c\u4e24\u8fb9\u662f\u5426\u53ef\u4ee5\u91cd\u7528\u201c\u6dfb\u6ee1\u201d\uff1f\n",
      "\n",
      "\u5982\u679c\u53ef\u4ee5\uff0c\u600e\u4e48\u505a\uff1f"
     ]
    },
    {
     "cell_type": "markdown",
     "metadata": {
      "slideshow": {
       "slide_type": "subslide"
      }
     },
     "source": [
      "## \u7b54\u6848"
     ]
    },
    {
     "cell_type": "code",
     "collapsed": false,
     "input": [
      "class Cup(object):\n",
      "\n",
      "    def __init__(self):\n",
      "        self.water = 0\n",
      "\n",
      "    def full(self):\n",
      "        mass = self.capacity - self.water\n",
      "        self.watering(mass)\n",
      "\n",
      "class Mug(Cup):\n",
      "    capacity = 300\n",
      "\n",
      "    def drink(self, mass):\n",
      "        self.water -= mass\n",
      "        if self.water < 0:\n",
      "            self.water = 0\n",
      "\n",
      "    def watering(self, mass):\n",
      "        self.water += mass\n",
      "        if self.water > self.capacity:\n",
      "            self.water = self.capacity\n",
      "\n",
      "class SportBottle(Cup):\n",
      "    capacity = 500\n",
      "\n",
      "    def drink(self, mass):\n",
      "        self.water -= mass\n",
      "        if self.water < 0:\n",
      "            self.water = 0\n",
      "\n",
      "    def watering(self, mass):\n",
      "        self.water += mass\n",
      "        if self.water > self.capacity:\n",
      "            self.water = self.capacity"
     ],
     "language": "python",
     "metadata": {
      "slideshow": {
       "slide_type": "-"
      }
     },
     "outputs": [],
     "prompt_number": 100
    },
    {
     "cell_type": "code",
     "collapsed": false,
     "input": [
      "m = Mug()\n",
      "m.full()\n",
      "m.drink(100)\n",
      "print(m.water)\n",
      "\n",
      "s = SportBottle()\n",
      "s.full()\n",
      "s.drink(100)\n",
      "print(s.water)"
     ],
     "language": "python",
     "metadata": {
      "slideshow": {
       "slide_type": "subslide"
      }
     },
     "outputs": [
      {
       "output_type": "stream",
       "stream": "stdout",
       "text": [
        "200\n",
        "400\n"
       ]
      }
     ],
     "prompt_number": 101
    },
    {
     "cell_type": "markdown",
     "metadata": {
      "slideshow": {
       "slide_type": "slide"
      }
     },
     "source": [
      "# \u8f93\u5165\u8f93\u51fa"
     ]
    },
    {
     "cell_type": "markdown",
     "metadata": {
      "slideshow": {
       "slide_type": "subslide"
      }
     },
     "source": [
      "## \u4ece\u547d\u4ee4\u884c\u8f93\u5165\n",
      "\n",
      "python3\u4f7f\u7528input\u4ece\u547d\u4ee4\u884c\u8f93\u5165\u3002python2\u4f7f\u7528raw_input\u4ece\u547d\u4ee4\u884c\u8f93\u5165\u3002\n",
      "\n",
      "\u4e24\u8005\u53c2\u6570\u4e00\u81f4\uff0c\u90fd\u662f\u4e00\u4e2a\u63d0\u793a\u5b57\u7b26\u4e32\u3002\n",
      "\n",
      "\u5728python2\u4e2d\uff0cinput\u662feval(input)\uff0c\u6709\u5b89\u5168\u6027\u95ee\u9898\u3002"
     ]
    },
    {
     "cell_type": "code",
     "collapsed": false,
     "input": [
      "#Rise to vote, sir.\n",
      "\n",
      "def reverse(text):\n",
      "    return text[::-1]\n",
      "\n",
      "def is_palindrome(text):\n",
      "    return text == reverse(text)\n",
      "\n",
      "try:\n",
      "    something = raw_input(\"Enter text: \")\n",
      "except NameError:\n",
      "    something = input(\"Enter text: \")\n",
      "\n",
      "if is_palindrome(something):\n",
      "    print(\"Yes, it is a palindrome\")\n",
      "else:\n",
      "    print(\"No, it is not a palindrome\")"
     ],
     "language": "python",
     "metadata": {
      "slideshow": {
       "slide_type": "subslide"
      }
     },
     "outputs": [
      {
       "name": "stdout",
       "output_type": "stream",
       "stream": "stdout",
       "text": [
        "Enter text: Rise to vote, sir.\n"
       ]
      },
      {
       "output_type": "stream",
       "stream": "stdout",
       "text": [
        "No, it is not a palindrome\n"
       ]
      }
     ],
     "prompt_number": 102
    },
    {
     "cell_type": "markdown",
     "metadata": {
      "slideshow": {
       "slide_type": "subslide"
      }
     },
     "source": [
      "## \u7ec3\u4e60\n",
      "\n",
      "\u521a\u521a\u7684\u56de\u6587\u5b57\u7b26\u4e32\u7a0b\u5e8f\u53ea\u80fd\u68c0\u6d4b\u7eaf\u7cb9\u7684\u5b57\u7b26\u4e32\uff0c\u771f\u6b63\u7684\u56de\u6587\u5b57\u7b26\u68c0\u6d4b\u7a0b\u5e8f\u5e94\u5f53\u80fd\u591f\u5904\u7406\u6807\u70b9\uff0c\u7a7a\u683c\u548c\u5927\u5c0f\u5199\u3002\n",
      "\n",
      "\u4f8b\u5982\"Rise to vote, sir.\"\u5b9e\u9645\u4e0a\u4e5f\u662f\u56de\u6587\u5b57\u7b26\u4e32\uff0c\u4f46\u662f\u521a\u521a\u7684\u7a0b\u5e8f\u5224\u5b9a\u4ed6\u4e0d\u662f\u3002\n",
      "\n",
      "\u8bf7\u5199\u51fa\u4e00\u4e2a\u65b0\u7684\u7248\u672c\u3002\n",
      "\n",
      "\u7b80\u5355\u8d77\u89c1\uff0c\u53ea\u9700\u8981\u5904\u7406,\u548c.\u5373\u53ef\u3002\u5148\u4e0d\u7528\u7ba1\u7406\u5404\u79cd\u590d\u6742\u6807\u70b9\uff0c\u4f8b\u5982&\u3002"
     ]
    },
    {
     "cell_type": "markdown",
     "metadata": {
      "slideshow": {
       "slide_type": "subslide"
      }
     },
     "source": [
      "## \u7b54\u6848"
     ]
    },
    {
     "cell_type": "code",
     "collapsed": false,
     "input": [
      "def reverse(text):\n",
      "    return text[::-1]\n",
      "\n",
      "def is_palindrome(text):\n",
      "    text = text.replace(',', '')\n",
      "    text = text.replace('.', '')\n",
      "    text = text.replace(' ', '')\n",
      "    text = text.lower()\n",
      "    return text == reverse(text)\n",
      "\n",
      "try:\n",
      "    something = raw_input(\"Enter text: \")\n",
      "except NameError:\n",
      "    something = input(\"Enter text: \")\n",
      "\n",
      "if is_palindrome(something):\n",
      "    print(\"Yes, it is a palindrome\")\n",
      "else:\n",
      "    print(\"No, it is not a palindrome\")"
     ],
     "language": "python",
     "metadata": {},
     "outputs": [
      {
       "name": "stdout",
       "output_type": "stream",
       "stream": "stdout",
       "text": [
        "Enter text: Rise to vote, sir.\n"
       ]
      },
      {
       "output_type": "stream",
       "stream": "stdout",
       "text": [
        "Yes, it is a palindrome\n"
       ]
      }
     ],
     "prompt_number": 103
    },
    {
     "cell_type": "markdown",
     "metadata": {
      "slideshow": {
       "slide_type": "subslide"
      }
     },
     "source": [
      "## \u4ece\u6587\u4ef6\u4e2d\u8f93\u5165\u8f93\u51fa\n",
      "\n",
      "\u4f7f\u7528open\u6253\u5f00\u6587\u4ef6\u8fdb\u884c\u8bfb\u5199\u3002\u8c03\u7528\u65b9\u6cd5\u548cC\u7684fopen\u7c7b\u4f3c\u3002"
     ]
    },
    {
     "cell_type": "code",
     "collapsed": false,
     "input": [
      "import sys\n",
      "poem = '''\\\n",
      "Programming is fun\n",
      "When the work is done\n",
      "if you wanna make your work also fun:\n",
      "    use Python!\n",
      "'''\n",
      "f = open('poem.txt', 'w')\n",
      "f.write(poem)\n",
      "f.close()\n",
      "\n",
      "f = open('poem.txt')\n",
      "while True:\n",
      "    line = f.readline()\n",
      "    if len(line) == 0:\n",
      "        break\n",
      "    sys.stdout.write(line)\n",
      "f.close()"
     ],
     "language": "python",
     "metadata": {
      "slideshow": {
       "slide_type": "subslide"
      }
     },
     "outputs": [
      {
       "output_type": "stream",
       "stream": "stdout",
       "text": [
        "Programming is fun\n",
        "When the work is done\n",
        "if you wanna make your work also fun:\n",
        "    use Python!\n"
       ]
      }
     ],
     "prompt_number": 104
    },
    {
     "cell_type": "code",
     "collapsed": false,
     "input": [
      "!ls -l poem.txt"
     ],
     "language": "python",
     "metadata": {
      "slideshow": {
       "slide_type": "subslide"
      }
     },
     "outputs": [
      {
       "output_type": "stream",
       "stream": "stdout",
       "text": [
        "-rw-r--r-- 1 shell shell 95 9\u6708   6 13:03 poem.txt\r\n"
       ]
      }
     ],
     "prompt_number": 105
    },
    {
     "cell_type": "code",
     "collapsed": false,
     "input": [
      "!cat poem.txt"
     ],
     "language": "python",
     "metadata": {},
     "outputs": [
      {
       "output_type": "stream",
       "stream": "stdout",
       "text": [
        "Programming is fun\r\n",
        "When the work is done\r\n",
        "if you wanna make your work also fun:\r\n",
        "    use Python!\r\n"
       ]
      }
     ],
     "prompt_number": 106
    },
    {
     "cell_type": "markdown",
     "metadata": {},
     "source": [
      "\u4ee5\u4e0a\u7686\u662flinux\u6307\u4ee4\uff0c\u56e0\u6b64\u4e0d\u80fd\uff08\u4e5f\u4e0d\u9700\u8981\uff09\u5728windows\u4e0a\u6267\u884c\u3002windows\u4e0a\u5bf9\u5e94\u7684\u884c\u4e3a\u4e3adir\uff0cnotepad\u6253\u5f00\uff0c\u548c\u5220\u9664\u3002"
     ]
    },
    {
     "cell_type": "markdown",
     "metadata": {
      "slideshow": {
       "slide_type": "subslide"
      }
     },
     "source": [
      "## with\n",
      "\n",
      "with\u53ef\u4ee5\u5728\u63a8\u51fa\u533a\u5757\u65f6\u81ea\u52a8\u5173\u95ed\u6587\u4ef6\uff0c\u800c\u4e14\u5bf9\u5f02\u5e38\u5b89\u5168\uff08\u5f02\u5e38\u5728\u4e0b\u4e00\u8282\u8bb2\uff09\u3002\n",
      "\n",
      "with\u4e0d\u4ec5\u53ef\u4ee5\u7528\u4e8e\u6587\u4ef6\uff0c\u800c\u4e14\u53ef\u4ee5\u7528\u4e8e\u5f88\u591a\u9700\u8981\u5728\u79bb\u5f00\u533a\u57df\u65f6\u81ea\u52a8\u5173\u95ed\u7684\u5bf9\u8c61\uff0c\u4f8b\u5982\u9501\u3002"
     ]
    },
    {
     "cell_type": "code",
     "collapsed": false,
     "input": [
      "import sys\n",
      "with open(\"poem.txt\") as f:\n",
      "    for line in f:\n",
      "        sys.stdout.write(line)"
     ],
     "language": "python",
     "metadata": {
      "slideshow": {
       "slide_type": "-"
      }
     },
     "outputs": [
      {
       "output_type": "stream",
       "stream": "stdout",
       "text": [
        "Programming is fun\n",
        "When the work is done\n",
        "if you wanna make your work also fun:\n",
        "    use Python!\n"
       ]
      }
     ],
     "prompt_number": 107
    },
    {
     "cell_type": "code",
     "collapsed": false,
     "input": [
      "!rm -f poem.txt"
     ],
     "language": "python",
     "metadata": {
      "slideshow": {
       "slide_type": "skip"
      }
     },
     "outputs": [],
     "prompt_number": 108
    },
    {
     "cell_type": "markdown",
     "metadata": {
      "slideshow": {
       "slide_type": "slide"
      }
     },
     "source": [
      "# \u5f02\u5e38"
     ]
    },
    {
     "cell_type": "markdown",
     "metadata": {
      "slideshow": {
       "slide_type": "subslide"
      }
     },
     "source": [
      "## \u7b80\u4ecb\n",
      "\n",
      "Python\u5141\u8bb8\u5728\u51fa\u73b0\u9519\u8bef\u7684\u65f6\u5019\uff0c\u201c\u629b\u201d\u51fa\u8fd9\u4e2a\u9519\u8bef\u3002\n",
      "\n",
      "\u9519\u8bef\u6309\u7167\u8c03\u7528\u987a\u5e8f\u4f9d\u6b21\u5411\u4e0a\u627e\uff0c\u627e\u5230\u7b2c\u4e00\u4e2a\u5408\u9002\u7684\u5904\u7406\u65b9\u6cd5\u5bf9\u9519\u8bef\u8fdb\u884c\u5904\u7406\u3002\u5982\u679c\u65e0\u4eba\u5904\u7406\u9519\u8bef\uff0c\u5219\u7a0b\u5e8f\u5d29\u6e83\u3002\n",
      "\n",
      "\u8fd9\u79cd\u9519\u8bef\u5904\u7406\u673a\u5236\u5141\u8bb8\u8c03\u7528\u8005\u5bf9\u51fd\u6570\u6df1\u5c42\u7684\u9519\u8bef\u8fdb\u884c\u5bb9\u9519\uff0c\u540c\u65f6\u4e2d\u95f4\u6240\u6709\u4ee3\u7801\u5bf9\u8fd9\u4e2a\u8fc7\u7a0b\u65e0\u9700\u5e72\u9884\u3002\n",
      "\n",
      "    >>> Print(\"Hello World\")\n",
      "    Traceback (most recent call last):\n",
      "      File \"<stdin>\", line 1, in <module>\n",
      "    NameError: name 'Print' is not defined\n",
      "    >>> print(\"Hello World\")\n",
      "    Hello World"
     ]
    },
    {
     "cell_type": "code",
     "collapsed": false,
     "input": [
      "Print(\"Hello World\")"
     ],
     "language": "python",
     "metadata": {
      "slideshow": {
       "slide_type": "subslide"
      }
     },
     "outputs": [
      {
       "ename": "NameError",
       "evalue": "name 'Print' is not defined",
       "output_type": "pyerr",
       "traceback": [
        "\u001b[0;31m---------------------------------------------------------------------------\u001b[0m\n\u001b[0;31mNameError\u001b[0m                                 Traceback (most recent call last)",
        "\u001b[0;32m<ipython-input-109-4a9fe39e6a16>\u001b[0m in \u001b[0;36m<module>\u001b[0;34m()\u001b[0m\n\u001b[0;32m----> 1\u001b[0;31m \u001b[0mPrint\u001b[0m\u001b[0;34m(\u001b[0m\u001b[0;34m\"Hello World\"\u001b[0m\u001b[0;34m)\u001b[0m\u001b[0;34m\u001b[0m\u001b[0m\n\u001b[0m",
        "\u001b[0;31mNameError\u001b[0m: name 'Print' is not defined"
       ]
      }
     ],
     "prompt_number": 109
    },
    {
     "cell_type": "code",
     "collapsed": false,
     "input": [
      "print(\"Hello World\")"
     ],
     "language": "python",
     "metadata": {},
     "outputs": [
      {
       "output_type": "stream",
       "stream": "stdout",
       "text": [
        "Hello World\n"
       ]
      }
     ],
     "prompt_number": 110
    },
    {
     "cell_type": "markdown",
     "metadata": {
      "slideshow": {
       "slide_type": "subslide"
      }
     },
     "source": [
      "## \u5f02\u5e38\u8f93\u51fa\u9605\u8bfb\n",
      "\n",
      "python\u7684\u5927\u591a\u6570\u9519\u8bef\u4f1a\u4f34\u968f\u629b\u51fa\u5f02\u5e38\u3002\u56e0\u6b64\uff0c\u4e3a\u4e86\u89e3\u51b3\u65e5\u5e38\u5728\u4f7f\u7528\u4e2d\u78b0\u5230\u7684\u79cd\u79cd\u95ee\u9898\uff0c\u6211\u4eec\u9700\u8981\u5b66\u4f1a\u5982\u4f55\u9605\u8bfb\u5f02\u5e38\u3002\n",
      "\n",
      "\u5f02\u5e38\u8f93\u51fa\u901a\u5e38\u548c\u51fd\u6570\u7684\u8c03\u7528\u987a\u5e8f\u76f8\u540c\uff0c\u548c\u6808\u7684\u987a\u5e8f\u76f8\u53cd\u3002\n",
      "\n",
      "\u6700\u4e0a\u5c42\u7684\u8c03\u7528\uff08\u6700\u5148\u53d1\u751f\u7684\uff09\u5728\u6700\u4e0a\u9762\uff0c\u6700\u540e\u6267\u884c\u5230\u7684\u5730\u65b9\u5728\u6700\u4e0b\u9762\u3002\u6700\u540e\u4e00\u4e2a\u5f02\u5e38\u884c\u5c31\u662f\u4e00\u573a\u53d1\u751f\u7684\u7cbe\u786e\u5730\u70b9\u3002\n",
      "\n",
      "\u6700\u540e\u4e00\u884c\u662f\u5f02\u5e38\u7684\u540d\u5b57\u548c\u53c2\u6570\u3002"
     ]
    },
    {
     "cell_type": "code",
     "collapsed": false,
     "input": [
      "def layer1():\n",
      "    print('layer1 called')\n",
      "    return layer2()\n",
      "\n",
      "def layer2():\n",
      "    print('layer2 called')\n",
      "    raise Exception('arg1', 2)\n",
      "    return 1\n",
      "\n",
      "print(layer1())"
     ],
     "language": "python",
     "metadata": {
      "slideshow": {
       "slide_type": "subslide"
      }
     },
     "outputs": [
      {
       "output_type": "stream",
       "stream": "stdout",
       "text": [
        "layer1 called\n",
        "layer2 called\n"
       ]
      },
      {
       "ename": "Exception",
       "evalue": "('arg1', 2)",
       "output_type": "pyerr",
       "traceback": [
        "\u001b[0;31m---------------------------------------------------------------------------\u001b[0m\n\u001b[0;31mException\u001b[0m                                 Traceback (most recent call last)",
        "\u001b[0;32m<ipython-input-111-22bfd87adf46>\u001b[0m in \u001b[0;36m<module>\u001b[0;34m()\u001b[0m\n\u001b[1;32m      8\u001b[0m     \u001b[0;32mreturn\u001b[0m \u001b[0;36m1\u001b[0m\u001b[0;34m\u001b[0m\u001b[0m\n\u001b[1;32m      9\u001b[0m \u001b[0;34m\u001b[0m\u001b[0m\n\u001b[0;32m---> 10\u001b[0;31m \u001b[0;32mprint\u001b[0m\u001b[0;34m(\u001b[0m\u001b[0mlayer1\u001b[0m\u001b[0;34m(\u001b[0m\u001b[0;34m)\u001b[0m\u001b[0;34m)\u001b[0m\u001b[0;34m\u001b[0m\u001b[0m\n\u001b[0m",
        "\u001b[0;32m<ipython-input-111-22bfd87adf46>\u001b[0m in \u001b[0;36mlayer1\u001b[0;34m()\u001b[0m\n\u001b[1;32m      1\u001b[0m \u001b[0;32mdef\u001b[0m \u001b[0mlayer1\u001b[0m\u001b[0;34m(\u001b[0m\u001b[0;34m)\u001b[0m\u001b[0;34m:\u001b[0m\u001b[0;34m\u001b[0m\u001b[0m\n\u001b[1;32m      2\u001b[0m     \u001b[0;32mprint\u001b[0m\u001b[0;34m(\u001b[0m\u001b[0;34m'layer1 called'\u001b[0m\u001b[0;34m)\u001b[0m\u001b[0;34m\u001b[0m\u001b[0m\n\u001b[0;32m----> 3\u001b[0;31m     \u001b[0;32mreturn\u001b[0m \u001b[0mlayer2\u001b[0m\u001b[0;34m(\u001b[0m\u001b[0;34m)\u001b[0m\u001b[0;34m\u001b[0m\u001b[0m\n\u001b[0m\u001b[1;32m      4\u001b[0m \u001b[0;34m\u001b[0m\u001b[0m\n\u001b[1;32m      5\u001b[0m \u001b[0;32mdef\u001b[0m \u001b[0mlayer2\u001b[0m\u001b[0;34m(\u001b[0m\u001b[0;34m)\u001b[0m\u001b[0;34m:\u001b[0m\u001b[0;34m\u001b[0m\u001b[0m\n",
        "\u001b[0;32m<ipython-input-111-22bfd87adf46>\u001b[0m in \u001b[0;36mlayer2\u001b[0;34m()\u001b[0m\n\u001b[1;32m      5\u001b[0m \u001b[0;32mdef\u001b[0m \u001b[0mlayer2\u001b[0m\u001b[0;34m(\u001b[0m\u001b[0;34m)\u001b[0m\u001b[0;34m:\u001b[0m\u001b[0;34m\u001b[0m\u001b[0m\n\u001b[1;32m      6\u001b[0m     \u001b[0;32mprint\u001b[0m\u001b[0;34m(\u001b[0m\u001b[0;34m'layer2 called'\u001b[0m\u001b[0;34m)\u001b[0m\u001b[0;34m\u001b[0m\u001b[0m\n\u001b[0;32m----> 7\u001b[0;31m     \u001b[0;32mraise\u001b[0m \u001b[0mException\u001b[0m\u001b[0;34m(\u001b[0m\u001b[0;34m'arg1'\u001b[0m\u001b[0;34m,\u001b[0m \u001b[0;36m2\u001b[0m\u001b[0;34m)\u001b[0m\u001b[0;34m\u001b[0m\u001b[0m\n\u001b[0m\u001b[1;32m      8\u001b[0m     \u001b[0;32mreturn\u001b[0m \u001b[0;36m1\u001b[0m\u001b[0;34m\u001b[0m\u001b[0m\n\u001b[1;32m      9\u001b[0m \u001b[0;34m\u001b[0m\u001b[0m\n",
        "\u001b[0;31mException\u001b[0m: ('arg1', 2)"
       ]
      }
     ],
     "prompt_number": 111
    },
    {
     "cell_type": "markdown",
     "metadata": {
      "slideshow": {
       "slide_type": "subslide"
      }
     },
     "source": [
      "## \u5f02\u5e38\u5904\u7406\n",
      "\n",
      "\u5e38\u89c4\u5f02\u5e38\u5904\u7406\u4ee3\u7801\u6bb5\u9700\u8981\u5305\u542b\u4e09\u90e8\u5206\u5185\u5bb9\uff1a\u88ab\u76d1\u7ba1\u4ee3\u7801\u4f53\uff0c\u9519\u8bef\u7c7b\u578b\u548c\u5f02\u5e38\u5904\u7406\u4ee3\u7801\u4f53\u3002\n",
      "\n",
      "\u5f53\u88ab\u76d1\u7ba1\u4ee3\u7801\u4f53\u4e2d\u53d1\u751f\u5f02\u5e38\u65f6\uff0c\u5f02\u5e38\u88ab\u5411\u4e0a\u629b\u51fa\u3002\n",
      "\n",
      "\u5411\u4e0a\u5bfb\u627e\u5904\u7406\u51fd\u6570\u7684\u5f02\u5e38\u5c5e\u4e8e\u5b9a\u4e49\u7684\u8fd9\u4e2a\u9519\u8bef\u7c7b\u7684\u5b50\u7c7b\u65f6\uff0c\u5f02\u5e38\u5904\u7406\u4ee3\u7801\u4f53\u88ab\u8c03\u7528\u3002\n",
      "\n",
      "\u4e00\u822c\u6765\u8bf4\uff0c\u9664\u975e\u660e\u786e\u77e5\u9053\u786e\u5b9e\u8981\u6355\u83b7\u6240\u6709\u5f02\u5e38\uff0c\u5426\u5219\u4e25\u7981\u7528\u6355\u83b7\u6240\u6709\u5f02\u5e38\u6765\u5904\u7406\u67d0\u79cd\u7279\u5b9a\u95ee\u9898\u3002"
     ]
    },
    {
     "cell_type": "code",
     "collapsed": false,
     "input": [
      "try:\n",
      "    text = raw_input('Enter something --> ')\n",
      "except NameError:\n",
      "    text = input('Enter something --> ')\n",
      "try:\n",
      "    number = int(text)\n",
      "except ValueError:\n",
      "    print('Illegal number')\n",
      "else:\n",
      "    print(number+1)"
     ],
     "language": "python",
     "metadata": {
      "slideshow": {
       "slide_type": "subslide"
      }
     },
     "outputs": [
      {
       "name": "stdout",
       "output_type": "stream",
       "stream": "stdout",
       "text": [
        "Enter something --> abc\n"
       ]
      },
      {
       "output_type": "stream",
       "stream": "stdout",
       "text": [
        "Illegal number\n"
       ]
      }
     ],
     "prompt_number": 112
    },
    {
     "cell_type": "markdown",
     "metadata": {
      "slideshow": {
       "slide_type": "subslide"
      }
     },
     "source": [
      "## \u5e38\u89c1\u5f02\u5e38\n",
      "\n",
      "* AttributeError\n",
      "* ImportError\n",
      "* IndexError\n",
      "* KeyError\n",
      "* NameError\n",
      "* SyntaxError\n",
      "* IndentationError\n",
      "* TypeError\n",
      "* ValueError"
     ]
    },
    {
     "cell_type": "markdown",
     "metadata": {
      "slideshow": {
       "slide_type": "subslide"
      }
     },
     "source": [
      "## \u629b\u51fa\u5f02\u5e38"
     ]
    },
    {
     "cell_type": "code",
     "collapsed": false,
     "input": [
      "def f():\n",
      "    print(\"I'm ok\")\n",
      "    raise Exception('actually not')\n",
      "\n",
      "try:\n",
      "    f()\n",
      "except Exception as err:\n",
      "    print(err)"
     ],
     "language": "python",
     "metadata": {},
     "outputs": [
      {
       "output_type": "stream",
       "stream": "stdout",
       "text": [
        "I'm ok\n",
        "actually not\n"
       ]
      }
     ],
     "prompt_number": 113
    },
    {
     "cell_type": "markdown",
     "metadata": {
      "slideshow": {
       "slide_type": "subslide"
      }
     },
     "source": [
      "## \u81ea\u5b9a\u4e49\u5f02\u5e38"
     ]
    },
    {
     "cell_type": "code",
     "collapsed": false,
     "input": [
      "# \u5fc5\u987b\u81eaException\u4e2d\u7ee7\u627f\n",
      "class ShortInputException(Exception):\n",
      "    '''A user-defined exception class.'''\n",
      "    def __init__(self, length, atleast):\n",
      "        Exception.__init__(self)\n",
      "        self.length = length\n",
      "        self.atleast = atleast"
     ],
     "language": "python",
     "metadata": {},
     "outputs": [],
     "prompt_number": 114
    },
    {
     "cell_type": "code",
     "collapsed": false,
     "input": [
      "try:\n",
      "    try:\n",
      "        text = raw_input('Enter something --> ')\n",
      "    except NameError:\n",
      "        text = input('Enter something --> ')\n",
      "    if len(text) < 3:\n",
      "        raise ShortInputException(len(text), 3)\n",
      "except ShortInputException as ex:\n",
      "    print(\n",
      "        'ShortInputException: The input was {0} long, expected at least {1}'.format(ex.length, ex.atleast))\n",
      "else:\n",
      "    print('No exception was raised.')"
     ],
     "language": "python",
     "metadata": {},
     "outputs": [
      {
       "name": "stdout",
       "output_type": "stream",
       "stream": "stdout",
       "text": [
        "Enter something --> abc\n"
       ]
      },
      {
       "output_type": "stream",
       "stream": "stdout",
       "text": [
        "No exception was raised.\n"
       ]
      }
     ],
     "prompt_number": 115
    },
    {
     "cell_type": "markdown",
     "metadata": {
      "slideshow": {
       "slide_type": "subslide"
      }
     },
     "source": [
      "## finally\n",
      "\n",
      "finally\u7528\u4e8e\u201c\u65e0\u8bba\u662f\u5f02\u5e38\u8fd8\u662f\u6b63\u5e38\uff0c\u4ee5\u4e0b\u5185\u5bb9\u5fc5\u7136\u88ab\u6267\u884c\u201d\u7684\u60c5\u51b5\u3002\n",
      "\n",
      "\u591a\u7528\u4e8e\u6e05\u7406\u3002"
     ]
    },
    {
     "cell_type": "code",
     "collapsed": false,
     "input": [
      "try:\n",
      "    text = raw_input('Enter something --> ')\n",
      "except NameError:\n",
      "    text = input('Enter something --> ')\n",
      "try:\n",
      "    number = int(text)\n",
      "except ValueError:\n",
      "    print('Illegal number')\n",
      "else:\n",
      "    print(number+1)\n",
      "finally:\n",
      "    print('(clean up here)')"
     ],
     "language": "python",
     "metadata": {
      "slideshow": {
       "slide_type": "subslide"
      }
     },
     "outputs": [
      {
       "name": "stdout",
       "output_type": "stream",
       "stream": "stdout",
       "text": [
        "Enter something --> abc\n"
       ]
      },
      {
       "output_type": "stream",
       "stream": "stdout",
       "text": [
        "Illegal number\n",
        "(clean up here)\n"
       ]
      }
     ],
     "prompt_number": 116
    },
    {
     "cell_type": "markdown",
     "metadata": {
      "slideshow": {
       "slide_type": "subslide"
      }
     },
     "source": [
      "## assert"
     ]
    },
    {
     "cell_type": "code",
     "collapsed": false,
     "input": [
      "assert 1 == 0, Exception('of course')"
     ],
     "language": "python",
     "metadata": {},
     "outputs": [
      {
       "ename": "AssertionError",
       "evalue": "of course",
       "output_type": "pyerr",
       "traceback": [
        "\u001b[0;31m---------------------------------------------------------------------------\u001b[0m\n\u001b[0;31mAssertionError\u001b[0m                            Traceback (most recent call last)",
        "\u001b[0;32m<ipython-input-117-53f9edc366b8>\u001b[0m in \u001b[0;36m<module>\u001b[0;34m()\u001b[0m\n\u001b[0;32m----> 1\u001b[0;31m \u001b[0;32massert\u001b[0m \u001b[0;36m1\u001b[0m \u001b[0;34m==\u001b[0m \u001b[0;36m0\u001b[0m\u001b[0;34m,\u001b[0m \u001b[0mException\u001b[0m\u001b[0;34m(\u001b[0m\u001b[0;34m'of course'\u001b[0m\u001b[0;34m)\u001b[0m\u001b[0;34m\u001b[0m\u001b[0m\n\u001b[0m",
        "\u001b[0;31mAssertionError\u001b[0m: of course"
       ]
      }
     ],
     "prompt_number": 117
    },
    {
     "cell_type": "markdown",
     "metadata": {
      "slideshow": {
       "slide_type": "slide"
      }
     },
     "source": [
      "# \u6587\u6863"
     ]
    },
    {
     "cell_type": "markdown",
     "metadata": {
      "slideshow": {
       "slide_type": "subslide"
      }
     },
     "source": [
      "## \u6587\u6863\u83b7\u5f97\u548c\u67e5\u9605\n",
      "\n",
      "\u5728\u7ebf\u6587\u6863\uff1a\n",
      "\n",
      "https://docs.python.org/2/\n",
      "\n",
      "https://docs.python.org/3/ \n",
      "\n",
      "\u672c\u5730\u6587\u6863\uff1a\u968f\u5b89\u88c5\u7248\u672c\u53d8\u5316\u3002\n",
      "\n",
      "\u4e24\u8005\u51b2\u7a81\u4ee5\u672c\u5730\u4e3a\u51c6\uff0c\u672c\u5730\u4e00\u5b9a\u5bf9\u5e94\u5b89\u88c5\u4f7f\u7528\u7684\u7248\u672c\u3002\n",
      "\n",
      "\u5e93\u67e5Library Reference\uff0c\u8fd9\u662f\u6700\u4e3b\u8981\u90e8\u5206\u3002\n",
      "\n",
      "\u8bed\u6cd5\u7279\u6027\u67e5Language Reference\u3002"
     ]
    },
    {
     "cell_type": "markdown",
     "metadata": {
      "slideshow": {
       "slide_type": "subslide"
      }
     },
     "source": [
      "## \u7ec3\u4e60\n",
      "\n",
      "\u6253\u5f00\u6587\u6863\uff0c\u8bf7\u67e5\u9605itertools.permutations\u7684\u610f\u4e49\uff0c\u53c2\u6570\uff0c\u8fd4\u56de\u503c\uff0c\u7528\u6cd5\uff0c\u6ce8\u610f\u8981\u70b9\u7b49\u4fe1\u606f\u3002\u5e76\u5411\u5927\u5bb6\u89e3\u91ca\u3002"
     ]
    },
    {
     "cell_type": "markdown",
     "metadata": {
      "slideshow": {
       "slide_type": "subslide"
      }
     },
     "source": [
      "## \u7b2c\u4e09\u65b9\u6587\u6863\u67e5\u8be2\n",
      "\n",
      "\u6ca1\u6709\u4ec0\u4e48\u56fa\u5b9a\u65b9\u6cd5\u3002\n",
      "\n",
      "\u5728google\uff08\u6ce8\u610f\uff0c\u4e0d\u662fbaidu\uff09\u4e0a\u641c\u7d22\u5173\u952e\u8bcd\u3002\u627e\u4e00\u4e2a\u6bd4\u8f83\u50cf\u7684\u5b98\u7f51\u3002\u627e\u5230\u6587\u6863\u3002\n",
      "\n",
      "\u53ef\u4ee5\u53c2\u8003pypi\uff0c\u5f88\u591a\u7b2c\u4e09\u65b9\u5e93\u53ef\u4ee5\u5728\u4e0a\u9762\u627e\u5230\u3002\u91cc\u9762\u5f80\u5f80\u5e26\u6709\u6587\u6863\u5730\u5740\u3002\n",
      "\n",
      "\u7f3a\u70b9\u662f\uff0cpypi\u4e0a\u641c\u51fa\u6765\u7684\u91cd\u540d\u5e93\u592a\u591a\uff0c\u5f88\u96be\u641e\u6e05\u695a\u54ea\u4e2a\u624d\u662f\u4f60\u8981\u7684\u3002"
     ]
    },
    {
     "cell_type": "markdown",
     "metadata": {
      "slideshow": {
       "slide_type": "slide"
      }
     },
     "source": [
      "# Python2\u548cPython3\u7684\u5dee\u5f02"
     ]
    },
    {
     "cell_type": "markdown",
     "metadata": {
      "slideshow": {
       "slide_type": "subslide"
      }
     },
     "source": [
      "## \u7b80\u8ff0\n",
      "\n",
      "Python2\u4e2d\u6709\u5f88\u591a\u56fa\u6709\u7684\u8bbe\u8ba1\u95ee\u9898\uff0c\u4f8b\u5982\uff1a\n",
      "\n",
      "1. print\u662f\u5185\u7f6e\u5173\u952e\u8bcd\u3002\u4e00\u822c\u6765\u8bf4\uff0c\u5173\u952e\u8bcd\u8d8a\u5c11\u8d8a\u597d\uff0c\u56e0\u4e3a\u5173\u952e\u8bcd\u8d8a\u5c11\uff0c\u8bed\u8a00\u7684\u5185\u6838\u8d8a\u7b80\u6d01\u3002\n",
      "2. \u6df7\u540c\u4e86bytes\u548cunicode\u3002\n",
      "3. /\u662f\u6574\u6570\u9664\u6cd5\u3002\n",
      "\n",
      "\u8fd9\u4e9b\u95ee\u9898\u5728Python3\u4e2d\u9010\u6b65\u7ed9\u4e88\u4e86\u4fee\u590d\u3002\n",
      "\n",
      "\u5e38\u89c4\u6765\u8bf4\uff0c\u4fee\u590d\u95ee\u9898\u6700\u91cd\u8981\u7684\u662f\u201c\u5411\u4e0b\u517c\u5bb9\uff0c\u9010\u6b65\u8fdb\u884c\u201d\u3002\n",
      "\n",
      "\u7136\u800c\u4e0a\u8ff0\u95ee\u9898\u51e0\u4e4e\u5168\u90e8\u90fd\u662f\u8bed\u8a00\u672c\u8d28\u95ee\u9898\uff0c\u4e0d\u5bf9\u8bed\u8a00\u8fdb\u884c\u4f24\u7b4b\u52a8\u9aa8\u7684\u5927\u6539\u662f\u6ca1\u6709\u529e\u6cd5\u4fee\u590d\u7684\u3002\n",
      "\n",
      "\u56e0\u6b64Python3\u7684\u9884\u8ba2\u662f\u201c\u4e0d\u548cPython2\u517c\u5bb9\u201d\uff0c\u8fd9\u9020\u6210\u4e86Python\u793e\u533a\u76ee\u524d2/3\u5206\u88c2\u7684\u73b0\u72b6\u3002"
     ]
    },
    {
     "cell_type": "markdown",
     "metadata": {
      "slideshow": {
       "slide_type": "subslide"
      }
     },
     "source": [
      "Python2\u548cPython3\u6709\u5f88\u591a\u7ec6\u8282\u5dee\u5f02\u3002\u4f46\u662f\u5927\u81f4\u6765\u8bf4\uff0c\u6700\u4e3b\u8981\u5c31\u662f\u4e0a\u9762\u63d0\u5230\u7684\u4e09\u9879\u3002\n",
      "\n",
      "1. Python2\u7684print\u7531\u5173\u952e\u5b57\u6539\u4e3a\u4e86\u51fd\u6570\u3002\u56e0\u6b64print \u2018xxx\u2019\u7684\u5199\u6cd5\u5c31\u4e0d\u5408\u6cd5\u4e86\u3002\n",
      "2. \u5728Python3\u4e2d\uff0c\u6240\u6709\u7684\u5b57\u7b26\u4e32\u9ed8\u8ba4\u90fd\u662funicode\u3002\u8981\u5904\u7406\u539f\u751f\u6570\u636e\u9700\u8981\u7528bytes\u3002\u56e0\u6b64\u5f88\u591a\u5728Python2\u4e2d\u80fd\u591f\u5f88\u65b9\u4fbf\u5c31\u5904\u7406\u8fc7\u53bb\u7684\u5730\u65b9\u9700\u8981\u4ed4\u7ec6\u601d\u8003\u662funicode\u8fd8\u662fbytes\u3002\n",
      "3. Python3\u4e2d/\u4e0d\u662f\u6574\u6570\u9664\u6cd5\u3002\n",
      "\n",
      "\u5728\u4e0b\u9762\u8fd9\u4e2a\u8fde\u63a5\u91cc\uff0c\u6536\u5f55\u4e86Python2\u548cPython3\u7684\u5176\u4ed6\u4e00\u4e9b\u7ec6\u8282\u5dee\u5f02\u3002\n",
      "\n",
      "https://wiki.python.org/moin/Python2orPython3"
     ]
    },
    {
     "cell_type": "markdown",
     "metadata": {
      "slideshow": {
       "slide_type": "subslide"
      }
     },
     "source": [
      "## Python2\u52303\u8fc1\u79fb\n",
      "\n",
      "Python3\u5e26\u67092to3\u811a\u672c\uff0c\u53ef\u4ee5\u5b8c\u6210\u5f88\u591a\u9879\u76ee\u7684\u8fc1\u79fb\u3002\n",
      "\n",
      "\u4f46\u662f\u5bf9\u4e8e\u67d0\u4e9b\u60c5\u51b5\uff0c\u4ed6\u4ecd\u7136\u4e0d\u80fd\u81ea\u52a8\u7684\u5b8c\u6210\u6240\u6709\u5de5\u4f5c\u3002\n",
      "\n",
      "2\u52303\u8fc1\u79fb\u7684\u4e3b\u8981\u95ee\u9898\u5728\u4e8e\uff0c\u76ee\u524d\u6709\u5f88\u591a\u5e93\uff0c\u4ecd\u7136\u6ca1\u6709\u5b8c\u6210Python3\u7684\u8fc1\u79fb\u5de5\u4f5c\u3002\u8fd9\u5bfc\u81f4\u4f7f\u7528\u8fd9\u4e9b\u5e93\u7f16\u5199\u7684\u7a0b\u5e8f\u5f88\u96be\u5728Python3\u4e0a\u627e\u5230\u66f4\u597d\u7684\uff08\u6216\u8005\u66f4\u4e60\u60ef\u7684\uff09\u66ff\u4ee3\u4ea7\u54c1\u3002\n",
      "\n",
      "\u800c\u8fd9\u4ef6\u4e8b\u60c5\u662f2to3\u811a\u672c\u65e0\u6cd5\u81ea\u52a8\u5b8c\u6210\u7684\u3002"
     ]
    },
    {
     "cell_type": "markdown",
     "metadata": {
      "slideshow": {
       "slide_type": "subslide"
      }
     },
     "source": [
      "## \u6211\u8be5\u7528\u54ea\u4e2a\u7248\u672c/\u54ea\u4e2a\u66f4\u597d\n",
      "\n",
      "\u4efb\u4f55\u80fd\u8ba9\u4f60\u4e0d\u6dfb\u52a0\u989d\u5916\u7684\u9ebb\u70e6\u628a\u5de5\u4f5c\u505a\u4e0b\u6765\u7684\u7248\u672c\u90fd\u662f\u597d\u7684\u3002\n",
      "\n",
      "\u5982\u679cPython2\u548cPython3\u4e00\u6837\u597d\uff0c\u90a3\u4e48Python3\u66f4\u597d\u3002\n",
      "\n",
      "\u56e0\u4e3a\u5f88\u663e\u7136\uff0cPython\u793e\u533a\u5df2\u7ecf\u5ba3\u5e03Python2\u5c06\u505c\u6b62\u7ef4\u62a4\u3002\u5728\u53ef\u89c1\u7684\u65f6\u95f4\u5185\uff0c\u663e\u7136\u90fd\u8981\u4f7f\u7528Python3\u7684\u5199\u6cd5\u3002\n",
      "\n",
      "\u5982\u679c\u80fd\u591f\u4e0d\u6dfb\u52a0\u989d\u5916\u9ebb\u70e6\u7684\u60c5\u51b5\u4e0b\u4f7f\u7528Python3\uff0c\u8fd9\u53ef\u80fd\u4e3a\u5c06\u6765\u7684\u7ef4\u62a4\u5e26\u6765\u4fbf\u5229\u3002"
     ]
    },
    {
     "cell_type": "markdown",
     "metadata": {
      "slideshow": {
       "slide_type": "notes"
      }
     },
     "source": [
      "\u5982\u679c\u4f60\u6b63\u5728\u7ef4\u62a4\u4e00\u4e2a\u73b0\u6709\u7684Python3\u4ee3\u7801\uff08\u81ea\u5df1\u5199\u7684\uff0c\u6216\u8005\u63a5\u624b\u7684\uff09\u3002\u5728\u6ca1\u6709\u660e\u786e\u95ee\u9898\u7684\u60c5\u51b5\u4e0b\uff0c\u4e0d\u5efa\u8bae\u505a2to3\u79fb\u690d\u3002\n",
      "\n",
      "\u56e0\u4e3a\u79fb\u690d\u9700\u8981\u6210\u672c\uff0c\u800c\u9879\u76ee\u6709\u751f\u5b58\u5468\u671f\u3002\u5f88\u96be\u4fdd\u8bc1\u9879\u76ee\u4e00\u5b9a\u80fd\u591f\u6d3b\u5230\u975e\u8fc1\u4e0d\u53ef\u90a3\u4e00\u5929\u3002\u7b49\u5230\u8fd9\u5929\u6765\u4e34\u65f6\u624d\u8fdb\u884c\u8fc1\u79fb\u4e00\u5b9a\u662f\u6210\u672c\u6700\u5c0f\u7684\u3002\n",
      "\n",
      "\u5f53\u7136\uff0c\u5982\u679c\u4f9d\u8d56\u4f60\u7684\u4ee3\u7801\u7684\u4eba\u6709Python3\u8fc1\u79fb\u95ee\u9898\uff0c\u8fd9\u660e\u663e\u5c31\u662f\u4e00\u4e2a\u5fc5\u987b\u79fb\u690d\u7684\u60c5\u51b5\u4e86\u3002"
     ]
    },
    {
     "cell_type": "markdown",
     "metadata": {
      "slideshow": {
       "slide_type": "slide"
      }
     },
     "source": [
      "# \u7b2c\u4e09\u65b9\u8f6f\u4ef6\u5b89\u88c5\n",
      "\n",
      "\u4e24\u5957\u57fa\u672c\u7cfb\u7edf\uff1a\n",
      "\n",
      "* setuptools\n",
      "* pip"
     ]
    },
    {
     "cell_type": "markdown",
     "metadata": {
      "slideshow": {
       "slide_type": "subslide"
      }
     },
     "source": [
      "## setuptools\n",
      "\n",
      "\u7cfb\u7edf\u4e2d\u5fc5\u987b\u5b89\u88c5\u4e86setuptools\uff08\u8bf7\u54a8\u8be2\u7ba1\u7406\u5458\u5b89\u88c5\uff09\uff0c\u6216\u8005\u4f7f\u7528\u4ee5\u4e0b\u6307\u4ee4\u5b89\u88c5\uff1a\n",
      "\n",
      "Linux:\n",
      "\n",
      "    wget https://bootstrap.pypa.io/ez_setup.py -O - | sudo python\n",
      "\n",
      "MacOS:\n",
      "\n",
      "    curl https://bootstrap.pypa.io/ez_setup.py -o - | python"
     ]
    },
    {
     "cell_type": "markdown",
     "metadata": {
      "slideshow": {
       "slide_type": "subslide"
      }
     },
     "source": [
      "## setuptools\u7684\u4f7f\u7528\n",
      "\n",
      "1. easy_install \u5305\u540d\n",
      "2. easy_install \u5b89\u88c5\u5305\u8def\u5f84\u3002\uff08\u8def\u5f84\u53ef\u4ee5\u586b\u5199\u4e00\u4e2aurl\uff0c\u7cfb\u7edf\u4f1a\u4ece\u7f51\u7edc\u4e0a\u4e0b\u8f7d\u5b89\u88c5\uff09\n",
      "3. \u5728\u8f6f\u4ef6\u7684\u5206\u53d1\u5305\u4e2d\u627e\u5230setup.py\uff0c\u76f4\u63a5\u8fd0\u884cpython setup.py install\n",
      "\n",
      "\u8fdb\u4e00\u6b65\u8d44\u6599\u8bf7\u53c2\u8003\uff1ahttps://setuptools.readthedocs.io/en/latest/easy_install.html"
     ]
    },
    {
     "cell_type": "markdown",
     "metadata": {
      "slideshow": {
       "slide_type": "subslide"
      }
     },
     "source": [
      "## pip\n",
      "\n",
      "\u7cfb\u7edf\u4e2d\u5fc5\u987b\u6709pip\uff0c\u5177\u4f53\u8bf7\u54a8\u8be2\u7ba1\u7406\u5458\u3002\u6216\u8005\u4e0b\u8f7d\u8be5\u6587\u4ef6\uff1a\n",
      "\n",
      "https://bootstrap.pypa.io/get-pip.py\n",
      "\n",
      "\u4f7f\u7528python\u6267\u884c\u5b89\u88c5\uff08\u6ce8\u610f\u9700\u8981\u7ba1\u7406\u5458\u6743\u9650\uff09\u3002"
     ]
    },
    {
     "cell_type": "markdown",
     "metadata": {
      "slideshow": {
       "slide_type": "subslide"
      }
     },
     "source": [
      "## pip\u7684\u4f7f\u7528\n",
      "\n",
      "1. pip install \u5305\u540d\n",
      "2. pip install -r requirements.txt \uff08\u81ea\u52a8\u5904\u7406\u91cc\u9762\u7684\u6240\u6709\u4f9d\u8d56\uff09"
     ]
    },
    {
     "cell_type": "markdown",
     "metadata": {
      "slideshow": {
       "slide_type": "subslide"
      }
     },
     "source": [
      "## virtualenv\n",
      "\n",
      "\u529f\u80fd\uff1a\u7528\u4e8e\u9694\u79bb\u51fa\u4e00\u5957\u72ec\u7acb\u7684\u73af\u5883\uff0c\u53ef\u4ee5\u5728\u91cc\u9762\u5b89\u88c5\u5404\u79cd\u5305\uff0c\u800c\u4e0d\u5bf9\u7cfb\u7edf\u9020\u6210\u5f71\u54cd\u3002\n",
      "\n",
      "\u4f7f\u7528\u573a\u666f\uff1a\u53ef\u4ee5\u5728\u7528\u6237\u76ee\u5f55\u4e2d\u5b89\u88c5\u5305\uff0c\u65e0\u9700\u7cfb\u7edf\u6743\u9650\u3002\u4e5f\u53ef\u4ee5\u9694\u79bb\u591a\u4e2a\u73af\u5883\uff0c\u5b89\u88c5\u4e0d\u540c\u7248\u672c\u7684\u4e0d\u540c\u7a0b\u5e8f\u3002\n",
      "\n",
      "\u9650\u5236\uff1avirtualenv\u672c\u8eab\uff0c\u53ca\u5176\u4f9d\u8d56\u7684Python\u662f\u65e0\u6cd5\u9694\u79bb\u7684\u3002"
     ]
    },
    {
     "cell_type": "markdown",
     "metadata": {
      "slideshow": {
       "slide_type": "subslide"
      }
     },
     "source": [
      "## virtualenv\u7684\u4f7f\u7528\n",
      "\n",
      "\u5efa\u7acb\u73af\u5883\uff1avirtualenv \u76ee\u5f55\u540d\n",
      "\n",
      "\u6fc0\u6d3b\u73af\u5883\uff1a\u8fdb\u5165\u76ee\u5f55\u540e\u6267\u884csource bin/activate\n",
      "\n",
      "\u9000\u51fa\u6fc0\u6d3b\u73af\u5883\uff1adeactivate\n",
      "\n",
      "\u9694\u79bb\u73af\u5883\u5185\u7684\u5b89\u88c5\uff1apip\u6216\u8005setup.py\u5747\u53ef\n",
      "\n",
      "\u6ce8\u610f\uff1a\u5b89\u88c5\u5e93\u65f6\u9700\u8981\u7f16\u8bd1\u7684\uff0c\u7cfb\u7edf\u4e2d\u5fc5\u987b\u6709\u7f16\u8bd1\u5de5\u5177\u94fe\u3002"
     ]
    },
    {
     "cell_type": "markdown",
     "metadata": {
      "slideshow": {
       "slide_type": "subslide"
      }
     },
     "source": [
      "## \u8bbf\u95ee\u7cfb\u7edf\u5e93\n",
      "\n",
      "\u5982\u679c\u5728\u4f7f\u7528virtualenv\u7684\u540c\u65f6\uff0c\u4e5f\u60f3\u4f7f\u7528\u7cfb\u7edf\u4e2d\u5b89\u88c5\u7684\u5e93\u3002\u90a3\u4e48\u9700\u8981\u5728\u521b\u5efa\u73af\u5883\u65f6\u7528--system-site-packages\u53c2\u6570\u3002\n",
      "\n",
      "\u4ece\u5de5\u7a0b\u7ba1\u7406\u89d2\u5ea6\uff0c\u6211\u4eec\u4e0d\u63a8\u8350\u8fd9\u79cd\u529e\u6cd5\u3002\u5efa\u8bae\u5c06\u7cfb\u7edf\u4e2d\u7684\u6240\u6709\u5e93\u5728\u865a\u73af\u5883\u4e2d\u518d\u5b89\u88c5\u4e00\u6b21\u3002"
     ]
    },
    {
     "cell_type": "markdown",
     "metadata": {
      "slideshow": {
       "slide_type": "subslide"
      }
     },
     "source": [
      "## \u865a\u62df\u73af\u5883\u7684\u53d1\u5e03\n",
      "\n",
      "\u4f7f\u7528virtualenv\u751f\u6210\u7684\u865a\u62df\u73af\u5883\u53ef\u4ee5\u8fc1\u79fb\u5230\u5176\u4ed6\u673a\u5668\u4e0a\uff0c\u4ece\u800c\u5141\u8bb8\u5c06\u8fd0\u884c\u73af\u5883\u5728\u591a\u53f0\u673a\u5668\u4e0a\u8fc1\u79fb\u3002\u4f46\u662f\u9700\u8981\u6ce8\u610f\u4ee5\u4e0b\u4e8b\u9879\uff1a\n",
      "\n",
      "* virtualenv\u4f9d\u8d56\u4e8e\u76ee\u5f55\u5de5\u4f5c\uff0c\u6240\u4ee5\u6240\u6709\u673a\u5668\u4e0avirtualenv\u5fc5\u987b\u5904\u4e8e\u540c\u4e00\u8def\u5f84\u4e0b\u3002\n",
      "* virtualenv\u4e0d\u80fd\u9694\u79bb\u7cfb\u7edf/Python\u57fa\u7840\u73af\u5883\u3002\u56e0\u6b64\u6240\u6709\u673a\u5668\u5fc5\u987b\u540c\u6784\uff0c\u5e76\u4e14Python\u73af\u5883\u57fa\u672c\u4e00\u81f4\u3002\n",
      "* \u91cc\u9762\u6240\u5b89\u88c5\u7684\u5e93\u6240\u4f9d\u8d56\u7684\u5176\u4ed6\u7cfb\u7edf\u6587\u4ef6\uff0c\u4f8b\u5982\u52a8\u6001\u8fd0\u884c\u5e93\uff0c\u6570\u636e\u6587\u4ef6\u3002\u5982\u679c\u4e0d\u5728virtualenv\u91cc\u5b89\u88c5\u7684\uff0c\u5219\u6bcf\u4e2a\u7cfb\u7edf\u4e0a\u5747\u9700\u8981\u81ea\u884c\u5b89\u88c5\u3002"
     ]
    },
    {
     "cell_type": "markdown",
     "metadata": {
      "slideshow": {
       "slide_type": "subslide"
      }
     },
     "source": [
      "## \u66f4\u8fdb\u4e00\u6b65\u8d44\u6599\n",
      "\n",
      "\u8bf7\u53c2\u8003\u8fd9\u91cc\uff1a\n",
      "\n",
      "https://virtualenv.pypa.io/en/stable/userguide/"
     ]
    },
    {
     "cell_type": "markdown",
     "metadata": {
      "slideshow": {
       "slide_type": "subslide"
      }
     },
     "source": [
      "## \u8f6f\u4ef6\u5305\u5b89\u88c5\u548c\u7ba1\u7406\u5efa\u8bae\n",
      "\n",
      "Python\u9ed8\u8ba4\u60c5\u51b5\u4e0b\u4f1a\u8bd5\u56fe\u5c06\u8f6f\u4ef6\u5305\u5b89\u88c5\u5230\u7cfb\u7edf\u91cc\uff0c\u5982\u679c\u4e0d\u5177\u5907\u7ba1\u7406\u5458\u6743\u9650\uff0c\u9700\u8981\u4f7f\u7528virtualenv\u6765\u5b89\u88c5\u8f6f\u4ef6\u5305\u3002\n",
      "\n",
      "\u5bf9\u4e8eDebian/Ubuntu\u800c\u8a00\uff0c\u5b89\u88c5\u8f6f\u4ef6\u7684\u7b2c\u4e00\u9009\u62e9\u662fapt\u7cfb\u7edf\u3002\u5982\u679c\u627e\u4e0d\u5230\u5305\uff0c\u6216\u7248\u672c\u4e0d\u5bf9\uff0c\u5efa\u8bae\u91c7\u7528virtualenv + pip\u7684\u65b9\u5f0f\u5b89\u88c5\u3002\n",
      "\n",
      "\u5bf9\u4e8eRHEL/CentOS\u800c\u8a00\uff0c\u5b89\u88c5\u8f6f\u4ef6\u7684\u7b2c\u4e00\u9009\u62e9\u662fyum\u7cfb\u7edf\u3002\u5982\u679c\u627e\u4e0d\u5230\u5305\uff0c\u6216\u7248\u672c\u4e0d\u5bf9\uff0c\u5efa\u8bae\u91c7\u7528virtualenv + pip\u7684\u65b9\u5f0f\u5b89\u88c5\u3002\n",
      "\n",
      "\u5bf9\u4e8eWindows/MacOS\u800c\u8a00\uff0c\u5efa\u8bae\u4f7f\u7528virtualenv + pip\u7684\u65b9\u5f0f\u5b89\u88c5\u3002"
     ]
    }
   ],
   "metadata": {}
  }
 ]
}