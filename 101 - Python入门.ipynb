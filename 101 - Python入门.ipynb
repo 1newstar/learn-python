{
 "metadata": {
  "celltoolbar": "Slideshow",
  "name": "",
  "signature": "sha256:84329998a1c53d7055dbac8af6c46b458a43e67d3e5a460fd5fed6ec3f979dfc"
 },
 "nbformat": 3,
 "nbformat_minor": 0,
 "worksheets": [
  {
   "cells": [
    {
     "cell_type": "markdown",
     "metadata": {
      "slideshow": {
       "slide_type": "slide"
      }
     },
     "source": [
      "# Python\u5165\u95e8"
     ]
    },
    {
     "cell_type": "markdown",
     "metadata": {
      "slideshow": {
       "slide_type": "subslide"
      }
     },
     "source": [
      "# License\n",
      "\n",
      "CC-BY-SA 4.0\n",
      "\n",
      "\u5927\u90e8\u5206\u5185\u5bb9\u6765\u81ea\u201da byte of python\u201d\uff0c\u5728\u6b64\u611f\u8c22\u4f5c\u8005\u3002\n",
      "\n",
      "http://python.swaroopch.com/"
     ]
    },
    {
     "cell_type": "markdown",
     "metadata": {
      "slideshow": {
       "slide_type": "slide"
      }
     },
     "source": [
      "# python\u7684\u5386\u53f2\n",
      "\n",
      "\u4f5c\u8005\uff1aGuido van Rossum\n",
      "\n",
      "\u9996\u6b21\u53d1\u884c\u65f6\u95f4\uff1a1991\n",
      "\n",
      "\u7248\u672c\u7cfb\u5217\uff1a2.7 / 3.5\n",
      "\n",
      "\u5206\u7c7b\uff1a\u5f3a\u7c7b\u578b\u52a8\u6001\u8bed\u8a00\n",
      "\n",
      "\u652f\u6301\u7cfb\u7edf\uff1a\u51e0\u4e4e\u5168\u90e8"
     ]
    },
    {
     "cell_type": "markdown",
     "metadata": {
      "slideshow": {
       "slide_type": "subslide"
      }
     },
     "source": [
      "# \u672c\u8bb2\u4e49\u7684\u517c\u5bb9\u6027\n",
      "\n",
      "\u672c\u8bb2\u4e49\u7684\u57fa\u7840\u73af\u5883\u4e3apython2.7/3.5\u3002\u4ee3\u7801\u5728\u8fd9\u4e24\u79cd\u7cfb\u7edf\u4e0a\u6d4b\u8bd5\u901a\u8fc7\u3002\u5176\u4e2d\u6709\u5c11\u91cf\u4ee3\u7801\u67092/3\u4e0d\u517c\u5bb9\u73b0\u8c61\uff0c\u5728\u8bb2\u8bfe\u65f6\u4f1a\u7279\u522b\u63d0\u51fa\u3002\n",
      "\n",
      "\u672c\u8bb2\u4e49\u7684\u7cfb\u7edf\u73af\u5883\u4e3aLinux(Debian Stretch)\uff0c\u6709\u5c11\u91cf\u6307\u4ee4\u5728windows\u4e0b\u6709\u53d8\u5316\uff0c\u4ea6\u4f1a\u7279\u522b\u63d0\u51fa\u3002"
     ]
    },
    {
     "cell_type": "markdown",
     "metadata": {
      "slideshow": {
       "slide_type": "slide"
      }
     },
     "source": [
      "# python\u73af\u5883\u5b89\u88c5\n",
      "\n",
      "Windows/MacOS:\n",
      "\n",
      "1. \u8bbf\u95ee https://www.python.org/downloads/\n",
      "2. \u4e0b\u8f7d\u5408\u9002\u7684\u7248\u672c\n",
      "3. \u70b9\u51fb\u5b89\u88c5\n",
      "\n",
      "Linux:\n",
      "\n",
      "1. \u591a\u6570\u7cfb\u7edf\u81ea\u5e26\n",
      "2. \u8bf7\u627e\u5bf9\u5e94\u7cfb\u7edf\u624b\u518c"
     ]
    },
    {
     "cell_type": "markdown",
     "metadata": {
      "slideshow": {
       "slide_type": "subslide"
      }
     },
     "source": [
      "# python\u8fd0\u884c\u4ea4\u4e92\u754c\u9762\n",
      "\n",
      "\u5728\u547d\u4ee4\u884c\u4e0b\u6267\u884cpython\uff0c\u8fdb\u5165python\u4ea4\u4e92\u754c\u9762\u3002\u7c7b\u4f3c\u8fd9\u6837\uff1a\n",
      "\n",
      "    Python 2.7.11+ (default, Apr 17 2016, 14:00:29)\n",
      "    [GCC 5.3.1 20160409] on linux2\n",
      "    Type \"help\", \"copyright\", \"credits\" or \"license\" for more information.\n",
      "    >>>\n",
      "\n",
      "\u51fa\u73b0\u8fd9\u4e2a\u754c\u9762\uff0c\u8bf4\u660e\u4f60\u6b63\u5e38\u7684\u5b89\u88c5\u4e86python\u3002"
     ]
    },
    {
     "cell_type": "markdown",
     "metadata": {
      "slideshow": {
       "slide_type": "subslide"
      }
     },
     "source": [
      "# Jupyter\u6f14\u793a\u754c\u9762\n",
      "\n",
      "Jupyter\u662f\u4e00\u79cd\u8bb0\u4e8b\u672c\u5de5\u5177\u3002\u53ef\u4ee5\u63d2\u5165\u4ee3\u7801\uff0c\u8fdb\u884c\u6267\u884c\uff0c\u663e\u793a\u7ed3\u679c\uff0c\u5e76\u628a\u8fd9\u4e9b\u5185\u5bb9\u4fdd\u5b58\u6210\u8bb0\u4e8b\u672c\u4ee5\u4f9b\u540e\u7eed\u67e5\u9605\u3002\n",
      "\n",
      "\u4e0b\u9762\u6211\u4eec\u4f1a\u5927\u91cf\u4f7f\u7528Jupyter\u8fdb\u884c\u4ee3\u7801\u6267\u884c\u5c55\u793a\u3002"
     ]
    },
    {
     "cell_type": "markdown",
     "metadata": {
      "slideshow": {
       "slide_type": "subslide"
      }
     },
     "source": [
      "# \u7b80\u5355\u547d\u4ee4\u6d4b\u8bd5\n",
      "\n",
      "\u5728\u4ea4\u4e92\u754c\u9762\u6572\u51651 + 2\uff0c\u51fa\u73b0\u5982\u4e0b\u7ed3\u679c\uff1a\n",
      "\n",
      "    >>> 1 + 2\n",
      "    3\n",
      "\n",
      "\u5728\u4ea4\u4e92\u754c\u9762\u6572\u5165print(\u20181+2\u2019)\uff0c\u51fa\u73b0\u5982\u4e0b\u7ed3\u679c\uff1a\n",
      "    >>> print('1+2')\n",
      "    1+2"
     ]
    },
    {
     "cell_type": "markdown",
     "metadata": {
      "slideshow": {
       "slide_type": "subslide"
      }
     },
     "source": [
      "# \u6587\u4ef6\u7f16\u8f91\u548c\u6267\u884c\n",
      "\n",
      "\u7528\u4efb\u610f\u7f16\u8f91\u5668\uff08\u968f\u4f60\u559c\u6b22\uff09\u65b0\u5efa\u4e00\u6587\u4ef6\uff0c\u4fee\u6539\u5185\u5bb9\u4e3aprint('1+2')\uff0c\u7136\u540e\u5c06\u5176\u4fdd\u5b58\u4e3axxx.py\u6587\u4ef6\u3002\n",
      "\n",
      "\u7136\u540e\u7528python\u6267\u884c\u6587\u4ef6\uff1apython xxx.py\n",
      "\n",
      "\u6ce8\u610f\uff0c\u5982\u679cpython\u4e0d\u5728\u9ed8\u8ba4\u8def\u5f84\u4e2d\uff08\u5e38\u89c1\u4e8ewindows\uff09\uff0c\u9700\u8981\u5199\u5b8c\u6574\u8def\u5f84\u3002"
     ]
    },
    {
     "cell_type": "markdown",
     "metadata": {
      "slideshow": {
       "slide_type": "slide"
      }
     },
     "source": [
      "# \u57fa\u672c\u5143\u7d20\n",
      "\n",
      "* \u6ce8\u91ca\uff1a\u4ee5#\u5f00\u5934\u7684\u4e3a\u6ce8\u91ca\uff0c\u76f4\u5230\u884c\u7ed3\u675f\u4e3a\u6b62\u3002\n",
      "* \u6570\u5b57\uff1a\u4ee5\u6570\u5b57\uff0c.\u6216\u8005-\u5f00\u5934\u7684\u4e3a\u6570\u5b57\u3002\u5e26\u5c0f\u6570\u70b9.\u7684\u4e3a\u6d6e\u70b9\u6570\uff0c\u4e0d\u5e26\u5c0f\u6570\u70b9\u7684\u4e3a\u6574\u6570\u3002\u652f\u6301\u79d1\u5b66\u8ba1\u6570\u6cd5\uff0c\u4f8b\u598252.3E-4\u3002\n",
      "* \u5b57\u7b26\u4e32\uff1a\u4ee5\u5355\u5f15\u53f7\u2019\uff0c\u53cc\u5f15\u53f7\u201d\uff0c\u4e09\u5f15\u53f7\u2019\u2019\u2019\u5f00\u59cb\uff0c\u540c\u6837\u7b26\u53f7\u7ed3\u675f\u3002\n",
      "\n",
      "\u7ec3\u4e60\uff1a\u5199\u51fa\u4ee5\u4e0a\u4e09\u4e2a\u57fa\u672c\u5143\u7d20\u7684\u4f8b\u5b50\u3002"
     ]
    },
    {
     "cell_type": "markdown",
     "metadata": {
      "slideshow": {
       "slide_type": "subslide"
      }
     },
     "source": [
      "# \u5b57\u7b26\u4e32\u8f6c\u4e49\n",
      "\n",
      "\u5728\u5355\u5f15\u53f7\u5b57\u7b26\u4e32\u4e2d\u8868\u8fbe\u5355\u5f15\u53f7\u9700\u8981\u8f6c\u4e49\uff0c\u53cc\u5f15\u53f7\u548c\u4e09\u5f15\u53f7\u540c\u3002\u4f8b\u5982\uff1a\n",
      "\n",
      "\u201cwhat\u2019s wrong\u201d\u662f\u5408\u6cd5\u5b57\u7b26\u4e32\u3002\u2019what\u2019s wrong\u2019\u4f1a\u51fa\u9519\uff0c\u9700\u8981\u5199\u4e3a\u2019what\\\u2019s wrong\u2019\u3002\n",
      "\n",
      "\u8f6c\u4e49\u4e5f\u53ef\u4ee5\u7528\u4e8e\u8868\u8fbe\u4e0d\u53ef\u89c1\u5b57\u7b26\uff0c\u4f8b\u5982tab\uff1a\\t\u3002\n",
      "\n",
      "\u5982\u679c\u8981\u8868\u8fbe\\\u672c\u8eab\uff0c\u4e5f\u9700\u8981\u8f6c\u4e49\uff0c\u5199\u4e3a\\\\\u3002"
     ]
    },
    {
     "cell_type": "markdown",
     "metadata": {
      "slideshow": {
       "slide_type": "subslide"
      }
     },
     "source": [
      "# raw string\n",
      "\n",
      "\u5728\u5b57\u7b26\u4e32\u7684\u5f00\u59cb\u52a0r\uff0c\u4f7f\u5f97\u5b57\u7b26\u4e32\u4e2d\u4e0d\u53d1\u751f\u8f6c\u4e49\u3002\n",
      "\n",
      "\u5e38\u7528\u4e8e\u5927\u91cf\u9700\u8981\u8868\u8fbe\\\u7684\u5b57\u7b26\u4e32\u3002"
     ]
    },
    {
     "cell_type": "markdown",
     "metadata": {
      "slideshow": {
       "slide_type": "subslide"
      }
     },
     "source": [
      "# Unicode\u5b57\u7b26\u4e32\n",
      "\n",
      "\u5728\u5b57\u7b26\u4e32\u524d\u52a0u\uff0c\u8868\u793a\u8fd9\u662f\u4e00\u4e2aunicode\u5b57\u7b26\u4e32\u3002\n",
      "\n",
      "unicode\u5b57\u7b26\u4e32\u548c\u666e\u901a\u5b57\u7b26\u4e32\u7684\u533a\u522b\u5728\u4e8e\u3002unicode\u5b57\u7b26\u4e32\u4e2d\uff0c\u6bcf\u4e00\u4e2a\u4f4d\u8868\u793a\u4e00\u4e2a\u201c\u5b57\u201d\u3002\u800c\u666e\u901a\u5b57\u7b26\u4e32\u4e2d\uff0c\u4e00\u4e2a\u201c\u5b57\u201d\u53ef\u80fd\u7531\u591a\u4e2a\u4f4d\u8868\u793a\u3002\u5c24\u5176\u662f\u4e2d\u6587\u7684\u60c5\u51b5\u4e0b\u3002\n",
      "\n",
      "unicode\u5b57\u7b26\u4e32\u548c\u666e\u901a\u5b57\u7b26\u4e32\u5916\u5f62\u76f8\u4f3c\uff0c\u4f46\u662f\u5f88\u591a\u5730\u65b9\u65e0\u6cd5\u6df7\u7528\u3002\n",
      "\n",
      "\u66f4\u8fdb\u4e00\u6b65\u4fe1\u606f\u5728\u201c\u5b57\u7b26\u7f16\u7801\u7b80\u8bf4\u201d\u8fd9\u7ae0\u6709\u8be6\u7ec6\u89e3\u91ca\u3002"
     ]
    },
    {
     "cell_type": "markdown",
     "metadata": {
      "slideshow": {
       "slide_type": "subslide"
      }
     },
     "source": [
      "# \u53d8\u91cf\n",
      "\n",
      "\u53d8\u91cf\u9700\u8981\u4e00\u4e2a\u540d\u5b57\u3002\n",
      "\n",
      "\u9996\u5b57\u6bcd\u9700\u8981\u662f\u5b57\u6bcd\u6216\u4e0b\u5212\u7ebf\uff0c\u5176\u4f59\u90e8\u5206\u53ef\u4ee5\u662f\u5b57\u6bcd\uff0c\u4e0b\u5212\u7ebf\u548c\u6570\u5b57\u3002\n",
      "\n",
      "\u53d8\u91cf\u5927\u5c0f\u5199\u654f\u611f\uff0c\u4f46\u662f\u4f7f\u7528\u5927\u5c0f\u5199\u533a\u5206\u53d8\u91cf\u662f\u4e0d\u53ef\u53d6\u7684\u3002"
     ]
    },
    {
     "cell_type": "markdown",
     "metadata": {
      "slideshow": {
       "slide_type": "subslide"
      }
     },
     "source": [
      "# \u53d8\u91cf\u7c7b\u578b\n",
      "\n",
      "\u6bcf\u4e2a\u53d8\u91cf\u90fd\u4f1a\u6307\u5411\u4e00\u4e2a\u503c\uff0c\u6bcf\u4e2a\u503c\u90fd\u62e5\u6709\u4e00\u4e2a\u7c7b\u578b\u3002\n",
      "\n",
      "\u53d8\u91cf\u5728\u8fd0\u884c\u8fc7\u7a0b\u4e2d\u53ef\u4ee5\u6307\u5411\u4e0d\u540c\u7684\u503c\uff0c\u62e5\u6709\u4e0d\u540c\u7684\u7c7b\u578b\u3002\n",
      "\n",
      "\u56e0\u6b64\u5728\u8fd0\u884c\u524d\u65e0\u6cd5\u77e5\u9053\u540d\u5b57\u6240\u5bf9\u5e94\u7684\u7c7b\u578b\u3002\uff08\u52a8\u6001\u7c7b\u578b\u8bed\u8a00\u7279\u5f81\uff09"
     ]
    },
    {
     "cell_type": "markdown",
     "metadata": {
      "slideshow": {
       "slide_type": "slide"
      }
     },
     "source": [
      "# \u7b97\u7b26\n",
      "\n",
      "\u7b97\u7b26\u662f\u8fde\u63a5\u4e00\u4e2a\u6216\u591a\u4e2a\u5143\u7d20\u7684\u7b26\u53f7\uff0c\u7528\u6765\u8868\u8fbe\u8ba1\u7b97\u3002\n",
      "\n",
      "\u5e38\u89c1\u7b97\u7b26\uff1a\n",
      "\n",
      "    + - * ** / // % << >> & | ^ ~ < > <= >= == != not and or\n",
      "\n",
      "\u7b97\u7b26\u548c\u8d4b\u503c\u7684\u5feb\u901f\u5199\u6cd5\n",
      "\n",
      "    a = 10\n",
      "    a = a + 10\n",
      "    a += 10"
     ]
    },
    {
     "cell_type": "markdown",
     "metadata": {
      "slideshow": {
       "slide_type": "notes"
      }
     },
     "source": [
      "\u53ef\u4ee5\u6311\u8bb2\u5e38\u89c1\u7b97\u7b26\u3002\u4e00\u822c+ - * /\u9700\u8981\u91cd\u70b9\u8bb2\u89e3\uff0c\u5176\u4ed6\u7b97\u7b26\u53ef\u4ee5\u7b80\u5355\u4ecb\u7ecd\uff0c\u7b49\u5230\u5408\u9002\u7684\u673a\u4f1a\u518d\u8bb2\u3002\n",
      "\n",
      "\u5728\u8fd9\u91cc\uff0c/\u548c//\u7b97\u7b26\uff0c2\u548c3\u7684\u5dee\u5f02\u662f\u5e38\u88ab\u63d0\u5230\u7684\u8bdd\u9898\u3002//\u662f\u6574\u6570\u9664\u6cd5\uff0c\u65e0\u8bba\u53c2\u4e0e\u6570\u662f\u6d6e\u70b9\u8fd8\u662f\u6574\u6570\u3002\n",
      "\n",
      "\u53e6\u4e00\u4e2a\u8bb2\u89e3\u91cd\u70b9\u5728\u4e8epython\u4e0d\u4f1a\u81ea\u52a8\u8f6c\u6362\u7c7b\u578b\u3002\u8fd9\u70b9\u5373\u662f\u201c\u5f3a\u7c7b\u578b\u8bed\u8a00\u201d\u3002"
     ]
    },
    {
     "cell_type": "markdown",
     "metadata": {
      "slideshow": {
       "slide_type": "subslide"
      }
     },
     "source": [
      "# \u7b97\u7b26\u4f18\u5148\u7ea7\n",
      "\n",
      "* lambda\n",
      "* if - else\n",
      "* or\n",
      "* and\n",
      "* not\n",
      "* in, not in, is, is not, <, <=, >, >=, !=, == \n",
      "* |\n",
      "* ^\n",
      "* &\n",
      "* <<, >>\n",
      "* +, -\n",
      "* *, /, //, %\n",
      "* +x, -x, ~x\n",
      "* \\*\\*\n",
      "* x[index], x[index:index], x(arguments...), x.attribute\n",
      "* (expressions...), [expressions...], {key: value...}, {expressions...} \n",
      "\n",
      "\u4f7f\u7528()\u53ef\u4ee5\u6539\u53d8\u4f18\u5148\u7ea7\u987a\u5e8f"
     ]
    },
    {
     "cell_type": "markdown",
     "metadata": {
      "slideshow": {
       "slide_type": "notes"
      }
     },
     "source": [
      "\u540c\u6837\u6311\u8bb2\u4f18\u5148\u7ea7\uff0c\u91cd\u70b9\u51e0\u4e4e\u53ea\u6709+ - * /\u4e4b\u95f4\u3002101\u4e0d\u8981\u5168\u90e8\u5c55\u5f00\u3002\n",
      "\u800c\u4e14\u4f18\u5148\u7ea7\u7684\u6b63\u89e3\u5e94\u5f53\u662f\u5c3d\u91cf\u4f7f\u7528()\uff0c\u4e0d\u786e\u5b9a\u7684\u5e94\u5f53\u7528python\u53bb\u89e3\u51b3\u800c\u4e0d\u662f\u5927\u8111\u3002"
     ]
    },
    {
     "cell_type": "markdown",
     "metadata": {
      "slideshow": {
       "slide_type": "subslide"
      }
     },
     "source": [
      "# \u7ec3\u4e60\n",
      "\n",
      "\u8ba1\u7b97\u4ee5\u4e0b\u8868\u8fbe\u5f0f\u7684\u6c42\u503c\u987a\u5e8f\uff0c\u5e76\u6c42\u503c\u7b97\u51fa\u7ed3\u679c\uff1a\n",
      "\n",
      "    1 + 8 <= 1 + 2 * 3\n",
      "    1 + 2 and 3 * 4 or 5 ** 6"
     ]
    },
    {
     "cell_type": "markdown",
     "metadata": {
      "slideshow": {
       "slide_type": "notes"
      }
     },
     "source": [
      "\u5f3a\u8c03\u503c\u7684\u771f\u5047\uff0cand\u548cor\u7684\u8fd0\u7b97\u7279\u6027\u3002"
     ]
    },
    {
     "cell_type": "markdown",
     "metadata": {
      "slideshow": {
       "slide_type": "subslide"
      }
     },
     "source": [
      "# \u8868\u8fbe\u5f0f\n",
      "\n",
      "\u8868\u8fbe\u5f0f\u4e3a\u4e00\u4e32\u7531\u7b97\u7b26\u8fde\u63a5\u7684\u5143\u7d20\u3002\n",
      "\n",
      "\u8868\u8fbe\u5f0f\u4e00\u822c\u4f1a\u6709\u503c\uff0c\u503c\u4e3a\u6309\u7167\u4f18\u5148\u7ea7\u4f9d\u6b21\u6c42\u89e3\u8868\u8fbe\u5f0f\u5f97\u5230\u7684\u7ed3\u679c\u3002\u6709\u4e9b\u8868\u8fbe\u5f0f\u5728\u8bed\u6cd5\u4e0a\u4ea6\u4e0d\u53ef\u6c42\u503c\u3002\n",
      "\n",
      "\u8868\u8fbe\u5f0f\u9664\u4e86\u503c\u4ee5\u5916\uff0c\u8fd8\u53ef\u80fd\u9020\u6210\u201c\u526f\u4f5c\u7528\u201d\u3002\u5373\u9020\u6210\u73af\u5883\u6539\u53d8\uff0c\u6216\u6267\u884c\u67d0\u4e9b\u64cd\u4f5c\u3002"
     ]
    },
    {
     "cell_type": "markdown",
     "metadata": {
      "slideshow": {
       "slide_type": "subslide"
      }
     },
     "source": [
      "# \u683c\u5f0f\u5316\u5b57\u7b26\u4e32\n",
      "\n",
      "\u5c06\u53d8\u91cf\u7684\u503c\u683c\u5f0f\u5316\u5230\u5b57\u7b26\u4e32\u4e2d\uff0c\u5f62\u6210\u65b0\u7684\u5b57\u7b26\u4e32\u3002\u5e38\u7528\u4e8e\u8f93\u51fa\u6570\u636e\u5185\u5bb9\u3002"
     ]
    },
    {
     "cell_type": "markdown",
     "metadata": {
      "slideshow": {
       "slide_type": "subslide"
      }
     },
     "source": [
      "# \u7ec3\u4e60\n",
      "\n",
      "* \u7f16\u5199\u4e00\u884c\u4ee3\u7801\uff0c\u6253\u5370\u51fahello, world\u3002\n",
      "* \u5047\u5b9a\u6709\u53d8\u91cfname\uff0c\u503c\u4e3a\u4f60\u7684\u540d\u5b57\u3002\u7f16\u5199\u4ee3\u7801\u6253\u5370\u51fahello, [your name]\u3002"
     ]
    },
    {
     "cell_type": "markdown",
     "metadata": {
      "slideshow": {
       "slide_type": "slide"
      }
     },
     "source": [
      "# \u6267\u884c\u6d41\u63a7\u5236\n",
      "\n",
      "\u6267\u884c\u6d41\u63a7\u5236\u4ee3\u7801\u63a7\u5236\u6d41\u7684\u5148\u540e\u6267\u884c\u987a\u5e8f\u3002"
     ]
    },
    {
     "cell_type": "markdown",
     "metadata": {
      "slideshow": {
       "slide_type": "subslide"
      }
     },
     "source": [
      "# \u903b\u8f91\u884c\u548c\u7269\u7406\u884c\n",
      "\n",
      "Python\u8bed\u53e5\u6267\u884c\u4ee5\u884c\u4e3a\u5355\u4f4d\u3002\u6bcf\u884c\u53ef\u9009\u7684\u53ef\u4ee5\u4ee5\u5206\u53f7;\u7ed3\u5c3e\u3002\n",
      "\n",
      "\u4f46\u662f\u7269\u7406\u4e0a\u7684\u4e00\u884c\u53ef\u4ee5\u5305\u542b\u591a\u4e2a\u6267\u884c\u5355\u4f4d\uff0c\u4f8b\u5982\uff1a\n",
      "\n",
      "    i = 5; print(i);\n",
      "    \n",
      "\u540c\u4e00\u4e2a\u6267\u884c\u5355\u4f4d\u4e5f\u53ef\u4ee5\u62c6\u5206\u4e3a\u591a\u884c\uff0c\u4f8b\u5982\uff1a\n",
      "\n",
      "    print(\n",
      "    \u2018Hello, world\u2019)"
     ]
    },
    {
     "cell_type": "markdown",
     "metadata": {
      "slideshow": {
       "slide_type": "subslide"
      }
     },
     "source": [
      "# \u683c\u5f0f\u5bf9\u9f50\n",
      "\n",
      "Python\u4f7f\u7528\u5bf9\u9f50\u8868\u8fbe\u903b\u8f91\uff0c\u4f8b\u5982\uff1a\n",
      "\n",
      "    if a == 1:\n",
      "        print('ok')\n",
      "    print('done')\n",
      "\n",
      "\u5f53print(\u2018done\u2019)\u548cif\u5bf9\u9f50\u65f6\uff0c\u5fc5\u7136\u88ab\u6267\u884c\u3002\u800c\u548cprint(\u2018ok\u2019)\u5bf9\u9f50\u65f6\uff0c\u5728\u6761\u4ef6\u4e0b\u6267\u884c\u3002\n",
      "\n",
      "\u56e0\u6b64\u5bf9\u9f50\u4e0d\u5408\u9002\u7684\u4ee3\u7801\u4f1a\u5f15\u53d1\u8bed\u6cd5\u9519\u8bef\u3002"
     ]
    },
    {
     "cell_type": "markdown",
     "metadata": {
      "slideshow": {
       "slide_type": "subslide"
      }
     },
     "source": [
      "# \u5355\u884c\u5199\u6cd5\n",
      "\n",
      "    if True: print(\u2018ok\u2019)"
     ]
    },
    {
     "cell_type": "markdown",
     "metadata": {
      "slideshow": {
       "slide_type": "subslide"
      }
     },
     "source": [
      "# \u5e38\u89c1\u6267\u884c\u6d41\u63a7\u5236\u8bed\u53e5\n",
      "\n",
      "* if\n",
      "* while\n",
      "* for\n",
      "* break\n",
      "* continue"
     ]
    },
    {
     "cell_type": "markdown",
     "metadata": {
      "slideshow": {
       "slide_type": "subslide"
      }
     },
     "source": [
      "# \u7ec3\u4e60\n",
      "\n",
      "\u8bf4\u51fa\u4e0b\u9762\u4ee3\u7801\u7684\u6267\u884c\u8fc7\u7a0b\u548c\u8f93\u51fa\u7ed3\u679c\uff1a\n",
      "\n",
      "    for i in range(10):\n",
      "        if i < 5:\n",
      "            continue\n",
      "        elif i > 9:\n",
      "            break\n",
      "        else:\n",
      "            print(i)"
     ]
    },
    {
     "cell_type": "markdown",
     "metadata": {
      "slideshow": {
       "slide_type": "slide"
      }
     },
     "source": [
      "# \u51fd\u6570\u7684\u5b9a\u4e49\u548c\u8c03\u7528\n",
      "\n",
      "\u5b9a\u4e49\uff1a\n",
      "\n",
      "    def say_hello():\n",
      "        print('hello world')\n",
      "\n",
      "\u8c03\u7528\uff1a\n",
      "\n",
      "    say_hello()"
     ]
    },
    {
     "cell_type": "markdown",
     "metadata": {
      "slideshow": {
       "slide_type": "subslide"
      }
     },
     "source": [
      "# \u53c2\u6570\n",
      "\n",
      "\u53ef\u4ee5\u901a\u8fc7\u53c2\u6570\u5411\u51fd\u6570\u4f20\u9012\u6570\u636e\u3002"
     ]
    },
    {
     "cell_type": "markdown",
     "metadata": {
      "slideshow": {
       "slide_type": "notes"
      }
     },
     "source": [
      "\u5751\u7239\u3002print_max(3, '4')\u5c45\u7136\u4e5f\u80fd\u6267\u884c\u3002\u8bf4\u597d\u7684\u5f3a\u7c7b\u578b\u5462\uff1f\n",
      "\n",
      "\u9700\u8981\u7740\u91cd\u58f0\u660e\u4f8b\u5b50\u4e2d\u7684\u8fd4\u56de\u662f\u8fdd\u80cc\u5e38\u7406\u7684\u3002"
     ]
    },
    {
     "cell_type": "markdown",
     "metadata": {
      "slideshow": {
       "slide_type": "subslide"
      }
     },
     "source": [
      "# \u5c40\u90e8\u53d8\u91cf\n",
      "\n",
      "\u5728\u51fd\u6570\u4f53\u5185\u5b9a\u4e49\u7684\u53d8\u91cf\u79f0\u4e3a\u5c40\u90e8\u53d8\u91cf\u3002\n",
      "\n",
      "\u5c40\u90e8\u53d8\u91cf\u5728\u51fd\u6570\u6267\u884c\u65f6\u4ea7\u751f\uff0c\u5728\u51fd\u6570\u7ed3\u675f\u65f6\u6d88\u4ea1\u3002\u51fd\u6570\u5916\u65e0\u6cd5\u770b\u5230\u5c40\u90e8\u53d8\u91cf\u3002\n",
      "\n",
      "\u53c2\u6570\u53ef\u89c6\u4e3a\u4e00\u79cd\u5c40\u90e8\u53d8\u91cf\u3002\n",
      "\n",
      "\u5bf9\u5c40\u90e8\u53d8\u91cf\u7684\u4fee\u6539\u4e0d\u5f71\u54cd\u5168\u5c40\u53d8\u91cf\u3002"
     ]
    },
    {
     "cell_type": "markdown",
     "metadata": {
      "slideshow": {
       "slide_type": "subslide"
      }
     },
     "source": [
      "# \u5168\u5c40\u53d8\u91cf\n",
      "\n",
      "\u5728\u6a21\u5757\u5185\u5b9a\u4e49\u7684\u53d8\u91cf\u53eb\u5168\u5c40\u53d8\u91cf\u3002\n",
      "\n",
      "\u5168\u5c40\u53d8\u91cf\u5728\u5168\u5c40\u53ef\u89c1\uff0c\u51fd\u6570\u4f53\u5185\u53ef\u4ee5\u5f15\u7528\u5168\u5c40\u53d8\u91cf\u3002\n",
      "\n",
      "\u51fd\u6570\u53ef\u4ee5\u7528global\u5173\u952e\u5b57\u58f0\u660e\u67d0\u53d8\u91cf\u662f\u5168\u5c40\u7684\u3002"
     ]
    },
    {
     "cell_type": "markdown",
     "metadata": {
      "slideshow": {
       "slide_type": "subslide"
      }
     },
     "source": [
      "# \u4f5c\u7528\u57df\n",
      "\n",
      "\u53d8\u91cf\u53ef\u89c1\u7684\u8303\u56f4\u53eb\u505a\u53d8\u91cf\u7684\u4f5c\u7528\u57df\u3002\u5c40\u90e8\u53d8\u91cf\u7684\u4f5c\u7528\u57df\u5728\u51fd\u6570\u5185\uff0c\u5168\u5c40\u53d8\u91cf\u7684\u4f5c\u7528\u57df\u5728\u6a21\u5757\u5185\uff08\u5173\u4e8e\u6a21\u5757\u540e\u6587\u4f1a\u8bb2\uff09\u3002\n",
      "\n",
      "\u4f5c\u7528\u57df\u7684\u57fa\u672c\u539f\u5219\u662f\uff0c\u5185\u5c42\u4f5c\u7528\u57df\u53ef\u8bbf\u95ee\u5916\u5c42\u4f5c\u7528\u57df\u7684\u53d8\u91cf\uff0c\u53cd\u4e4b\u5916\u5c42\u4e0d\u53ef\u8bbf\u95ee\u5185\u5c42\u53d8\u91cf\u3002\u5982\u679c\u4e24\u4e2a\u4f5c\u7528\u57df\u5185\u6709\u540c\u4e00\u4e2a\u540d\u5b57\uff0c\u90a3\u4e48\u5185\u5c42\u7684\u8d77\u4f5c\u7528\u3002"
     ]
    },
    {
     "cell_type": "markdown",
     "metadata": {
      "slideshow": {
       "slide_type": "subslide"
      }
     },
     "source": [
      "# unbound\u5f02\u5e38\n",
      "\n",
      "python\u5185\u7684\u201clocal\u4e2d\u6709\u53d8\u91cf\u5b9a\u4e49\u201d\uff0c\u662f\u4ee5local\u4e2d\u5b58\u5728\u5bf9\u53d8\u91cf\u6784\u5efa\u7684\u8bed\u6cd5\uff08\u4f8b\u5982\u8d4b\u503c\uff09\u4e3a\u6807\u51c6\u7684\u3002\n",
      "\u8fd9\u4e2a\u6784\u5efa\u8bed\u6cd5\u6240\u5728\u884c\u53ef\u80fd\u5c1a\u672a\u6267\u884c\uff08\u6216\u6c38\u8fdc\u65e0\u6cd5\u6267\u884c\u5230\uff09\uff0c\u4f46\u662f\u8fd9\u5e76\u4e0d\u5f71\u54cd\u201clocal\u4e2d\u6709\u53d8\u91cf\u5b9a\u4e49\u201d\u8fd9\u4e2a\u4e8b\u5b9e\u3002\n",
      "\n",
      "\u5f53local\u4e2d\u5b9a\u4e49\u4e86\u53d8\u91cf\uff0c\u4f46\u662f\u53d8\u91cf\u5c1a\u672a\u5b8c\u6210\u6784\u5efa\u65f6\uff0c\u5bf9\u53d8\u91cf\u505a\u5f15\u7528\uff0c\u4f1a\u53d1\u751f\u4ec0\u4e48\uff1f"
     ]
    },
    {
     "cell_type": "markdown",
     "metadata": {
      "slideshow": {
       "slide_type": "subslide"
      }
     },
     "source": [
      "# \u53c2\u6570\u9ed8\u8ba4\u503c\n",
      "\n",
      "\u51fd\u6570\u5b9a\u4e49\u65f6\uff0c\u53ef\u4ee5\u7ed9\u53c2\u6570\u4e00\u4e2a\u503c\u3002\u5f53\u8c03\u7528\u65f6\uff0c\u8be5\u53c2\u6570\u5e76\u672a\u7ed9\u51fa\u7684\u60c5\u51b5\u4e0b\uff0c\u4f7f\u7528\u9ed8\u8ba4\u503c\u3002\n",
      "\n",
      "\u63d0\u793a\uff1a\u4ece\u5b89\u5168\u6027\u89d2\u5ea6\u6765\u8bf4\uff0c\u4e0d\u8981\u4f7f\u7528\u53ef\u53d8\u5bf9\u8c61\u4f5c\u4e3a\u53c2\u6570\u9ed8\u8ba4\u503c\u3002"
     ]
    },
    {
     "cell_type": "markdown",
     "metadata": {
      "slideshow": {
       "slide_type": "subslide"
      }
     },
     "source": [
      "# \u8fd4\u56de\u503c\n",
      "\n",
      "\u5c06\u51fd\u6570\u5185\u6570\u636e\u4f20\u9012\u56de\u53bb\u3002"
     ]
    },
    {
     "cell_type": "markdown",
     "metadata": {
      "slideshow": {
       "slide_type": "subslide"
      }
     },
     "source": [
      "#\u591a\u503c\u8fd4\u56de\n",
      "\n",
      "Python\u5141\u8bb8\u4e00\u6b21\u8fd4\u56de\u591a\u4e2a\u503c\u3002\n",
      "\n",
      "\u591a\u503c\u8fd4\u56de\u7684\u672c\u8d28\u662f\u4f7f\u7528tuple\u4e2d\u8f6c\uff08\u540e\u9762\u8be6\u7ec6\u8bb2\u89e3\uff09\u3002"
     ]
    },
    {
     "cell_type": "markdown",
     "metadata": {
      "slideshow": {
       "slide_type": "notes"
      }
     },
     "source": [
      "\u63d0\u524d\u5f3a\u8c03\u201c\u6700\u5c0f\u60ca\u8bb6\u539f\u5219\u201d\u3002"
     ]
    },
    {
     "cell_type": "markdown",
     "metadata": {
      "slideshow": {
       "slide_type": "subslide"
      }
     },
     "source": [
      "# Doc string\n",
      "\n",
      "Python\u5141\u8bb8\u4e3a\u6bcf\u4e2a\u51fd\u6570\u589e\u52a0\u4e00\u4e2a\u6587\u6863\u5b57\u7b26\u4e32\uff0c\u8fd9\u4e2a\u6587\u6863\u5b57\u7b26\u4e32\u53ef\u4ee5\u88ab\u4ee3\u7801\u8bbf\u95ee\u3002\n",
      "\n",
      "\u5177\u4f53\u65b9\u5f0f\u662f\uff0c\u5728\u51fd\u6570\u7684\u7b2c\u4e00\u4e2a\u903b\u8f91\u884c\u5b9a\u4e49\u4e00\u4e2a\u5b57\u7b26\u4e32\uff08\u4e0d\u6267\u884c\u4efb\u4f55\u64cd\u4f5c\uff09\u3002\n",
      "\n",
      "\u8bbf\u95ee\u65b9\u5f0f\u662ffunction.\\_\\_doc\\_\\_\u3002"
     ]
    },
    {
     "cell_type": "markdown",
     "metadata": {
      "slideshow": {
       "slide_type": "notes"
      }
     },
     "source": [
      "\u8bb2\u89e3doc string\u5728\u6587\u6863\u91cc\u7684\u4f5c\u7528\uff0c\u5bf9\u6bd4java doc\u3002"
     ]
    },
    {
     "cell_type": "markdown",
     "metadata": {
      "slideshow": {
       "slide_type": "subslide"
      }
     },
     "source": [
      "# lambda\n",
      "\n",
      "\u4e00\u79cd\u5feb\u901f\u5b9a\u4e49\u7b80\u5355\u51fd\u6570\u7684\u65b9\u6cd5\u3002"
     ]
    },
    {
     "cell_type": "markdown",
     "metadata": {
      "slideshow": {
       "slide_type": "subslide"
      }
     },
     "source": [
      "# \u7ec3\u4e60\n",
      "\n",
      "\u5b9a\u4e49fib\u51fd\u6570\u3002\n",
      "\n",
      "\u8f93\u5165n\uff0cfib\u7684\u8f93\u51fa\u4e3a\u6570\u5217\u7b2cn\u9879\u7684\u503c\u3002\n",
      "\n",
      "\u6570\u5217\u67d0\u9879\u7b49\u4e8e\u524d\u4e24\u9879\u4e4b\u548c\u3002"
     ]
    },
    {
     "cell_type": "markdown",
     "metadata": {
      "slideshow": {
       "slide_type": "notes"
      }
     },
     "source": [
      "\u53ef\u6f14\u793a\u9012\u5f52\u548c\u5faa\u73af\u7b97\u6cd5\uff0c\u6bd4\u8f83\u5176\u7279\u6027\u3002\u8bf4\u660e\u7b80\u6d01\u548c\u5feb\u901f\u7684\u77db\u76fe\u3002\n",
      "\n",
      "\u53ef\u4ee5\u5728\u6700\u540e\u4f7f\u7528for\u5faa\u73af\u6253\u5370\u8f93\u51fa\uff0c\u4e3a\u540e\u9762\u201c__main__\u6807\u51c6\u5199\u6cd5\u201d\u6253\u57fa\u7840\u3002"
     ]
    }
   ],
   "metadata": {}
  }
 ]
}