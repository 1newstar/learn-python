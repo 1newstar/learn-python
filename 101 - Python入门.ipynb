{
 "metadata": {
  "name": "",
  "signature": "sha256:3f01d8afe5e4058736825c9d2fba24aa92acfdf66455984101e8fc51c1113d81"
 },
 "nbformat": 3,
 "nbformat_minor": 0,
 "worksheets": [
  {
   "cells": [
    {
     "cell_type": "heading",
     "level": 1,
     "metadata": {},
     "source": [
      "\u7b80\u5355\u547d\u4ee4\u6d4b\u8bd5"
     ]
    },
    {
     "cell_type": "code",
     "collapsed": false,
     "input": [
      "1 + 2"
     ],
     "language": "python",
     "metadata": {},
     "outputs": [
      {
       "metadata": {},
       "output_type": "pyout",
       "prompt_number": 1,
       "text": [
        "3"
       ]
      }
     ],
     "prompt_number": 1
    },
    {
     "cell_type": "code",
     "collapsed": false,
     "input": [
      "print('1+2')"
     ],
     "language": "python",
     "metadata": {},
     "outputs": [
      {
       "output_type": "stream",
       "stream": "stdout",
       "text": [
        "1+2\n"
       ]
      }
     ],
     "prompt_number": 2
    },
    {
     "cell_type": "heading",
     "level": 1,
     "metadata": {},
     "source": [
      "\u6587\u4ef6\u7f16\u8f91\u548c\u6267\u884c"
     ]
    },
    {
     "cell_type": "markdown",
     "metadata": {},
     "source": [
      "\u4ee5\u4e0b\u4ee3\u7801\uff0c%%\u5f00\u5934\u7684\u4e3ajupyter\u5185\u90e8\u6307\u4ee4\u3002writefile\u4e3a\u5199\u5165\u6587\u4ef6\u3002\n",
      "\n",
      "!\u5f00\u5934\u7684\u4e3a\u7cfb\u7edf\u6307\u4ee4\u3002cat\u548crm\u4e3alinux\u7cfb\u7edf\u6307\u4ee4\uff0cwindows\u4e0b\u9700\u8981\u505a\u53d8\u66f4\u3002"
     ]
    },
    {
     "cell_type": "code",
     "collapsed": false,
     "input": [
      "%%writefile test.py\n",
      "print('1+2')"
     ],
     "language": "python",
     "metadata": {},
     "outputs": [
      {
       "output_type": "stream",
       "stream": "stdout",
       "text": [
        "Writing test.py\n"
       ]
      }
     ],
     "prompt_number": 3
    },
    {
     "cell_type": "code",
     "collapsed": false,
     "input": [
      "!cat test.py"
     ],
     "language": "python",
     "metadata": {},
     "outputs": [
      {
       "output_type": "stream",
       "stream": "stdout",
       "text": [
        "print('1+2')"
       ]
      }
     ],
     "prompt_number": 4
    },
    {
     "cell_type": "code",
     "collapsed": false,
     "input": [
      "!python test.py"
     ],
     "language": "python",
     "metadata": {},
     "outputs": [
      {
       "output_type": "stream",
       "stream": "stdout",
       "text": [
        "1+2\r\n"
       ]
      }
     ],
     "prompt_number": 5
    },
    {
     "cell_type": "code",
     "collapsed": false,
     "input": [
      "!rm test.py"
     ],
     "language": "python",
     "metadata": {},
     "outputs": [],
     "prompt_number": 6
    },
    {
     "cell_type": "heading",
     "level": 1,
     "metadata": {},
     "source": [
      "\u57fa\u672c\u5143\u7d20"
     ]
    },
    {
     "cell_type": "code",
     "collapsed": false,
     "input": [
      "52.3E-4"
     ],
     "language": "python",
     "metadata": {},
     "outputs": [
      {
       "metadata": {},
       "output_type": "pyout",
       "prompt_number": 7,
       "text": [
        "0.00523"
       ]
      }
     ],
     "prompt_number": 7
    },
    {
     "cell_type": "code",
     "collapsed": false,
     "input": [
      "'string'"
     ],
     "language": "python",
     "metadata": {},
     "outputs": [
      {
       "metadata": {},
       "output_type": "pyout",
       "prompt_number": 8,
       "text": [
        "'string'"
       ]
      }
     ],
     "prompt_number": 8
    },
    {
     "cell_type": "code",
     "collapsed": false,
     "input": [
      "\"string\""
     ],
     "language": "python",
     "metadata": {},
     "outputs": [
      {
       "metadata": {},
       "output_type": "pyout",
       "prompt_number": 9,
       "text": [
        "'string'"
       ]
      }
     ],
     "prompt_number": 9
    },
    {
     "cell_type": "code",
     "collapsed": false,
     "input": [
      "'''string'''"
     ],
     "language": "python",
     "metadata": {},
     "outputs": [
      {
       "metadata": {},
       "output_type": "pyout",
       "prompt_number": 10,
       "text": [
        "'string'"
       ]
      }
     ],
     "prompt_number": 10
    },
    {
     "cell_type": "heading",
     "level": 1,
     "metadata": {},
     "source": [
      "\u5b57\u7b26\u4e32\u8f6c\u4e49"
     ]
    },
    {
     "cell_type": "code",
     "collapsed": false,
     "input": [
      "'what\\'s wrong'"
     ],
     "language": "python",
     "metadata": {},
     "outputs": [
      {
       "metadata": {},
       "output_type": "pyout",
       "prompt_number": 11,
       "text": [
        "\"what's wrong\""
       ]
      }
     ],
     "prompt_number": 11
    },
    {
     "cell_type": "heading",
     "level": 1,
     "metadata": {},
     "source": [
      "raw string"
     ]
    },
    {
     "cell_type": "code",
     "collapsed": false,
     "input": [
      "r'what\\'s wrong'"
     ],
     "language": "python",
     "metadata": {},
     "outputs": [
      {
       "metadata": {},
       "output_type": "pyout",
       "prompt_number": 12,
       "text": [
        "\"what\\\\'s wrong\""
       ]
      }
     ],
     "prompt_number": 12
    },
    {
     "cell_type": "heading",
     "level": 1,
     "metadata": {},
     "source": [
      "Unicode\u5b57\u7b26\u4e32"
     ]
    },
    {
     "cell_type": "code",
     "collapsed": false,
     "input": [
      "u'string'"
     ],
     "language": "python",
     "metadata": {},
     "outputs": [
      {
       "metadata": {},
       "output_type": "pyout",
       "prompt_number": 13,
       "text": [
        "u'string'"
       ]
      }
     ],
     "prompt_number": 13
    },
    {
     "cell_type": "code",
     "collapsed": false,
     "input": [
      "'string' == u'string'"
     ],
     "language": "python",
     "metadata": {},
     "outputs": [
      {
       "metadata": {},
       "output_type": "pyout",
       "prompt_number": 14,
       "text": [
        "True"
       ]
      }
     ],
     "prompt_number": 14
    },
    {
     "cell_type": "code",
     "collapsed": false,
     "input": [
      "# -*- coding: utf-8 -*-\n",
      "'\u4e2d\u6587' == u'\u4e2d\u6587'\n",
      "# \u5728Python2\u4e0b\u4e0d\u76f8\u7b49\uff0cPython3\u4e0b\u76f8\u7b49\u3002\u56e0\u4e3aPython3\u4e0b\u90fd\u662fUnicode\u3002"
     ],
     "language": "python",
     "metadata": {},
     "outputs": [
      {
       "output_type": "stream",
       "stream": "stderr",
       "text": [
        "-c:2: UnicodeWarning: Unicode equal comparison failed to convert both arguments to Unicode - interpreting them as being unequal\n"
       ]
      },
      {
       "metadata": {},
       "output_type": "pyout",
       "prompt_number": 15,
       "text": [
        "False"
       ]
      }
     ],
     "prompt_number": 15
    },
    {
     "cell_type": "heading",
     "level": 1,
     "metadata": {},
     "source": [
      "\u7b97\u7b26\u4f18\u5148\u7ea7\u7ec3\u4e60"
     ]
    },
    {
     "cell_type": "code",
     "collapsed": false,
     "input": [
      "1 + 8 <= 1 + 2 * 3"
     ],
     "language": "python",
     "metadata": {},
     "outputs": [
      {
       "metadata": {},
       "output_type": "pyout",
       "prompt_number": 16,
       "text": [
        "False"
       ]
      }
     ],
     "prompt_number": 16
    },
    {
     "cell_type": "code",
     "collapsed": false,
     "input": [
      "1 + 2 and 3 * 4 or 5 ** 6"
     ],
     "language": "python",
     "metadata": {},
     "outputs": [
      {
       "metadata": {},
       "output_type": "pyout",
       "prompt_number": 17,
       "text": [
        "12"
       ]
      }
     ],
     "prompt_number": 17
    },
    {
     "cell_type": "heading",
     "level": 1,
     "metadata": {},
     "source": [
      "\u8868\u8fbe\u5f0f"
     ]
    },
    {
     "cell_type": "code",
     "collapsed": false,
     "input": [
      "Pi = 3.14\n",
      "r = 5\n",
      "area = Pi * r * r\n",
      "print(\"area is {0}\".format(area))"
     ],
     "language": "python",
     "metadata": {},
     "outputs": [
      {
       "output_type": "stream",
       "stream": "stdout",
       "text": [
        "area is 78.5\n"
       ]
      }
     ],
     "prompt_number": 18
    },
    {
     "cell_type": "heading",
     "level": 1,
     "metadata": {},
     "source": [
      "\u683c\u5f0f\u5316\u5b57\u7b26\u4e32"
     ]
    },
    {
     "cell_type": "code",
     "collapsed": false,
     "input": [
      "name = 'shell'\n",
      "\n",
      "print('my name is {0} and the length of name is {1}'.format(name, len(name)))\n",
      "print('my name is %s and the length of name is %d' % (name, len(name)))"
     ],
     "language": "python",
     "metadata": {},
     "outputs": [
      {
       "output_type": "stream",
       "stream": "stdout",
       "text": [
        "my name is shell and the length of name is 5\n",
        "my name is shell and the length of name is 5\n"
       ]
      }
     ],
     "prompt_number": 19
    },
    {
     "cell_type": "heading",
     "level": 1,
     "metadata": {},
     "source": [
      "\u683c\u5f0f\u5bf9\u9f50"
     ]
    },
    {
     "cell_type": "code",
     "collapsed": false,
     "input": [
      "a = 0\n",
      "if a == 1:\n",
      "    print('ok')\n",
      "print('done')\n",
      "\n",
      "print('------')\n",
      "\n",
      "a = 1\n",
      "if a == 1:\n",
      "    print('ok')\n",
      "print('done')"
     ],
     "language": "python",
     "metadata": {},
     "outputs": [
      {
       "output_type": "stream",
       "stream": "stdout",
       "text": [
        "done\n",
        "------\n",
        "ok\n",
        "done\n"
       ]
      }
     ],
     "prompt_number": 20
    },
    {
     "cell_type": "code",
     "collapsed": false,
     "input": [
      "a = 0\n",
      "if a == 1:\n",
      "    print('ok')\n",
      "    print('done')\n",
      "\n",
      "print('------')\n",
      "\n",
      "a = 1\n",
      "if a == 1:\n",
      "    print('ok')\n",
      "    print('done')"
     ],
     "language": "python",
     "metadata": {},
     "outputs": [
      {
       "output_type": "stream",
       "stream": "stdout",
       "text": [
        "------\n",
        "ok\n",
        "done\n"
       ]
      }
     ],
     "prompt_number": 21
    },
    {
     "cell_type": "heading",
     "level": 1,
     "metadata": {},
     "source": [
      "\u5355\u884c\u5199\u6cd5"
     ]
    },
    {
     "cell_type": "code",
     "collapsed": false,
     "input": [
      "if True: print('ok')"
     ],
     "language": "python",
     "metadata": {},
     "outputs": [
      {
       "output_type": "stream",
       "stream": "stdout",
       "text": [
        "ok\n"
       ]
      }
     ],
     "prompt_number": 22
    },
    {
     "cell_type": "heading",
     "level": 1,
     "metadata": {},
     "source": [
      "if"
     ]
    },
    {
     "cell_type": "code",
     "collapsed": false,
     "input": [
      "number = 23\n",
      "# input\u662fpython3\u5199\u6cd5\uff0craw_input\u662f\u5bf9\u5e94\u7684python2\u5199\u6cd5\u3002\n",
      "try:\n",
      "    guess = int(raw_input('Enter an integer : '))\n",
      "except NameError:\n",
      "    guess = int(input('Enter an integer : '))\n",
      "if guess == number:\n",
      "    print('Congratulations, you guessed it.')\n",
      "    print('(but you do not win any prizes!)')\n",
      "elif guess < number:\n",
      "    print('No, it is a little higher than that')\n",
      "else:\n",
      "    print('No, it is a little lower than that')\n",
      "print('Done')"
     ],
     "language": "python",
     "metadata": {},
     "outputs": [
      {
       "name": "stdout",
       "output_type": "stream",
       "stream": "stdout",
       "text": [
        "Enter an integer : 10\n"
       ]
      },
      {
       "output_type": "stream",
       "stream": "stdout",
       "text": [
        "No, it is a little higher than that\n",
        "Done\n"
       ]
      }
     ],
     "prompt_number": 23
    },
    {
     "cell_type": "heading",
     "level": 1,
     "metadata": {},
     "source": [
      "while"
     ]
    },
    {
     "cell_type": "code",
     "collapsed": false,
     "input": [
      "number = 23\n",
      "running = True\n",
      "while running:\n",
      "    try:\n",
      "        guess = int(raw_input('Enter an integer : '))\n",
      "    except NameError:\n",
      "        guess = int(input('Enter an integer : '))\n",
      "    if guess == number:\n",
      "        print('Congratulations, you guessed it.')\n",
      "        running = False\n",
      "    elif guess < number:\n",
      "        print('No, it is a little higher than that.')\n",
      "    else:\n",
      "        print('No, it is a little lower than that.')\n",
      "else:\n",
      "    print('The while loop is over.')\n",
      "print('Done')"
     ],
     "language": "python",
     "metadata": {},
     "outputs": [
      {
       "name": "stdout",
       "output_type": "stream",
       "stream": "stdout",
       "text": [
        "Enter an integer : 10\n"
       ]
      },
      {
       "output_type": "stream",
       "stream": "stdout",
       "text": [
        "No, it is a little higher than that.\n"
       ]
      },
      {
       "name": "stdout",
       "output_type": "stream",
       "stream": "stdout",
       "text": [
        "Enter an integer : 30\n"
       ]
      },
      {
       "output_type": "stream",
       "stream": "stdout",
       "text": [
        "No, it is a little lower than that.\n"
       ]
      },
      {
       "name": "stdout",
       "output_type": "stream",
       "stream": "stdout",
       "text": [
        "Enter an integer : 23\n"
       ]
      },
      {
       "output_type": "stream",
       "stream": "stdout",
       "text": [
        "Congratulations, you guessed it.\n",
        "The while loop is over.\n",
        "Done\n"
       ]
      }
     ],
     "prompt_number": 24
    },
    {
     "cell_type": "heading",
     "level": 1,
     "metadata": {},
     "source": [
      "for"
     ]
    },
    {
     "cell_type": "code",
     "collapsed": false,
     "input": [
      "for i in range(1, 5):\n",
      "    print(i)\n",
      "else:\n",
      "    print('The for loop is over')"
     ],
     "language": "python",
     "metadata": {},
     "outputs": [
      {
       "output_type": "stream",
       "stream": "stdout",
       "text": [
        "1\n",
        "2\n",
        "3\n",
        "4\n",
        "The for loop is over\n"
       ]
      }
     ],
     "prompt_number": 25
    },
    {
     "cell_type": "heading",
     "level": 1,
     "metadata": {},
     "source": [
      "break"
     ]
    },
    {
     "cell_type": "code",
     "collapsed": false,
     "input": [
      "while True:\n",
      "    try:\n",
      "        s = raw_input('Enter something : ')\n",
      "    except NameError:\n",
      "        s = input('Enter something : ')\n",
      "    if s == 'quit':\n",
      "        break\n",
      "    print('Length of the string is %d' % len(s))\n",
      "print('Done')"
     ],
     "language": "python",
     "metadata": {},
     "outputs": [
      {
       "name": "stdout",
       "output_type": "stream",
       "stream": "stdout",
       "text": [
        "Enter something : 123\n"
       ]
      },
      {
       "output_type": "stream",
       "stream": "stdout",
       "text": [
        "Length of the string is 3\n"
       ]
      },
      {
       "name": "stdout",
       "output_type": "stream",
       "stream": "stdout",
       "text": [
        "Enter something : quit\n"
       ]
      },
      {
       "output_type": "stream",
       "stream": "stdout",
       "text": [
        "Done\n"
       ]
      }
     ],
     "prompt_number": 26
    },
    {
     "cell_type": "heading",
     "level": 1,
     "metadata": {},
     "source": [
      "continue"
     ]
    },
    {
     "cell_type": "code",
     "collapsed": false,
     "input": [
      "while True:\n",
      "    try:\n",
      "        s = raw_input('Enter something : ')\n",
      "    except NameError:\n",
      "        s = input('Enter something : ')\n",
      "    if s == 'quit':\n",
      "        break\n",
      "    if len(s) < 3:\n",
      "        print('Too small')\n",
      "        continue\n",
      "    print('Input is of sufficient length')"
     ],
     "language": "python",
     "metadata": {},
     "outputs": [
      {
       "name": "stdout",
       "output_type": "stream",
       "stream": "stdout",
       "text": [
        "Enter something : 123\n"
       ]
      },
      {
       "output_type": "stream",
       "stream": "stdout",
       "text": [
        "Input is of sufficient length\n"
       ]
      },
      {
       "name": "stdout",
       "output_type": "stream",
       "stream": "stdout",
       "text": [
        "Enter something : 1\n"
       ]
      },
      {
       "output_type": "stream",
       "stream": "stdout",
       "text": [
        "Too small\n"
       ]
      },
      {
       "name": "stdout",
       "output_type": "stream",
       "stream": "stdout",
       "text": [
        "Enter something : quit\n"
       ]
      }
     ],
     "prompt_number": 27
    },
    {
     "cell_type": "heading",
     "level": 1,
     "metadata": {},
     "source": [
      "\u6267\u884c\u6d41\u63a7\u5236\u7ec3\u4e60"
     ]
    },
    {
     "cell_type": "code",
     "collapsed": false,
     "input": [
      "for i in range(10):\n",
      "    if i < 5:\n",
      "        continue\n",
      "    elif i > 9:\n",
      "        break\n",
      "    else:\n",
      "        print(i)"
     ],
     "language": "python",
     "metadata": {},
     "outputs": [
      {
       "output_type": "stream",
       "stream": "stdout",
       "text": [
        "5\n",
        "6\n",
        "7\n",
        "8\n",
        "9\n"
       ]
      }
     ],
     "prompt_number": 28
    },
    {
     "cell_type": "heading",
     "level": 1,
     "metadata": {},
     "source": [
      "\u51fd\u6570\u5b9a\u4e49\u548c\u8c03\u7528"
     ]
    },
    {
     "cell_type": "code",
     "collapsed": false,
     "input": [
      "def say_hello():\n",
      "    print('hello world')\n",
      "\n",
      "say_hello()"
     ],
     "language": "python",
     "metadata": {},
     "outputs": [
      {
       "output_type": "stream",
       "stream": "stdout",
       "text": [
        "hello world\n"
       ]
      }
     ],
     "prompt_number": 29
    },
    {
     "cell_type": "heading",
     "level": 1,
     "metadata": {},
     "source": [
      "\u53c2\u6570"
     ]
    },
    {
     "cell_type": "code",
     "collapsed": false,
     "input": [
      "def print_max(a, b):\n",
      "    if a > b:\n",
      "        print('{0} is maximum'.format(a))\n",
      "    elif a == b:\n",
      "        print('{0} is equal to {1}'.format(a, b))\n",
      "    else:\n",
      "        print('{0} is maximum'.format(b))\n",
      "print_max(3, 4)"
     ],
     "language": "python",
     "metadata": {},
     "outputs": [
      {
       "output_type": "stream",
       "stream": "stdout",
       "text": [
        "4 is maximum\n"
       ]
      }
     ],
     "prompt_number": 30
    },
    {
     "cell_type": "code",
     "collapsed": false,
     "input": [
      "print_max(3, '4')\n",
      "print_max('3', 4)"
     ],
     "language": "python",
     "metadata": {},
     "outputs": [
      {
       "output_type": "stream",
       "stream": "stdout",
       "text": [
        "4 is maximum\n",
        "3 is maximum\n"
       ]
      }
     ],
     "prompt_number": 31
    },
    {
     "cell_type": "heading",
     "level": 1,
     "metadata": {},
     "source": [
      "\u5c40\u90e8\u53d8\u91cf"
     ]
    },
    {
     "cell_type": "code",
     "collapsed": false,
     "input": [
      "x = 50\n",
      "def func():\n",
      "    x = 2\n",
      "    print('Changed local x to {0}'.format(x))\n",
      "func()\n",
      "print(x)"
     ],
     "language": "python",
     "metadata": {},
     "outputs": [
      {
       "output_type": "stream",
       "stream": "stdout",
       "text": [
        "Changed local x to 2\n",
        "50\n"
       ]
      }
     ],
     "prompt_number": 32
    },
    {
     "cell_type": "code",
     "collapsed": false,
     "input": [
      "x = 50\n",
      "def func(x):\n",
      "    print('Changed local x to {0}'.format(x))\n",
      "func(2)\n",
      "print(x)"
     ],
     "language": "python",
     "metadata": {},
     "outputs": [
      {
       "output_type": "stream",
       "stream": "stdout",
       "text": [
        "Changed local x to 2\n",
        "50\n"
       ]
      }
     ],
     "prompt_number": 33
    },
    {
     "cell_type": "heading",
     "level": 1,
     "metadata": {},
     "source": [
      "\u5168\u5c40\u53d8\u91cf"
     ]
    },
    {
     "cell_type": "code",
     "collapsed": false,
     "input": [
      "x = 50\n",
      "def func():\n",
      "    print('x is {0}'.format(x))\n",
      "func()"
     ],
     "language": "python",
     "metadata": {},
     "outputs": [
      {
       "output_type": "stream",
       "stream": "stdout",
       "text": [
        "x is 50\n"
       ]
      }
     ],
     "prompt_number": 34
    },
    {
     "cell_type": "code",
     "collapsed": false,
     "input": [
      "x = 50\n",
      "def func():\n",
      "    global x\n",
      "    print('x is {0}'.format(x))\n",
      "    x = 2\n",
      "    print('Changed x to {0}'.format(x))\n",
      "    \n",
      "print('x is {0} before function.'.format(x))\n",
      "func()\n",
      "print('x is {0} after function.'.format(x))"
     ],
     "language": "python",
     "metadata": {},
     "outputs": [
      {
       "output_type": "stream",
       "stream": "stdout",
       "text": [
        "x is 50 before function.\n",
        "x is 50\n",
        "Changed x to 2\n",
        "x is 2 after function.\n"
       ]
      }
     ],
     "prompt_number": 35
    },
    {
     "cell_type": "heading",
     "level": 1,
     "metadata": {},
     "source": [
      "unbound\u5f02\u5e38"
     ]
    },
    {
     "cell_type": "code",
     "collapsed": false,
     "input": [
      "my_variable = 1\n",
      "\n",
      "def func():\n",
      "    print(my_variable)\n",
      "    my_variable = 2\n",
      "    \n",
      "func()"
     ],
     "language": "python",
     "metadata": {},
     "outputs": [
      {
       "ename": "UnboundLocalError",
       "evalue": "local variable 'my_variable' referenced before assignment",
       "output_type": "pyerr",
       "traceback": [
        "\u001b[0;31m---------------------------------------------------------------------------\u001b[0m\n\u001b[0;31mUnboundLocalError\u001b[0m                         Traceback (most recent call last)",
        "\u001b[0;32m<ipython-input-36-d5f2fcf5ccf1>\u001b[0m in \u001b[0;36m<module>\u001b[0;34m()\u001b[0m\n\u001b[1;32m      5\u001b[0m     \u001b[0mmy_variable\u001b[0m \u001b[0;34m=\u001b[0m \u001b[0;36m2\u001b[0m\u001b[0;34m\u001b[0m\u001b[0m\n\u001b[1;32m      6\u001b[0m \u001b[0;34m\u001b[0m\u001b[0m\n\u001b[0;32m----> 7\u001b[0;31m \u001b[0mfunc\u001b[0m\u001b[0;34m(\u001b[0m\u001b[0;34m)\u001b[0m\u001b[0;34m\u001b[0m\u001b[0m\n\u001b[0m",
        "\u001b[0;32m<ipython-input-36-d5f2fcf5ccf1>\u001b[0m in \u001b[0;36mfunc\u001b[0;34m()\u001b[0m\n\u001b[1;32m      2\u001b[0m \u001b[0;34m\u001b[0m\u001b[0m\n\u001b[1;32m      3\u001b[0m \u001b[0;32mdef\u001b[0m \u001b[0mfunc\u001b[0m\u001b[0;34m(\u001b[0m\u001b[0;34m)\u001b[0m\u001b[0;34m:\u001b[0m\u001b[0;34m\u001b[0m\u001b[0m\n\u001b[0;32m----> 4\u001b[0;31m     \u001b[0;32mprint\u001b[0m\u001b[0;34m(\u001b[0m\u001b[0mmy_variable\u001b[0m\u001b[0;34m)\u001b[0m\u001b[0;34m\u001b[0m\u001b[0m\n\u001b[0m\u001b[1;32m      5\u001b[0m     \u001b[0mmy_variable\u001b[0m \u001b[0;34m=\u001b[0m \u001b[0;36m2\u001b[0m\u001b[0;34m\u001b[0m\u001b[0m\n\u001b[1;32m      6\u001b[0m \u001b[0;34m\u001b[0m\u001b[0m\n",
        "\u001b[0;31mUnboundLocalError\u001b[0m: local variable 'my_variable' referenced before assignment"
       ]
      }
     ],
     "prompt_number": 36
    },
    {
     "cell_type": "code",
     "collapsed": false,
     "input": [
      "my_variable = 1\n",
      "\n",
      "def func():\n",
      "    if True: print(my_variable)\n",
      "    else: my_variable = 2\n",
      "    \n",
      "func()"
     ],
     "language": "python",
     "metadata": {},
     "outputs": [
      {
       "ename": "UnboundLocalError",
       "evalue": "local variable 'my_variable' referenced before assignment",
       "output_type": "pyerr",
       "traceback": [
        "\u001b[0;31m---------------------------------------------------------------------------\u001b[0m\n\u001b[0;31mUnboundLocalError\u001b[0m                         Traceback (most recent call last)",
        "\u001b[0;32m<ipython-input-37-1ffc7b53e21b>\u001b[0m in \u001b[0;36m<module>\u001b[0;34m()\u001b[0m\n\u001b[1;32m      5\u001b[0m     \u001b[0;32melse\u001b[0m\u001b[0;34m:\u001b[0m \u001b[0mmy_variable\u001b[0m \u001b[0;34m=\u001b[0m \u001b[0;36m2\u001b[0m\u001b[0;34m\u001b[0m\u001b[0m\n\u001b[1;32m      6\u001b[0m \u001b[0;34m\u001b[0m\u001b[0m\n\u001b[0;32m----> 7\u001b[0;31m \u001b[0mfunc\u001b[0m\u001b[0;34m(\u001b[0m\u001b[0;34m)\u001b[0m\u001b[0;34m\u001b[0m\u001b[0m\n\u001b[0m",
        "\u001b[0;32m<ipython-input-37-1ffc7b53e21b>\u001b[0m in \u001b[0;36mfunc\u001b[0;34m()\u001b[0m\n\u001b[1;32m      2\u001b[0m \u001b[0;34m\u001b[0m\u001b[0m\n\u001b[1;32m      3\u001b[0m \u001b[0;32mdef\u001b[0m \u001b[0mfunc\u001b[0m\u001b[0;34m(\u001b[0m\u001b[0;34m)\u001b[0m\u001b[0;34m:\u001b[0m\u001b[0;34m\u001b[0m\u001b[0m\n\u001b[0;32m----> 4\u001b[0;31m     \u001b[0;32mif\u001b[0m \u001b[0mTrue\u001b[0m\u001b[0;34m:\u001b[0m \u001b[0;32mprint\u001b[0m\u001b[0;34m(\u001b[0m\u001b[0mmy_variable\u001b[0m\u001b[0;34m)\u001b[0m\u001b[0;34m\u001b[0m\u001b[0m\n\u001b[0m\u001b[1;32m      5\u001b[0m     \u001b[0;32melse\u001b[0m\u001b[0;34m:\u001b[0m \u001b[0mmy_variable\u001b[0m \u001b[0;34m=\u001b[0m \u001b[0;36m2\u001b[0m\u001b[0;34m\u001b[0m\u001b[0m\n\u001b[1;32m      6\u001b[0m \u001b[0;34m\u001b[0m\u001b[0m\n",
        "\u001b[0;31mUnboundLocalError\u001b[0m: local variable 'my_variable' referenced before assignment"
       ]
      }
     ],
     "prompt_number": 37
    },
    {
     "cell_type": "heading",
     "level": 1,
     "metadata": {},
     "source": [
      "\u53c2\u6570\u9ed8\u8ba4\u503c"
     ]
    },
    {
     "cell_type": "code",
     "collapsed": false,
     "input": [
      "def say(message, times=1):\n",
      "    print(message * times)\n",
      "\n",
      "say('Hello')\n",
      "say('World', 5)"
     ],
     "language": "python",
     "metadata": {},
     "outputs": [
      {
       "output_type": "stream",
       "stream": "stdout",
       "text": [
        "Hello\n",
        "WorldWorldWorldWorldWorld\n"
       ]
      }
     ],
     "prompt_number": 38
    },
    {
     "cell_type": "code",
     "collapsed": false,
     "input": [
      "def append1(l=[]):\n",
      "    l.append(1)\n",
      "    return l\n",
      "\n",
      "print(append1([]))\n",
      "print(append1([]))\n",
      "\n",
      "print('------')\n",
      "\n",
      "print(append1())\n",
      "print(append1())"
     ],
     "language": "python",
     "metadata": {},
     "outputs": [
      {
       "output_type": "stream",
       "stream": "stdout",
       "text": [
        "[1]\n",
        "[1]\n",
        "------\n",
        "[1]\n",
        "[1, 1]\n"
       ]
      }
     ],
     "prompt_number": 39
    },
    {
     "cell_type": "code",
     "collapsed": false,
     "input": [
      "def append1(l=None):\n",
      "    if l is None:\n",
      "        l = []\n",
      "    l.append(1)\n",
      "    return l\n",
      "\n",
      "print(append1([]))\n",
      "print(append1([]))\n",
      "\n",
      "print('------')\n",
      "\n",
      "print(append1())\n",
      "print(append1())"
     ],
     "language": "python",
     "metadata": {},
     "outputs": [
      {
       "output_type": "stream",
       "stream": "stdout",
       "text": [
        "[1]\n",
        "[1]\n",
        "------\n",
        "[1]\n",
        "[1]\n"
       ]
      }
     ],
     "prompt_number": 40
    },
    {
     "cell_type": "heading",
     "level": 1,
     "metadata": {},
     "source": [
      "\u8fd4\u56de\u503c"
     ]
    },
    {
     "cell_type": "code",
     "collapsed": false,
     "input": [
      "def maximum(x, y):\n",
      "    if x > y:\n",
      "        return x\n",
      "    elif x == y:\n",
      "        return 'The numbers are equal'\n",
      "    else:\n",
      "        return y\n",
      "\n",
      "print(maximum(2, 3))\n",
      "print(maximum(2, 2))"
     ],
     "language": "python",
     "metadata": {},
     "outputs": [
      {
       "output_type": "stream",
       "stream": "stdout",
       "text": [
        "3\n",
        "The numbers are equal\n"
       ]
      }
     ],
     "prompt_number": 41
    },
    {
     "cell_type": "heading",
     "level": 1,
     "metadata": {},
     "source": [
      "\u591a\u503c\u8fd4\u56de"
     ]
    },
    {
     "cell_type": "code",
     "collapsed": false,
     "input": [
      "def f():\n",
      "    return 1,2,3,4,5\n",
      "print (f())\n",
      "\n",
      "a,b,c,d,e = f()\n",
      "print(c)"
     ],
     "language": "python",
     "metadata": {},
     "outputs": [
      {
       "output_type": "stream",
       "stream": "stdout",
       "text": [
        "(1, 2, 3, 4, 5)\n",
        "3\n"
       ]
      }
     ],
     "prompt_number": 42
    },
    {
     "cell_type": "heading",
     "level": 1,
     "metadata": {},
     "source": [
      "Doc string"
     ]
    },
    {
     "cell_type": "code",
     "collapsed": false,
     "input": [
      "def print_max(x, y):\n",
      "    '''Prints the maximum of two numbers. \\nThe two values must be integers.'''\n",
      "    x = int(x)\n",
      "    y = int(y)\n",
      "    if x > y:\n",
      "        print(x, 'is maximum')\n",
      "    else:\n",
      "        print(y, 'is maximum')\n",
      "\n",
      "print_max(3, 5)\n",
      "print(print_max.__doc__)"
     ],
     "language": "python",
     "metadata": {},
     "outputs": [
      {
       "output_type": "stream",
       "stream": "stdout",
       "text": [
        "(5, 'is maximum')\n",
        "Prints the maximum of two numbers. \n",
        "The two values must be integers.\n"
       ]
      }
     ],
     "prompt_number": 43
    },
    {
     "cell_type": "heading",
     "level": 1,
     "metadata": {},
     "source": [
      "lambda"
     ]
    },
    {
     "cell_type": "code",
     "collapsed": false,
     "input": [
      "def inc(n):\n",
      "    return n+1\n",
      "print(inc(10))\n",
      "\n",
      "inc = lambda n: n+1\n",
      "print(inc(10))"
     ],
     "language": "python",
     "metadata": {},
     "outputs": [
      {
       "output_type": "stream",
       "stream": "stdout",
       "text": [
        "11\n",
        "11\n"
       ]
      }
     ],
     "prompt_number": 44
    },
    {
     "cell_type": "heading",
     "level": 1,
     "metadata": {},
     "source": [
      "\u51fd\u6570\u7ec3\u4e60"
     ]
    },
    {
     "cell_type": "code",
     "collapsed": false,
     "input": [
      "def fib(n):\n",
      "    if n <= 1: return 1\n",
      "    return fib(n-1) + fib(n-2)\n",
      "\n",
      "fib(10)"
     ],
     "language": "python",
     "metadata": {},
     "outputs": [
      {
       "metadata": {},
       "output_type": "pyout",
       "prompt_number": 45,
       "text": [
        "89"
       ]
      }
     ],
     "prompt_number": 45
    },
    {
     "cell_type": "heading",
     "level": 1,
     "metadata": {},
     "source": [
      "module"
     ]
    },
    {
     "cell_type": "code",
     "collapsed": false,
     "input": [
      "%%writefile testmod.py\n",
      "varible1 = 1\n",
      "varible2 = 2\n",
      "\n",
      "def add(a, b):\n",
      "    return a+b\n",
      "\n",
      "if __name__ == '__main__':\n",
      "    print('run as script')"
     ],
     "language": "python",
     "metadata": {},
     "outputs": [
      {
       "output_type": "stream",
       "stream": "stdout",
       "text": [
        "Writing testmod.py\n"
       ]
      }
     ],
     "prompt_number": 46
    },
    {
     "cell_type": "heading",
     "level": 1,
     "metadata": {},
     "source": [
      "import"
     ]
    },
    {
     "cell_type": "code",
     "collapsed": false,
     "input": [
      "import testmod\n",
      "testmod.varible1"
     ],
     "language": "python",
     "metadata": {},
     "outputs": [
      {
       "metadata": {},
       "output_type": "pyout",
       "prompt_number": 47,
       "text": [
        "1"
       ]
      }
     ],
     "prompt_number": 47
    },
    {
     "cell_type": "heading",
     "level": 1,
     "metadata": {},
     "source": [
      "from import"
     ]
    },
    {
     "cell_type": "code",
     "collapsed": false,
     "input": [
      "from testmod import varible2\n",
      "varible2"
     ],
     "language": "python",
     "metadata": {},
     "outputs": [
      {
       "metadata": {},
       "output_type": "pyout",
       "prompt_number": 48,
       "text": [
        "2"
       ]
      }
     ],
     "prompt_number": 48
    },
    {
     "cell_type": "heading",
     "level": 1,
     "metadata": {},
     "source": [
      "dir"
     ]
    },
    {
     "cell_type": "code",
     "collapsed": false,
     "input": [
      "import testmod\n",
      "dir(testmod)"
     ],
     "language": "python",
     "metadata": {},
     "outputs": [
      {
       "metadata": {},
       "output_type": "pyout",
       "prompt_number": 49,
       "text": [
        "['__builtins__',\n",
        " '__doc__',\n",
        " '__file__',\n",
        " '__name__',\n",
        " '__package__',\n",
        " 'add',\n",
        " 'varible1',\n",
        " 'varible2']"
       ]
      }
     ],
     "prompt_number": 49
    },
    {
     "cell_type": "heading",
     "level": 1,
     "metadata": {},
     "source": [
      "\u6a21\u5757\u9884\u7f16\u8bd1"
     ]
    },
    {
     "cell_type": "code",
     "collapsed": false,
     "input": [
      "!ls -l testmod*"
     ],
     "language": "python",
     "metadata": {},
     "outputs": [
      {
       "output_type": "stream",
       "stream": "stdout",
       "text": [
        "-rw-r--r-- 1 shell shell 111 8\u6708  17 15:41 testmod.py\r\n",
        "-rw-r--r-- 1 shell shell 333 8\u6708  17 15:41 testmod.pyc\r\n"
       ]
      }
     ],
     "prompt_number": 50
    },
    {
     "cell_type": "code",
     "collapsed": false,
     "input": [
      "!ls -l __pycache__/testmod*"
     ],
     "language": "python",
     "metadata": {},
     "outputs": [
      {
       "output_type": "stream",
       "stream": "stdout",
       "text": [
        "ls: \u65e0\u6cd5\u8bbf\u95ee'__pycache__/testmod*': \u6ca1\u6709\u90a3\u4e2a\u6587\u4ef6\u6216\u76ee\u5f55\r\n"
       ]
      }
     ],
     "prompt_number": 51
    },
    {
     "cell_type": "heading",
     "level": 1,
     "metadata": {},
     "source": [
      "__name__\u5c5e\u6027"
     ]
    },
    {
     "cell_type": "code",
     "collapsed": false,
     "input": [
      "__name__"
     ],
     "language": "python",
     "metadata": {},
     "outputs": [
      {
       "metadata": {},
       "output_type": "pyout",
       "prompt_number": 52,
       "text": [
        "'__main__'"
       ]
      }
     ],
     "prompt_number": 52
    },
    {
     "cell_type": "code",
     "collapsed": false,
     "input": [
      "testmod.__name__"
     ],
     "language": "python",
     "metadata": {},
     "outputs": [
      {
       "metadata": {},
       "output_type": "pyout",
       "prompt_number": 53,
       "text": [
        "'testmod'"
       ]
      }
     ],
     "prompt_number": 53
    },
    {
     "cell_type": "heading",
     "level": 1,
     "metadata": {},
     "source": [
      "main\u6587\u4ef6\u6a21\u5f0f\u5316\u5199\u6cd5"
     ]
    },
    {
     "cell_type": "code",
     "collapsed": false,
     "input": [
      "!python testmod.py"
     ],
     "language": "python",
     "metadata": {},
     "outputs": [
      {
       "output_type": "stream",
       "stream": "stdout",
       "text": [
        "run as script\r\n"
       ]
      }
     ],
     "prompt_number": 54
    },
    {
     "cell_type": "code",
     "collapsed": false,
     "input": [
      "!rm testmod*"
     ],
     "language": "python",
     "metadata": {},
     "outputs": [],
     "prompt_number": 55
    },
    {
     "cell_type": "heading",
     "level": 1,
     "metadata": {},
     "source": [
      "\u6a21\u5757\u7ec3\u4e60"
     ]
    },
    {
     "cell_type": "code",
     "collapsed": false,
     "input": [
      "import sys\n",
      "for name in dir(sys):\n",
      "    if name.startswith('s') or name.endswith('e'):\n",
      "        print(name)"
     ],
     "language": "python",
     "metadata": {},
     "outputs": [
      {
       "output_type": "stream",
       "stream": "stdout",
       "text": [
        "_clear_type_cache\n",
        "_getframe\n",
        "dont_write_bytecode\n",
        "exc_type\n",
        "executable\n",
        "float_repr_style\n",
        "getprofile\n",
        "gettrace\n",
        "last_type\n",
        "last_value\n",
        "maxsize\n",
        "maxunicode\n",
        "path_importer_cache\n",
        "setcheckinterval\n",
        "setdlopenflags\n",
        "setprofile\n",
        "setrecursionlimit\n",
        "settrace\n",
        "stderr\n",
        "stdin\n",
        "stdout\n",
        "subversion\n"
       ]
      }
     ],
     "prompt_number": 56
    },
    {
     "cell_type": "heading",
     "level": 1,
     "metadata": {},
     "source": [
      "list"
     ]
    },
    {
     "cell_type": "code",
     "collapsed": false,
     "input": [
      "import sys\n",
      "shoplist = ['apple', 'mango', 'carrot', 'banana']\n",
      "print('I have {} items to purchase.'.format(len(shoplist)))\n",
      "sys.stdout.write('These items are:')\n",
      "for item in shoplist:\n",
      "    sys.stdout.write(str(item))\n",
      "print('\\nI also have to buy rice.')\n",
      "shoplist.append('rice')\n",
      "print('My shopping list is now {0}'.format(shoplist))\n",
      "print('I will sort my list now')\n",
      "shoplist.sort()\n",
      "print('Sorted shopping list is {0}'.format(shoplist))\n",
      "print('The first item I will buy is {0}'.format(shoplist[0]))\n",
      "olditem = shoplist[0]\n",
      "del shoplist[0]\n",
      "print('I bought the{0}'.format(olditem))\n",
      "print('My shopping list is now{0}'.format(shoplist))"
     ],
     "language": "python",
     "metadata": {},
     "outputs": [
      {
       "output_type": "stream",
       "stream": "stdout",
       "text": [
        "I have 4 items to purchase.\n",
        "These items are:applemangocarrotbanana\n",
        "I also have to buy rice.\n",
        "My shopping list is now ['apple', 'mango', 'carrot', 'banana', 'rice']\n",
        "I will sort my list now\n",
        "Sorted shopping list is ['apple', 'banana', 'carrot', 'mango', 'rice']\n",
        "The first item I will buy is apple\n",
        "I bought theapple\n",
        "My shopping list is now['banana', 'carrot', 'mango', 'rice']\n"
       ]
      }
     ],
     "prompt_number": 57
    },
    {
     "cell_type": "heading",
     "level": 1,
     "metadata": {},
     "source": [
      "tuple"
     ]
    },
    {
     "cell_type": "code",
     "collapsed": false,
     "input": [
      "zoo = ('python', 'elephant', 'penguin')\n",
      "print('Number of animals in the zoo is {0}'.format(len(zoo)))\n",
      "\n",
      "new_zoo = 'monkey', 'camel', zoo\n",
      "print('Number of cages in the new zoo is {0}'.format(len(new_zoo)))\n",
      "print('All animals in new zoo are {0}'.format(new_zoo))\n",
      "print('Animals brought from old zoo are {0}'.format(new_zoo[2]))\n",
      "print('Last animal brought from old zoo is {0}'.format(new_zoo[2][2]))\n",
      "print('Number of animals in the new zoo is {0}'.format(len(new_zoo)-1+len(new_zoo[2])))"
     ],
     "language": "python",
     "metadata": {},
     "outputs": [
      {
       "output_type": "stream",
       "stream": "stdout",
       "text": [
        "Number of animals in the zoo is 3\n",
        "Number of cages in the new zoo is 3\n",
        "All animals in new zoo are ('monkey', 'camel', ('python', 'elephant', 'penguin'))\n",
        "Animals brought from old zoo are ('python', 'elephant', 'penguin')\n",
        "Last animal brought from old zoo is penguin\n",
        "Number of animals in the new zoo is 5\n"
       ]
      }
     ],
     "prompt_number": 58
    },
    {
     "cell_type": "code",
     "collapsed": false,
     "input": [
      "r = 1, 2, 3\n",
      "r"
     ],
     "language": "python",
     "metadata": {},
     "outputs": [
      {
       "metadata": {},
       "output_type": "pyout",
       "prompt_number": 59,
       "text": [
        "(1, 2, 3)"
       ]
      }
     ],
     "prompt_number": 59
    },
    {
     "cell_type": "code",
     "collapsed": false,
     "input": [
      "a, b, c = r\n",
      "print(a)\n",
      "print(b)\n",
      "print(c)"
     ],
     "language": "python",
     "metadata": {},
     "outputs": [
      {
       "output_type": "stream",
       "stream": "stdout",
       "text": [
        "1\n",
        "2\n",
        "3\n"
       ]
      }
     ],
     "prompt_number": 60
    },
    {
     "cell_type": "code",
     "collapsed": false,
     "input": [
      "a, b = b, a\n",
      "print(a)\n",
      "print(b)"
     ],
     "language": "python",
     "metadata": {},
     "outputs": [
      {
       "output_type": "stream",
       "stream": "stdout",
       "text": [
        "2\n",
        "1\n"
       ]
      }
     ],
     "prompt_number": 61
    },
    {
     "cell_type": "heading",
     "level": 1,
     "metadata": {},
     "source": [
      "\u64cd\u4f5c\u5e8f\u5217\u5bf9\u8c61"
     ]
    },
    {
     "cell_type": "code",
     "collapsed": false,
     "input": [
      "shoplist = ['apple', 'mango', 'carrot', 'banana']\n",
      "name = 'swaroop'\n",
      "print('Item 0 is {0}'.format(shoplist[0]))\n",
      "print('Item 1 is {0}'.format(shoplist[1]))\n",
      "print('Item 2 is {0}'.format(shoplist[2]))\n",
      "print('Item 3 is {0}'.format(shoplist[3]))\n",
      "print('Item -1 is {0}'.format(shoplist[-1]))\n",
      "print('Item -2 is {0}'.format(shoplist[-2]))\n",
      "print('Character 0 is {0}'.format(name[0]))\n",
      "print('Item 1 to 3 is {0}'.format(shoplist[1:3]))\n",
      "print('Item 2 to end is {0}'.format(shoplist[2:]))\n",
      "print('Item 1 to -1 is {0}'.format(shoplist[1:-1]))\n",
      "print('Item start to end is {0}'.format(shoplist[:]))\n",
      "print('characters 1 to 3 is {0}'.format(name[1:3]))\n",
      "print('characters 2 to end is {0}'.format(name[2:]))\n",
      "print('characters 1 to -1 is {0}'.format(name[1:-1]))\n",
      "print('characters start to end is {0}'.format(name[:]))"
     ],
     "language": "python",
     "metadata": {},
     "outputs": [
      {
       "output_type": "stream",
       "stream": "stdout",
       "text": [
        "Item 0 is apple\n",
        "Item 1 is mango\n",
        "Item 2 is carrot\n",
        "Item 3 is banana\n",
        "Item -1 is banana\n",
        "Item -2 is carrot\n",
        "Character 0 is s\n",
        "Item 1 to 3 is ['mango', 'carrot']\n",
        "Item 2 to end is ['carrot', 'banana']\n",
        "Item 1 to -1 is ['mango', 'carrot']\n",
        "Item start to end is ['apple', 'mango', 'carrot', 'banana']\n",
        "characters 1 to 3 is wa\n",
        "characters 2 to end is aroop\n",
        "characters 1 to -1 is waroo\n",
        "characters start to end is swaroop\n"
       ]
      }
     ],
     "prompt_number": 62
    },
    {
     "cell_type": "heading",
     "level": 1,
     "metadata": {},
     "source": [
      "\u5185\u7f6e\u6570\u636e\u7ed3\u6784\u7ec3\u4e60"
     ]
    },
    {
     "cell_type": "code",
     "collapsed": false,
     "input": [
      "primes = [2, 3, 5, 7]\n",
      "primes"
     ],
     "language": "python",
     "metadata": {},
     "outputs": [
      {
       "metadata": {},
       "output_type": "pyout",
       "prompt_number": 63,
       "text": [
        "[2, 3, 5, 7]"
       ]
      }
     ],
     "prompt_number": 63
    },
    {
     "cell_type": "code",
     "collapsed": false,
     "input": [
      "for i in range(10, 100):\n",
      "    prime = True\n",
      "    for j in primes:\n",
      "        if i % j == 0:\n",
      "            prime = False\n",
      "            continue\n",
      "    if prime:\n",
      "        primes.append(i)\n",
      "print(primes)"
     ],
     "language": "python",
     "metadata": {},
     "outputs": [
      {
       "output_type": "stream",
       "stream": "stdout",
       "text": [
        "[2, 3, 5, 7, 11, 13, 17, 19, 23, 29, 31, 37, 41, 43, 47, 53, 59, 61, 67, 71, 73, 79, 83, 89, 97]\n"
       ]
      }
     ],
     "prompt_number": 64
    },
    {
     "cell_type": "code",
     "collapsed": false,
     "input": [
      "tuple_primes = tuple(primes)\n",
      "print(tuple_primes)"
     ],
     "language": "python",
     "metadata": {},
     "outputs": [
      {
       "output_type": "stream",
       "stream": "stdout",
       "text": [
        "(2, 3, 5, 7, 11, 13, 17, 19, 23, 29, 31, 37, 41, 43, 47, 53, 59, 61, 67, 71, 73, 79, 83, 89, 97)\n"
       ]
      }
     ],
     "prompt_number": 65
    },
    {
     "cell_type": "code",
     "collapsed": false,
     "input": [
      "print(tuple_primes[::-1])"
     ],
     "language": "python",
     "metadata": {},
     "outputs": [
      {
       "output_type": "stream",
       "stream": "stdout",
       "text": [
        "(97, 89, 83, 79, 73, 71, 67, 61, 59, 53, 47, 43, 41, 37, 31, 29, 23, 19, 17, 13, 11, 7, 5, 3, 2)\n"
       ]
      }
     ],
     "prompt_number": 66
    },
    {
     "cell_type": "code",
     "collapsed": false,
     "input": [
      "print(tuple(reversed(tuple_primes)))"
     ],
     "language": "python",
     "metadata": {},
     "outputs": [
      {
       "output_type": "stream",
       "stream": "stdout",
       "text": [
        "(97, 89, 83, 79, 73, 71, 67, 61, 59, 53, 47, 43, 41, 37, 31, 29, 23, 19, 17, 13, 11, 7, 5, 3, 2)\n"
       ]
      }
     ],
     "prompt_number": 67
    },
    {
     "cell_type": "code",
     "collapsed": false,
     "input": [
      "# Python2\u4e0b\u53ef\u4ee5\u4e0d\u9700\u8981int\uff0c\u56e0\u4e3alen\u7ed3\u679c\u662f\u6574\u6570\uff0c\u6574\u6570\u9664\u6cd5\u7ed3\u679c\u662f\u6574\u6570\u3002\n",
      "# \u5728Python3\uff0c\u6ca1\u6709int\u4f1a\u5bfc\u81f4\u51fa\u9519\u3002\n",
      "list(reversed(primes[:int(len(primes)/2)])), list(reversed(primes[int(len(primes)/2):]))"
     ],
     "language": "python",
     "metadata": {},
     "outputs": [
      {
       "metadata": {},
       "output_type": "pyout",
       "prompt_number": 68,
       "text": [
        "([37, 31, 29, 23, 19, 17, 13, 11, 7, 5, 3, 2],\n",
        " [97, 89, 83, 79, 73, 71, 67, 61, 59, 53, 47, 43, 41])"
       ]
      }
     ],
     "prompt_number": 68
    },
    {
     "cell_type": "code",
     "collapsed": false,
     "input": [
      "primes[int(len(primes)/2-1)::-1], primes[:int(len(primes)/2-1):-1]"
     ],
     "language": "python",
     "metadata": {},
     "outputs": [
      {
       "metadata": {},
       "output_type": "pyout",
       "prompt_number": 69,
       "text": [
        "([37, 31, 29, 23, 19, 17, 13, 11, 7, 5, 3, 2],\n",
        " [97, 89, 83, 79, 73, 71, 67, 61, 59, 53, 47, 43, 41])"
       ]
      }
     ],
     "prompt_number": 69
    },
    {
     "cell_type": "heading",
     "level": 1,
     "metadata": {},
     "source": [
      "\u5217\u8868\u63a8\u5bfc\u5f0f"
     ]
    },
    {
     "cell_type": "code",
     "collapsed": false,
     "input": [
      "l = [1, 2, 3, 4, 5]\n",
      "t = [i * i for i in l]\n",
      "print(t)"
     ],
     "language": "python",
     "metadata": {},
     "outputs": [
      {
       "output_type": "stream",
       "stream": "stdout",
       "text": [
        "[1, 4, 9, 16, 25]\n"
       ]
      }
     ],
     "prompt_number": 70
    },
    {
     "cell_type": "heading",
     "level": 1,
     "metadata": {},
     "source": [
      "dict"
     ]
    },
    {
     "cell_type": "code",
     "collapsed": false,
     "input": [
      "ab = {\n",
      "    'Swaroop': 'swaroop@swaroopch.com',\n",
      "    'Larry': 'larry@wall.org',\n",
      "    'Matsumoto': 'matz@ruby-lang.org',\n",
      "    'Spammer': 'spammer@hotmail.com'\n",
      "}\n",
      "print(\"Swaroop's address is\".format(ab['Swaroop']))\n",
      "del ab['Spammer']\n",
      "print('\\nThere are {} contacts in the address-book\\n'.format(len(ab)))\n",
      "for name, address in ab.items():\n",
      "    print('Contact {} at {}'.format(name, address))\n",
      "ab['Guido'] = 'guido@python.org'\n",
      "if 'Guido' in ab:\n",
      "    print(\"\\nGuido's address is\".format(ab['Guido']))"
     ],
     "language": "python",
     "metadata": {},
     "outputs": [
      {
       "output_type": "stream",
       "stream": "stdout",
       "text": [
        "Swaroop's address is\n",
        "\n",
        "There are 3 contacts in the address-book\n",
        "\n",
        "Contact Swaroop at swaroop@swaroopch.com\n",
        "Contact Matsumoto at matz@ruby-lang.org\n",
        "Contact Larry at larry@wall.org\n",
        "\n",
        "Guido's address is\n"
       ]
      }
     ],
     "prompt_number": 71
    },
    {
     "cell_type": "heading",
     "level": 1,
     "metadata": {},
     "source": [
      "set"
     ]
    },
    {
     "cell_type": "code",
     "collapsed": false,
     "input": [
      "bri = set(['brazil', 'russia', 'india'])\n",
      "bri = {'brazil', 'russia', 'india'} # python2.7\u4ee5\u540e\u53ef\u7528\n",
      "'india' in bri"
     ],
     "language": "python",
     "metadata": {},
     "outputs": [
      {
       "metadata": {},
       "output_type": "pyout",
       "prompt_number": 72,
       "text": [
        "True"
       ]
      }
     ],
     "prompt_number": 72
    },
    {
     "cell_type": "code",
     "collapsed": false,
     "input": [
      "'usa' in bri"
     ],
     "language": "python",
     "metadata": {},
     "outputs": [
      {
       "metadata": {},
       "output_type": "pyout",
       "prompt_number": 73,
       "text": [
        "False"
       ]
      }
     ],
     "prompt_number": 73
    },
    {
     "cell_type": "code",
     "collapsed": false,
     "input": [
      "bric = bri.copy()\n",
      "bric.add('china')\n",
      "bric.issuperset(bri)"
     ],
     "language": "python",
     "metadata": {},
     "outputs": [
      {
       "metadata": {},
       "output_type": "pyout",
       "prompt_number": 74,
       "text": [
        "True"
       ]
      }
     ],
     "prompt_number": 74
    },
    {
     "cell_type": "code",
     "collapsed": false,
     "input": [
      "bri.remove('russia')\n",
      "bri & bric"
     ],
     "language": "python",
     "metadata": {},
     "outputs": [
      {
       "metadata": {},
       "output_type": "pyout",
       "prompt_number": 75,
       "text": [
        "{'brazil', 'india'}"
       ]
      }
     ],
     "prompt_number": 75
    },
    {
     "cell_type": "heading",
     "level": 1,
     "metadata": {},
     "source": [
      "\u5185\u7f6e\u6570\u636e\u7ed3\u6784\u7ec3\u4e603"
     ]
    },
    {
     "cell_type": "code",
     "collapsed": false,
     "input": [
      "number2country = {\n",
      "    '+30': '\u5e0c\u814a',\n",
      "    '+45': '\u4e39\u9ea6',\n",
      "    '+51': '\u79d8\u9c81',\n",
      "    '+65': '\u65b0\u52a0\u5761',\n",
      "    '+86': '\u4e2d\u56fd'\n",
      "}\n",
      "\n",
      "numbers = \"+86 1123 +65 1234 +51 2347 +30 9123 +65 1246 +30 2347 +86 2935\".split()\n",
      "country_set = set([number2country[n] for n in numbers if n.startswith('+')])\n",
      "\n",
      "print(len(country_set))\n",
      "# \u6ce8\u610f\uff1a\u8fd9\u91cc\u7684\u8f93\u51fa\u987a\u5e8f\u5728\u4e0d\u540c\u7684\u673a\u5668\u4e0a\u53ef\u80fd\u4e0d\u4e00\u6837\uff0c\u5177\u4f53\u4f9d\u8d56\u4e8epython\u7684\u7248\u672c\u548c\u5b9e\u73b0\u3002set\u672c\u8eab\u662f\u6ca1\u6709\u987a\u5e8f\u7ea6\u5b9a\u7684\u3002\n",
      "for c in country_set: print(c)"
     ],
     "language": "python",
     "metadata": {},
     "outputs": [
      {
       "output_type": "stream",
       "stream": "stdout",
       "text": [
        "4\n",
        "\u4e2d\u56fd\n",
        "\u5e0c\u814a\n",
        "\u65b0\u52a0\u5761\n",
        "\u79d8\u9c81\n"
       ]
      }
     ],
     "prompt_number": 76
    },
    {
     "cell_type": "heading",
     "level": 1,
     "metadata": {},
     "source": [
      "string\u7684\u4e00\u4e9b\u5176\u4ed6\u65b9\u6cd5"
     ]
    },
    {
     "cell_type": "code",
     "collapsed": false,
     "input": [
      "name = 'Swaroop'\n",
      "if name.startswith('Swa'):\n",
      "    print('Yes, the string starts with \"Swa\"')\n",
      "if 'a' in name:\n",
      "    print('Yes, it contains the string \"a\"')\n",
      "if name.find('war') != -1:\n",
      "    print('Yes, it contains the string \"war\"')\n",
      "delimiter = '_*_'\n",
      "mylist = ['Brazil', 'Russia', 'India', 'China']\n",
      "print(delimiter.join(mylist))"
     ],
     "language": "python",
     "metadata": {},
     "outputs": [
      {
       "output_type": "stream",
       "stream": "stdout",
       "text": [
        "Yes, the string starts with \"Swa\"\n",
        "Yes, it contains the string \"a\"\n",
        "Yes, it contains the string \"war\"\n",
        "Brazil_*_Russia_*_India_*_China\n"
       ]
      }
     ],
     "prompt_number": 77
    },
    {
     "cell_type": "heading",
     "level": 1,
     "metadata": {},
     "source": [
      "class"
     ]
    },
    {
     "cell_type": "code",
     "collapsed": false,
     "input": [
      "class Person:\n",
      "    pass  # An empty block\n",
      "\n",
      "p = Person()\n",
      "print(p)"
     ],
     "language": "python",
     "metadata": {},
     "outputs": [
      {
       "output_type": "stream",
       "stream": "stdout",
       "text": [
        "<__main__.Person instance at 0x7f3a144a53b0>\n"
       ]
      }
     ],
     "prompt_number": 78
    },
    {
     "cell_type": "heading",
     "level": 1,
     "metadata": {},
     "source": [
      "\u65b9\u6cd5"
     ]
    },
    {
     "cell_type": "code",
     "collapsed": false,
     "input": [
      "class Person:\n",
      "    def say_hi(self):\n",
      "        print('Hello, how are you?')\n",
      "\n",
      "p = Person()\n",
      "p.say_hi()"
     ],
     "language": "python",
     "metadata": {},
     "outputs": [
      {
       "output_type": "stream",
       "stream": "stdout",
       "text": [
        "Hello, how are you?\n"
       ]
      }
     ],
     "prompt_number": 79
    },
    {
     "cell_type": "heading",
     "level": 1,
     "metadata": {},
     "source": [
      "__init__\u65b9\u6cd5"
     ]
    },
    {
     "cell_type": "code",
     "collapsed": false,
     "input": [
      "class Person:\n",
      "    def __init__(self, name):\n",
      "        self.name = name\n",
      "\n",
      "    def say_hi(self):\n",
      "        print('Hello, my name is', self.name)\n",
      "\n",
      "p = Person('Swaroop')\n",
      "p.say_hi()"
     ],
     "language": "python",
     "metadata": {},
     "outputs": [
      {
       "output_type": "stream",
       "stream": "stdout",
       "text": [
        "('Hello, my name is', 'Swaroop')\n"
       ]
      }
     ],
     "prompt_number": 80
    },
    {
     "cell_type": "heading",
     "level": 1,
     "metadata": {},
     "source": [
      "\u7c7b\u548c\u5bf9\u8c61\u6210\u5458"
     ]
    },
    {
     "cell_type": "code",
     "collapsed": false,
     "input": [
      "class Robot:\n",
      "    \"\"\"Represents a robot, with a name.\"\"\"\n",
      "\n",
      "    # A class variable, counting the number of robots\n",
      "    population = 0\n",
      "\n",
      "    def __init__(self, name):\n",
      "        \"\"\"Initializes the data.\"\"\"\n",
      "        self.name = name\n",
      "        print(\"(Initializing {})\".format(self.name))\n",
      "\n",
      "        # When this person is created, the robot\n",
      "        # adds to the population\n",
      "        Robot.population += 1\n",
      "\n",
      "    def die(self):\n",
      "        \"\"\"I am dying.\"\"\"\n",
      "        print(\"{} is being destroyed!\".format(self.name))\n",
      "\n",
      "        Robot.population -= 1\n",
      "\n",
      "        if Robot.population == 0:\n",
      "            print(\"{} was the last one.\".format(self.name))\n",
      "        else:\n",
      "            print(\"There are still {:d} robots working.\".format(\n",
      "                Robot.population))\n",
      "\n",
      "    def say_hi(self):\n",
      "        \"\"\"Greeting by the robot.\n",
      "\n",
      "        Yeah, they can do that.\"\"\"\n",
      "        print(\"Greetings, my masters call me {}.\".format(self.name))\n",
      "\n",
      "    @classmethod\n",
      "    def how_many(cls):\n",
      "        \"\"\"Prints the current population.\"\"\"\n",
      "        print(\"We have {:d} robots.\".format(cls.population))\n",
      "\n",
      "\n",
      "droid1 = Robot(\"R2-D2\")\n",
      "droid1.say_hi()\n",
      "Robot.how_many()\n",
      "\n",
      "droid2 = Robot(\"C-3PO\")\n",
      "droid2.say_hi()\n",
      "Robot.how_many()\n",
      "\n",
      "print(\"\\nRobots can do some work here.\\n\")\n",
      "\n",
      "print(\"Robots have finished their work. So let's destroy them.\")\n",
      "droid1.die()\n",
      "droid2.die()\n",
      "\n",
      "Robot.how_many()"
     ],
     "language": "python",
     "metadata": {},
     "outputs": [
      {
       "output_type": "stream",
       "stream": "stdout",
       "text": [
        "(Initializing R2-D2)\n",
        "Greetings, my masters call me R2-D2.\n",
        "We have 1 robots.\n",
        "(Initializing C-3PO)\n",
        "Greetings, my masters call me C-3PO.\n",
        "We have 2 robots.\n",
        "\n",
        "Robots can do some work here.\n",
        "\n",
        "Robots have finished their work. So let's destroy them.\n",
        "R2-D2 is being destroyed!\n",
        "There are still 1 robots working.\n",
        "C-3PO is being destroyed!\n",
        "C-3PO was the last one.\n",
        "We have 0 robots.\n"
       ]
      }
     ],
     "prompt_number": 81
    },
    {
     "cell_type": "heading",
     "level": 1,
     "metadata": {},
     "source": [
      "\u7ee7\u627f"
     ]
    },
    {
     "cell_type": "code",
     "collapsed": false,
     "input": [
      "class SchoolMember:\n",
      "    '''Represents any school member.'''\n",
      "    def __init__(self, name, age):\n",
      "        self.name = name\n",
      "        self.age = age\n",
      "        print('(Initialized SchoolMember: {})'.format(self.name))\n",
      "\n",
      "    def tell(self):\n",
      "        '''Tell my details.'''\n",
      "        print('Name:\"{}\" Age:\"{}\"'.format(self.name, self.age))\n",
      "\n",
      "\n",
      "class Teacher(SchoolMember):\n",
      "    '''Represents a teacher.'''\n",
      "    def __init__(self, name, age, salary):\n",
      "        SchoolMember.__init__(self, name, age)\n",
      "        self.salary = salary\n",
      "        print('(Initialized Teacher: {})'.format(self.name))\n",
      "\n",
      "    def tell(self):\n",
      "        SchoolMember.tell(self)\n",
      "        print('Salary: \"{:d}\"'.format(self.salary))\n",
      "\n",
      "\n",
      "class Student(SchoolMember):\n",
      "    '''Represents a student.'''\n",
      "    def __init__(self, name, age, marks):\n",
      "        SchoolMember.__init__(self, name, age)\n",
      "        self.marks = marks\n",
      "        print('(Initialized Student: {})'.format(self.name))\n",
      "\n",
      "    def tell(self):\n",
      "        SchoolMember.tell(self)\n",
      "        print('Marks: \"{:d}\"'.format(self.marks))\n",
      "\n",
      "t = Teacher('Mrs. Shrividya', 40, 30000)\n",
      "s = Student('Swaroop', 25, 75)\n",
      "\n",
      "# prints a blank line\n",
      "print()\n",
      "\n",
      "members = [t, s]\n",
      "for member in members:\n",
      "    # Works for both Teachers and Students\n",
      "    member.tell()"
     ],
     "language": "python",
     "metadata": {},
     "outputs": [
      {
       "output_type": "stream",
       "stream": "stdout",
       "text": [
        "(Initialized SchoolMember: Mrs. Shrividya)\n",
        "(Initialized Teacher: Mrs. Shrividya)\n",
        "(Initialized SchoolMember: Swaroop)\n",
        "(Initialized Student: Swaroop)\n",
        "()\n",
        "Name:\"Mrs. Shrividya\" Age:\"40\"\n",
        "Salary: \"30000\"\n",
        "Name:\"Swaroop\" Age:\"25\"\n",
        "Marks: \"75\"\n"
       ]
      }
     ],
     "prompt_number": 82
    },
    {
     "cell_type": "heading",
     "level": 1,
     "metadata": {},
     "source": [
      "\u7c7b\u7684\u7ec3\u4e60"
     ]
    },
    {
     "cell_type": "code",
     "collapsed": false,
     "input": [
      "class Cup(object):\n",
      "    def __init__(self):\n",
      "        self.water = 0\n",
      "    def full(self):\n",
      "        mass = self.capacity - self.water\n",
      "        self.watering(mass)\n",
      "\n",
      "class Mug(Cup):\n",
      "    capacity = 300\n",
      "    def drink(self, mass):\n",
      "        if mass > self.water:\n",
      "            raise Exception()\n",
      "        self.water -= mass\n",
      "    def watering(self, mass):\n",
      "        if self.water + mass > self.capacity:\n",
      "            raise Exception()\n",
      "        self.water += mass\n",
      "\n",
      "class SportBottle(Cup):\n",
      "    capacity = 500\n",
      "    def drink(self, mass):\n",
      "        if mass > self.water:\n",
      "            raise Exception()\n",
      "        self.water -= mass\n",
      "    def watering(self, mass):\n",
      "        if self.water + mass > self.capacity:\n",
      "            raise Exception()\n",
      "        self.water += mass\n",
      "        \n",
      "m = Mug()\n",
      "m.full()\n",
      "m.drink(100)\n",
      "print(m.water)\n",
      "\n",
      "s = SportBottle()\n",
      "s.full()\n",
      "s.drink(100)\n",
      "print(s.water)"
     ],
     "language": "python",
     "metadata": {},
     "outputs": [
      {
       "output_type": "stream",
       "stream": "stdout",
       "text": [
        "200\n",
        "400\n"
       ]
      }
     ],
     "prompt_number": 83
    },
    {
     "cell_type": "heading",
     "level": 1,
     "metadata": {},
     "source": [
      "\u4ece\u7528\u6237\u8f93\u5165"
     ]
    },
    {
     "cell_type": "code",
     "collapsed": false,
     "input": [
      "#Rise to vote, sir.\n",
      "def reverse(text):\n",
      "    return text[::-1]\n",
      "def is_palindrome(text):\n",
      "    return text == reverse(text)\n",
      "try:\n",
      "    something = raw_input(\"Enter text: \")\n",
      "except NameError:\n",
      "    something = input(\"Enter text: \")\n",
      "if is_palindrome(something):\n",
      "    print(\"Yes, it is a palindrome\")\n",
      "else:\n",
      "    print(\"No, it is not a palindrome\")"
     ],
     "language": "python",
     "metadata": {},
     "outputs": [
      {
       "name": "stdout",
       "output_type": "stream",
       "stream": "stdout",
       "text": [
        "Enter text: Rise to vote, sir.\n"
       ]
      },
      {
       "output_type": "stream",
       "stream": "stdout",
       "text": [
        "No, it is not a palindrome\n"
       ]
      }
     ],
     "prompt_number": 84
    },
    {
     "cell_type": "heading",
     "level": 1,
     "metadata": {},
     "source": [
      "\u4ece\u7528\u6237\u8f93\u5165\u7ec3\u4e60"
     ]
    },
    {
     "cell_type": "code",
     "collapsed": false,
     "input": [
      "def reverse(text):\n",
      "    return text[::-1]\n",
      "def is_palindrome(text):\n",
      "    text = text.replace(',', '')\n",
      "    text = text.replace('.', '')\n",
      "    text = text.replace(' ', '')\n",
      "    text = text.lower()\n",
      "    return text == reverse(text)\n",
      "try:\n",
      "    something = raw_input(\"Enter text: \")\n",
      "except NameError:\n",
      "    something = input(\"Enter text: \")\n",
      "if is_palindrome(something):\n",
      "    print(\"Yes, it is a palindrome\")\n",
      "else:\n",
      "    print(\"No, it is not a palindrome\")"
     ],
     "language": "python",
     "metadata": {},
     "outputs": [
      {
       "name": "stdout",
       "output_type": "stream",
       "stream": "stdout",
       "text": [
        "Enter text: Rise to vote, sir.\n"
       ]
      },
      {
       "output_type": "stream",
       "stream": "stdout",
       "text": [
        "Yes, it is a palindrome\n"
       ]
      }
     ],
     "prompt_number": 85
    },
    {
     "cell_type": "heading",
     "level": 1,
     "metadata": {},
     "source": [
      "\u4ece\u6587\u4ef6\u4e2d\u8f93\u5165\u8f93\u51fa"
     ]
    },
    {
     "cell_type": "code",
     "collapsed": false,
     "input": [
      "import sys\n",
      "poem = '''\\\n",
      "Programming is fun\n",
      "When the work is done\n",
      "if you wanna make your work also fun:\n",
      "    use Python!\n",
      "'''\n",
      "f = open('poem.txt', 'w')\n",
      "f.write(poem)\n",
      "f.close()\n",
      "f = open('poem.txt')\n",
      "while True:\n",
      "    line = f.readline()\n",
      "    if len(line) == 0:\n",
      "        break\n",
      "    sys.stdout.write(line)\n",
      "f.close()"
     ],
     "language": "python",
     "metadata": {},
     "outputs": [
      {
       "output_type": "stream",
       "stream": "stdout",
       "text": [
        "Programming is fun\n",
        "When the work is done\n",
        "if you wanna make your work also fun:\n",
        "    use Python!\n"
       ]
      }
     ],
     "prompt_number": 86
    },
    {
     "cell_type": "code",
     "collapsed": false,
     "input": [
      "!ls -l poem.txt"
     ],
     "language": "python",
     "metadata": {},
     "outputs": [
      {
       "output_type": "stream",
       "stream": "stdout",
       "text": [
        "-rw-r--r-- 1 shell shell 95 8\u6708  17 15:41 poem.txt\r\n"
       ]
      }
     ],
     "prompt_number": 87
    },
    {
     "cell_type": "code",
     "collapsed": false,
     "input": [
      "!cat poem.txt"
     ],
     "language": "python",
     "metadata": {},
     "outputs": [
      {
       "output_type": "stream",
       "stream": "stdout",
       "text": [
        "Programming is fun\r\n",
        "When the work is done\r\n",
        "if you wanna make your work also fun:\r\n",
        "    use Python!\r\n"
       ]
      }
     ],
     "prompt_number": 88
    },
    {
     "cell_type": "code",
     "collapsed": false,
     "input": [
      "!rm poem.txt"
     ],
     "language": "python",
     "metadata": {},
     "outputs": [],
     "prompt_number": 89
    },
    {
     "cell_type": "markdown",
     "metadata": {},
     "source": [
      "\u4ee5\u4e0a\u7686\u662flinux\u6307\u4ee4\uff0c\u56e0\u6b64\u4e0d\u80fd\uff08\u4e5f\u4e0d\u9700\u8981\uff09\u5728windows\u4e0a\u6267\u884c\u3002windows\u4e0a\u5bf9\u5e94\u7684\u884c\u4e3a\u4e3adir\uff0cnotepad\u6253\u5f00\uff0c\u548c\u5220\u9664\u3002"
     ]
    },
    {
     "cell_type": "heading",
     "level": 1,
     "metadata": {},
     "source": [
      "with"
     ]
    },
    {
     "cell_type": "code",
     "collapsed": false,
     "input": [
      "import sys\n",
      "poem = '''\\\n",
      "Programming is fun\n",
      "When the work is done\n",
      "if you wanna make your work also fun:\n",
      "    use Python!\n",
      "'''\n",
      "f = open('poem.txt', 'w')\n",
      "f.write(poem)\n",
      "f.close()\n",
      "\n",
      "with open(\"poem.txt\") as f:\n",
      "    for line in f:\n",
      "        sys.stdout.write(line)"
     ],
     "language": "python",
     "metadata": {},
     "outputs": [
      {
       "output_type": "stream",
       "stream": "stdout",
       "text": [
        "Programming is fun\n",
        "When the work is done\n",
        "if you wanna make your work also fun:\n",
        "    use Python!\n"
       ]
      }
     ],
     "prompt_number": 90
    },
    {
     "cell_type": "heading",
     "level": 1,
     "metadata": {},
     "source": [
      "\u5f02\u5e38"
     ]
    },
    {
     "cell_type": "code",
     "collapsed": false,
     "input": [
      "Print(\"Hello World\")"
     ],
     "language": "python",
     "metadata": {},
     "outputs": [
      {
       "ename": "NameError",
       "evalue": "name 'Print' is not defined",
       "output_type": "pyerr",
       "traceback": [
        "\u001b[0;31m---------------------------------------------------------------------------\u001b[0m\n\u001b[0;31mNameError\u001b[0m                                 Traceback (most recent call last)",
        "\u001b[0;32m<ipython-input-91-4a9fe39e6a16>\u001b[0m in \u001b[0;36m<module>\u001b[0;34m()\u001b[0m\n\u001b[0;32m----> 1\u001b[0;31m \u001b[0mPrint\u001b[0m\u001b[0;34m(\u001b[0m\u001b[0;34m\"Hello World\"\u001b[0m\u001b[0;34m)\u001b[0m\u001b[0;34m\u001b[0m\u001b[0m\n\u001b[0m",
        "\u001b[0;31mNameError\u001b[0m: name 'Print' is not defined"
       ]
      }
     ],
     "prompt_number": 91
    },
    {
     "cell_type": "heading",
     "level": 1,
     "metadata": {},
     "source": [
      "\u5f02\u5e38\u8f93\u51fa\u9605\u8bfb"
     ]
    },
    {
     "cell_type": "code",
     "collapsed": false,
     "input": [
      "def layer1():\n",
      "    print('layer1 called')\n",
      "    return layer2()\n",
      "\n",
      "def layer2():\n",
      "    print('layer2 called')\n",
      "    return layer3()\n",
      "\n",
      "def layer3():\n",
      "    print('layer3 called')\n",
      "    raise Exception('arg1', 2)\n",
      "    return 1\n",
      "\n",
      "print(layer1())"
     ],
     "language": "python",
     "metadata": {},
     "outputs": [
      {
       "output_type": "stream",
       "stream": "stdout",
       "text": [
        "layer1 called\n",
        "layer2 called\n",
        "layer3 called\n"
       ]
      },
      {
       "ename": "Exception",
       "evalue": "('arg1', 2)",
       "output_type": "pyerr",
       "traceback": [
        "\u001b[0;31m---------------------------------------------------------------------------\u001b[0m\n\u001b[0;31mException\u001b[0m                                 Traceback (most recent call last)",
        "\u001b[0;32m<ipython-input-92-8f122b33cc2f>\u001b[0m in \u001b[0;36m<module>\u001b[0;34m()\u001b[0m\n\u001b[1;32m     12\u001b[0m     \u001b[0;32mreturn\u001b[0m \u001b[0;36m1\u001b[0m\u001b[0;34m\u001b[0m\u001b[0m\n\u001b[1;32m     13\u001b[0m \u001b[0;34m\u001b[0m\u001b[0m\n\u001b[0;32m---> 14\u001b[0;31m \u001b[0;32mprint\u001b[0m\u001b[0;34m(\u001b[0m\u001b[0mlayer1\u001b[0m\u001b[0;34m(\u001b[0m\u001b[0;34m)\u001b[0m\u001b[0;34m)\u001b[0m\u001b[0;34m\u001b[0m\u001b[0m\n\u001b[0m",
        "\u001b[0;32m<ipython-input-92-8f122b33cc2f>\u001b[0m in \u001b[0;36mlayer1\u001b[0;34m()\u001b[0m\n\u001b[1;32m      1\u001b[0m \u001b[0;32mdef\u001b[0m \u001b[0mlayer1\u001b[0m\u001b[0;34m(\u001b[0m\u001b[0;34m)\u001b[0m\u001b[0;34m:\u001b[0m\u001b[0;34m\u001b[0m\u001b[0m\n\u001b[1;32m      2\u001b[0m     \u001b[0;32mprint\u001b[0m\u001b[0;34m(\u001b[0m\u001b[0;34m'layer1 called'\u001b[0m\u001b[0;34m)\u001b[0m\u001b[0;34m\u001b[0m\u001b[0m\n\u001b[0;32m----> 3\u001b[0;31m     \u001b[0;32mreturn\u001b[0m \u001b[0mlayer2\u001b[0m\u001b[0;34m(\u001b[0m\u001b[0;34m)\u001b[0m\u001b[0;34m\u001b[0m\u001b[0m\n\u001b[0m\u001b[1;32m      4\u001b[0m \u001b[0;34m\u001b[0m\u001b[0m\n\u001b[1;32m      5\u001b[0m \u001b[0;32mdef\u001b[0m \u001b[0mlayer2\u001b[0m\u001b[0;34m(\u001b[0m\u001b[0;34m)\u001b[0m\u001b[0;34m:\u001b[0m\u001b[0;34m\u001b[0m\u001b[0m\n",
        "\u001b[0;32m<ipython-input-92-8f122b33cc2f>\u001b[0m in \u001b[0;36mlayer2\u001b[0;34m()\u001b[0m\n\u001b[1;32m      5\u001b[0m \u001b[0;32mdef\u001b[0m \u001b[0mlayer2\u001b[0m\u001b[0;34m(\u001b[0m\u001b[0;34m)\u001b[0m\u001b[0;34m:\u001b[0m\u001b[0;34m\u001b[0m\u001b[0m\n\u001b[1;32m      6\u001b[0m     \u001b[0;32mprint\u001b[0m\u001b[0;34m(\u001b[0m\u001b[0;34m'layer2 called'\u001b[0m\u001b[0;34m)\u001b[0m\u001b[0;34m\u001b[0m\u001b[0m\n\u001b[0;32m----> 7\u001b[0;31m     \u001b[0;32mreturn\u001b[0m \u001b[0mlayer3\u001b[0m\u001b[0;34m(\u001b[0m\u001b[0;34m)\u001b[0m\u001b[0;34m\u001b[0m\u001b[0m\n\u001b[0m\u001b[1;32m      8\u001b[0m \u001b[0;34m\u001b[0m\u001b[0m\n\u001b[1;32m      9\u001b[0m \u001b[0;32mdef\u001b[0m \u001b[0mlayer3\u001b[0m\u001b[0;34m(\u001b[0m\u001b[0;34m)\u001b[0m\u001b[0;34m:\u001b[0m\u001b[0;34m\u001b[0m\u001b[0m\n",
        "\u001b[0;32m<ipython-input-92-8f122b33cc2f>\u001b[0m in \u001b[0;36mlayer3\u001b[0;34m()\u001b[0m\n\u001b[1;32m      9\u001b[0m \u001b[0;32mdef\u001b[0m \u001b[0mlayer3\u001b[0m\u001b[0;34m(\u001b[0m\u001b[0;34m)\u001b[0m\u001b[0;34m:\u001b[0m\u001b[0;34m\u001b[0m\u001b[0m\n\u001b[1;32m     10\u001b[0m     \u001b[0;32mprint\u001b[0m\u001b[0;34m(\u001b[0m\u001b[0;34m'layer3 called'\u001b[0m\u001b[0;34m)\u001b[0m\u001b[0;34m\u001b[0m\u001b[0m\n\u001b[0;32m---> 11\u001b[0;31m     \u001b[0;32mraise\u001b[0m \u001b[0mException\u001b[0m\u001b[0;34m(\u001b[0m\u001b[0;34m'arg1'\u001b[0m\u001b[0;34m,\u001b[0m \u001b[0;36m2\u001b[0m\u001b[0;34m)\u001b[0m\u001b[0;34m\u001b[0m\u001b[0m\n\u001b[0m\u001b[1;32m     12\u001b[0m     \u001b[0;32mreturn\u001b[0m \u001b[0;36m1\u001b[0m\u001b[0;34m\u001b[0m\u001b[0m\n\u001b[1;32m     13\u001b[0m \u001b[0;34m\u001b[0m\u001b[0m\n",
        "\u001b[0;31mException\u001b[0m: ('arg1', 2)"
       ]
      }
     ],
     "prompt_number": 92
    },
    {
     "cell_type": "heading",
     "level": 1,
     "metadata": {},
     "source": [
      "\u5f02\u5e38\u5904\u7406"
     ]
    },
    {
     "cell_type": "code",
     "collapsed": false,
     "input": [
      "# \u7531\u4e8eipython\u7684\u9650\u5236\uff0c\u8fd9\u4e2a\u9700\u8981\u5f00\u547d\u4ee4\u884c\u6f14\u793a\u3002\n",
      "try:\n",
      "    try:\n",
      "        text = raw_input('Enter something --> ')\n",
      "    except NameError:\n",
      "        text = input('Enter something --> ')\n",
      "except EOFError:\n",
      "    print('Why did you do an EOF on me?')\n",
      "except KeyboardInterrupt:\n",
      "    print('You cancelled the operation.')\n",
      "else:\n",
      "    print('You entered {}'.format(text))"
     ],
     "language": "python",
     "metadata": {},
     "outputs": [
      {
       "name": "stdout",
       "output_type": "stream",
       "stream": "stdout",
       "text": [
        "Enter something --> ok\n"
       ]
      },
      {
       "output_type": "stream",
       "stream": "stdout",
       "text": [
        "You entered ok\n"
       ]
      }
     ],
     "prompt_number": 93
    },
    {
     "cell_type": "heading",
     "level": 1,
     "metadata": {},
     "source": [
      "\u629b\u51fa\u5f02\u5e38"
     ]
    },
    {
     "cell_type": "code",
     "collapsed": false,
     "input": [
      "def f():\n",
      "    print(\"I'm ok\")\n",
      "    raise Exception('actually not')\n",
      "\n",
      "try:\n",
      "    f()\n",
      "except Exception as err:\n",
      "    print(err)"
     ],
     "language": "python",
     "metadata": {},
     "outputs": [
      {
       "output_type": "stream",
       "stream": "stdout",
       "text": [
        "I'm ok\n",
        "actually not\n"
       ]
      }
     ],
     "prompt_number": 94
    },
    {
     "cell_type": "heading",
     "level": 1,
     "metadata": {},
     "source": [
      "\u81ea\u5b9a\u4e49\u5f02\u5e38"
     ]
    },
    {
     "cell_type": "code",
     "collapsed": false,
     "input": [
      "class ShortInputException(Exception):\n",
      "    '''A user-defined exception class.'''\n",
      "    def __init__(self, length, atleast):\n",
      "        Exception.__init__(self)\n",
      "        self.length = length\n",
      "        self.atleast = atleast\n",
      "\n",
      "try:\n",
      "    try:\n",
      "        text = raw_input('Enter something --> ')\n",
      "    except NameError:\n",
      "        text = input('Enter something --> ')\n",
      "    if len(text) < 3:\n",
      "        raise ShortInputException(len(text), 3)\n",
      "except EOFError:\n",
      "    print('Why did you do an EOF on me?')\n",
      "except ShortInputException as ex:\n",
      "    print(('ShortInputException: The input was ' +\n",
      "           '{0} long, expected at least {1}')\n",
      "          .format(ex.length, ex.atleast))\n",
      "else:\n",
      "    print('No exception was raised.')"
     ],
     "language": "python",
     "metadata": {},
     "outputs": [
      {
       "name": "stdout",
       "output_type": "stream",
       "stream": "stdout",
       "text": [
        "Enter something --> 1\n"
       ]
      },
      {
       "output_type": "stream",
       "stream": "stdout",
       "text": [
        "ShortInputException: The input was 1 long, expected at least 3\n"
       ]
      }
     ],
     "prompt_number": 95
    },
    {
     "cell_type": "heading",
     "level": 1,
     "metadata": {},
     "source": [
      "finally"
     ]
    },
    {
     "cell_type": "code",
     "collapsed": false,
     "input": [
      "import sys\n",
      "import time\n",
      "\n",
      "f = None\n",
      "try:\n",
      "    f = open(\"poem.txt\")\n",
      "    # Our usual file-reading idiom\n",
      "    while True:\n",
      "        line = f.readline()\n",
      "        if len(line) == 0:\n",
      "            break\n",
      "        sys.stdout.write(line)\n",
      "        sys.stdout.flush()\n",
      "        print(\"Press ctrl+c now\")\n",
      "        # To make sure it runs for a while\n",
      "        time.sleep(2)\n",
      "except IOError:\n",
      "    print(\"Could not find file poem.txt\")\n",
      "except KeyboardInterrupt:\n",
      "    print(\"!! You cancelled the reading from the file.\")\n",
      "finally:\n",
      "    if f:\n",
      "        f.close()\n",
      "    print(\"(Cleaning up: Closed the file)\")"
     ],
     "language": "python",
     "metadata": {},
     "outputs": [
      {
       "output_type": "stream",
       "stream": "stdout",
       "text": [
        "Programming is fun\n"
       ]
      },
      {
       "output_type": "stream",
       "stream": "stdout",
       "text": [
        "Press ctrl+c now\n",
        "When the work is done\n"
       ]
      },
      {
       "output_type": "stream",
       "stream": "stdout",
       "text": [
        "Press ctrl+c now\n",
        "if you wanna make your work also fun:\n"
       ]
      },
      {
       "output_type": "stream",
       "stream": "stdout",
       "text": [
        "Press ctrl+c now\n",
        "    use Python!\n"
       ]
      },
      {
       "output_type": "stream",
       "stream": "stdout",
       "text": [
        "Press ctrl+c now\n",
        "(Cleaning up: Closed the file)"
       ]
      },
      {
       "output_type": "stream",
       "stream": "stdout",
       "text": [
        "\n"
       ]
      }
     ],
     "prompt_number": 96
    },
    {
     "cell_type": "code",
     "collapsed": false,
     "input": [
      "!rm poem.txt"
     ],
     "language": "python",
     "metadata": {},
     "outputs": [],
     "prompt_number": 97
    },
    {
     "cell_type": "heading",
     "level": 1,
     "metadata": {},
     "source": [
      "assert"
     ]
    },
    {
     "cell_type": "code",
     "collapsed": false,
     "input": [
      "assert 1 == 0, Exception('of course')"
     ],
     "language": "python",
     "metadata": {},
     "outputs": [
      {
       "ename": "AssertionError",
       "evalue": "of course",
       "output_type": "pyerr",
       "traceback": [
        "\u001b[0;31m---------------------------------------------------------------------------\u001b[0m\n\u001b[0;31mAssertionError\u001b[0m                            Traceback (most recent call last)",
        "\u001b[0;32m<ipython-input-98-53f9edc366b8>\u001b[0m in \u001b[0;36m<module>\u001b[0;34m()\u001b[0m\n\u001b[0;32m----> 1\u001b[0;31m \u001b[0;32massert\u001b[0m \u001b[0;36m1\u001b[0m \u001b[0;34m==\u001b[0m \u001b[0;36m0\u001b[0m\u001b[0;34m,\u001b[0m \u001b[0mException\u001b[0m\u001b[0;34m(\u001b[0m\u001b[0;34m'of course'\u001b[0m\u001b[0;34m)\u001b[0m\u001b[0;34m\u001b[0m\u001b[0m\n\u001b[0m",
        "\u001b[0;31mAssertionError\u001b[0m: of course"
       ]
      }
     ],
     "prompt_number": 98
    }
   ],
   "metadata": {}
  }
 ]
}