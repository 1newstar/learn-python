{
 "metadata": {
  "celltoolbar": "Slideshow",
  "name": "",
  "signature": "sha256:b173768187c39a01f53aff05579625dfc68245965f817c7091439c7adc3bc972"
 },
 "nbformat": 3,
 "nbformat_minor": 0,
 "worksheets": [
  {
   "cells": [
    {
     "cell_type": "markdown",
     "metadata": {
      "slideshow": {
       "slide_type": "slide"
      }
     },
     "source": [
      "# Python\u8fdb\u9636"
     ]
    },
    {
     "cell_type": "markdown",
     "metadata": {
      "slideshow": {
       "slide_type": "subslide"
      }
     },
     "source": [
      "## License\n",
      "\n",
      "CC-BY-SA 4.0\n",
      "\n",
      "\u5927\u90e8\u5206\u5185\u5bb9\u6765\u81ea\u201da byte of python\u201d\uff0c\u5728\u6b64\u611f\u8c22\u4f5c\u8005\u3002"
     ]
    },
    {
     "cell_type": "markdown",
     "metadata": {
      "slideshow": {
       "slide_type": "slide"
      }
     },
     "source": [
      "# \u9ad8\u9636\u8bed\u6cd5\u6280\u5de7"
     ]
    },
    {
     "cell_type": "markdown",
     "metadata": {
      "slideshow": {
       "slide_type": "subslide"
      }
     },
     "source": [
      "## \u6309\u540d\u79f0\u4f20\u9012\u53c2\u6570\n",
      "\n",
      "\u51fd\u6570\u9664\u4e86\u53ef\u4ee5\u6309\u7167\u987a\u5e8f\u4f20\u9012\u53c2\u6570\uff0c\u8fd8\u53ef\u4ee5\u6309\u7167\u540d\u79f0\u4f20\u9012\u53c2\u6570\u3002\n",
      "\n",
      "\u8fd9\u53ef\u4ee5\u6709\u6548\u89e3\u51b3\u6211\u4eec\u5728\u201c\u9ed8\u8ba4\u53c2\u6570\u201d\u4e00\u8282\u63d0\u5230\u8fc7\u7684\u95ee\u9898\u3002\n",
      "\n",
      "\u5373\u51fd\u6570\u5927\u91cf\u53c2\u6570\u6709\u9ed8\u8ba4\u503c\uff0c\u5bfc\u81f4\u60f3\u5728\u67d0\u4e2a\u53c2\u6570\u4e0a\u4f20\u9012\u4e00\u4e2a\u4e0d\u540c\u7684\u503c\uff0c\u9700\u8981\u5c06\u524d\u9762\u7684\u53c2\u6570\u9ed8\u8ba4\u503c\u5168\u90e8\u4f20\u9012\u4e00\u904d\u7684\u7a98\u5883\u3002"
     ]
    },
    {
     "cell_type": "code",
     "collapsed": false,
     "input": [
      "from __future__ import print_function\n",
      "\n",
      "def func(a, b=5, c=10):\n",
      "    print('a is', a, 'and b is', b, 'and c is', c)\n",
      "\n",
      "func(3, 7)\n",
      "func(25, c=24)\n",
      "func(c=50, a=100)"
     ],
     "language": "python",
     "metadata": {
      "slideshow": {
       "slide_type": "subslide"
      }
     },
     "outputs": [
      {
       "output_type": "stream",
       "stream": "stdout",
       "text": [
        "a is 3 and b is 7 and c is 10\n",
        "a is 25 and b is 5 and c is 24\n",
        "a is 100 and b is 5 and c is 50\n"
       ]
      }
     ],
     "prompt_number": 1
    },
    {
     "cell_type": "markdown",
     "metadata": {
      "slideshow": {
       "slide_type": "subslide"
      }
     },
     "source": [
      "## \u6df7\u5408\u591a\u79cd\u4f20\u9012\u65b9\u5f0f\n",
      "\n",
      "\u4e00\u822c\u800c\u8a00\uff0c\u6bd4\u8f83\u5bb9\u6613\u7406\u89e3\u7684\u6b21\u5e8f\u662f\uff1a\n",
      "\n",
      "1. \u6709\u6309\u987a\u5e8f\u4f20\u9012\u7684\u503c\uff0c\u5c31\u4ece\u5de6\u5411\u53f3\u63a5\u6536\u6570\u636e\u3002\n",
      "2. \u6ca1\u6709\u6309\u987a\u5e8f\u4f20\u9012\u7684\u503c\uff0c\u5c31\u6309\u540d\u4f20\u9012\u3002\n",
      "3. \u627e\u4e0d\u5230\u540d\u5b57\u7684\uff0c\u62a5\u9519\u3002\u8fd9\u4e2a\u540d\u5b57\u5df2\u7ecf\u6309\u987a\u5e8f\u4f20\u9012\u8fc7\u4e86\u7684\uff0c\u62a5\u9519\u3002\n",
      "4. \u5168\u90e8\u4f20\u9012\u5b8c\u4e86\u8fd8\u6ca1\u627e\u5230\u503c\u7684\u53c2\u6570\uff0c\u7528\u9ed8\u8ba4\u53c2\u6570\u3002\n",
      "5. \u6ca1\u6709\u9ed8\u8ba4\u53c2\u6570\u7684\uff0c\u62a5\u9519\u3002"
     ]
    },
    {
     "cell_type": "markdown",
     "metadata": {
      "slideshow": {
       "slide_type": "subslide"
      }
     },
     "source": [
      "\u6839\u636e\u4e0a\u9762\u7684\u89c4\u5219\uff0c\u6211\u4eec\u53ef\u4ee5\u5f97\u5230\u4e00\u4e9b\u7ed3\u8bba\uff1a\n",
      "\n",
      "* \u5b9a\u4e49\u51fd\u6570\u65f6\uff0c\u5982\u679c\u5e26\u9ed8\u8ba4\u503c\u53c2\u6570\u5728\u4e0d\u5e26\u9ed8\u8ba4\u503c\u7684\u5de6\u8fb9\uff0c\u62a5\u9519\u3002\n",
      "* \u4f20\u9012\u503c\u65f6\uff0c\u5982\u679c\u6309\u540d\u4f20\u9012\u5199\u5728\u4e86\u6309\u987a\u5e8f\u4f20\u9012\u7684\u5de6\u8fb9\uff0c\u62a5\u9519\u3002\n",
      "* \u8bbe\u8ba1\u4f7f\u7528\u51fd\u6570\u65f6\uff0c\u5982\u679c\u9700\u8981\u60f3\u4e00\u4e0b\u624d\u77e5\u9053\u662f\u600e\u4e48\u56de\u4e8b\u7684\u3002\u8bf7\u8861\u91cf\u4e00\u4e0b\u8fd9\u4e2a\u5199\u6cd5\u662f\u4e0d\u662f\u592a\u7e41\u7410\u4e86\uff0c\u6709\u6ca1\u6709\u7b80\u5355\u7684\u529e\u6cd5\u3002"
     ]
    },
    {
     "cell_type": "markdown",
     "metadata": {
      "slideshow": {
       "slide_type": "subslide"
      }
     },
     "source": [
      "## \u53ef\u53d8\u53c2\u6570\n",
      "\n",
      "\u6709\u65f6\u6211\u4eec\u9700\u8981\u63a5\u6536\u4e0d\u786e\u5b9a\u957f\u5ea6\u4e2a\u53c2\u6570\u3002\u4f8b\u5982sum\u51fd\u6570\u3002\n",
      "\n",
      "\u6216\u8005\u662f\u51fa\u4e8e\u67d0\u79cd\u7406\u7531\uff0c\u4e0d\u60f3\u5904\u7406\u7528\u6237\u7684\u6240\u6709\u8f93\u5165\u3002\n",
      "\n",
      "\u8fd9\u65f6\u6211\u4eec\u53ef\u4ee5\u7528\u53ef\u53d8\u53c2\u6570\u6765\u63a5\u6536\u6216\u4f20\u9012\u53c2\u6570\u3002\n",
      "\n",
      "\u53ef\u53d8\u53c2\u6570\u7684\u57fa\u672c\u5199\u6cd5\u662f`function_name(arguments, *argument_list, arguments_withname, **arguments_dict)`\u3002"
     ]
    },
    {
     "cell_type": "code",
     "collapsed": false,
     "input": [
      "def any_arguments(*p, **kw):\n",
      "    print(p)\n",
      "    print(kw)\n",
      "\n",
      "any_arguments(1, 2, 3, 4, 5, a=1, b=2, c=3, d=4, e=5)"
     ],
     "language": "python",
     "metadata": {
      "slideshow": {
       "slide_type": "subslide"
      }
     },
     "outputs": [
      {
       "output_type": "stream",
       "stream": "stdout",
       "text": [
        "(1, 2, 3, 4, 5)\n",
        "{'a': 1, 'c': 3, 'b': 2, 'e': 5, 'd': 4}\n"
       ]
      }
     ],
     "prompt_number": 2
    },
    {
     "cell_type": "markdown",
     "metadata": {
      "slideshow": {
       "slide_type": "notes"
      }
     },
     "source": [
      "\u8981\u63d0\u9632\u7528\u53ef\u53d8\u53c2\u6570\u6765\u505alist\u4f20\u9012\u7684\u884c\u4e3a\u3002"
     ]
    },
    {
     "cell_type": "code",
     "collapsed": false,
     "input": [
      "def sum(a, b, *p):\n",
      "    s = a + b\n",
      "    for i in p: s += i\n",
      "    return s\n",
      "\n",
      "print(sum(1, 2))\n",
      "print(sum(1, 2, 3))"
     ],
     "language": "python",
     "metadata": {
      "slideshow": {
       "slide_type": "subslide"
      }
     },
     "outputs": [
      {
       "output_type": "stream",
       "stream": "stdout",
       "text": [
        "3\n",
        "6\n"
       ]
      }
     ],
     "prompt_number": 3
    },
    {
     "cell_type": "code",
     "collapsed": false,
     "input": [
      "def sum(l, inital=0):\n",
      "    s = inital\n",
      "    for i in l: s += i\n",
      "    return s\n",
      "\n",
      "print(sum(range(101)))"
     ],
     "language": "python",
     "metadata": {},
     "outputs": [
      {
       "output_type": "stream",
       "stream": "stdout",
       "text": [
        "5050\n"
       ]
      }
     ],
     "prompt_number": 4
    },
    {
     "cell_type": "markdown",
     "metadata": {
      "slideshow": {
       "slide_type": "subslide"
      }
     },
     "source": [
      "## \u7ec3\u4e60\n",
      "\n",
      "1. \u67e5\u9605subprocess.Popen\uff0c\u5199\u51fa\u6267\u884c\u4e00\u4e2a\u5b50\u7a0b\u5e8f\u7684\u5199\u6cd5\u3002\uff08\u4e0d\u9700\u8981\u540e\u7eed\u914d\u5408\uff0c\u53ea\u9700\u8981\u5199\u51faPopen\u7684\u8c03\u7528\u65b9\u6cd5\uff09\n",
      "2. \u5199\u51fa\u9700\u8981\u6539\u53d8\u6267\u884c\u76ee\u5f55\u7684\u5199\u6cd5\u3002\n",
      "3. \u5982\u679c\u4f60\u7684\u8c03\u7528\u5728\u4e00\u4e2a\u51fd\u6570\u5185\uff0c\u8fd9\u4e2a\u51fd\u6570\u9700\u8981\u5bf9\u5916\u66b4\u9732\u4e00\u4e9bPopen\u7684\u7ec6\u8282\u3002\u4f8b\u5982\u7531\u5916\u5c42\u6765\u51b3\u5b9a\u662f\u5426close_fds\u7b49\u3002\u8bf7\u5199\u51fa\u4f60\u8ba4\u4e3a\u5408\u9002\u7684\u5199\u6cd5\u3002"
     ]
    },
    {
     "cell_type": "markdown",
     "metadata": {
      "slideshow": {
       "slide_type": "subslide"
      }
     },
     "source": [
      "## \u7b2c\u4e00\u7c7b\u51fd\u6570\u5bf9\u8c61\n",
      "\n",
      "\u4ec0\u4e48\u53eb\u505a\u201c\u7b2c\u4e00\u7c7b\u201d\uff1f\n",
      "\n",
      "\u5c31\u662f\u201c\u4e00\u7b49\u516c\u6c11\u201d\u7684\u610f\u601d\u3002\u5728\u4f7f\u7528\u4e0a\u548c\u5176\u4ed6\u503c\u4e00\u6837\uff0c\u6ca1\u6709\u4efb\u4f55\u533a\u522b\u548c\u6b67\u89c6\u3002\n",
      "\n",
      "\u7b2c\u4e00\u7c7b\u51fd\u6570\u5bf9\u8c61\u7684\u610f\u601d\u5c31\u662f\uff0c\u51fd\u6570\u5bf9\u8c61\u5728\u4f7f\u7528\u4e0a\u548c\u5176\u4ed6\u5bf9\u8c61\u4e00\u6837\u3002\n",
      "\n",
      "\u4f60\u662f\u5426\u60f3\u8c61\u8fc7\uff0c\u5c06\u51fd\u6570\u4f5c\u4e3a\u666e\u901a\u5bf9\u8c61\u4f7f\u7528\uff1f\u50cf\u666e\u901a\u5bf9\u8c61\u4e00\u6837\uff0c\u80fd\u591f\u5b9a\u4e49\uff0c\u4f5c\u4e3a\u53c2\u6570\u4f20\u9012\uff0c\u4f5c\u4e3a\u7ed3\u679c\u4f20\u51fa\u3002"
     ]
    },
    {
     "cell_type": "code",
     "collapsed": false,
     "input": [
      "op_set = {\n",
      "    '+': lambda x, y: x+y,\n",
      "    '-': lambda x, y: x-y,\n",
      "    '*': lambda x, y: x*y,\n",
      "    '/': lambda x, y: float(x)/y,\n",
      "}\n",
      "\n",
      "print(op_set['+'](1, 2))"
     ],
     "language": "python",
     "metadata": {
      "slideshow": {
       "slide_type": "subslide"
      }
     },
     "outputs": [
      {
       "output_type": "stream",
       "stream": "stdout",
       "text": [
        "3\n"
       ]
      }
     ],
     "prompt_number": 5
    },
    {
     "cell_type": "markdown",
     "metadata": {
      "slideshow": {
       "slide_type": "subslide"
      }
     },
     "source": [
      "## \u95ed\u5305\n",
      "\n",
      "python\u7684\u4f5c\u7528\u57df\u57fa\u672c\u539f\u5219\u662f\uff0c\u5185\u5c42\u53ef\u4ee5\u8bbf\u95ee\u5916\u5c42\u53d8\u91cf\uff0c\u5916\u5c42\u4e0d\u80fd\u8bbf\u95ee\u5185\u5c42\u3002\u5728\u4e24\u5c42\u7684\u65f6\u5019\uff0c\u53ea\u6709\u5c40\u90e8\u548c\u5168\u5c40\u3002\n",
      "\n",
      "\u4f46\u662f\u5982\u679c\u8003\u8651\u5728\u51fd\u6570\u5185\u53ef\u4ee5\u5b9a\u4e49\u51fd\u6570\uff0c\u800c\u4e14\u88ab\u5b9a\u4e49\u51fa\u6765\u7684\u51fd\u6570\u8fd8\u53ef\u4ee5\u4f5c\u4e3a\u7ed3\u679c\u503c\u8fd4\u56de\u3002\n",
      "\n",
      "\u90a3\u4e48\u8fd9\u4e2a\u201c\u5728\u5185\u5c42\u5b9a\u4e49\u7684\u51fd\u6570\u201d\uff0c\u9664\u4e86\u8bbf\u95ee\u81ea\u5df1\u7684\u5c40\u90e8\u53d8\u91cf\u548c\u5168\u90e8\u53d8\u91cf\u5916\uff0c\u662f\u5426\u53ef\u4ee5\u8bbf\u95ee\u5b9a\u4e49\u4ed6\u7684\u51fd\u6570\u7684\u201c\u5c40\u90e8\u53d8\u91cf\u201d\u5462\uff1f\n",
      "\n",
      "\u8fd9\u79cd\u4f7f\u5f97\u5d4c\u5957\u5b9a\u4e49\u51fd\u6570\u53ef\u8bbf\u95ee\u4e0a\u4e2a\u4f5c\u7528\u57df\u6570\u636e\u7684\u5b9a\u4e49\uff0c\u88ab\u79f0\u4e3a\u201c\u95ed\u5305\u201d\u3002"
     ]
    },
    {
     "cell_type": "code",
     "collapsed": false,
     "input": [
      "def addn(n):\n",
      "    def add(x):\n",
      "        return x+n\n",
      "    return add\n",
      "\n",
      "add10 = addn(10)\n",
      "print(add10(50))"
     ],
     "language": "python",
     "metadata": {
      "slideshow": {
       "slide_type": "subslide"
      }
     },
     "outputs": [
      {
       "output_type": "stream",
       "stream": "stdout",
       "text": [
        "60\n"
       ]
      }
     ],
     "prompt_number": 6
    },
    {
     "cell_type": "markdown",
     "metadata": {
      "slideshow": {
       "slide_type": "subslide"
      }
     },
     "source": [
      "## \u95ed\u5305\u7684\u672c\u8d28\n",
      "\n",
      "\u6b63\u5e38\u6765\u8bf4\uff0c\u5c40\u90e8\u53d8\u91cf\u5728\u51fd\u6570\u7ed3\u675f\u65f6\u6d88\u4ea1\u3002\n",
      "\n",
      "\u7136\u800c\u5982\u679c\u5728\u5185\u5c42\u5d4c\u5957\u51fd\u6570\u4e2d\u9700\u8981\u8bbf\u95ee\u7684\u8bdd\uff0c\u90a3\u4e48\u51fd\u6570\u7ed3\u675f\u65f6\u5c40\u90e8\u53d8\u91cf\u4e5f\u4e0d\u80fd\u6d88\u4ea1\uff0c\u5426\u5219\u5185\u5c42\u51fd\u6570\u53bb\u8bbf\u95ee\u4ec0\u4e48\u5462\uff1f\n",
      "\n",
      "\u5e26\u6709\u95ed\u5305\u7684\u51fd\u6570\uff0c\u5c40\u90e8\u53d8\u91cf\u4f1a\u88ab\u9644\u5e26\u5728\u521a\u521a\u751f\u6210\u51fd\u6570\u4e0a\uff0c\u968f\u7740\u8fd9\u4e2a\u51fd\u6570\u5bf9\u8c61\u7684\u6d88\u4ea1\u800c\u6d88\u4ea1\u3002\n",
      "\n",
      "\u56e0\u6b64\uff0c\u95ed\u5305\u662f\u4e00\u79cd\u5e26\u73af\u5883\u6570\u636e\u7684\u53ef\u6267\u884c\u5bf9\u8c61\u3002\u8fd9\u662f\u95ed\u5305\u548c\u666e\u901a\u51fd\u6570\u6700\u5927\u7684\u533a\u522b\u3002"
     ]
    },
    {
     "cell_type": "markdown",
     "metadata": {
      "slideshow": {
       "slide_type": "subslide"
      }
     },
     "source": [
      "## \u95ed\u5305\u548c\u7c7b\u7684\u6bd4\u8f83\n",
      "\n",
      "\u95ed\u5305\u662f\u5e26\u6570\u636e\u7684\u65b9\u6cd5\uff0c\u7c7b\u662f\u5e26\u65b9\u6cd5\u7684\u6570\u636e\uff0c\u4e24\u8005\u975e\u5e38\u7c7b\u4f3c\u3002\u53ef\u4ee5\u9009\u7528\u7b80\u5355\u7684\u90a3\u4e2a\u3002\n",
      "\n",
      "\u5728\u9700\u8981\u66b4\u9732\u5185\u90e8\u6570\u636e\uff0c\u6570\u636e\u9644\u5e26\u7684\u65b9\u6cd5\u6bd4\u8f83\u590d\u6742\u65f6\uff0c\u5efa\u8bae\u9009\u7528\u7c7b\u3002\u53cd\u4e4b\uff0c\u53ef\u4ee5\u9009\u7528\u95ed\u5305\u3002"
     ]
    },
    {
     "cell_type": "code",
     "collapsed": false,
     "input": [
      "class addn(object):\n",
      "    def __init__(self, n):\n",
      "        self.n = n\n",
      "    def __call__(self, x):\n",
      "        return x + self.n\n",
      "\n",
      "add10 = addn(10)\n",
      "print(add10(50))"
     ],
     "language": "python",
     "metadata": {
      "slideshow": {
       "slide_type": "subslide"
      }
     },
     "outputs": [
      {
       "output_type": "stream",
       "stream": "stdout",
       "text": [
        "60\n"
       ]
      }
     ],
     "prompt_number": 7
    },
    {
     "cell_type": "markdown",
     "metadata": {
      "slideshow": {
       "slide_type": "subslide"
      }
     },
     "source": [
      "## LEGB\n",
      "\n",
      "\u5728\u52a0\u5165\u95ed\u5305\u540e\uff0c\u6211\u4eec\u53ef\u4ee5\u5f97\u5230\u5b8c\u6574\u7684\u53d8\u91cf\u67e5\u8be2\u987a\u5e8f\u3002\n",
      "\n",
      "\u5c40\u90e8\uff0c\u95ed\u5305\u4e2d\uff0c\u5168\u5c40\uff0c\u5185\u7f6e\u3002\u56db\u4e2a\u540d\u79f0\u7684\u5b57\u6bcd\u7b80\u5199\u4e3aLEGB\u3002\n",
      "\n",
      "LEGB - Local Enclosing Global Builtins"
     ]
    },
    {
     "cell_type": "code",
     "collapsed": false,
     "input": [
      "my_variable = 1\n",
      "\n",
      "def func():\n",
      "    my_variable = 2\n",
      "    print(my_variable)\n",
      "    \n",
      "func()"
     ],
     "language": "python",
     "metadata": {
      "slideshow": {
       "slide_type": "subslide"
      }
     },
     "outputs": [
      {
       "output_type": "stream",
       "stream": "stdout",
       "text": [
        "2\n"
       ]
      }
     ],
     "prompt_number": 8
    },
    {
     "cell_type": "code",
     "collapsed": false,
     "input": [
      "my_variable = 1\n",
      "\n",
      "def func():\n",
      "    my_variable = 2\n",
      "    def func1():\n",
      "        my_variable = 3\n",
      "        print(my_variable)\n",
      "    return func1\n",
      "    \n",
      "func()()"
     ],
     "language": "python",
     "metadata": {},
     "outputs": [
      {
       "output_type": "stream",
       "stream": "stdout",
       "text": [
        "3\n"
       ]
      }
     ],
     "prompt_number": 9
    },
    {
     "cell_type": "markdown",
     "metadata": {
      "slideshow": {
       "slide_type": "subslide"
      }
     },
     "source": [
      "## \u88c5\u9970\u5668\n",
      "\n",
      "\u88c5\u9970\u5668\u65b9\u6cd5\u5141\u8bb8\u4f60\u91cd\u5199\u67d0\u4e2a\u51fd\u6570\u7684\u6267\u884c\u8fc7\u7a0b\uff0c\u5728\u5b9e\u9645\u51fd\u6570\u6267\u884c\u524d\u540e\u6267\u884c\u4e00\u4e9b\u81ea\u5df1\u7684\u8f85\u52a9\u4ee3\u7801\u3002\n",
      "\n",
      "\u4ece\u800c\u5141\u8bb8\u4f60\u5c06\u90e8\u5206\u529f\u80fd\u9644\u52a0\u5728\u5176\u4ed6\u51fd\u6570\u4e0a\u3002\u6216\u8005\u8fd0\u7528\u8fd9\u79cd\u624b\u6cd5\u5bf9\u51fd\u6570\u7684\u5171\u540c\u884c\u4e3a\u8fdb\u884c\u5265\u79bb\u3002\n",
      "\n",
      "\u8fd9\u79cd\u91cd\u5199\u8fc7\u7a0b\uff0c\u53ef\u4ee5\u7528\u95ed\u5305\u6216\u7c7b\u6765\u5b9e\u73b0\u3002"
     ]
    },
    {
     "cell_type": "code",
     "collapsed": false,
     "input": [
      "from __future__ import print_function\n",
      "\n",
      "class print_arg(object):\n",
      "    def __init__(self, f):\n",
      "        self.f = f\n",
      "    def __call__(self, *p, **kw):\n",
      "        print(p, kw)\n",
      "        return self.f(*p, **kw)\n",
      "\n",
      "def add(a, b):\n",
      "    return a+b\n",
      "add = print_arg(add)\n",
      "\n",
      "print(add(10, 20))"
     ],
     "language": "python",
     "metadata": {
      "slideshow": {
       "slide_type": "subslide"
      }
     },
     "outputs": [
      {
       "output_type": "stream",
       "stream": "stdout",
       "text": [
        "(10, 20) {}\n",
        "30\n"
       ]
      }
     ],
     "prompt_number": 10
    },
    {
     "cell_type": "code",
     "collapsed": false,
     "input": [
      "def print_arg(f):\n",
      "    def inner(*p, **kw):\n",
      "        print(p, kw)\n",
      "        return f(*p, **kw)\n",
      "    return inner\n",
      "\n",
      "def add(a, b):\n",
      "    return a+b\n",
      "add = print_arg(add)\n",
      "\n",
      "print(add(10, 20))"
     ],
     "language": "python",
     "metadata": {
      "slideshow": {
       "slide_type": "subslide"
      }
     },
     "outputs": [
      {
       "output_type": "stream",
       "stream": "stdout",
       "text": [
        "(10, 20) {}\n",
        "30\n"
       ]
      }
     ],
     "prompt_number": 11
    },
    {
     "cell_type": "markdown",
     "metadata": {
      "slideshow": {
       "slide_type": "subslide"
      }
     },
     "source": [
      "## \u88c5\u9970\u5668\u8bed\u6cd5\u7cd6\n",
      "\n",
      "\u7531\u4e8e\u88c5\u9970\u5668\u5728python\u4e2d\u7ecf\u5e38\u4f7f\u7528\uff0c\u56e0\u6b64python\u5b9a\u4e49\u4e86\u4e13\u95e8\u7684\u8bed\u6cd5\u6765\u65b9\u4fbf\u4f7f\u7528\u3002"
     ]
    },
    {
     "cell_type": "code",
     "collapsed": false,
     "input": [
      "@print_arg\n",
      "def add(a, b):\n",
      "    return a+b\n",
      "\n",
      "print(add(10, 20))"
     ],
     "language": "python",
     "metadata": {},
     "outputs": [
      {
       "output_type": "stream",
       "stream": "stdout",
       "text": [
        "(10, 20) {}\n",
        "30\n"
       ]
      }
     ],
     "prompt_number": 12
    },
    {
     "cell_type": "markdown",
     "metadata": {
      "slideshow": {
       "slide_type": "subslide"
      }
     },
     "source": [
      "## \u7ec3\u4e601\n",
      "\n",
      "fib\u8ba1\u7b97\u51fd\u6570\u7684\u8fd0\u7b97\u5f88\u6162\uff0c\u56e0\u4e3afib\u5728\u8ba1\u7b97\u67d0\u4e2a\u53c2\u6570\u65f6\uff0c\u4f1a\u91cd\u590d\u6267\u884c\u5f88\u591a\u6b21\u66f4\u4f4e\u503c\u7684\u8ba1\u7b97\u3002\n",
      "\n",
      "\u8bf7\u8bbe\u8ba1\u4e00\u4e2a\u88c5\u9970\u5668\uff0c\u52a0\u901f\u8fd9\u4e2a\u6267\u884c\u8fc7\u7a0b\u3002\u5e76\u5bf9\u6bd4\u5728\u52a0\u548c\u4e0d\u52a0\u8fd9\u4e2a\u88c5\u9970\u5668\u4e0b\u7684\u6548\u7387\u3002"
     ]
    },
    {
     "cell_type": "code",
     "collapsed": false,
     "input": [
      "def fib(n):\n",
      "    if n <= 1: return 1\n",
      "    return fib(n-1) + fib(n-2)\n",
      "\n",
      "%time fib(35)"
     ],
     "language": "python",
     "metadata": {},
     "outputs": [
      {
       "output_type": "stream",
       "stream": "stdout",
       "text": [
        "CPU times: user 3.37 s, sys: 20 ms, total: 3.39 s\n",
        "Wall time: 3.35 s\n"
       ]
      },
      {
       "metadata": {},
       "output_type": "pyout",
       "prompt_number": 13,
       "text": [
        "14930352"
       ]
      }
     ],
     "prompt_number": 13
    },
    {
     "cell_type": "markdown",
     "metadata": {
      "slideshow": {
       "slide_type": "subslide"
      }
     },
     "source": [
      "## \u7b54\u6848"
     ]
    },
    {
     "cell_type": "code",
     "collapsed": false,
     "input": [
      "def memorized(f):\n",
      "    cache = {}\n",
      "    def inner(n):\n",
      "        if n not in cache:\n",
      "            cache[n] = f(n)\n",
      "        return cache[n]\n",
      "    return inner\n",
      "\n",
      "@memorized\n",
      "def fib(n):\n",
      "    if n <= 1: return 1\n",
      "    return fib(n-1) + fib(n-2)\n",
      "\n",
      "%time fib(35)"
     ],
     "language": "python",
     "metadata": {
      "slideshow": {
       "slide_type": "-"
      }
     },
     "outputs": [
      {
       "output_type": "stream",
       "stream": "stdout",
       "text": [
        "CPU times: user 0 ns, sys: 0 ns, total: 0 ns\n",
        "Wall time: 51 \u00b5s\n"
       ]
      },
      {
       "metadata": {},
       "output_type": "pyout",
       "prompt_number": 14,
       "text": [
        "14930352"
       ]
      }
     ],
     "prompt_number": 14
    },
    {
     "cell_type": "markdown",
     "metadata": {
      "slideshow": {
       "slide_type": "subslide"
      }
     },
     "source": [
      "## \u7ec3\u4e602\n",
      "\n",
      "\u8bf7\u8003\u8651\u4e0a\u8ff0\u88c5\u9970\u5668\u662f\u5426\u80fd\u7528\u4e8e\u5176\u4ed6\u51fd\u6570\u3002\n",
      "\n",
      "\u5982\u679c\u4e0d\u80fd\uff0c\u8bf7\u4fee\u6539\u4e0a\u8ff0\u88c5\u9970\u5668\uff0c\u4f7f\u5176\u80fd\u591f\u7528\u4e8e\u5176\u4ed6\u51fd\u6570\u3002\u5e76\u8bf4\u660e\u5176\u9002\u7528\u8303\u56f4\u3002"
     ]
    },
    {
     "cell_type": "markdown",
     "metadata": {
      "slideshow": {
       "slide_type": "subslide"
      }
     },
     "source": [
      "## \u7b54\u6848"
     ]
    },
    {
     "cell_type": "code",
     "collapsed": false,
     "input": [
      "def memorized(f):\n",
      "    cache = {}\n",
      "    def inner(*p):\n",
      "        if p not in cache:\n",
      "            cache[p] = f(*p)\n",
      "        return cache[p]\n",
      "    return inner\n",
      "\n",
      "@memorized\n",
      "def fib(n):\n",
      "    if n <= 1: return 1\n",
      "    return fib(n-1) + fib(n-2)\n",
      "\n",
      "%time fib(35)"
     ],
     "language": "python",
     "metadata": {},
     "outputs": [
      {
       "output_type": "stream",
       "stream": "stdout",
       "text": [
        "CPU times: user 0 ns, sys: 0 ns, total: 0 ns\n",
        "Wall time: 62.2 \u00b5s\n"
       ]
      },
      {
       "metadata": {},
       "output_type": "pyout",
       "prompt_number": 15,
       "text": [
        "14930352"
       ]
      }
     ],
     "prompt_number": 15
    },
    {
     "cell_type": "markdown",
     "metadata": {
      "slideshow": {
       "slide_type": "subslide"
      }
     },
     "source": [
      "## \u751f\u6210\u5668\n",
      "\u5728python\u4e2d\uff0c\u6211\u4eec\u65f6\u5e38\u9700\u8981\u751f\u6210\u4e00\u4e2a\u975e\u5e38\u5927\u7684\u5e8f\u5217\u6570\u636e\u5e76\u8fd4\u56de\u3002\u4f8b\u5982\u5e16\u5b50\u7684\u5217\u8868\uff0c\u7528\u6237\u7684ID\uff0c\u7b49\u7b49\u3002\n",
      "\n",
      "\u6b63\u5e38\u6211\u4eec\u90fd\u662f\u83b7\u5f97\u6570\u636e\u5e76\u751f\u6210\u4e00\u4e2alist\u8fd4\u56de\u3002\u4f46\u662f\u5f88\u591a\u65f6\u5019\uff0c\u8fd9\u4e2a\u5e8f\u5217\u6570\u636e\u662f\u8fd1\u4e4e\u4e8e\u65e0\u9650\u7684\u3002\n",
      "\n",
      "\u4ece\u6027\u80fd\u89d2\u5ea6\u6765\u8bf4\uff0c\u6211\u5e0c\u671b\u4f7f\u7528\u4e00\u4e2a\u8ba1\u7b97\u4e00\u4e2a\uff0c\u4e0d\u9700\u8981\u4e3a\u4e86\u5168\u90e8\u5217\u8868\u800c\u8017\u8d39\u8d44\u6e90\u3002\n",
      "\n",
      "\u4ece\u4f7f\u7528\u89d2\u5ea6\u6765\u8bf4\uff0c\u6211\u5e0c\u671b\u8fd9\u4e2a\u5217\u8868\u548c\u539f\u6765\u7684\u5217\u8868\u4f7f\u7528\u8d77\u6765\u6ca1\u6709\u4ec0\u4e48\u592a\u5927\u533a\u522b\u3002\u4e24\u8005\u6700\u597d\u505a\u5230\u53ef\u4ee5\u4e92\u76f8\u66ff\u6362\u3002\n",
      "\n",
      "\u5e78\u597d\uff0cpython\u4e3a\u6211\u4eec\u63d0\u4f9b\u4e86\u751f\u6210\u5668\u8fd9\u4e48\u4e00\u79cd\u529f\u80fd\u3002"
     ]
    },
    {
     "cell_type": "markdown",
     "metadata": {
      "slideshow": {
       "slide_type": "notes"
      }
     },
     "source": [
      "\u751f\u6210\u5668\u7b49\u4e8e\u751f\u6210\u6570\u7ec4\u8fd4\u56de\u3002"
     ]
    },
    {
     "cell_type": "code",
     "collapsed": false,
     "input": [
      "def fib_seq(n):\n",
      "    l = []\n",
      "    a, b = 1, 1\n",
      "    for i in range(n):\n",
      "        a, b = a+b, a\n",
      "        l.append(a)\n",
      "    return l\n",
      "\n",
      "print(fib_seq(20))"
     ],
     "language": "python",
     "metadata": {
      "slideshow": {
       "slide_type": "subslide"
      }
     },
     "outputs": [
      {
       "output_type": "stream",
       "stream": "stdout",
       "text": [
        "[2, 3, 5, 8, 13, 21, 34, 55, 89, 144, 233, 377, 610, 987, 1597, 2584, 4181, 6765, 10946, 17711]\n"
       ]
      }
     ],
     "prompt_number": 16
    },
    {
     "cell_type": "code",
     "collapsed": false,
     "input": [
      "def fib_seq(n):\n",
      "    a, b = 1, 1\n",
      "    for i in range(n):\n",
      "        a, b = a+b, a\n",
      "        yield a\n",
      "\n",
      "print(fib_seq(20))\n",
      "print(list(fib_seq(20)))"
     ],
     "language": "python",
     "metadata": {
      "slideshow": {
       "slide_type": "-"
      }
     },
     "outputs": [
      {
       "output_type": "stream",
       "stream": "stdout",
       "text": [
        "<generator object fib_seq at 0x7f78fbc3e8c0>\n",
        "[2, 3, 5, 8, 13, 21, 34, 55, 89, 144, 233, 377, 610, 987, 1597, 2584, 4181, 6765, 10946, 17711]\n"
       ]
      }
     ],
     "prompt_number": 17
    },
    {
     "cell_type": "markdown",
     "metadata": {
      "slideshow": {
       "slide_type": "subslide"
      }
     },
     "source": [
      "## \u65e0\u9650\u751f\u6210\u5668\n",
      "\n",
      "\u65e2\u7136\u751f\u6210\u5668\u673a\u5236\u5141\u8bb8\u6211\u4eec\u4e00\u4e2a\u4e2a\u83b7\u5f97\u6570\u636e\uff0c\u90a3\u4e48\u6211\u4eec\u5b9a\u4e49\u4e00\u4e2a\u201c\u65e0\u9650\u957f\u201d\u7684list\u4e5f\u662f\u53ef\u4ee5\u7684\u3002\n",
      "\n",
      "\u53ea\u8981\u4e0d\u771f\u7684\u53bb\u4f7f\u7528\u6240\u6709\u6570\u636e\uff0c\u5c31\u4e0d\u4f1a\u4ea7\u751f\u6b7b\u5faa\u73af\u3002"
     ]
    },
    {
     "cell_type": "code",
     "collapsed": false,
     "input": [
      "def fib_seq():\n",
      "    a = b = 1\n",
      "    while True:\n",
      "        a, b = a+b, a\n",
      "        yield b\n",
      "\n",
      "def size_limited_seq(seq, n):\n",
      "    for i in seq:\n",
      "        if n <= 0: return\n",
      "        yield i\n",
      "        n -= 1\n",
      "\n",
      "print(list(size_limited_seq(fib_seq(), 10)))"
     ],
     "language": "python",
     "metadata": {
      "slideshow": {
       "slide_type": "subslide"
      }
     },
     "outputs": [
      {
       "output_type": "stream",
       "stream": "stdout",
       "text": [
        "[1, 2, 3, 5, 8, 13, 21, 34, 55, 89]\n"
       ]
      }
     ],
     "prompt_number": 18
    },
    {
     "cell_type": "markdown",
     "metadata": {
      "slideshow": {
       "slide_type": "notes"
      }
     },
     "source": [
      "\u751f\u6210\u5668\u5728\u9700\u8981\u65f6\u624d\u751f\u6210\u3002\n",
      "\n",
      "\u5982\u679c\u6b64\u5904\u4f7f\u7528\u6570\u7ec4\u7684\u8bdd\uff0c\u767e\u5206\u767e\u4f1a\u5bfc\u81f4\u65e0\u6cd5\u6267\u884c\u3002"
     ]
    },
    {
     "cell_type": "code",
     "collapsed": false,
     "input": [
      "def number_limited_seq(seq, n):\n",
      "    for i in seq:\n",
      "        if i >= n: break\n",
      "        yield i\n",
      "\n",
      "print(list(number_limited_seq(fib_seq(), 100000)))"
     ],
     "language": "python",
     "metadata": {
      "slideshow": {
       "slide_type": "subslide"
      }
     },
     "outputs": [
      {
       "output_type": "stream",
       "stream": "stdout",
       "text": [
        "[1, 2, 3, 5, 8, 13, 21, 34, 55, 89, 144, 233, 377, 610, 987, 1597, 2584, 4181, 6765, 10946, 17711, 28657, 46368, 75025]\n"
       ]
      }
     ],
     "prompt_number": 19
    },
    {
     "cell_type": "code",
     "collapsed": false,
     "input": [
      "# \u548c\u524d\u9762\u5b9a\u4e49\u7684sum\u51fd\u6570\u8054\u7528\uff0csum\u51fd\u6570\u652f\u6301\u751f\u6210\u5668\n",
      "print(sum(number_limited_seq(fib_seq(), 100000)))"
     ],
     "language": "python",
     "metadata": {},
     "outputs": [
      {
       "output_type": "stream",
       "stream": "stdout",
       "text": [
        "196416\n"
       ]
      }
     ],
     "prompt_number": 20
    },
    {
     "cell_type": "markdown",
     "metadata": {
      "slideshow": {
       "slide_type": "subslide"
      }
     },
     "source": [
      "## map/filter/reduce\n",
      "\n",
      "* map: \u4ece\u4e00\u4e2a\u5217\u8868\u6620\u5c04\u5230\u53e6\u4e00\u4e2a\u5217\u8868\n",
      "* filter: \u4ece\u5217\u8868\u4e2d\u9009\u62e9\u7b26\u5408\u6761\u4ef6\u7684\n",
      "* reduce: \u5bf9\u5217\u8868\u53cd\u590d\u6267\u884c\u5408\u5e76\u64cd\u4f5c"
     ]
    },
    {
     "cell_type": "code",
     "collapsed": false,
     "input": [
      "# python2\u4e0b\u65e0\u9700list\uff0c\u4f46\u662fpython3\u4e0bmap\u8fd4\u56de\u751f\u6210\u5668\n",
      "print(list(map(lambda x: x*x, range(20))))"
     ],
     "language": "python",
     "metadata": {
      "slideshow": {
       "slide_type": "subslide"
      }
     },
     "outputs": [
      {
       "output_type": "stream",
       "stream": "stdout",
       "text": [
        "[0, 1, 4, 9, 16, 25, 36, 49, 64, 81, 100, 121, 144, 169, 196, 225, 256, 289, 324, 361]\n"
       ]
      }
     ],
     "prompt_number": 21
    },
    {
     "cell_type": "code",
     "collapsed": false,
     "input": [
      "# python2\u4e0b\u65e0\u9700list\uff0c\u4f46\u662fpython3\u4e0bfilter\u8fd4\u56de\u751f\u6210\u5668\n",
      "print(list(filter(lambda x: x % 2 == 0, range(20))))"
     ],
     "language": "python",
     "metadata": {
      "slideshow": {
       "slide_type": "-"
      }
     },
     "outputs": [
      {
       "output_type": "stream",
       "stream": "stdout",
       "text": [
        "[0, 2, 4, 6, 8, 10, 12, 14, 16, 18]\n"
       ]
      }
     ],
     "prompt_number": 22
    },
    {
     "cell_type": "code",
     "collapsed": false,
     "input": [
      "# \u5728python2\u4e0b\uff0c\u65e0\u9700import\u3002\n",
      "# python3\u4e2d\uff0creduce\u5df2\u7ecf\u88ab\u4ece\u5168\u5c40\u547d\u540d\u7a7a\u95f4\u4e2d\u79fb\u9664\u4e86\uff0c\u6240\u4ee5\u9700\u8981import\u3002\n",
      "from functools import reduce\n",
      "reduce(lambda x, y: x*y, range(1, 20))"
     ],
     "language": "python",
     "metadata": {
      "slideshow": {
       "slide_type": "-"
      }
     },
     "outputs": [
      {
       "metadata": {},
       "output_type": "pyout",
       "prompt_number": 23,
       "text": [
        "121645100408832000"
       ]
      }
     ],
     "prompt_number": 23
    },
    {
     "cell_type": "markdown",
     "metadata": {
      "slideshow": {
       "slide_type": "subslide"
      }
     },
     "source": [
      "## map/filter\uff0c\u5217\u8868\u63a8\u5bfc\u5f0f\u548cfor\u5faa\u73af\u7684\u6bd4\u8f83\n",
      "\n",
      "\u4e09\u8005\u90fd\u53ef\u4ee5\u5b8c\u6210\u5bf9list\u64cd\u4f5c\u7684\u7279\u5b9a\u529f\u80fd\uff0c\u4f8b\u5982\u7b5b\u9009\u51fa\u5176\u4e2d\u67d0\u4e9b\u503c\uff0c\u5c06\u5176\u4e2d\u7684\u503c\u8f6c\u6362\u4e3a\u53e6\u4e00\u4e2a\u503c\u3002\u4f46\u662f\u4e09\u8005\u5728\u4fbf\u5229\u7a0b\u5ea6\u548c\u4f7f\u7528\u7ec6\u8282\u4e0a\u7565\u6709\u4e0d\u540c\u3002\n",
      "\n",
      "map/filter\u548c\u5217\u8868\u63a8\u5bfc\u5f0f\u6bd4\u8f83\u95f4\u65ad\uff0c\u9002\u7528\u4e8e\u76f8\u5bf9\u4e0d\u662f\u5f88\u590d\u6742\u7684\u60c5\u51b5\u3002\u771f\u6b63\u590d\u6742\u7684\u60c5\u51b5\u9700\u8981\u7528for\u6765\u5c55\u5f00\u3002\n",
      "\n",
      "map/filter\u548c\u5217\u8868\u63a8\u5bfc\u5f0f\u57fa\u672c\u5047\u5b9a\u662f\u201c\u8fd0\u7b97\u4e0d\u5f7c\u6b64\u5e72\u6270\u201d\u3002\u5373\u8fd0\u7b97\u67d0\u4e2a\u5143\u7d20\u65f6\uff0c\u4e0d\u53d7\u5230\u5176\u4ed6\u5143\u7d20\u7684\u5f71\u54cd\u3002for\u6ca1\u6709\u8fd9\u4e00\u5047\u5b9a\uff0c\u67d0\u5143\u7d20\u8fd0\u7b97\u65f6\u53ef\u4ee5\u53d7\u5230\u53e6\u4e00\u4e2a\u5143\u7d20\u5f71\u54cd\u3002\n",
      "\n",
      "\u4e00\u822c\u6765\u8bf4\u5217\u8868\u63a8\u5bfc\u5f0f\u6bd4map/filter\u66f4\u7b80\u6d01\u4e00\u4e9b\uff0c\u56e0\u4e3amap/filter\u9700\u8981\u5b9a\u4e49lambda\u3002\u4f46\u662f\u5728\u5df2\u7ecf\u62e5\u6709\u73b0\u6210\u51fd\u6570\u7684\u524d\u63d0\u4e0b\uff0cmap/filter\u66f4\u52a0\u65b9\u4fbf\u4e00\u4e9b\u3002"
     ]
    },
    {
     "cell_type": "markdown",
     "metadata": {
      "slideshow": {
       "slide_type": "notes"
      }
     },
     "source": [
      "\u53ef\u4ee5\u4e3e\u7b5b\u6cd5\u7684\u4f8b\u5b50\u3002"
     ]
    },
    {
     "cell_type": "code",
     "collapsed": false,
     "input": [
      "print([x*x for x in range(20)])"
     ],
     "language": "python",
     "metadata": {
      "slideshow": {
       "slide_type": "subslide"
      }
     },
     "outputs": [
      {
       "output_type": "stream",
       "stream": "stdout",
       "text": [
        "[0, 1, 4, 9, 16, 25, 36, 49, 64, 81, 100, 121, 144, 169, 196, 225, 256, 289, 324, 361]\n"
       ]
      }
     ],
     "prompt_number": 24
    },
    {
     "cell_type": "code",
     "collapsed": false,
     "input": [
      "l = []\n",
      "for x in range(20):\n",
      "    l.append(x*x)\n",
      "print(l)"
     ],
     "language": "python",
     "metadata": {},
     "outputs": [
      {
       "output_type": "stream",
       "stream": "stdout",
       "text": [
        "[0, 1, 4, 9, 16, 25, 36, 49, 64, 81, 100, 121, 144, 169, 196, 225, 256, 289, 324, 361]\n"
       ]
      }
     ],
     "prompt_number": 25
    },
    {
     "cell_type": "code",
     "collapsed": false,
     "input": [
      "print([x for x in range(20) if x % 2 == 0])"
     ],
     "language": "python",
     "metadata": {},
     "outputs": [
      {
       "output_type": "stream",
       "stream": "stdout",
       "text": [
        "[0, 2, 4, 6, 8, 10, 12, 14, 16, 18]\n"
       ]
      }
     ],
     "prompt_number": 26
    },
    {
     "cell_type": "code",
     "collapsed": false,
     "input": [
      "l = []\n",
      "for x in range(20):\n",
      "    if x % 2 == 0:\n",
      "        l.append(x)\n",
      "print(l)"
     ],
     "language": "python",
     "metadata": {},
     "outputs": [
      {
       "output_type": "stream",
       "stream": "stdout",
       "text": [
        "[0, 2, 4, 6, 8, 10, 12, 14, 16, 18]\n"
       ]
      }
     ],
     "prompt_number": 27
    },
    {
     "cell_type": "markdown",
     "metadata": {
      "slideshow": {
       "slide_type": "subslide"
      }
     },
     "source": [
      "## \u4f8b\u5b50: \u8ba1\u7b97\u5668\n",
      "\n",
      "\u5199\u4e00\u4e2a\u8ba1\u7b97\u5668\uff0c\u80fd\u591f\u8ba1\u7b97\u7b80\u5355\u7684\u52a0\u51cf\u4e58\u9664\u3002\uff08\u4e0d\u8003\u8651\u4f18\u5148\u7ea7\uff09"
     ]
    },
    {
     "cell_type": "markdown",
     "metadata": {
      "slideshow": {
       "slide_type": "subslide"
      }
     },
     "source": [
      "## \u7b54\u6848"
     ]
    },
    {
     "cell_type": "code",
     "collapsed": false,
     "input": [
      "op_set = {\n",
      "    '+': lambda x, y: x+y,\n",
      "    '-': lambda x, y: x-y,\n",
      "    '*': lambda x, y: x*y,\n",
      "    '/': lambda x, y: float(x)/y,\n",
      "}\n",
      "\n",
      "def parser_exp(exp):\n",
      "    s = ''\n",
      "    for c in exp:\n",
      "        if c in op_set:\n",
      "            yield s\n",
      "            s = ''\n",
      "            yield c\n",
      "        else:\n",
      "            s += c\n",
      "    if s: yield s\n",
      "\n",
      "print(list(parser_exp('1+2')))"
     ],
     "language": "python",
     "metadata": {
      "slideshow": {
       "slide_type": "-"
      }
     },
     "outputs": [
      {
       "output_type": "stream",
       "stream": "stdout",
       "text": [
        "['1', '+', '2']\n"
       ]
      }
     ],
     "prompt_number": 28
    },
    {
     "cell_type": "code",
     "collapsed": false,
     "input": [
      "def eval_exp(exp):\n",
      "    num = None\n",
      "    s = parser_exp(exp)\n",
      "    for e in s:\n",
      "        if e in op_set:\n",
      "            r = float(next(s))\n",
      "            num = op_set[e](num, r)\n",
      "        else:\n",
      "            num = float(e)\n",
      "    return num\n",
      "\n",
      "print(eval_exp('2*3+1'))\n",
      "print(eval_exp('1+2*3'))"
     ],
     "language": "python",
     "metadata": {
      "slideshow": {
       "slide_type": "subslide"
      }
     },
     "outputs": [
      {
       "output_type": "stream",
       "stream": "stdout",
       "text": [
        "7.0\n",
        "9.0\n"
       ]
      }
     ],
     "prompt_number": 29
    },
    {
     "cell_type": "markdown",
     "metadata": {
      "slideshow": {
       "slide_type": "slide"
      }
     },
     "source": [
      "# \u8bed\u6cd5\u8303\u5f0f"
     ]
    },
    {
     "cell_type": "markdown",
     "metadata": {
      "slideshow": {
       "slide_type": "subslide"
      }
     },
     "source": [
      "## \u5f15\u7528\u548c\u590d\u5236\n",
      "\n",
      "\u5728Python\u4e2d\uff0c\u8981\u5206\u6e05\u201c\u53ef\u53d8\u5bf9\u8c61\u201d\u548c\u201c\u4e0d\u53ef\u53d8\u5bf9\u8c61\u201d\u3002\u4ee5\u53ca\u201c\u5bf9\u8c61\u5f15\u7528\u201d\u548c\u201c\u5bf9\u8c61\u590d\u5236\u201d\u3002\n",
      "\n",
      "\u5bf9\u4e0d\u53ef\u53d8\u5bf9\u8c61\u800c\u8a00\uff0c\u5f15\u7528\u548c\u590d\u5236\u5e76\u6ca1\u6709\u592a\u5927\u533a\u522b\u2014\u2014\u53cd\u6b63\u5f04\u6765\u5f04\u53bb\u90fd\u662f\u540c\u4e00\u4e2a\u5bf9\u8c61\u3002\n",
      "\n",
      "\u800c\u5bf9\u4e8e\u53ef\u53d8\u5bf9\u8c61\uff0c\u5bf9\u4e8e\u5f15\u7528\u7684\u4fee\u6539\u4f1a\u540c\u65f6\u4f5c\u7528\u4e8e\u539f\u59cb\u5bf9\u8c61\u3002\u5bf9\u590d\u5236\u7684\u4fee\u6539\u5e76\u4e0d\u5f71\u54cd\u539f\u59cb\u5bf9\u8c61\u3002"
     ]
    },
    {
     "cell_type": "code",
     "collapsed": false,
     "input": [
      "from __future__ import print_function\n",
      "\n",
      "print('Simple Assignment')\n",
      "shoplist = ['apple', 'mango', 'carrot', 'banana']\n",
      "mylist = shoplist\n",
      "\n",
      "del shoplist[0]\n",
      "print('shoplist is', shoplist)\n",
      "print('mylist is', mylist)\n",
      "print('Copy by making a full slice')\n",
      "\n",
      "mylist = shoplist[:]\n",
      "del mylist[0]\n",
      "print('shoplist is', shoplist)\n",
      "print('mylist is', mylist)"
     ],
     "language": "python",
     "metadata": {
      "slideshow": {
       "slide_type": "subslide"
      }
     },
     "outputs": [
      {
       "output_type": "stream",
       "stream": "stdout",
       "text": [
        "Simple Assignment\n",
        "shoplist is ['mango', 'carrot', 'banana']\n",
        "mylist is ['mango', 'carrot', 'banana']\n",
        "Copy by making a full slice\n",
        "shoplist is ['mango', 'carrot', 'banana']\n",
        "mylist is ['carrot', 'banana']\n"
       ]
      }
     ],
     "prompt_number": 30
    },
    {
     "cell_type": "markdown",
     "metadata": {
      "slideshow": {
       "slide_type": "subslide"
      }
     },
     "source": [
      "## \u6d45\u62f7\u8d1d\u548c\u6df1\u62f7\u8d1d\n",
      "\n",
      "\u53ef\u53d8\u5bf9\u8c61\u7684\u62f7\u8d1d\u662f\u4e00\u4ef6\u8017\u65f6\u800c\u91cd\u8981\u7684\u5de5\u4f5c\u3002\n",
      "\n",
      "\u90a3\u4e48\uff0c\u5982\u679c\u5728\u53ef\u53d8\u5bf9\u8c61\u5185\u6709\u53e6\u4e00\u4e2a\u53ef\u53d8\u5bf9\u8c61\u5462\uff1f\u4f8b\u5982\u5728list\u91cc\u5d4c\u5957\u4e86list\uff1f\n",
      "\n",
      "\u53ea\u5bf9\u539f\u59cb\u7684list\u8fdb\u884c\u590d\u5236\u7684\u884c\u4e3a\uff0c\u53eb\u505a\u6d45\u62f7\u8d1d\u3002\u5bf9\u591a\u5c42\u5bf9\u8c61\u8fdb\u884c\u62f7\u8d1d\u7684\u884c\u4e3a\uff0c\u53eb\u505a\u6df1\u62f7\u8d1d\u3002"
     ]
    },
    {
     "cell_type": "code",
     "collapsed": false,
     "input": [
      "from __future__ import print_function\n",
      "import copy\n",
      "\n",
      "orig_list = [1, 2, 3, [4, 5, 6]]\n",
      "\n",
      "new_list = copy.deepcopy(orig_list)\n",
      "print(new_list)\n",
      "new_list[3].append(7)\n",
      "new_list.append(8)\n",
      "print(new_list)\n",
      "print(orig_list)\n",
      "\n",
      "print('-----------')\n",
      "\n",
      "new_list = copy.copy(orig_list)\n",
      "print(new_list)\n",
      "new_list[3].append(7)\n",
      "new_list.append(8)\n",
      "print(new_list)\n",
      "print(orig_list)"
     ],
     "language": "python",
     "metadata": {
      "slideshow": {
       "slide_type": "subslide"
      }
     },
     "outputs": [
      {
       "output_type": "stream",
       "stream": "stdout",
       "text": [
        "[1, 2, 3, [4, 5, 6]]\n",
        "[1, 2, 3, [4, 5, 6, 7], 8]\n",
        "[1, 2, 3, [4, 5, 6]]\n",
        "-----------\n",
        "[1, 2, 3, [4, 5, 6]]\n",
        "[1, 2, 3, [4, 5, 6, 7], 8]\n",
        "[1, 2, 3, [4, 5, 6, 7]]\n"
       ]
      }
     ],
     "prompt_number": 31
    },
    {
     "cell_type": "markdown",
     "metadata": {
      "slideshow": {
       "slide_type": "subslide"
      }
     },
     "source": [
      "## \u7ec3\u4e601\n",
      "\n",
      "\u7f16\u5199\u4e00\u4e2a\u51fd\u6570\uff0c\u5c06\u8f93\u5165\u5217\u8868\u53cd\u5e8f\u8f93\u51fa\u3002\n",
      "\n",
      "\u7981\u6b62\u7528\u7cfb\u7edf\u53cd\u5411\u51fd\u6570\uff0c\u4f8b\u5982reversed\u548clist.reverse\u3002"
     ]
    },
    {
     "cell_type": "markdown",
     "metadata": {
      "slideshow": {
       "slide_type": "subslide"
      }
     },
     "source": [
      "## \u7b54\u6848"
     ]
    },
    {
     "cell_type": "code",
     "collapsed": false,
     "input": [
      "l = [1,2,3,4,5]\n",
      "\n",
      "def my_reverse(l):\n",
      "    for i in range(1, len(l)+1):\n",
      "        yield l[len(l)-i]\n",
      "\n",
      "print(list(my_reverse(l)))"
     ],
     "language": "python",
     "metadata": {},
     "outputs": [
      {
       "output_type": "stream",
       "stream": "stdout",
       "text": [
        "[5, 4, 3, 2, 1]\n"
       ]
      }
     ],
     "prompt_number": 32
    },
    {
     "cell_type": "markdown",
     "metadata": {
      "slideshow": {
       "slide_type": "subslide"
      }
     },
     "source": [
      "## \u7ec3\u4e602\n",
      "\n",
      "\u4fee\u6539\u4e0a\u9762\u7684\u51fd\u6570\uff0c\u5c06\u8f93\u5165\u5217\u8868\u5c31\u5730\u53cd\u5e8f\uff0c\u4e0d\u4ea7\u751f\u8f93\u51fa\u3002"
     ]
    },
    {
     "cell_type": "markdown",
     "metadata": {
      "slideshow": {
       "slide_type": "subslide"
      }
     },
     "source": [
      "## \u7b54\u6848"
     ]
    },
    {
     "cell_type": "code",
     "collapsed": false,
     "input": [
      "l = [1,2,3,4,5]\n",
      "\n",
      "def my_reverse(l):\n",
      "    t = l[:]\n",
      "    del l[:]\n",
      "    for i in range(1, len(t)+1):\n",
      "        l.append(t[len(t)-i])\n",
      "\n",
      "my_reverse(l)\n",
      "print(l)"
     ],
     "language": "python",
     "metadata": {},
     "outputs": [
      {
       "output_type": "stream",
       "stream": "stdout",
       "text": [
        "[5, 4, 3, 2, 1]\n"
       ]
      }
     ],
     "prompt_number": 33
    },
    {
     "cell_type": "markdown",
     "metadata": {
      "slideshow": {
       "slide_type": "subslide"
      }
     },
     "source": [
      "## \u7ec3\u4e603\n",
      "\n",
      "\u6784\u9020\u4e00\u9897\u81ea\u5faa\u73af\u4e8c\u53c9\u6811\u3002"
     ]
    },
    {
     "cell_type": "markdown",
     "metadata": {
      "slideshow": {
       "slide_type": "subslide"
      }
     },
     "source": [
      "## \u7b54\u6848"
     ]
    },
    {
     "cell_type": "code",
     "collapsed": false,
     "input": [
      "l = []\n",
      "l.append(l)\n",
      "l.append(l)\n",
      "print(l)"
     ],
     "language": "python",
     "metadata": {},
     "outputs": [
      {
       "output_type": "stream",
       "stream": "stdout",
       "text": [
        "[[...], [...]]\n"
       ]
      }
     ],
     "prompt_number": 34
    },
    {
     "cell_type": "markdown",
     "metadata": {
      "slideshow": {
       "slide_type": "subslide"
      }
     },
     "source": [
      "## \u7ec3\u4e604\n",
      "\n",
      "\u601d\u8003\u4e00\u4e0b\uff0c\u5982\u679c\u53ea\u7528tuple\uff0c\u662f\u5426\u80fd\u591f\u5b8c\u6210\u81ea\u5faa\u73af\u6811\u7684\u6784\u9020\u3002"
     ]
    },
    {
     "cell_type": "markdown",
     "metadata": {
      "slideshow": {
       "slide_type": "subslide"
      }
     },
     "source": [
      "## \u591a\u5c42yield\u8303\u5f0f\n",
      "\n",
      "\u524d\u9762\u6211\u4eec\u8bf4\u8fc7\uff0c\u5bf9\u4e8elist\u7684\u5904\u7406\u5e38\u5e38\u53ef\u4ee5\u5f52\u7ed3\u4e3amap/filter\u6a21\u5f0f\uff0c\u800c\u5bf9\u4e8emap/filter\u7684\u590d\u6742\u64cd\u4f5c\u5f80\u5f80\u6700\u597d\u4f7f\u7528for\u6765\u5c55\u5f00\u3002\n",
      "\n",
      "\u4f46\u662f\u5b9e\u9645\u5de5\u4f5c\u4e2d\uff0c\u6211\u4eec\u5e38\u5e38\u4f1a\u53d1\u73b0\uff0c\u6211\u4eec\u9700\u8981\u5bf9list\u8fdb\u884c\u590d\u6742\u5904\u7406\uff0c\u6bcf\u5c42\u5904\u7406\u90fd\u9700\u8981\u7528for\u3002\n",
      "\n",
      "\u800c\u4e14\u6bcf\u5c42\u5904\u7406\u90fd\u662f\u53ef\u9009\u7684\uff0c\u603b\u4f53\u5904\u7406\u8fc7\u7a0b\u9700\u8981\u6839\u636e\u6761\u4ef6\u8fdb\u884c\u62fc\u88c5\u3002\n",
      "\n",
      "\u5927\u5bb6\u53ef\u80fd\u8fd8\u8bb0\u5f97\u201c\u65e0\u9650\u751f\u6210\u5668\u201d\u4e00\u8282\u7684size_limited_seq\u548cnumber_limited_seq\u5427\u3002\n",
      "\n",
      "\u8fd9\u79cd\u5bf9list\u8fdb\u884c\u5904\u7406\u7684\u6a21\u5f0f\u79f0\u4e3a\u94fe\u5f0f\u8303\u5f0f\u2014\u2014\u8f93\u5165\u4e00\u4e2alist\uff0c\u7ecf\u8fc7\u5904\u7406\u94fe\u6761\u4e0a\u4e00\u5c42\u5c42\u7684\u8f6c\u5316\uff0c\u6700\u540e\u5f62\u6210\u8f93\u51falist\u3002\n",
      "\n",
      "\u6bcf\u4e00\u4e2a\u73af\u8282\u7684\u8f93\u5165\u548c\u8f93\u51fa\u90fd\u662f\u4e00\u4e2alist\u2014\u2014\u6216\u5176\u7b49\u6548\u7269\u751f\u6210\u5668\u3002\u56e0\u800c\u6bcf\u4e2a\u73af\u8282\u90fd\u53ef\u4ee5\u548c\u5176\u4ed6\u73af\u8282\u62fc\u88c5\u5728\u4e00\u8d77\u3002\n",
      "\n",
      "\u7c7b\u4f3c\u7684\u6a21\u5f0f\u8fd8\u5728\u201c\u8ba1\u7b97\u5668\u201d\u4e00\u8282\u51fa\u73b0\u8fc7\u3002"
     ]
    },
    {
     "cell_type": "markdown",
     "metadata": {
      "slideshow": {
       "slide_type": "slide"
      }
     },
     "source": [
      "# \u8bbe\u8ba1\u539f\u5219"
     ]
    },
    {
     "cell_type": "markdown",
     "metadata": {
      "slideshow": {
       "slide_type": "subslide"
      }
     },
     "source": [
      "## \u9762\u5bf9\u5bf9\u8c61\u7a0b\u5e8f\u8bbe\u8ba1\u539f\u5219\n",
      "\n",
      "* \u5355\u4e00\u529f\u80fd\u539f\u5219\uff1a\u4e00\u4e2a\u5bf9\u8c61\u5e94\u8be5\u4ec5\u5177\u6709\u4e00\u7c7b\u7279\u5b9a\u529f\u80fd\u3002\u4e0d\u8981\u8bd5\u56fe\u5728\u4e0a\u9762\u505a\u592a\u591a\u7684\u529f\u80fd\u3002\n",
      "* \u5f00\u95ed\u539f\u5219\uff1a\u8f6f\u4ef6\u4f53\u5bf9\u4e8e\u6269\u5c55\u662f\u5f00\u653e\u7684\uff0c\u5bf9\u4e8e\u4fee\u6539\u662f\u5c01\u95ed\u7684\u3002\u7b80\u5355\u601d\u8003\u4e00\u4e0b\uff0c\u5982\u679c\u4f60\u7684\u4ee3\u7801\u63d0\u4ea4\u540e\u53ea\u80fd\u8ffd\u52a0\u6587\u4ef6\u548c\u4fee\u6539\u6700\u5c11\u7684\u884c\u6570\uff0c\u5982\u4f55\u8bbe\u8ba1\uff1f\n",
      "* \u91cc\u6c0f\u66ff\u6362\u539f\u5219\uff1a\u5bf9\u7236\u7c7b\u9002\u7528\u7684\u7a0b\u5e8f\uff0c\u5bf9\u5b50\u7c7b\u4e5f\u9002\u7528\u3002\u8fd9\u70b9\u5f80\u5f80\u4f1a\u548c\u6211\u4eec\u65e5\u5e38\u751f\u6d3b\u7684\u7ecf\u9a8c\u6784\u6210\u6096\u8bba\u3002\n",
      "* \u63a5\u53e3\u9694\u79bb\u539f\u5219\uff1a\u591a\u4e2a\u529f\u80fd\u72ec\u7acb\u7684\u5c0f\u63a5\u53e3\u597d\u8fc7\u4e00\u4e2a\u65e0\u6240\u4e0d\u6709\u7684\u5927\u63a5\u53e3\u3002\n",
      "* \u4f9d\u8d56\u53cd\u8f6c\u539f\u5219\uff1a\u9488\u5bf9\u63a5\u53e3\u7f16\u7a0b\u800c\u4e0d\u662f\u9488\u5bf9\u5b9e\u73b0\u7f16\u7a0b\u3002"
     ]
    },
    {
     "cell_type": "markdown",
     "metadata": {
      "slideshow": {
       "slide_type": "subslide"
      }
     },
     "source": [
      "## \u7ec3\u4e601\n",
      "\n",
      "\u5b9a\u4e49\u4e00\u4e9b\u7c7b\uff0c\u63cf\u8ff0\u5e73\u884c\u56db\u8fb9\u5f62\uff0c\u77e9\u5f62\uff0c\u6b63\u65b9\u5f62\u3002\u5e76\u6309\u7167\u4f60\u7684\u7406\u89e3\u5b9e\u73b0\u7ee7\u627f\u5173\u7cfb\u3002\n",
      "\n",
      "\u4e0d\u7528\u5b9e\u73b0\u65b9\u6cd5\u548c\u5c5e\u6027\u3002"
     ]
    },
    {
     "cell_type": "markdown",
     "metadata": {
      "slideshow": {
       "slide_type": "subslide"
      }
     },
     "source": [
      "## \u7ec3\u4e602\n",
      "\n",
      "\u4e3a\u521a\u521a\u7684\u201c\u5e73\u884c\u56db\u8fb9\u5f62\u201d\uff0c\u201c\u77e9\u5f62\u201d\uff0c\u201c\u6b63\u65b9\u5f62\u201d\u7c7b\uff0c\u6dfb\u52a0\u4ee5\u4e0b\u5c5e\u6027\u548c\u65b9\u6cd5\uff1a\n",
      "\n",
      "* \u5c5e\u6027\uff1a\u5939\u89d2\uff0c\u8fb9\u957f\n",
      "* \u65b9\u6cd5\uff1a\u83b7\u5f97\u5939\u89d2\uff0c\u8bbe\u5b9a\u5939\u89d2\uff0c\u83b7\u5f97\u8fb9\u957f\uff0c\u8bbe\u5b9a\u8fb9\u957f"
     ]
    },
    {
     "cell_type": "markdown",
     "metadata": {
      "slideshow": {
       "slide_type": "subslide"
      }
     },
     "source": [
      "## \u7ec3\u4e603\n",
      "\n",
      "\u8003\u8651\u4e00\u4e0b\uff0c\u521a\u521a\u4f60\u5b9e\u73b0\u7684\u7c7b\u4e2d\uff0c\u201c\u8bbe\u5b9a\u5939\u89d2\u201d\u65b9\u6cd5\uff0c\u5bf9\u4e8e\u201c\u957f\u65b9\u5f62\u201d\u548c\u201c\u6b63\u65b9\u5f62\u201d\u662f\u4e00\u4e2a\u5408\u7406\u7684\u65b9\u6cd5\u4e48\uff1f\n",
      "\n",
      "\u601d\u8003\u4e00\u4e0b\uff0c\u54ea\u4e2a\u539f\u5219\u9519\u4e86\uff1f\n",
      "\n",
      "* \u5728\u7236\u7c7b\u80fd\u591f\u51fa\u73b0\u7684\u5730\u65b9\uff0c\u4e00\u5b9a\u80fd\u591f\u4f7f\u7528\u5b50\u7c7b\u66ff\u6362\u3002\n",
      "* \u957f\u65b9\u5f62\u662f\u4e00\u79cd\u5e73\u884c\u56db\u8fb9\u5f62\u3002"
     ]
    },
    {
     "cell_type": "markdown",
     "metadata": {
      "slideshow": {
       "slide_type": "subslide"
      }
     },
     "source": [
      "## \u7ec3\u4e604\n",
      "\n",
      "\u589e\u52a0\u4e00\u4e2a\u7528\u4e8e\u8ba1\u7b97\u9762\u79ef\u7684\u51fd\u6570\uff0c\u8003\u8651\u662f\u5426\u53ef\u4ee5\u590d\u7528\u5462\uff1f"
     ]
    },
    {
     "cell_type": "markdown",
     "metadata": {
      "slideshow": {
       "slide_type": "subslide"
      }
     },
     "source": [
      "## \u7ec3\u4e605\n",
      "\n",
      "\u73b0\u5728\u5b9e\u73b0\u4e00\u4e2a\u65b9\u6cd5\uff0c\u5224\u65ad\u4e24\u4e2a\u5bf9\u8c61\u662f\u5426\u76f8\u7b49\u3002"
     ]
    },
    {
     "cell_type": "markdown",
     "metadata": {
      "slideshow": {
       "slide_type": "subslide"
      }
     },
     "source": [
      "## Python\u7a0b\u5e8f\u8bbe\u8ba1\u539f\u5219\n",
      "\n",
      "* Duck typing\n",
      "* \u6700\u5c0f\u60ca\u8bb6\u539f\u5219\n",
      "* \u4e07\u7269\u7686\u63a5\u53e3\n",
      "* \u5c3d\u65e9\u5d29\u6e83"
     ]
    },
    {
     "cell_type": "markdown",
     "metadata": {
      "slideshow": {
       "slide_type": "notes"
      }
     },
     "source": [
      "\u8981\u6ce8\u610f\u5230\uff0c\u5c5e\u6027\uff0c\u53c2\u6570\u540d\uff0c\u5217\u8868\u7ed3\u6784\uff0c\u751f\u6210\u5668\u754c\u9762\uff0c\u5728Python\u4e2d\u4e5f\u662f\u63a5\u53e3\u3002"
     ]
    },
    {
     "cell_type": "markdown",
     "metadata": {
      "slideshow": {
       "slide_type": "slide"
      }
     },
     "source": [
      "# \u5b57\u7b26\u7f16\u7801"
     ]
    },
    {
     "cell_type": "markdown",
     "metadata": {
      "slideshow": {
       "slide_type": "subslide"
      }
     },
     "source": [
      "## \u5b57\u7b26\u96c6\n",
      "\n",
      "* GB2312\uff1aGB 2312-80\uff0c1981\u5e745\u67081\u65e5\uff0c6763\u4e2a\u5b57\u3002\n",
      "* GBK\uff1a1995\u5e7412\u670815\u65e5\uff0c21003\u4e2a\u5b57\u3002\n",
      "* GB18030\uff1aGB 18030-2005\uff0c2006\u5e745\u67081\u65e5\uff0c70244\u4e2a\u5b57\u3002\n",
      "* BIG5\uff1a\u4e1a\u754c\u6807\u51c6\uff0c\u6536\u5165CNS 11643\uff0c13060\u4e2a\u5b57\u3002\n",
      "* UNICODE\uff1aUnicode 9.0\uff0c2016\u5e746\u6708\uff0c128237\u4e2a\u5b57\u3002\n",
      "\n",
      "\u6ce8\uff1a\u8d44\u6599\u6765\u6e90\uff0cwikipedia\u3002[\u56fd\u5bb6\u6807\u51c6\u4ee3\u7801](https://zh.wikipedia.org/wiki/%E5%9B%BD%E5%AE%B6%E6%A0%87%E5%87%86%E4%BB%A3%E7%A0%81) [Unicode](https://zh.wikipedia.org/wiki/Unicode)"
     ]
    },
    {
     "cell_type": "markdown",
     "metadata": {
      "slideshow": {
       "slide_type": "notes"
      }
     },
     "source": [
      "GBK\u6bd4CP936\u591a\u4e8695\u4e2a\u5b57\u3002"
     ]
    },
    {
     "cell_type": "markdown",
     "metadata": {
      "slideshow": {
       "slide_type": "subslide"
      }
     },
     "source": [
      "## \u7f16\u7801\u65b9\u6848\n",
      "\n",
      "\u7f16\u7801\u65b9\u6848\u57fa\u672c\u5206\u4e3a\u4e24\u7c7b\uff1a\u53d8\u957f\u548c\u5b9a\u957f\u3002\n",
      "\n",
      "* GB2312/GBK\u4f7f\u7528\u53d8\u957f\u7f16\u7801\u3002\u5355\u5b57\u7f16\u7801\u957f\u5ea61-2\u5b57\u8282\u3002\n",
      "* GB18030\u4f7f\u7528\u53d8\u957f\u7f16\u7801\u3002\u5355\u5b57\u7f16\u7801\u957f\u5ea61,2,4\u5b57\u8282\u3002\n",
      "* UCS-2\u91c7\u7528\u5b9a\u957f\u7f16\u7801\u3002\u5355\u5b57\u7f16\u7801\u957f\u5ea62\u5b57\u8282\u3002\n",
      "* UCS-2\u91c7\u7528\u5b9a\u957f\u7f16\u7801\u3002\u5355\u5b57\u7f16\u7801\u957f\u5ea64\u5b57\u8282\u3002\n",
      "* UTF-8\u4f7f\u7528\u53d8\u957f\u7f16\u7801\u3002\u5355\u5b57\u7f16\u7801\u957f\u5ea61-3\u5b57\u8282\u3002\uff08\u5982\u679c\u52a0\u4e0aBMP\u4e4b\u5916\u7684\u8bdd\u4e3a1-6\uff09"
     ]
    },
    {
     "cell_type": "markdown",
     "metadata": {
      "slideshow": {
       "slide_type": "notes"
      }
     },
     "source": [
      "\u53d8\u957f\u7c7b\u7684\u65b9\u6848\u5728\u5fae\u8f6f\u91cc\u79f0\u4e3aMBCS\u3002"
     ]
    },
    {
     "cell_type": "markdown",
     "metadata": {
      "slideshow": {
       "slide_type": "subslide"
      }
     },
     "source": [
      "## \u517c\u5bb9\u6027\n",
      "\n",
      "\u5b57\u7b26\u96c6\u517c\u5bb9\u6027\uff1aGB18030\u4e0b\u884c\u517c\u5bb9GBK\uff0cGBK\u4e0b\u884c\u517c\u5bb9GB2312\u3002GB18030\u517c\u5bb9Unicode3.1\u4e2d\u65e5\u97e9\u8868\u610f\u6587\u5b57\u533a\u3002\n",
      "\n",
      "\u7f16\u7801\u517c\u5bb9\u6027\uff1aUCS-2/UCS-4\u4e92\u76f8\u4e0d\u517c\u5bb9\u3002UTF-8\u72ec\u7acb\u3002GB18030\u7684\u7f16\u7801\u65b9\u5f0f\u4e0b\u884c\u517c\u5bb9GB2312/GBK\u3002\u9664\u4e86UCS-2/UCS-4\u4ee5\u5916\uff0c\u90fd\u517c\u5bb9ascii\u3002"
     ]
    },
    {
     "cell_type": "markdown",
     "metadata": {
      "slideshow": {
       "slide_type": "notes"
      }
     },
     "source": [
      "\u6ce8\u610f\u63d0\u5230GBK\u5f88\u591a\u5730\u65b9\u90fd\u88ab\u5199\u4e3aGB2312\u3002"
     ]
    },
    {
     "cell_type": "markdown",
     "metadata": {
      "slideshow": {
       "slide_type": "subslide"
      }
     },
     "source": [
      "## Unicode"
     ]
    },
    {
     "cell_type": "code",
     "collapsed": false,
     "input": [
      "b\"hello world\""
     ],
     "language": "python",
     "metadata": {},
     "outputs": [
      {
       "metadata": {},
       "output_type": "pyout",
       "prompt_number": 35,
       "text": [
        "'hello world'"
       ]
      }
     ],
     "prompt_number": 35
    },
    {
     "cell_type": "code",
     "collapsed": false,
     "input": [
      "type(b\"hello world\")"
     ],
     "language": "python",
     "metadata": {},
     "outputs": [
      {
       "metadata": {},
       "output_type": "pyout",
       "prompt_number": 36,
       "text": [
        "str"
       ]
      }
     ],
     "prompt_number": 36
    },
    {
     "cell_type": "code",
     "collapsed": false,
     "input": [
      "u\"hello world\""
     ],
     "language": "python",
     "metadata": {},
     "outputs": [
      {
       "metadata": {},
       "output_type": "pyout",
       "prompt_number": 37,
       "text": [
        "u'hello world'"
       ]
      }
     ],
     "prompt_number": 37
    },
    {
     "cell_type": "code",
     "collapsed": false,
     "input": [
      "type(u\"hello world\")"
     ],
     "language": "python",
     "metadata": {},
     "outputs": [
      {
       "metadata": {},
       "output_type": "pyout",
       "prompt_number": 38,
       "text": [
        "unicode"
       ]
      }
     ],
     "prompt_number": 38
    },
    {
     "cell_type": "markdown",
     "metadata": {
      "slideshow": {
       "slide_type": "notes"
      }
     },
     "source": [
      "\u8fd9\u91cc\u9700\u8981\u6ce8\u610f\uff0cPython\u5185\u90e8\u7684Unicode\u7f16\u7801\u683c\u5f0f\u4e3aUCS-4\uff0c\u800c\u975eUTF-8\u6216\u8005UCS-2\u3002"
     ]
    },
    {
     "cell_type": "markdown",
     "metadata": {
      "slideshow": {
       "slide_type": "subslide"
      }
     },
     "source": [
      "## Unicode IO"
     ]
    },
    {
     "cell_type": "code",
     "collapsed": false,
     "input": [
      "# encoding=utf-8\n",
      "import io\n",
      "\n",
      "f = io.open(\"abc.txt\", \"wt\", encoding=\"utf-8\")\n",
      "f.write(u\"\u60f3\u8c61\u4e00\u4e0b\u8fd9\u91cc\u662f\u67d0\u4e9b\u4e2d\u6587\u5185\u5bb9\uff0c\u4e5f\u53ef\u80fd\u662f\u65e5\u6587\u6216\u8005\u97e9\u6587\")\n",
      "f.close()\n",
      "\n",
      "# \u5982\u679c\u5728windows\u4e0b\uff0c\u8fd9\u4e2a\u884c\u4e3a\u53cd\u800c\u53ef\u80fd\u51fa\u73b0\u4e71\u7801\u3002\u56e0\u4e3awindows\u7684\u9ed8\u8ba4\u7f16\u7801\u4e3aCP936\uff0c\u800c\u4e0d\u662fUTF-8\u3002\n",
      "text = io.open(\"abc.txt\", encoding=\"utf-8\").read()\n",
      "print(text)"
     ],
     "language": "python",
     "metadata": {},
     "outputs": [
      {
       "output_type": "stream",
       "stream": "stdout",
       "text": [
        "\u60f3\u8c61\u4e00\u4e0b\u8fd9\u91cc\u662f\u67d0\u4e9b\u4e2d\u6587\u5185\u5bb9\uff0c\u4e5f\u53ef\u80fd\u662f\u65e5\u6587\u6216\u8005\u97e9\u6587\n"
       ]
      }
     ],
     "prompt_number": 39
    },
    {
     "cell_type": "code",
     "collapsed": false,
     "input": [
      "!ls -l abc.txt"
     ],
     "language": "python",
     "metadata": {
      "slideshow": {
       "slide_type": "subslide"
      }
     },
     "outputs": [
      {
       "output_type": "stream",
       "stream": "stdout",
       "text": [
        "-rw-r--r-- 1 shell shell 72 9\u6708   5 15:44 abc.txt\r\n"
       ]
      }
     ],
     "prompt_number": 40
    },
    {
     "cell_type": "code",
     "collapsed": false,
     "input": [
      "!cat abc.txt"
     ],
     "language": "python",
     "metadata": {},
     "outputs": [
      {
       "output_type": "stream",
       "stream": "stdout",
       "text": [
        "\u60f3\u8c61\u4e00\u4e0b\u8fd9\u91cc\u662f\u67d0\u4e9b\u4e2d\u6587\u5185\u5bb9\uff0c\u4e5f\u53ef\u80fd\u662f\u65e5\u6587\u6216\u8005\u97e9\u6587"
       ]
      }
     ],
     "prompt_number": 41
    },
    {
     "cell_type": "code",
     "collapsed": false,
     "input": [
      "# encoding=utf-8\n",
      "import io\n",
      "\n",
      "f = io.open(\"abc.txt\", \"wt\", encoding=\"gbk\")\n",
      "f.write(u\"\u60f3\u8c61\u4e00\u4e0b\u8fd9\u91cc\u662f\u67d0\u4e9b\u4e2d\u6587\u5185\u5bb9\uff0c\u4e5f\u53ef\u80fd\u662f\u65e5\u6587\u6216\u8005\u97e9\u6587\")\n",
      "f.close()\n",
      "\n",
      "text = io.open(\"abc.txt\", encoding=\"gbk\").read()\n",
      "print(text)\n",
      "\n",
      "text = open(\"abc.txt\").read()\n",
      "print(text)\n",
      "\n",
      "text = io.open(\"abc.txt\", encoding=\"utf-8\").read()\n",
      "print(text)"
     ],
     "language": "python",
     "metadata": {
      "slideshow": {
       "slide_type": "subslide"
      }
     },
     "outputs": [
      {
       "output_type": "stream",
       "stream": "stdout",
       "text": [
        "\u60f3\u8c61\u4e00\u4e0b\u8fd9\u91cc\u662f\u67d0\u4e9b\u4e2d\u6587\u5185\u5bb9\uff0c\u4e5f\u53ef\u80fd\u662f\u65e5\u6587\u6216\u8005\u97e9\u6587\n",
        "\ufffd\ufffd\ufffd\ufffd\u04bb\ufffd\ufffd\ufffd\ufffd\ufffd\ufffd\ufffd\ufffd\u0133\u0429\ufffd\ufffd\ufffd\ufffd\ufffd\ufffd\ufffd\u0763\ufffd\u04b2\ufffd\ufffd\ufffd\ufffd\ufffd\ufffd\ufffd\ufffd\ufffd\u013b\ufffd\ufffd\u07fa\ufffd\ufffd\ufffd\n"
       ]
      },
      {
       "ename": "UnicodeDecodeError",
       "evalue": "'utf8' codec can't decode byte 0xcf in position 0: invalid continuation byte",
       "output_type": "pyerr",
       "traceback": [
        "\u001b[0;31m---------------------------------------------------------------------------\u001b[0m\n\u001b[0;31mUnicodeDecodeError\u001b[0m                        Traceback (most recent call last)",
        "\u001b[0;32m<ipython-input-42-d2ca517a40b2>\u001b[0m in \u001b[0;36m<module>\u001b[0;34m()\u001b[0m\n\u001b[1;32m     12\u001b[0m \u001b[0;32mprint\u001b[0m\u001b[0;34m(\u001b[0m\u001b[0mtext\u001b[0m\u001b[0;34m)\u001b[0m\u001b[0;34m\u001b[0m\u001b[0m\n\u001b[1;32m     13\u001b[0m \u001b[0;34m\u001b[0m\u001b[0m\n\u001b[0;32m---> 14\u001b[0;31m \u001b[0mtext\u001b[0m \u001b[0;34m=\u001b[0m \u001b[0mio\u001b[0m\u001b[0;34m.\u001b[0m\u001b[0mopen\u001b[0m\u001b[0;34m(\u001b[0m\u001b[0;34m\"abc.txt\"\u001b[0m\u001b[0;34m,\u001b[0m \u001b[0mencoding\u001b[0m\u001b[0;34m=\u001b[0m\u001b[0;34m\"utf-8\"\u001b[0m\u001b[0;34m)\u001b[0m\u001b[0;34m.\u001b[0m\u001b[0mread\u001b[0m\u001b[0;34m(\u001b[0m\u001b[0;34m)\u001b[0m\u001b[0;34m\u001b[0m\u001b[0m\n\u001b[0m\u001b[1;32m     15\u001b[0m \u001b[0;32mprint\u001b[0m\u001b[0;34m(\u001b[0m\u001b[0mtext\u001b[0m\u001b[0;34m)\u001b[0m\u001b[0;34m\u001b[0m\u001b[0m\n",
        "\u001b[0;32m/usr/lib/python2.7/codecs.pyc\u001b[0m in \u001b[0;36mdecode\u001b[0;34m(self, input, final)\u001b[0m\n\u001b[1;32m    312\u001b[0m         \u001b[0;31m# decode input (taking the buffer into account)\u001b[0m\u001b[0;34m\u001b[0m\u001b[0;34m\u001b[0m\u001b[0m\n\u001b[1;32m    313\u001b[0m         \u001b[0mdata\u001b[0m \u001b[0;34m=\u001b[0m \u001b[0mself\u001b[0m\u001b[0;34m.\u001b[0m\u001b[0mbuffer\u001b[0m \u001b[0;34m+\u001b[0m \u001b[0minput\u001b[0m\u001b[0;34m\u001b[0m\u001b[0m\n\u001b[0;32m--> 314\u001b[0;31m         \u001b[0;34m(\u001b[0m\u001b[0mresult\u001b[0m\u001b[0;34m,\u001b[0m \u001b[0mconsumed\u001b[0m\u001b[0;34m)\u001b[0m \u001b[0;34m=\u001b[0m \u001b[0mself\u001b[0m\u001b[0;34m.\u001b[0m\u001b[0m_buffer_decode\u001b[0m\u001b[0;34m(\u001b[0m\u001b[0mdata\u001b[0m\u001b[0;34m,\u001b[0m \u001b[0mself\u001b[0m\u001b[0;34m.\u001b[0m\u001b[0merrors\u001b[0m\u001b[0;34m,\u001b[0m \u001b[0mfinal\u001b[0m\u001b[0;34m)\u001b[0m\u001b[0;34m\u001b[0m\u001b[0m\n\u001b[0m\u001b[1;32m    315\u001b[0m         \u001b[0;31m# keep undecoded input until the next call\u001b[0m\u001b[0;34m\u001b[0m\u001b[0;34m\u001b[0m\u001b[0m\n\u001b[1;32m    316\u001b[0m         \u001b[0mself\u001b[0m\u001b[0;34m.\u001b[0m\u001b[0mbuffer\u001b[0m \u001b[0;34m=\u001b[0m \u001b[0mdata\u001b[0m\u001b[0;34m[\u001b[0m\u001b[0mconsumed\u001b[0m\u001b[0;34m:\u001b[0m\u001b[0;34m]\u001b[0m\u001b[0;34m\u001b[0m\u001b[0m\n",
        "\u001b[0;31mUnicodeDecodeError\u001b[0m: 'utf8' codec can't decode byte 0xcf in position 0: invalid continuation byte"
       ]
      }
     ],
     "prompt_number": 42
    },
    {
     "cell_type": "code",
     "collapsed": false,
     "input": [
      "!ls -l abc.txt"
     ],
     "language": "python",
     "metadata": {
      "slideshow": {
       "slide_type": "subslide"
      }
     },
     "outputs": [
      {
       "output_type": "stream",
       "stream": "stdout",
       "text": [
        "-rw-r--r-- 1 shell shell 48 9\u6708   5 15:44 abc.txt\r\n"
       ]
      }
     ],
     "prompt_number": 43
    },
    {
     "cell_type": "code",
     "collapsed": false,
     "input": [
      "!cat abc.txt"
     ],
     "language": "python",
     "metadata": {},
     "outputs": [
      {
       "output_type": "stream",
       "stream": "stdout",
       "text": [
        "\ufffd\ufffd\ufffd\ufffd\u04bb\ufffd\ufffd\ufffd\ufffd\ufffd\ufffd\ufffd\ufffd\u0133\u0429\ufffd\ufffd\ufffd\ufffd\ufffd\ufffd\ufffd\u0763\ufffd\u04b2\ufffd\ufffd\ufffd\ufffd\ufffd\ufffd\ufffd\ufffd\ufffd\u013b\ufffd\ufffd\u07fa\ufffd\ufffd\ufffd"
       ]
      }
     ],
     "prompt_number": 44
    },
    {
     "cell_type": "code",
     "collapsed": false,
     "input": [
      "!rm abc.txt"
     ],
     "language": "python",
     "metadata": {
      "slideshow": {
       "slide_type": "skip"
      }
     },
     "outputs": [],
     "prompt_number": 45
    },
    {
     "cell_type": "markdown",
     "metadata": {
      "slideshow": {
       "slide_type": "subslide"
      }
     },
     "source": [
      "## \u7ec3\u4e60\n",
      "\n",
      "\u5199\u4e00\u4e2a\u7a0b\u5e8f\uff0c\u5c06\u6587\u4ef6\u4ece\u6307\u5b9a\u7f16\u7801\u8f6c\u6362\u6210\u6307\u5b9a\u7f16\u7801\u3002"
     ]
    },
    {
     "cell_type": "markdown",
     "metadata": {
      "slideshow": {
       "slide_type": "subslide"
      }
     },
     "source": [
      "## \u7ec3\u4e60\uff08\u53ef\u9009\uff09\n",
      "\n",
      "\u4e3a\u4e0a\u8ff0\u7a0b\u5e8f\u589e\u52a0\u731c\u6d4b\u7f16\u7801\u529f\u80fd\u3002\n",
      "\n",
      "\u6ce8\uff1a\u672c\u9898\u76ee\u9700\u8981\u81ea\u884c\u67e5\u9605chardet\u5e93\u7684\u6587\u6863\u3002\u8fd9\u662f\u4e00\u4e2a\u731c\u6d4b\u5b57\u7b26\u4e32\u7f16\u7801\u7684\u5e93\u3002"
     ]
    },
    {
     "cell_type": "markdown",
     "metadata": {
      "slideshow": {
       "slide_type": "subslide"
      }
     },
     "source": [
      "## \u7b54\u6848"
     ]
    },
    {
     "cell_type": "code",
     "collapsed": false,
     "input": [
      "# encoding=utf-8\n",
      "import chardet\n",
      "\n",
      "text = u\"\u60f3\u8c61\u4e00\u4e0b\u8fd9\u91cc\u662f\u67d0\u4e9b\u4e2d\u6587\u5185\u5bb9\uff0c\u4e5f\u53ef\u80fd\u662f\u65e5\u6587\u6216\u8005\u97e9\u6587\".encode('gbk')\n",
      "print(text)\n",
      "\n",
      "print(chardet.detect(text))\n",
      "text = text.decode(chardet.detect(text)['encoding'])\n",
      "print(text)\n",
      "print(type(text))"
     ],
     "language": "python",
     "metadata": {},
     "outputs": [
      {
       "output_type": "stream",
       "stream": "stdout",
       "text": [
        "\ufffd\ufffd\ufffd\ufffd\u04bb\ufffd\ufffd\ufffd\ufffd\ufffd\ufffd\ufffd\ufffd\u0133\u0429\ufffd\ufffd\ufffd\ufffd\ufffd\ufffd\ufffd\u0763\ufffd\u04b2\ufffd\ufffd\ufffd\ufffd\ufffd\ufffd\ufffd\ufffd\ufffd\u013b\ufffd\ufffd\u07fa\ufffd\ufffd\ufffd\n",
        "{'confidence': 0.99, 'encoding': 'GB2312'}\n",
        "\u60f3\u8c61\u4e00\u4e0b\u8fd9\u91cc\u662f\u67d0\u4e9b\u4e2d\u6587\u5185\u5bb9\uff0c\u4e5f\u53ef\u80fd\u662f\u65e5\u6587\u6216\u8005\u97e9\u6587\n",
        "<type 'unicode'>\n"
       ]
      }
     ],
     "prompt_number": 46
    },
    {
     "cell_type": "code",
     "collapsed": false,
     "input": [
      "# encoding=utf-8\n",
      "import chardet\n",
      "\n",
      "text = u\"\u60f3\u8c61\u4e00\u4e0b\u8fd9\u91cc\u662f\u67d0\u4e9b\u4e2d\u6587\u5185\u5bb9\uff0c\u4e5f\u53ef\u80fd\u662f\u65e5\u6587\u6216\u8005\u97e9\u6587\".encode('utf-8')\n",
      "print(text)\n",
      "\n",
      "print(chardet.detect(text))\n",
      "text = text.decode(chardet.detect(text)['encoding'])\n",
      "print(text)\n",
      "print(type(text))"
     ],
     "language": "python",
     "metadata": {
      "slideshow": {
       "slide_type": "subslide"
      }
     },
     "outputs": [
      {
       "output_type": "stream",
       "stream": "stdout",
       "text": [
        "\u60f3\u8c61\u4e00\u4e0b\u8fd9\u91cc\u662f\u67d0\u4e9b\u4e2d\u6587\u5185\u5bb9\uff0c\u4e5f\u53ef\u80fd\u662f\u65e5\u6587\u6216\u8005\u97e9\u6587\n",
        "{'confidence': 0.99, 'encoding': 'utf-8'}\n",
        "\u60f3\u8c61\u4e00\u4e0b\u8fd9\u91cc\u662f\u67d0\u4e9b\u4e2d\u6587\u5185\u5bb9\uff0c\u4e5f\u53ef\u80fd\u662f\u65e5\u6587\u6216\u8005\u97e9\u6587\n",
        "<type 'unicode'>\n"
       ]
      }
     ],
     "prompt_number": 47
    },
    {
     "cell_type": "markdown",
     "metadata": {
      "slideshow": {
       "slide_type": "slide"
      }
     },
     "source": [
      "# \u6b63\u5219\u8868\u8fbe\u5f0f\u5165\u95e8\n",
      "\n",
      "\u5982\u679c\u9700\u8981\u5c06\u4e00\u7cfb\u5217\u5185\u5bb9\u8868\u8ff0\u6210\u6587\u5b57\uff0c\u6211\u4eec\u53ef\u4ee5\u5f88\u65b9\u4fbf\u7684\u4f7f\u7528format\u6765\u8fbe\u6210\u8fd9\u4e00\u76ee\u6807\u3002\n",
      "\n",
      "\u7136\u800c\u5982\u679c\u662f\u8868\u8fbe\u5b8c\u6210\u7684\u6587\u5b57\u89e3\u6790\u4e3a\u5185\u5bb9\uff08\u4f8b\u5982int\uff09\u5462\uff1fformat\u662f\u5426\u6709\u4e00\u4e2a\u53cd\u64cd\u4f5c\uff0c\u80fd\u8ba9\u6211\u4eec\u65b9\u4fbf\u7684\u89e3\u6790\u5185\u5bb9\u3002\n",
      "\n",
      "\u5f53\u7136\uff0c\u6700\u50bb\u7684\u529e\u6cd5\u5c31\u662f\u624b\u5199\u6587\u5b57\u89e3\u6790\u5668\u3002\u65f6\u95f4\u6210\u672c\u5de8\u5927\uff0c\u800c\u4e14\u53ef\u53d8\u6027\u5f88\u5dee\u3002\n",
      "\n",
      "\u6211\u4eec\u5e0c\u671b\u4e00\u79cd\u65b9\u6cd5\uff0c\u80fd\u591f\u4f7f\u7528\u548cformat\u91cc\u7684\u8bed\u53e5\u201c\u5dee\u4e0d\u591a\u201d\u7684\u4e1c\u897f\u5b8c\u6574\u8fd9\u4e2a\u529f\u80fd\u3002\n",
      "\n",
      "\u5e78\u8fd0\u7684\u662f\uff0c\u6211\u4eec\u53ef\u4ee5\u7528\u6b63\u5219\u8868\u8fbe\u5f0f\u5b8c\u6210\u7c7b\u4f3c\u7684\u529f\u80fd\uff08\u5f53\u7136\uff0c\u6709\u5f88\u5927\u533a\u522b\uff09\u3002\n",
      "\n",
      "\u6b63\u5219\u8868\u8fbe\u5f0f\u662f\u7528\u4e8e\u4ece\u6587\u672c\u4e2d\u63d0\u53d6\u5185\u5bb9\u7684\u8868\u8fbe\u5f0f\uff0c\u4f60\u53ef\u4ee5\u8ba4\u4e3a\u4ed6\u662f\u4ece\u5b57\u7b26\u4e32\u4e2d\u63d0\u53d6\u5b57\u7b26\u4e32\u7684\u5b57\u7b26\u4e32\u3002"
     ]
    },
    {
     "cell_type": "markdown",
     "metadata": {
      "slideshow": {
       "slide_type": "subslide"
      }
     },
     "source": [
      "## \u4ece*\u548c?\u8bf4\u8d77\n",
      "\n",
      "\u5728\u641c\u7d22\u6587\u4ef6\u65f6\uff0c\u6211\u4eec\u7ecf\u5e38\u4f1a\u7528*\u548c?\u8868\u793a\u9002\u914d\u4e00\u4e2a\u6216\u591a\u4e2a\u5b57\u7b26\u3002\n",
      "\n",
      "\u6b63\u5219\u7684\u601d\u8def\u548c\u8fd9\u4e2a\u7c7b\u4f3c\uff0c\u4f46\u662f\u66f4\u52a0\u590d\u6742\u4e00\u4e9b\u3002\u4ed6\u4e0d\u4f46\u80fd\u8868\u793a\u5339\u914d\u4e00\u4e2a\u6216\u591a\u4e2a\u5b57\u7b26\uff0c\u800c\u4e14\u8fd8\u80fd\u9650\u5b9a\u5339\u914d\u54ea\u4e2a\u6216\u8005\u54ea\u4e9b\u5b57\u7b26\uff0c\u5339\u914d\u591a\u5c11\u3002"
     ]
    },
    {
     "cell_type": "markdown",
     "metadata": {
      "slideshow": {
       "slide_type": "subslide"
      }
     },
     "source": [
      "## \u5339\u914d\u89c4\u5219\n",
      "\n",
      "* .       \u5339\u914d\u9664\u6362\u884c\u7b26\u4ee5\u5916\u7684\u4efb\u610f\u5b57\u7b26\n",
      "* \\w      \u5339\u914d\u5b57\u6bcd\u6216\u6570\u5b57\u6216\u4e0b\u5212\u7ebf\u6216\u6c49\u5b57\n",
      "* \\s      \u5339\u914d\u4efb\u610f\u7684\u7a7a\u767d\u7b26\n",
      "* \\d      \u5339\u914d\u6570\u5b57\n",
      "* \\b      \u5339\u914d\u5355\u8bcd\u7684\u5f00\u59cb\u6216\u7ed3\u675f\n",
      "* ^       \u5339\u914d\u5b57\u7b26\u4e32\u7684\u5f00\u59cb\n",
      "* $       \u5339\u914d\u5b57\u7b26\u4e32\u7684\u7ed3\u675f"
     ]
    },
    {
     "cell_type": "markdown",
     "metadata": {
      "slideshow": {
       "slide_type": "subslide"
      }
     },
     "source": [
      "## \u91cd\u590d\u6b21\u6570\n",
      "\n",
      "* \\*        \u91cd\u590d\u96f6\u6b21\u6216\u66f4\u591a\u6b21\n",
      "* \\+       \u91cd\u590d\u4e00\u6b21\u6216\u66f4\u591a\u6b21\n",
      "* ?       \u91cd\u590d\u96f6\u6b21\u6216\u4e00\u6b21\n",
      "* {n}     \u91cd\u590dn\u6b21\n",
      "* {n,}    \u91cd\u590dn\u6b21\u6216\u66f4\u591a\u6b21\n",
      "* {n,m} \u91cd\u590dn\u5230m\u6b21"
     ]
    },
    {
     "cell_type": "markdown",
     "metadata": {
      "slideshow": {
       "slide_type": "subslide"
      }
     },
     "source": [
      "## \u4f8b\u5b50\n",
      "\n",
      "He was carefully disguised but captured quickly by police.\n",
      "\n",
      "\\w+ly\n",
      "\n",
      "'carefully', 'quickly'"
     ]
    },
    {
     "cell_type": "markdown",
     "metadata": {
      "slideshow": {
       "slide_type": "subslide"
      }
     },
     "source": [
      "## \u5b57\u7b26\u8303\u56f4\n",
      "\n",
      "\u53ef\u4ee5\u7528[...]\u7684\u8bed\u6cd5\u6765\u5339\u914d\u81ea\u5b9a\u4e49\u5185\u5bb9\uff0c\u4f8b\u5982[a-z0-9]*\uff0c\u8868\u793a\u5c0f\u5199\u6216\u6570\u5b57\u91cd\u590d\u4efb\u610f\u6b21\u3002\n",
      "\n",
      "\u53ef\u4ee5\u7528^\u8868\u793a\u6c42\u53cd\uff0c\u9664\u53bb\u8fd9\u4e2a\u5b57\u7b26\u4e0d\u5339\u914d\u3002"
     ]
    },
    {
     "cell_type": "markdown",
     "metadata": {
      "slideshow": {
       "slide_type": "subslide"
      }
     },
     "source": [
      "## \u6355\u83b7\n",
      "\n",
      "\u5728\u6b63\u5219\u8868\u8fbe\u5f0f\u4e2d\uff0c\u53ef\u4ee5\u7528(...)\u7684\u8bed\u6cd5\u8868\u793a\u6355\u83b7\u90e8\u5206\u5185\u5bb9\u3002\n",
      "\n",
      "\u4f8b\u5982([^/]*)\uff0c\u8868\u793a\u5339\u914d\u76f4\u5230/\u4e4b\u524d\u7684\u6240\u6709\u5185\u5bb9\uff0c\u5e76\u4e14\u6355\u83b7\u3002\n",
      "\n",
      "\u88ab\u6355\u83b7\u7684\u5185\u5bb9\u53ef\u4ee5\u540e\u7eed\u4f7f\u7528\uff08\u4f8b\u5982\u7528\u4e8e\u5185\u5bb9\u66ff\u6362\uff0c\u50cfsed\uff09\uff0c\u6216\u8005\u5728\u4e00\u6b21\u5339\u914d\u4e2d\u6216\u7684\u591a\u4e2a\u5185\u5bb9\uff08\u4f8b\u5982\u5728re\u5e93\u4e2d\u4f7f\u7528groups\uff0c\u540e\u9762\u4f1a\u8bb2\uff09\u3002"
     ]
    },
    {
     "cell_type": "markdown",
     "metadata": {
      "slideshow": {
       "slide_type": "subslide"
      }
     },
     "source": [
      "## \u975e\u8d2a\u5a6a\u5339\u914d\n",
      "\n",
      "\u5e38\u89c4\u6765\u8bf4\uff0c\u6b63\u5219\u4f1a\u5339\u914d\u201c\u5c3d\u91cf\u957f\u201d\u7684\u5b57\u7b26\u3002\u4f8b\u5982\u6211\u4eec\u7528(h.*o)\uff0c\u8bd5\u56fe\u5339\u914dhello, fox\u4e2d\u7684hello\u3002\u4f46\u662f\u5b9e\u9645\u7ed3\u679c\u662fhello, fo\u3002\n",
      "\n",
      "\u53ef\u4ee5\u5728\u5339\u914d\u89c4\u5219\u540e\u9762\u52a0?\uff0c\u8868\u793a\u975e\u8d2a\u5a6a\u5339\u914d\u3002\n",
      "\n",
      "\u6b64\u65f6\u6b63\u5219\u4f1a\u5c3d\u529b\u5339\u914d\u201c\u5c3d\u91cf\u77ed\u201d\u7684\u5b57\u7b26\u3002\u4f8b\u5982(h.*?o)\u53bb\u5339\u914dhello, fox\uff0c\u6b64\u65f6\u5f97\u5230hello\u3002"
     ]
    },
    {
     "cell_type": "markdown",
     "metadata": {
      "slideshow": {
       "slide_type": "subslide"
      }
     },
     "source": [
      "## \u5176\u4ed6\u6750\u6599\n",
      "\n",
      "[\u6b63\u5219\u8868\u8fbe\u5f0f30\u5206\u949f\u5165\u95e8\u6559\u7a0b](http://deerchao.net/tutorials/regex/regex.htm)"
     ]
    },
    {
     "cell_type": "markdown",
     "metadata": {
      "slideshow": {
       "slide_type": "subslide"
      }
     },
     "source": [
      "## \u7ec3\u4e60\n",
      "\n",
      "\u5199\u51fa\u4e00\u4e2a\u6b63\u5219\u8868\u8fbe\u5f0f\uff0c\u5339\u914d\u624b\u673a\u53f7\u7801\u3002\n",
      "\n",
      "\u5199\u51fa\u4e00\u4e2a\u6b63\u5219\u8868\u8fbe\u5f0f\uff0c\u5339\u914dipv4\u5730\u5740\u3002\n",
      "\n",
      "\u89c2\u770b\u4e0b\u9762\u4e24\u4e2a\u8303\u4f8b\uff0c\u89e3\u91ca\u903b\u8f91:\n",
      "    \n",
      "\u5339\u914durl: `(http|ftp|https):\\/\\/[\\w\\-_]+(\\.[\\w\\-_]+)+([\\w\\-\\.,@?^=%&amp;:/~\\+#]*)?`\n",
      "                                                   \n",
      "\u5339\u914demail\u5730\u5740: `[a-z]([a-z0-9]*[-_]?[a-z0-9]+)*@([a-z0-9]*[-_]?[a-z0-9]+)+[\\.][a-z]{2,3}([\\.][a-z]{2})?`"
     ]
    },
    {
     "cell_type": "markdown",
     "metadata": {
      "slideshow": {
       "slide_type": "slide"
      }
     },
     "source": [
      "# Python\u5e93\u793a\u4f8b"
     ]
    },
    {
     "cell_type": "markdown",
     "metadata": {
      "slideshow": {
       "slide_type": "subslide"
      }
     },
     "source": [
      "## \u6807\u51c6\u5e93:sys"
     ]
    },
    {
     "cell_type": "code",
     "collapsed": false,
     "input": [
      "import sys\n",
      "print(sys.version_info)\n",
      "print(sys.version_info.major == 3)"
     ],
     "language": "python",
     "metadata": {},
     "outputs": [
      {
       "output_type": "stream",
       "stream": "stdout",
       "text": [
        "sys.version_info(major=2, minor=7, micro=12, releaselevel='final', serial=0)\n",
        "False\n"
       ]
      }
     ],
     "prompt_number": 48
    },
    {
     "cell_type": "markdown",
     "metadata": {
      "slideshow": {
       "slide_type": "subslide"
      }
     },
     "source": [
      "## \u6807\u51c6\u5e93:logging"
     ]
    },
    {
     "cell_type": "code",
     "collapsed": false,
     "input": [
      "from __future__ import print_function\n",
      "\n",
      "import os\n",
      "import platform\n",
      "import logging\n",
      "\n",
      "if platform.platform().startswith('Windows'):\n",
      "    logging_file = os.path.join(os.getenv('HOMEDRIVE'),\n",
      "                                os.getenv('HOMEPATH'),\n",
      "                                'test.log')\n",
      "else:\n",
      "    logging_file = os.path.join(os.getenv('HOME'),\n",
      "                                'test.log')\n",
      "\n",
      "print(\"Logging to\", logging_file)\n",
      "\n",
      "logger = logging.getLogger()\n",
      "logger.setLevel(logging.DEBUG)\n",
      "\n",
      "logging.debug(\"Start of the program\")\n",
      "logging.info(\"Doing something\")\n",
      "logging.warning(\"Dying now\")"
     ],
     "language": "python",
     "metadata": {},
     "outputs": [
      {
       "output_type": "stream",
       "stream": "stderr",
       "text": [
        "DEBUG:root:Start of the program\n"
       ]
      },
      {
       "output_type": "stream",
       "stream": "stderr",
       "text": [
        "INFO:root:Doing something\n"
       ]
      },
      {
       "output_type": "stream",
       "stream": "stderr",
       "text": [
        "WARNING:root:Dying now\n"
       ]
      },
      {
       "output_type": "stream",
       "stream": "stdout",
       "text": [
        "Logging to /home/shell/test.log\n"
       ]
      }
     ],
     "prompt_number": 49
    },
    {
     "cell_type": "markdown",
     "metadata": {
      "slideshow": {
       "slide_type": "subslide"
      }
     },
     "source": [
      "## re\n",
      "\n",
      "re\u662f\u4e00\u4e2a\u7528\u6765\u5904\u7406\u6b63\u5219\u8868\u8fbe\u5f0f\u7684\u5e93\u3002\n",
      "\n",
      "* compile \u5c06\u4e00\u4e2a\u6b63\u5219\u8868\u8fbe\u5f0f\u201c\u7f16\u8bd1\u201d\u3002\u7f16\u8bd1\u540e\u7684\u6b63\u5219\u8868\u8fbe\u5f0f\u5bf9\u8c61\u6bd4\u76f4\u63a5\u8fd0\u884c\u62e5\u6709\u66f4\u5feb\u7684\u901f\u5ea6\u3002\n",
      "* search \u5728\u4e00\u7cfb\u5217\u6587\u5b57\u4e2d\u641c\u7d22\u3002\n",
      "* match \u5728\u4e00\u7cfb\u5217\u6587\u5b57\u4e2d\u5339\u914d\u3002\n",
      "* split \u5229\u7528\u6b63\u5219\u5c06\u6587\u5b57\u5206\u88c2\u4e3a\u591a\u4e2a\u90e8\u5206\u3002\n",
      "* findall \u627e\u5230\u6240\u6709\u7b26\u5408\u6b63\u5219\u7684\u5b50\u5b57\u7b26\u4e32\u3002\n",
      "* sub \u5bf9\u6587\u672c\u8fdb\u884c\u66ff\u6362\u3002"
     ]
    },
    {
     "cell_type": "code",
     "collapsed": false,
     "input": [
      "import re\n",
      "\n",
      "s = 'He was carefully disguised but captured quickly by police.'\n",
      "r = re.compile('\\w+ly')\n",
      "r.findall(s)"
     ],
     "language": "python",
     "metadata": {
      "slideshow": {
       "slide_type": "subslide"
      }
     },
     "outputs": [
      {
       "metadata": {},
       "output_type": "pyout",
       "prompt_number": 50,
       "text": [
        "['carefully', 'quickly']"
       ]
      }
     ],
     "prompt_number": 50
    },
    {
     "cell_type": "markdown",
     "metadata": {
      "slideshow": {
       "slide_type": "subslide"
      }
     },
     "source": [
      "## search\u548cmatch\u7684\u533a\u522b\n",
      "\n",
      "match\u4e00\u5b9a\u4ece\u5b57\u7b26\u4e32\u7684\u5934\u5f00\u59cb\u5339\u914d\uff0csearch\u641c\u7d22\u5168\u90e8\u6587\u672c\u3002search\u5373\u4f7f\u7528\u4e86^\uff0c\u4e5f\u53ef\u80fd\u5339\u914d\u5230\u4e00\u4e2a\u65b0\u884c\u3002\n",
      "\n",
      "\u56e0\u6b64\uff0c\u8981\u5339\u914d\u5934\u90e8\uff0c\u6216\u8005\u6574\u4e2a\u5b8c\u6574\u5b57\u7b26\u4e32\uff0c\u9700\u8981\u7528match\u3002\u800c\u8981\u5728\u6587\u5b57\u4e2d\u641c\u7d22\uff0c\u9700\u8981\u7528search\u3002\n",
      "\n",
      "\u7ec6\u8282\uff1a\u4ece\u590d\u6742\u6027\u4e0a\u770b\uff0c\u7406\u6240\u5f53\u7136\u7684\uff0cmatch\u66f4\u5feb\u3002"
     ]
    },
    {
     "cell_type": "markdown",
     "metadata": {
      "slideshow": {
       "slide_type": "subslide"
      }
     },
     "source": [
      "## \u7ec3\u4e60\n",
      "\n",
      "\u8bf7\u5199\u7a0b\u5e8f\u9a8c\u8bc1\u5728\u201c\u6b63\u5219\u8868\u8fbe\u5f0f\u201d\u4e00\u8282\u4e2d\u6240\u5199\u7684\u90a3\u4e9b\u6b63\u5219\u3002"
     ]
    },
    {
     "cell_type": "markdown",
     "metadata": {
      "slideshow": {
       "slide_type": "subslide"
      }
     },
     "source": [
      "## \u7b54\u6848"
     ]
    },
    {
     "cell_type": "code",
     "collapsed": false,
     "input": [
      "import re\n",
      "\n",
      "r = re.compile('1\\d{10}')\n",
      "print(r.match('13512345678'))\n",
      "print(r.match('021-10101010'))"
     ],
     "language": "python",
     "metadata": {},
     "outputs": [
      {
       "output_type": "stream",
       "stream": "stdout",
       "text": [
        "<_sre.SRE_Match object at 0x7f78ed6d4780>\n",
        "None\n"
       ]
      }
     ],
     "prompt_number": 51
    },
    {
     "cell_type": "code",
     "collapsed": false,
     "input": [
      "import re\n",
      "\n",
      "r = re.compile(r'\\d{0,3}\\.\\d{0,3}\\.\\d{0,3}\\.\\d{0,3}')\n",
      "print(r.match('192.168.0.1'))\n",
      "print(r.match('1200.5.4.3'))\n",
      "print(r.match('abc.def.ghi.jkl'))\n",
      "\n",
      "print(r.match('192.168.0.999'))"
     ],
     "language": "python",
     "metadata": {
      "slideshow": {
       "slide_type": "subslide"
      }
     },
     "outputs": [
      {
       "output_type": "stream",
       "stream": "stdout",
       "text": [
        "<_sre.SRE_Match object at 0x7f78ed6d47e8>\n",
        "None\n",
        "None\n",
        "<_sre.SRE_Match object at 0x7f78ed6d47e8>\n"
       ]
      }
     ],
     "prompt_number": 52
    },
    {
     "cell_type": "code",
     "collapsed": false,
     "input": [
      "import re\n",
      "\n",
      "# source: http://c.biancheng.net/cpp/html/1435.html\n",
      "r = re.compile(r'(http|ftp|https):\\/\\/[\\w\\-_]+(\\.[\\w\\-_]+)+([\\w\\-\\.,@?^=%&amp;:/~\\+#]*)?')\n",
      "print(r.match('http://regxlib.com/Default.aspx'))\n",
      "print(r.match('regxlib.com'))"
     ],
     "language": "python",
     "metadata": {
      "slideshow": {
       "slide_type": "subslide"
      }
     },
     "outputs": [
      {
       "output_type": "stream",
       "stream": "stdout",
       "text": [
        "<_sre.SRE_Match object at 0x7f78fbbfa458>\n",
        "None\n"
       ]
      }
     ],
     "prompt_number": 53
    },
    {
     "cell_type": "code",
     "collapsed": false,
     "input": [
      "import re\n",
      "\n",
      "# source: http://bbs.csdn.net/topics/60032440\n",
      "r = re.compile(r'[a-z]([a-z0-9]*[-_]?[a-z0-9]+)*@([a-z0-9]*[-_]?[a-z0-9]+)+[\\.][a-z]{2,3}([\\.][a-z]{2})?')\n",
      "print(r.match('shell999@gmail.com'))\n",
      "print(r.match('000@shell@1'))"
     ],
     "language": "python",
     "metadata": {
      "slideshow": {
       "slide_type": "subslide"
      }
     },
     "outputs": [
      {
       "output_type": "stream",
       "stream": "stdout",
       "text": [
        "<_sre.SRE_Match object at 0x7f78fbbfa6b8>\n",
        "None\n"
       ]
      }
     ],
     "prompt_number": 54
    },
    {
     "cell_type": "markdown",
     "metadata": {
      "slideshow": {
       "slide_type": "subslide"
      }
     },
     "source": [
      "## pickle"
     ]
    },
    {
     "cell_type": "code",
     "collapsed": false,
     "input": [
      "import pickle\n",
      "shoplistfile = 'shoplist.data'\n",
      "shoplist = ['apple', 'mango', 'carrot']\n",
      "f = open(shoplistfile, 'wb')\n",
      "pickle.dump(shoplist, f)\n",
      "f.close()\n",
      "del shoplist\n",
      "f = open(shoplistfile, 'rb')\n",
      "storedlist = pickle.load(f)\n",
      "print(storedlist)"
     ],
     "language": "python",
     "metadata": {},
     "outputs": [
      {
       "output_type": "stream",
       "stream": "stdout",
       "text": [
        "['apple', 'mango', 'carrot']\n"
       ]
      }
     ],
     "prompt_number": 55
    },
    {
     "cell_type": "code",
     "collapsed": false,
     "input": [
      "!ls -l shoplist.data"
     ],
     "language": "python",
     "metadata": {
      "slideshow": {
       "slide_type": "-"
      }
     },
     "outputs": [
      {
       "output_type": "stream",
       "stream": "stdout",
       "text": [
        "-rw-r--r-- 1 shell shell 46 9\u6708   5 15:44 shoplist.data\r\n"
       ]
      }
     ],
     "prompt_number": 56
    },
    {
     "cell_type": "code",
     "collapsed": false,
     "input": [
      "!rm shoplist.data"
     ],
     "language": "python",
     "metadata": {
      "slideshow": {
       "slide_type": "skip"
      }
     },
     "outputs": [],
     "prompt_number": 57
    },
    {
     "cell_type": "markdown",
     "metadata": {
      "slideshow": {
       "slide_type": "subslide"
      }
     },
     "source": [
      "## datetime\n",
      "\n",
      "* datetime.fromtimestamp\n",
      "* datetime.now\n",
      "* datetime.strptime\n",
      "* datetime.strftime"
     ]
    },
    {
     "cell_type": "markdown",
     "metadata": {
      "slideshow": {
       "slide_type": "subslide"
      }
     },
     "source": [
      "## \u7ec3\u4e60\n",
      "\n",
      "\u4e0d\u8981\u5199\u4efb\u4f55\u4ee3\u7801\uff0c\u6c42\u51fa\u653b\u5360\u653b\u5360\u5df4\u58eb\u5e95\u72f1\u53d1\u751f\u5728\u5468\u51e0\uff1f\n",
      "\n",
      "\u63d0\u793a\uff1a\u653b\u5360\u5df4\u58eb\u5e95\u72f1\u53d1\u751f\u5728\u897f\u53861789\u5e747\u670814\u65e5\u3002"
     ]
    },
    {
     "cell_type": "markdown",
     "metadata": {
      "slideshow": {
       "slide_type": "subslide"
      }
     },
     "source": [
      "## \u7b54\u6848"
     ]
    },
    {
     "cell_type": "code",
     "collapsed": false,
     "input": [
      "import datetime\n",
      "print(datetime.date(1789, 7, 14).weekday())"
     ],
     "language": "python",
     "metadata": {},
     "outputs": [
      {
       "output_type": "stream",
       "stream": "stdout",
       "text": [
        "1\n"
       ]
      }
     ],
     "prompt_number": 58
    },
    {
     "cell_type": "markdown",
     "metadata": {
      "slideshow": {
       "slide_type": "subslide"
      }
     },
     "source": [
      "## math\n",
      "\n",
      "* math.exp\n",
      "* math.log\n",
      "* math.pow"
     ]
    },
    {
     "cell_type": "markdown",
     "metadata": {
      "slideshow": {
       "slide_type": "subslide"
      }
     },
     "source": [
      "## \u7ec3\u4e60\n",
      "\n",
      "\u7b97\u51fa2\\*\\*15\u6709\u591a\u5c11\u4f4d\u6570\u30022\\*\\*11515\u5462\uff1f2\\*\\*115151515\u5462\uff1f"
     ]
    },
    {
     "cell_type": "markdown",
     "metadata": {
      "slideshow": {
       "slide_type": "subslide"
      }
     },
     "source": [
      "## \u7b54\u6848"
     ]
    },
    {
     "cell_type": "code",
     "collapsed": false,
     "input": [
      "2**15"
     ],
     "language": "python",
     "metadata": {},
     "outputs": [
      {
       "metadata": {},
       "output_type": "pyout",
       "prompt_number": 59,
       "text": [
        "32768"
       ]
      }
     ],
     "prompt_number": 59
    },
    {
     "cell_type": "code",
     "collapsed": false,
     "input": [
      "len(str(2**15))"
     ],
     "language": "python",
     "metadata": {},
     "outputs": [
      {
       "metadata": {},
       "output_type": "pyout",
       "prompt_number": 60,
       "text": [
        "5"
       ]
      }
     ],
     "prompt_number": 60
    },
    {
     "cell_type": "code",
     "collapsed": false,
     "input": [
      "2**1515"
     ],
     "language": "python",
     "metadata": {},
     "outputs": [
      {
       "metadata": {},
       "output_type": "pyout",
       "prompt_number": 61,
       "text": [
        "1149326528034702581682260802282483154731794952366680598907315749676350303455258941969435226491616272765850432529872896570140083779714087641224676603265178037383658094111263859162703551253166913832114001816457662609862015656425761751871770440149072630404384442015791262449967076912697519498726922973530707535919651560412212344672313695699099755325593751836252686364599363077472034064061672117649734107141736148353976201394067293417855894280067914417745952768L"
       ]
      }
     ],
     "prompt_number": 61
    },
    {
     "cell_type": "code",
     "collapsed": false,
     "input": [
      "len(str(2**1515))"
     ],
     "language": "python",
     "metadata": {},
     "outputs": [
      {
       "metadata": {},
       "output_type": "pyout",
       "prompt_number": 62,
       "text": [
        "457"
       ]
      }
     ],
     "prompt_number": 62
    },
    {
     "cell_type": "code",
     "collapsed": false,
     "input": [
      "# log(2**15151515) == log2 * 15151515 == log10 * (log2/log10) * 15151515\n",
      "# 2**15151515 == 10**((log2/log10) * 15151515)\n",
      "import math\n",
      "\n",
      "print((math.log(2)/math.log(10)) * 15)\n",
      "print(int((math.log(2)/math.log(10)) * 15) + 1)\n",
      "\n",
      "print((math.log(2)/math.log(10)) * 1515)\n",
      "print(int((math.log(2)/math.log(10)) * 1515) + 1)\n",
      "\n",
      "print((math.log(2)/math.log(10)) * 15151515)\n",
      "print(int((math.log(2)/math.log(10)) * 15151515) + 1)"
     ],
     "language": "python",
     "metadata": {
      "slideshow": {
       "slide_type": "subslide"
      }
     },
     "outputs": [
      {
       "output_type": "stream",
       "stream": "stdout",
       "text": [
        "4.51544993496\n",
        "5\n",
        "456.060443431\n",
        "457\n",
        "4561060.49475\n",
        "4561061\n"
       ]
      }
     ],
     "prompt_number": 63
    },
    {
     "cell_type": "code",
     "collapsed": false,
     "input": [
      "import math\n",
      "f = lambda x: int((math.log(2)/math.log(10)) * x) + 1\n",
      "\n",
      "print(f(15))\n",
      "print(f(1515))\n",
      "print(f(15151515))"
     ],
     "language": "python",
     "metadata": {
      "slideshow": {
       "slide_type": "subslide"
      }
     },
     "outputs": [
      {
       "output_type": "stream",
       "stream": "stdout",
       "text": [
        "5\n",
        "457\n",
        "4561061\n"
       ]
      }
     ],
     "prompt_number": 64
    },
    {
     "cell_type": "markdown",
     "metadata": {
      "slideshow": {
       "slide_type": "subslide"
      }
     },
     "source": [
      "## random\n",
      "\n",
      "* randint \u6307\u5b9a\u533a\u95f4\u7684\u968f\u673a\u6570\u5b57\n",
      "* choice \u4ece\u96c6\u5408\u4e2d\u968f\u673a\u6311\u9009\u4e00\u4e2a\n",
      "* shuffle \u968f\u673a\u6253\u4e71\u96c6\u5408\n",
      "* random \u4ece0-1\u4e4b\u95f4\u968f\u673a\u4ea7\u751f\u4e00\u4e2a\u6d6e\u70b9\u6570"
     ]
    },
    {
     "cell_type": "markdown",
     "metadata": {
      "slideshow": {
       "slide_type": "subslide"
      }
     },
     "source": [
      "## \u7ec3\u4e60\n",
      "\n",
      "\u505a\u4e00\u4e2a\u62bd\u5956\u7a0b\u5e8f"
     ]
    },
    {
     "cell_type": "markdown",
     "metadata": {
      "slideshow": {
       "slide_type": "notes"
      }
     },
     "source": [
      "\u8fd9\u91cc\u8981\u7740\u91cd\u6307\u51fa\uff0c\u62bd\u5956\u7a0b\u5e8f\u662f\u5426\u652f\u6301\u91cd\u590d\u62bd\u5956\u3002\u5c24\u5176\u662f\u65e0\u653e\u56de\u91cd\u590d\u62bd\u5956\u3002\u968f\u673a\u62bd\u5956\u53ea\u9700\u8981\u7528choice\uff0c\u65e0\u653e\u56de\u62bd\u5956\u9700\u8981\u7528shuffle\u3002"
     ]
    },
    {
     "cell_type": "markdown",
     "metadata": {
      "slideshow": {
       "slide_type": "subslide"
      }
     },
     "source": [
      "## \u7b54\u6848"
     ]
    },
    {
     "cell_type": "code",
     "collapsed": false,
     "input": [
      "s = u'\u8d75\u94b1\u5b59\u674e\u5468\u5434\u90d1\u738b'\n",
      "s = list(s)\n",
      "\n",
      "import random\n",
      "print(random.choice(s))\n",
      "print(random.choice(s))\n",
      "print(random.choice(s))\n",
      "print(random.choice(s))\n",
      "print(random.choice(s))"
     ],
     "language": "python",
     "metadata": {},
     "outputs": [
      {
       "output_type": "stream",
       "stream": "stdout",
       "text": [
        "\u738b\n",
        "\u5b59\n",
        "\u5468\n",
        "\u90d1\n",
        "\u8d75\n"
       ]
      }
     ],
     "prompt_number": 65
    },
    {
     "cell_type": "code",
     "collapsed": false,
     "input": [
      "s = u'\u8d75\u94b1\u5b59\u674e\u5468\u5434\u90d1\u738b'\n",
      "s = list(s)\n",
      "\n",
      "import random\n",
      "random.shuffle(s)\n",
      "print(s.pop())\n",
      "print(s.pop())\n",
      "print(s.pop())\n",
      "print(s.pop())\n",
      "print(s.pop())"
     ],
     "language": "python",
     "metadata": {
      "slideshow": {
       "slide_type": "subslide"
      }
     },
     "outputs": [
      {
       "output_type": "stream",
       "stream": "stdout",
       "text": [
        "\u674e\n",
        "\u90d1\n",
        "\u8d75\n",
        "\u5b59\n",
        "\u94b1\n"
       ]
      }
     ],
     "prompt_number": 66
    },
    {
     "cell_type": "markdown",
     "metadata": {
      "slideshow": {
       "slide_type": "subslide"
      }
     },
     "source": [
      "## path\n",
      "\n",
      "* basename\n",
      "* dirname\n",
      "* exists\n",
      "* expanduser\n",
      "* getsize\n",
      "* join\n",
      "* realpath\n",
      "* splitext"
     ]
    },
    {
     "cell_type": "markdown",
     "metadata": {
      "slideshow": {
       "slide_type": "subslide"
      }
     },
     "source": [
      "## subprocess\n",
      "\n",
      "* call\n",
      "* check_output\n",
      "* Popen"
     ]
    },
    {
     "cell_type": "markdown",
     "metadata": {
      "slideshow": {
       "slide_type": "subslide"
      }
     },
     "source": [
      "## \u7ec3\u4e60\n",
      "\n",
      "\u5b8c\u6210`grep -v ^# file | wc -l`\u7684\u529f\u80fd\uff0c\u6ce8\u610f\u4e0d\u80fd\u7528shell\u8c03\u7528\u3002\n",
      "\n",
      "\u7528python\u4ee3\u7801\u5b8c\u6210\u4e0a\u8ff0\u529f\u80fd\u3002\n",
      "\n",
      "\u6ce8\u610f\uff1a windows\u7684\u540c\u5b66\u65e0\u6cd5\u505agrep\u548cwc\uff0c\u6240\u4ee5\u8fd9\u9053\u9898\u76ee\u53ea\u80fd\u7528python\u4ee3\u7801\u5b8c\u6210\u8fd9\u90e8\u5206\u529f\u80fd\u3002"
     ]
    },
    {
     "cell_type": "markdown",
     "metadata": {
      "slideshow": {
       "slide_type": "subslide"
      }
     },
     "source": [
      "## \u7b54\u6848"
     ]
    },
    {
     "cell_type": "code",
     "collapsed": false,
     "input": [
      "!cat /etc/rc.local"
     ],
     "language": "python",
     "metadata": {},
     "outputs": [
      {
       "output_type": "stream",
       "stream": "stdout",
       "text": [
        "#!/bin/sh -e\r\n",
        "#\r\n",
        "# rc.local\r\n",
        "#\r\n",
        "# This script is executed at the end of each multiuser runlevel.\r\n",
        "# Make sure that the script will \"exit 0\" on success or any other\r\n",
        "# value on error.\r\n",
        "#\r\n",
        "# In order to enable or disable this script just change the execution\r\n",
        "# bits.\r\n",
        "#\r\n",
        "# By default this script does nothing.\r\n",
        "\r\n",
        "exit 0\r\n"
       ]
      }
     ],
     "prompt_number": 67
    },
    {
     "cell_type": "code",
     "collapsed": false,
     "input": [
      "!grep -v ^# /etc/rc.local | wc -l"
     ],
     "language": "python",
     "metadata": {},
     "outputs": [
      {
       "output_type": "stream",
       "stream": "stdout",
       "text": [
        "2\r\n"
       ]
      }
     ],
     "prompt_number": 68
    },
    {
     "cell_type": "code",
     "collapsed": false,
     "input": [
      "# grep -v ^# file | wc -l\n",
      "import subprocess\n",
      "\n",
      "p1 = subprocess.Popen([\"grep\", \"-v\", \"^#\", \"/etc/rc.local\"], stdout=subprocess.PIPE)\n",
      "p2 = subprocess.Popen([\"wc\", \"-l\"], stdin=p1.stdout, stdout=subprocess.PIPE)\n",
      "output = p2.communicate()[0]\n",
      "int(output.strip())"
     ],
     "language": "python",
     "metadata": {
      "slideshow": {
       "slide_type": "subslide"
      }
     },
     "outputs": [
      {
       "metadata": {},
       "output_type": "pyout",
       "prompt_number": 69,
       "text": [
        "2"
       ]
      }
     ],
     "prompt_number": 69
    },
    {
     "cell_type": "code",
     "collapsed": false,
     "input": [
      "import re\n",
      "import codecs\n",
      "\n",
      "r = re.compile('^#')\n",
      "# \u5728python2\u4e0b\u65e0\u9700\u4f7f\u7528codecs\u3002\n",
      "# python3\u4e0b\u7531\u4e8ere\u9700\u8981\u5904\u7406string\u800c\u975ebytes\uff0c\u56e0\u6b64\u9700\u8981\u5bf9\u8f93\u5165\u505a\u8f6c\u7801\u3002\n",
      "with codecs.open('/etc/rc.local', 'rb', 'utf-8') as fi:\n",
      "    print(len([line for line in fi if not r.match(line)]))"
     ],
     "language": "python",
     "metadata": {
      "slideshow": {
       "slide_type": "subslide"
      }
     },
     "outputs": [
      {
       "output_type": "stream",
       "stream": "stdout",
       "text": [
        "2\n"
       ]
      }
     ],
     "prompt_number": 70
    },
    {
     "cell_type": "markdown",
     "metadata": {
      "slideshow": {
       "slide_type": "subslide"
      }
     },
     "source": [
      "## pdb\n",
      "\n",
      "\u4f7f\u7528python -m pdb file.py\u6765\u542f\u52a8\u4f60\u7684\u67d0\u4e2a\u7a0b\u5e8f\u3002\n",
      "\n",
      "\u7136\u540e\u8bd5\u8bd5\u770b\u8ddf\u8e2a\u8fd0\u884c\u8fc7\u7a0b\uff0c\u770b\u770b\u4f60\u7684\u89e3\u91ca\u662f\u5426\u6b63\u786e\u3002\n",
      "\n",
      "\u5982\u679c\u5e0c\u671b\u5728\u7a0b\u5e8f\u4e2d\u5feb\u901f\u5b9a\u4f4d\u5230\u67d0\u4e2a\u4f4d\u7f6e\uff0c\u53ef\u4ee5\u8003\u8651set_trace\u8c03\u7528\u3002"
     ]
    },
    {
     "cell_type": "markdown",
     "metadata": {
      "slideshow": {
       "slide_type": "subslide"
      }
     },
     "source": [
      "## unittest\n",
      "\n",
      "\u6267\u884c\u67d0\u4e2a\u4ee3\u7801\uff0c\u5e76\u4e14\u8bbe\u5b9a\u4e00\u4e9bassert\u3002\u5982\u679c\u5168\u90e8\u6b63\u786e\uff0c\u90a3\u4e48\u6d4b\u8bd5\u901a\u8fc7\u3002\u5982\u679c\u51fa\u73b0\u95ee\u9898\uff0c\u90a3\u4e48\u8be5\u5b50\u9879\u6d4b\u8bd5\u5931\u8d25\u3002\n",
      "\n",
      "unittest\u7684\u597d\u5904\u5728\u4e8e\uff0c\u5bf9\u6bcf\u4e2a\u5c0f\u7684\u4ee3\u7801\u6bb5\uff0c\u5b9e\u73b0\u4e00\u4e2a\u5c0f\u7684\u81ea\u52a8\u5316\u6d4b\u8bd5\u811a\u672c\uff0c\u5e76\u4e14\u8fd9\u4e9b\u811a\u672c\u53ef\u4ee5\u6839\u636e\u6846\u67b6\u89c4\u5219\u6574\u5408\u5230\u4e00\u8d77\u3002\n",
      "\n",
      "\u5f53\u4ee3\u7801\u6bb5\u589e\u591a\uff0c\u6bcf\u4e2a\u4ee3\u7801\u7684\u4fee\u6539\u53d8\u590d\u6742\u7684\u65f6\u5019\uff0c\u4f9d\u7136\u53ef\u4ee5\u4fdd\u8bc1\u8fd9\u4e9b\u5c0f\u7684\u4ee3\u7801\u7247\u6bb5\u6b63\u786e\u5b9e\u73b0\u4e86\u5f53\u521d\u9884\u8ba2\u7684\u903b\u8f91\u3002\n",
      "\n",
      "\u53ea\u8981\u5355\u5143\u6d4b\u8bd5\u662f\u901a\u8fc7\u7684\uff0c\u90a3\u4e48\u6bcf\u4e2a\u5c0f\u7247\u6bb5\u4ee3\u7801\u7684\u903b\u8f91\u5c31\u662f\u5927\u81f4\u4e0a\u6b63\u786e\u7684\u3002\u8fd9\u53ef\u4ee5\u6709\u529b\u7684\u4fdd\u8bc1\u6700\u7ec8\u4ee3\u7801\u662f\u6b63\u786e\u7684\u3002"
     ]
    },
    {
     "cell_type": "code",
     "collapsed": false,
     "input": [
      "import unittest\n",
      "\n",
      "class TestStringMethods(unittest.TestCase):\n",
      "\n",
      "    def test_upper(self):\n",
      "        self.assertEqual('foo'.upper(), 'FOO')\n",
      "\n",
      "    def test_isupper(self):\n",
      "        self.assertTrue('FOO'.isupper())\n",
      "        self.assertFalse('Foo'.isupper())\n",
      "\n",
      "    def test_split(self):\n",
      "        s = 'hello world'\n",
      "        self.assertEqual(s.split(), ['hello', 'world'])\n",
      "        # check that s.split fails when the separator is not a string\n",
      "        with self.assertRaises(TypeError):\n",
      "            s.split(2)\n",
      "\n",
      "suite = unittest.TestLoader().loadTestsFromTestCase(TestStringMethods)\n",
      "unittest.TextTestRunner().run(suite)"
     ],
     "language": "python",
     "metadata": {
      "slideshow": {
       "slide_type": "subslide"
      }
     },
     "outputs": [
      {
       "output_type": "stream",
       "stream": "stderr",
       "text": [
        "."
       ]
      },
      {
       "output_type": "stream",
       "stream": "stderr",
       "text": [
        "."
       ]
      },
      {
       "output_type": "stream",
       "stream": "stderr",
       "text": [
        "."
       ]
      },
      {
       "output_type": "stream",
       "stream": "stderr",
       "text": [
        "\n",
        "----------------------------------------------------------------------\n",
        "Ran 3 tests in 0.001s\n",
        "\n",
        "OK\n"
       ]
      },
      {
       "metadata": {},
       "output_type": "pyout",
       "prompt_number": 71,
       "text": [
        "<unittest.runner.TextTestResult run=3 errors=0 failures=0>"
       ]
      }
     ],
     "prompt_number": 71
    },
    {
     "cell_type": "markdown",
     "metadata": {
      "slideshow": {
       "slide_type": "subslide"
      }
     },
     "source": [
      "## \u7ec3\u4e60\n",
      "\n",
      "\u9488\u5bf9\u201c\u6b63\u5219\u8868\u8fbe\u5f0f\u201d\u4e00\u8282\u4e2d\u7684\u8868\u8fbe\u5f0f\uff0c\u5efa\u7acb\u6b63\u5411\u548c\u53cd\u5411\u7528\u4f8b\uff0c\u68c0\u9a8c\u5176\u6b63\u786e\u6027\u3002"
     ]
    },
    {
     "cell_type": "markdown",
     "metadata": {
      "slideshow": {
       "slide_type": "subslide"
      }
     },
     "source": [
      "## \u7b54\u6848"
     ]
    },
    {
     "cell_type": "code",
     "collapsed": false,
     "input": [
      "import re\n",
      "import unittest, unittest.loader\n",
      "\n",
      "class TestMobile(unittest.TestCase):\n",
      "    r = re.compile('1\\d{10}')\n",
      "\n",
      "    def test_match(self):\n",
      "        self.assertTrue(self.r.match('13512345678'))\n",
      "\n",
      "    def test_notmatch(self):\n",
      "        self.assertFalse(self.r.match('021-10101010'))\n",
      "\n",
      "class TestInetAddr(unittest.TestCase):\n",
      "    r = re.compile(r'\\d{0,3}\\.\\d{0,3}\\.\\d{0,3}\\.\\d{0,3}')\n",
      "\n",
      "    def test_ipv4(self):\n",
      "        self.assertTrue(self.r.match('192.168.0.1'))\n",
      "\n",
      "    def test_notmatch(self):\n",
      "        self.assertFalse(self.r.match('1200.5.4.3'))\n",
      "        self.assertFalse(self.r.match('abc.def.ghi.jkl'))\n",
      "\n",
      "    def test_wrong(self):\n",
      "        # \u8fd9\u91cc\u4f1a\u62a5\u9519\uff0c\u8fd9\u662f\u6b63\u5e38\u7684\n",
      "        self.assertFalse(self.r.match('192.168.0.999'))"
     ],
     "language": "python",
     "metadata": {},
     "outputs": [],
     "prompt_number": 72
    },
    {
     "cell_type": "code",
     "collapsed": false,
     "input": [
      "class TestUrl(unittest.TestCase):\n",
      "    # source: http://c.biancheng.net/cpp/html/1435.html\n",
      "    r = re.compile(r'(http|ftp|https):\\/\\/[\\w\\-_]+(\\.[\\w\\-_]+)+([\\w\\-\\.,@?^=%&amp;:/~\\+#]*)?')\n",
      "\n",
      "    def test_url(self):\n",
      "        self.assertTrue(self.r.match('http://regxlib.com/Default.aspx'))\n",
      "\n",
      "    def test_domain(self):\n",
      "        self.assertFalse(self.r.match('regxlib.com'))\n",
      "\n",
      "class TestEmail(unittest.TestCase):\n",
      "    # source: http://bbs.csdn.net/topics/60032440\n",
      "    r = re.compile(r'[a-z]([a-z0-9]*[-_]?[a-z0-9]+)*@([a-z0-9]*[-_]?[a-z0-9]+)+[\\.][a-z]{2,3}([\\.][a-z]{2})?')\n",
      "\n",
      "    def test_email(self):\n",
      "        self.assertTrue(self.r.match('shell999@gmail.com'))\n",
      "\n",
      "    def test_notmatch(self):\n",
      "        self.assertFalse(self.r.match('000@shell@1'))"
     ],
     "language": "python",
     "metadata": {
      "slideshow": {
       "slide_type": "subslide"
      }
     },
     "outputs": [],
     "prompt_number": 73
    },
    {
     "cell_type": "code",
     "collapsed": false,
     "input": [
      "suite = unittest.TestSuite()\n",
      "loader = unittest.TestLoader()\n",
      "suite.addTest(loader.loadTestsFromTestCase(TestMobile))\n",
      "suite.addTest(loader.loadTestsFromTestCase(TestInetAddr))\n",
      "suite.addTest(loader.loadTestsFromTestCase(TestUrl))\n",
      "suite.addTest(loader.loadTestsFromTestCase(TestEmail))\n",
      "unittest.TextTestRunner().run(suite)"
     ],
     "language": "python",
     "metadata": {
      "slideshow": {
       "slide_type": "subslide"
      }
     },
     "outputs": [
      {
       "output_type": "stream",
       "stream": "stderr",
       "text": [
        "."
       ]
      },
      {
       "output_type": "stream",
       "stream": "stderr",
       "text": [
        "."
       ]
      },
      {
       "output_type": "stream",
       "stream": "stderr",
       "text": [
        "."
       ]
      },
      {
       "output_type": "stream",
       "stream": "stderr",
       "text": [
        "."
       ]
      },
      {
       "output_type": "stream",
       "stream": "stderr",
       "text": [
        "F"
       ]
      },
      {
       "output_type": "stream",
       "stream": "stderr",
       "text": [
        "."
       ]
      },
      {
       "output_type": "stream",
       "stream": "stderr",
       "text": [
        "."
       ]
      },
      {
       "output_type": "stream",
       "stream": "stderr",
       "text": [
        "."
       ]
      },
      {
       "output_type": "stream",
       "stream": "stderr",
       "text": [
        "."
       ]
      },
      {
       "output_type": "stream",
       "stream": "stderr",
       "text": [
        "\n",
        "======================================================================\n",
        "FAIL: test_wrong (__main__.TestInetAddr)\n",
        "----------------------------------------------------------------------\n",
        "Traceback (most recent call last):\n",
        "  File \"<ipython-input-72-ea312ac19d96>\", line 25, in test_wrong\n",
        "    self.assertFalse(self.r.match('192.168.0.999'))\n",
        "AssertionError: <_sre.SRE_Match object at 0x7f78ed6b0648> is not false\n",
        "\n",
        "----------------------------------------------------------------------\n",
        "Ran 9 tests in 0.002s\n",
        "\n",
        "FAILED (failures=1)\n"
       ]
      },
      {
       "metadata": {},
       "output_type": "pyout",
       "prompt_number": 74,
       "text": [
        "<unittest.runner.TextTestResult run=9 errors=0 failures=1>"
       ]
      }
     ],
     "prompt_number": 74
    },
    {
     "cell_type": "markdown",
     "metadata": {
      "slideshow": {
       "slide_type": "slide"
      }
     },
     "source": [
      "# \u590d\u6742\u4f8b\u5b50\uff1a\u8ba1\u7b97\u5668\n",
      "\n",
      "\u8bb0\u5f97\u6211\u4eec\u4e0a\u9762\u505a\u8fc7\u7684\u7ec3\u4e60\u201c\u8ba1\u7b97\u5668\u201d\u4e48\uff1f\u4e0b\u9762\u6211\u4eec\u8981\u505a\u4e00\u4e2a\u5e26\u6709\u4f18\u5148\u7ea7\u548c\u62ec\u53f7\u5904\u7406\u80fd\u529b\u7684\u590d\u6742\u7248\u672c\u8ba1\u7b97\u5668\u3002\n",
      "\n",
      "\u8bf7\u5148\u601d\u8003\u4e00\u4e0b\uff0c\u8fd9\u7c7b\u8ba1\u7b97\u5668\u5982\u4f55\u505a\u3002\u7136\u540e\u8bd5\u7740\u5b9e\u73b0\u4e00\u4e0b\u60f3\u6cd5\u3002\uff08\u5047\u5b9a\u76ee\u524d\u53ea\u652f\u6301\u53cc\u76ee\u7b97\u7b26\uff0c\u4f46\u662f\u4f18\u5148\u7ea7\u53ef\u80fd\u8d85\u8fc7\u4e24\u4e2a\u7ea7\u522b\uff09"
     ]
    },
    {
     "cell_type": "markdown",
     "metadata": {
      "slideshow": {
       "slide_type": "notes"
      }
     },
     "source": [
      "\u6211\u5b9e\u73b0\u4e86\u4e00\u4e0b\uff0c\u7528\u4e8620\u5206\u949f\u3002\u6709\u8fd9\u4e2a\u65f6\u95f4\u5185\u80fd\u591f\u505a\u51fa\u6765\u7684\u5b66\u751f\u8bf7\u52a1\u5fc5\u8054\u7cfb\u6211\u3002"
     ]
    },
    {
     "cell_type": "markdown",
     "metadata": {
      "slideshow": {
       "slide_type": "subslide"
      }
     },
     "source": [
      "\u590d\u6742\u8ba1\u7b97\u5668\u7684\u6838\u5fc3\u95ee\u9898\u5728\u4e8e\u7b97\u7b26\u4f18\u5148\u7ea7\u3002\n",
      "\n",
      "\u6700\u7b80\u5355\u6765\u8bf4\uff0c\u6211\u4eec\u9762\u5bf9\u7684\u95ee\u9898\u6838\u5fc3\u5373\u662fa op1 b op2 c\u7684\u8868\u8fbe\u5f0f\u8ba1\u7b97\u95ee\u9898\u3002\n",
      "\n",
      "\u5982\u679cop1\u4f18\u5148\u7ea7\u9ad8\uff0c\u6211\u4eec\u9700\u8981\u8ba1\u7b97a op1 b\u3002\u5982\u679cop2\u9ad8\uff0c\u539f\u5219\u4e0a\u6211\u4eec\u5e94\u5f53\u8ba1\u7b97b op2 c\u3002\n",
      "\n",
      "\u4f46\u662f\u5b9e\u9645\u4e0a\uff0c\u7531\u4e8e\u8868\u8fbe\u5f0f\u6784\u6210\u4e00\u4e2a\u5f88\u957f\u7684\u94fe\u6761\uff0c\u56e0\u6b64\u5373\u4fbfop2\u4f18\u5148\u7ea7\u6bd4\u8f83\u9ad8\uff0c\u4e5f\u65e0\u6cd5\u786e\u5b9a\u53ef\u4ee5\u5148\u7b97op2\uff0c\u6709\u53ef\u80fd\u540e\u7eed\u8fd8\u6709\u4e00\u4e2a\u4f18\u5148\u7ea7\u66f4\u9ad8\u7684op3\u3002\n",
      "\n",
      "\u56e0\u6b64\uff0c\u6211\u4eec\u9700\u8981\u6784\u5efa\u4e00\u4e2alist\uff0c\u5e76\u8bb0\u5f55\u4e00\u4e2a\u8ba1\u7b97\u4f4d\u7f6e\u3002\n",
      "\n",
      "\u5982\u679c\u8fd9\u4e2a\u4f4d\u7f6e\u7684\u4f18\u5148\u7ea7\u6bd4\u524d\u9762\u7684\u66f4\u9ad8\uff0c\u90a3\u4e48\u7ee7\u7eed\u5411\u540e\u79fb\u52a8\u3002\u5982\u679c\u4f18\u5148\u7ea7\u6bd4\u524d\u9762\u66f4\u4f4e\u6216\u76f8\u7b49\uff0c\u90a3\u4e48\u5148\u8ba1\u7b97\u524d\u9762\u7684\u6570\u636e\uff0c\u5e76\u4e14\u5c06\u88ab\u8ba1\u7b97\u90e8\u5206\u4ecelist\u4e2d\u79fb\u8d70\uff0c\u63d2\u5165\u8ba1\u7b97\u7ed3\u679c\u3002\n",
      "\n",
      "\u5728\u8868\u8fbe\u5f0f\u7ed3\u675f\u7684\u65f6\u5019\uff0c\u901a\u8fc7\u6301\u7eed\u7684\u8ba1\u7b97\u548c\u7f29\u51cf\u524d\u9762\u7684\u6570\u636e\uff0c\u53ef\u4ee5\u4f7f\u524d\u9762\u7684\u6570\u636e\u5269\u4e0b\u4e14\u53ea\u5269\u4e0b\u4e00\u9879\u3002\u8fd9\u9879\u5373\u662f\u6211\u4eec\u9700\u8981\u7684\u7ed3\u679c\u3002"
     ]
    },
    {
     "cell_type": "markdown",
     "metadata": {
      "slideshow": {
       "slide_type": "subslide"
      }
     },
     "source": [
      "\u62ec\u53f7\u7684\u95ee\u9898\u66f4\u5bb9\u6613\u89e3\u51b3\u4e00\u4e9b\u3002\n",
      "\n",
      "\u6211\u4eec\u53ef\u4ee5\u5728\u770b\u5230(\u7684\u65f6\u5019\uff0c\u5c06\u5269\u4f59\u8868\u8fbe\u5f0f\u4f5c\u4e3a\u4e00\u4e2a\u65b0\u8868\u8fbe\u5f0f\u4f20\u9012\u7ed9\u81ea\u8eab\uff08\u9012\u5f52\uff09\u6765\u6c42\u503c\uff0c\u5e76\u4e14\u5c06)\u770b\u505a\u662f\u4e00\u79cd\u8868\u8fbe\u5f0f\u7ec8\u7ed3\u3002\n",
      "\n",
      "\u8fd9\u6837\uff0c()\u4e2d\u7684\u5185\u5bb9\u4f1a\u88ab\u8868\u8fbe\u5f0f\u8ba1\u7b97\u51fd\u6570\u5438\u6536\u5e76\u8fd0\u7b97\u6210\u7ed3\u679c\uff0c\u66ff\u4ee3\u5728\u539f\u59cb\u4f4d\u7f6e\u3002\u7ecf\u8fc7\u6709\u9650\u6b21\u9012\u5f52\u540e\uff0c\u8fd9\u4e2a\u95ee\u9898\u603b\u662f\u53ef\u4ee5\u89e3\u51b3\u7684\u3002"
     ]
    },
    {
     "cell_type": "markdown",
     "metadata": {
      "slideshow": {
       "slide_type": "subslide"
      }
     },
     "source": [
      "## \u7b54\u6848"
     ]
    },
    {
     "cell_type": "code",
     "collapsed": false,
     "input": [
      "#!/usr/bin/python\n",
      "# -*- coding: utf-8 -*-\n",
      "'''\n",
      "@date: 2016-09-02\n",
      "@author: Shell.Xu\n",
      "@copyright: 2016, Shell.Xu <shell909090@gmail.com>\n",
      "@license: BSD-3-clause\n",
      "'''\n",
      "\n",
      "op_set = {'(': None,\n",
      "    ')': None,\n",
      "    '+': lambda x, y: x+y,\n",
      "    '-': lambda x, y: x-y,\n",
      "    '*': lambda x, y: x*y,\n",
      "    '/': lambda x, y: float(x)/y,}\n",
      "\n",
      "op_priority = {'+': 10, '-': 10,\n",
      "    '*': 20,\n",
      "    '/': 20,}\n",
      "\n",
      "def parser_exp(exp):\n",
      "    s = ''\n",
      "    for c in exp:\n",
      "        if c in op_set:\n",
      "            if s: yield s\n",
      "            s = ''\n",
      "            yield c\n",
      "        else: s += c\n",
      "    if s: yield s"
     ],
     "language": "python",
     "metadata": {},
     "outputs": [],
     "prompt_number": 75
    },
    {
     "cell_type": "code",
     "collapsed": false,
     "input": [
      "def find_last_op(l):\n",
      "    for e in reversed(l):\n",
      "        if e in op_set: return e\n",
      "\n",
      "def force_stack(stack):\n",
      "    r = stack.pop(-1)\n",
      "    op = stack.pop(-1)\n",
      "    l = stack.pop(-1)\n",
      "    result = op_set[op](l, r)\n",
      "    print('{} {} {} => {}'.format(op, l, r, result))\n",
      "    stack.append(result)\n",
      "\n",
      "def eval_exp(exp):\n",
      "    stack = []\n",
      "    for e in exp:\n",
      "        if e == ')': break\n",
      "        elif e == '(':\n",
      "            stack.append(eval_exp(exp))\n",
      "            continue\n",
      "        if e not in op_set:\n",
      "            stack.append(float(e))\n",
      "            continue\n",
      "        while True:\n",
      "            last = find_last_op(stack)\n",
      "            if last is None or op_priority[last] < op_priority[e]: break\n",
      "            force_stack(stack)\n",
      "        stack.append(e)\n",
      "    while len(stack) > 1:\n",
      "        force_stack(stack)\n",
      "    return stack[0]"
     ],
     "language": "python",
     "metadata": {
      "slideshow": {
       "slide_type": "subslide"
      }
     },
     "outputs": [],
     "prompt_number": 76
    },
    {
     "cell_type": "code",
     "collapsed": false,
     "input": [
      "def calc(exp):\n",
      "    s = parser_exp(exp)\n",
      "    return eval_exp(s)\n",
      "\n",
      "print(calc('2*3+1'))\n",
      "print(calc('1+2*3'))\n",
      "print(calc('(1.1+2.5/10)*3/4+1'))\n",
      "print(eval('(1.1+2.5/10)*3/4+1'))"
     ],
     "language": "python",
     "metadata": {
      "slideshow": {
       "slide_type": "subslide"
      }
     },
     "outputs": [
      {
       "output_type": "stream",
       "stream": "stdout",
       "text": [
        "* 2.0 3.0 => 6.0\n",
        "+ 6.0 1.0 => 7.0\n",
        "7.0\n",
        "* 2.0 3.0 => 6.0\n",
        "+ 1.0 6.0 => 7.0\n",
        "7.0\n",
        "/ 2.5 10.0 => 0.25\n",
        "+ 1.1 0.25 => 1.35\n",
        "* 1.35 3.0 => 4.05\n",
        "/ 4.05 4.0 => 1.0125\n",
        "+ 1.0125 1.0 => 2.0125\n",
        "2.0125\n",
        "2.0125\n"
       ]
      }
     ],
     "prompt_number": 77
    },
    {
     "cell_type": "markdown",
     "metadata": {
      "slideshow": {
       "slide_type": "slide"
      }
     },
     "source": [
      "# pep8\u4ee3\u7801\u89c4\u8303\n",
      "\n",
      "* \u5bf9\u9f50\u89c4\u5219\n",
      "* \u5bfc\u5165\u89c4\u5219\n",
      "* \u7a7a\u683c\u89c4\u5219\n",
      "* \u6ce8\u91ca\u89c4\u5219\n",
      "* \u547d\u540d\u89c4\u5219\n",
      "* \u5f02\u5e38\u89c4\u5219\n",
      "* \u7f16\u7a0b\u7ec6\u8282"
     ]
    },
    {
     "cell_type": "markdown",
     "metadata": {
      "slideshow": {
       "slide_type": "subslide"
      }
     },
     "source": [
      "## \u5bf9\u9f50\u89c4\u5219\n",
      "\n",
      "* \u4f7f\u7528\u7a7a\u683c\u800c\u975etab\uff0c\u9664\u975e\u6587\u4ef6\u5df2\u7ecf\u4f7f\u7528tab\u7f29\u8fdb\u3002\n",
      "* \u4f7f\u75284\u7a7a\u683c\u7f29\u8fdb\u3002\u5bf9\u4e8e\u8de8\u884c\u800c\u8a00\uff0c4\u7a7a\u683c\u7f29\u8fdb\u662f\u53ef\u9009\u7684\u3002\n",
      "* \u4e00\u884c\u4ee3\u7801\u6700\u957f79\u4e2a\u5b57\u7b26\u3002\u5bf9\u4e8e\u4e0d\u9075\u4ece\u7ed3\u6784\u7684\u957f\u6bb5\u843d\uff08\u4f8b\u5982docstring\u6216\u6ce8\u91ca\uff09\uff0c\u884c\u957f\u5ea6\u9650\u5236\u5e94\u5f53\u572872\u4e2a\u5b57\u7b26\u4ee5\u5185\u3002\n",
      "* \u8de8\u884c\u4ee3\u7801\u5bf9\u9f50\u540c\u7ea7\u9996\u4e2a\u5143\u7d20\u4f4d\u7f6e\uff0c\u6216\u8005\u4f7f\u7528\u201d\u9996\u5143\u7d20\u51fa\u73b0\u5728\u4e0a\u4e00\u884c\u589e\u52a0\u4e00\u4e2a\u7f29\u8fdb\u201d\u7684\u5bf9\u9f50\u98ce\u683c\u3002\n",
      "* \u5982\u679c\u8de8\u884c\u7f29\u8fdb\u548c\u540e\u6587\u7f29\u8fdb\u4fdd\u6301\u540c\u4e00\u5782\u76f4\u4f4d\u7f6e\uff0c\u9700\u8981\u589e\u52a0\u4e00\u4e2a\u7f29\u8fdb\u6765\u4f7f\u5176\u6e05\u6670\u3002\n",
      "* \u8de8\u884c\u8868\u8fbe\u5f0f\u7684\u53cc\u76ee\u7b97\u7b26\u5e94\u51fa\u73b0\u5728\u64cd\u4f5c\u5143\u7d20\u884c\u9996\u3002\n",
      "* \u72ec\u7acb\u7684\u9876\u7ea7\u51fd\u6570\u548c\u7c7b\u5e94\u8be5\u88ab\u4e24\u884c\u7a7a\u884c\u5305\u56f4\u3002\u7c7b\u91cc\u9762\u7684\u51fd\u6570\u5e94\u88ab\u4e00\u884c\u7a7a\u884c\u5305\u56f4\u3002\n",
      "* \u9f13\u52b1\u4f7f\u7528\u7a7a\u884c\u6765\u5206\u5272\u4ee3\u7801\u4e2d\u7684\u903b\u8f91\u6bb5\u843d\uff0c\u5f62\u6210\u6709\u8282\u594f\u611f\u7684\u4ee3\u7801\u3002"
     ]
    },
    {
     "cell_type": "markdown",
     "metadata": {
      "slideshow": {
       "slide_type": "subslide"
      }
     },
     "source": [
      "## \u5bfc\u5165\u89c4\u5219\n",
      "\n",
      "* \u6587\u4ef6\u5e94\u4f7f\u7528utf-8\u7f16\u7801\u3002\u7b26\u53f7\u5e94\u4f7f\u7528\u82f1\u6587\uff08\u4f46\u4e0d\u6392\u65a5\u62fc\u97f3\uff09\u3002\n",
      "* \u4e00\u884cimport\u64cd\u4f5c\u4e00\u4e2amodule\uff0c\u4f46\u662ffrom import\u591a\u4e2a\u7b26\u53f7\u662fOK\u7684\u3002\n",
      "* import\u5e94\u8be5\u59cb\u7ec8\u5728\u6587\u4ef6\u5934\u90e8\u3002\n",
      "* import\u7684\u63a8\u8350\u987a\u5e8f\u662f\uff0c\u7cfb\u7edf\u5e93\uff0c\u7b2c\u4e09\u65b9\u5e93\uff0c\u7a0b\u5e8f\u672c\u8eab\u3002\n",
      "* \u5e94\u4f7f\u7528\u7edd\u5bf9import\u3002\u663e\u5f0f\u76f8\u5bf9\u5bfc\u5165\u4e5f\u662f\u53ef\u4ee5\u63a5\u53d7\u7684\u3002\n",
      "* \u6cdb\u5f0fimport\uff08from import *\uff09\u5e94\u88ab\u7981\u6b62\uff0c\u56e0\u4e3a\u53ef\u80fd\u6c61\u67d3\u547d\u540d\u7a7a\u95f4\u3002\n",
      "* \u6a21\u5757\u7ea7dunders\uff08\u4f8b\u5982\\_\\_all\\_\\_\uff0c\\_\\_version\\_\\_\uff09\uff0c\u5e94\u5b9a\u4e49\u5728doc string\u548c\\_\\_future\\_\\_\u7684\u540e\u9762\uff0c\u4f46\u662f\u5728import\u7684\u524d\u9762\u3002\n",
      "* \u6587\u4ef6\u7684\u63a8\u8350\u6b21\u5e8f\u4f9d\u6b21\u662fSha-Bang\uff0cencoding\u58f0\u660e\uff0c\u6ce8\u91ca\uff0cmodule doc string\uff0c\\_\\_future\\_\\_ import\uff0cdunders\uff0cimport\uff0cglobal\u548c\u5e38\u91cf\u5b9a\u4e49\u3002"
     ]
    },
    {
     "cell_type": "markdown",
     "metadata": {
      "slideshow": {
       "slide_type": "notes"
      }
     },
     "source": [
      "\u6587\u4ef6\u91cc\u552f\u4e00\u5e94\u5f53\u51fa\u73b0\u975eascii\u5b57\u7b26\u7684\u5730\u65b9\uff0c\u53ea\u6709\u6d4b\u8bd5\u975eascii\u5b57\u7b26\uff0c\u548c\u4f5c\u8005\u7684\u540d\u5b57\u3002"
     ]
    },
    {
     "cell_type": "markdown",
     "metadata": {
      "slideshow": {
       "slide_type": "subslide"
      }
     },
     "source": [
      "## \u7a7a\u683c\u89c4\u5219\n",
      "\n",
      "* \u4ee5\u4e0b\u60c5\u51b5\u4e0d\u5e94\u4f7f\u7528\u7a7a\u683c\uff1a\n",
      "  * \u62ec\u53f7\uff0c\u65b9\u62ec\u53f7\u548c\u82b1\u62ec\u53f7\u5185\u90e8\u7684\u5305\u56f4\u7a7a\u683c\u3002\n",
      "  * \u5192\u53f7\uff0c\u9017\u53f7\u548c\u5206\u53f7\u524d\u9762\u7684\u7a7a\u683c\u3002\n",
      "  * \u51fd\u6570\u548c\u53c2\u6570\u62ec\u53f7\u4e4b\u95f4\uff0c\u5217\u8868\u548c\u7d22\u5f15\u4e4b\u95f4\u3002\n",
      "  * \u6279\u91cf\u8d4b\u503c\u65f6\u4f7f\u7528\u8d85\u8fc7\u4e00\u4e2a\u7a7a\u683c\u8fdb\u884c\u5bf9\u9f50\u3002\n",
      "  * \u884c\u5c3e\u7684\u7a7a\u5b57\u7b26\u3002\n",
      "* \u4ee5\u4e0b\u60c5\u51b5\u8bf7\u52a1\u5fc5\u4f7f\u7528\u7a7a\u683c\uff1a\n",
      "  * \u5728\u8d4b\u503c\uff0c\u6bd4\u8f83\uff0c\u903b\u8f91\u7b97\u7b26\u7684\u4e24\u4fa7\u3002\n",
      "  * \u53c2\u6570\u9ed8\u8ba4\u503c\u548c\u6309\u540d\u4f20\u53c2\u4e2d\u7684=\u4e24\u4fa7\u4e0d\u8981\u4f7f\u7528\u7a7a\u683c\u3002\n",
      "* \u4ee5\u4e0b\u60c5\u51b5\u5efa\u8bae\u4f7f\u7528\u7b97\u7b26\uff1a\n",
      "  * \u8868\u8fbe\u5f0f\u4e2d\u4f18\u5148\u7ea7\u6700\u4f4e\u7684\u7b97\u7b26\u4e24\u4fa7\u3002"
     ]
    },
    {
     "cell_type": "markdown",
     "metadata": {
      "slideshow": {
       "slide_type": "subslide"
      }
     },
     "source": [
      "## \u6ce8\u91ca\u89c4\u5219\n",
      "\n",
      "* \u6ce8\u91ca\u548c\u4ee3\u7801\u4e0d\u7b26\u6bd4\u6ca1\u6709\u6ce8\u91ca\u66f4\u7cdf\u7cd5\u3002\u6240\u4ee5\u6ce8\u91ca\u7684\u6709\u6548\u6027\u5e94\u88ab\u89c6\u4e3a\u4ee3\u7801\u6b63\u786e\u6027\u7684\u4e00\u90e8\u5206\u3002\n",
      "* \u5bf9\u4e8e\u975e\u82f1\u8bed\u4f5c\u8005\uff0c\u8bf7\u4f7f\u7528\u82f1\u6587\u6ce8\u91ca\u3002\u9664\u975e\u4f60\u4e07\u5206\u786e\u5b9a\u4ee3\u7801\u6c38\u8fdc\u4e0d\u4f1a\u88ab\u8fd9\u79cd\u8bed\u8a00\u5916\u7684\u4f7f\u7528\u8005\u9605\u8bfb\u3002\uff08\u5426\u5219\u4f60\u7684\u6ce8\u91ca\u5c31\u662f\u65e0\u7528\u7684\uff09\n",
      "* \u5757\u6ce8\u91ca\u4e00\u822c\u548c\u4ee3\u7801\u7f29\u8fdb\u5bf9\u9f50\uff0c\u5e76\u6ce8\u91ca\u4e0b\u9762\u7684\u4ee3\u7801\u3002\u6bcf\u884c\u90fd\u5e94\u4ee5#\u548c\u7a7a\u683c\u5f00\u5934\u3002\n",
      "* \u884c\u5185\u6ce8\u91ca\u5728\u884c\u7684\u7ed3\u5c3e\u5904\uff0c\u548c\u4ee3\u7801\u4ee5\u81f3\u5c11\u4e24\u4e2a\u7a7a\u683c\u5206\u5f00\uff0c\u7528\u4e8e\u6ce8\u91ca\u672c\u884c\u3002\u884c\u5185\u6ce8\u91ca\u5e94\u5f53\u4ee5#\u548c\u7a7a\u683c\u5f00\u5934\u3002\n",
      "* \u6c38\u8fdc\u4e3a\u516c\u5f00\u7684\u6a21\u5757\uff0c\u51fd\u6570\uff0c\u7c7b\u548c\u65b9\u6cd5\u5199docstring\u3002\n",
      "* \u7ed3\u675fdocstring\u7684\u4e09\u5f15\u53f7\u5e94\u5f53\u6709\u81ea\u5df1\u5355\u72ec\u7684\u4e00\u884c\u3002\n",
      "* \u5bf9\u4e8e\u5355\u884c\u7684docstring\uff0c\u4e09\u5f15\u53f7\u9700\u8981\u4fdd\u6301\u5728\u540c\u4e00\u884c\u4e0a\u3002"
     ]
    },
    {
     "cell_type": "markdown",
     "metadata": {
      "slideshow": {
       "slide_type": "subslide"
      }
     },
     "source": [
      "## \u547d\u540d\u89c4\u5219\n",
      "\n",
      "* \u6c38\u8fdc\u4e0d\u8981\u7528lIOo\u5355\u72ec\u4f5c\u4e3a\u53d8\u91cf\u540d\uff0c\u56e0\u4e3a\u641e\u4e0d\u6e05\u8c01\u662f\u8c01\u3002\n",
      "* \u6a21\u5757\u5efa\u8bae\u4f7f\u7528\u77ed\u7684\uff0c\u5168\u5c0f\u5199\u540d\u5b57\u3002\u5982\u679c\u6709\u52a9\u4e8e\u9605\u8bfb\uff0c\u53ef\u4ee5\u7528\\_\u3002\u5305\u5e94\u8be5\u59cb\u7ec8\u7528\u77ed\u7684\uff0c\u5c0f\u5199\u540d\u5b57\u3002\u4e0d\u9f13\u52b1\u7528\\_\u3002\n",
      "* \u4f7f\u7528C/C++\u6a21\u5757\u5916\u9762\u5305\u88c5\u4e00\u4e2apy\u65f6\uff0c\u4e00\u822c\u6709\u4e00\u4e2a\u524d\u7f6e\u7684\\_\u3002\n",
      "* \u7c7b\u540d\u79f0\u5efa\u8bae\u9a7c\u5cf0\u5b57\u3002\n",
      "* \u7c7b\u578b\u540d\u79f0\u5efa\u8bae\u4f7f\u7528\u9a7c\u5cf0\u5b57\u3002\n",
      "* \u5f02\u5e38\u57fa\u672c\u4e0a\u662f\u7c7b\uff0c\u6240\u4ee5\u5f02\u5e38\u5e94\u4f7f\u7528\u9a7c\u5cf0\u5b57\u3002\u4f46\u662f\u6700\u540e\u53ef\u4ee5\u52a0Error\u540e\u7f00\u6765\u6807\u8bc6\u3002"
     ]
    },
    {
     "cell_type": "markdown",
     "metadata": {
      "slideshow": {
       "slide_type": "subslide"
      }
     },
     "source": [
      "* \u51fd\u6570\u540d\u5efa\u8bae\u5168\u5c0f\u5199\u3002\u5982\u679c\u6709\u52a9\u4e8e\u9605\u8bfb\uff0c\u53ef\u4ee5\u7528_\u3002\u5982\u679c\u548c\u5173\u952e\u5b57\u51b2\u7a81\uff0c\u4e00\u822c\u4f1a\u6539\u4e2a\u540d\u5b57\u6216\u8005\u5728\u540e\u9762\u52a0_\u3002\n",
      "* \u5185\u90e8\u4f7f\u7528\u7684\u5168\u5c40\u53d8\u91cf\u540d\u89c4\u5219\u540c\u51fd\u6570\u540d\u3002\n",
      "* \u59cb\u7ec8\u7528self\u6765\u6307\u4ee3\u5bf9\u8c61\u672c\u8eab\uff0c\u4f7f\u7528cls\u6765\u6307\u4ee3\u7c7b\u672c\u8eab\u3002\n",
      "* \u5e38\u91cf\u59cb\u7ec8\u5168\u5927\u5199\u3002\n",
      "* \u5982\u679c\u8981\u8bbf\u95ee\u7c7b\u5c5e\u6027\uff0c\u76f4\u63a5\u8bbf\u95ee\u7c7b\u5c5e\u6027\u5373\u53ef\uff0c\u4e0d\u9700\u8981\u989d\u5916\u7684getter/setter\u3002\u56e0\u4e3apython\u5141\u8bb8\u4f60\u4f7f\u7528property\u6765\u91cd\u8f7d\u8fd9\u4e2a\u5c5e\u6027\u3002"
     ]
    },
    {
     "cell_type": "markdown",
     "metadata": {
      "slideshow": {
       "slide_type": "subslide"
      }
     },
     "source": [
      "## \u5f02\u5e38\u89c4\u5219\n",
      "\n",
      "* \u4eceException\u7ee7\u627f\u5f02\u5e38\u800c\u4e0d\u662f\u4eceBaseException\u7ee7\u627f\u3002\n",
      "* \u8c28\u614e\u4f7f\u7528\u5f02\u5e38\u4e32\u3002\n",
      "* \u4f7f\u7528raise Exception(args)\u7684\u5f62\u6001\u800c\u975eraise Exception, args\u7684\u5f62\u6001\u3002\n",
      "* \u4e0d\u8981\u4f7f\u7528\u6cdb\u6027\u5f02\u5e38\u6355\u83b7\uff0c\u66f4\u4e0d\u8981\u7528except:\u3002\n",
      "* \u5728\u6355\u83b7\u7684\u65f6\u5019\uff0c\u5c3d\u91cf\u51cf\u5c11\u65e0\u6548\u7684\u65e0\u6548\u7684\u6355\u83b7\u533a\u57df\u3002\u4ee5\u514d\u5f02\u5e38\u906e\u853d\u3002\uff08\u5f02\u5e38\u6355\u83b7\u7684\u533a\u57df\u8d8a\u5c0f\u8d8a\u597d\uff09\n",
      "* context manager\u6700\u597d\u4ee5\u72ec\u7acb\u51fd\u6570\u6216\u65b9\u6cd5\u6765\u8fdb\u5165\u548c\u9000\u51fa\u3002"
     ]
    },
    {
     "cell_type": "markdown",
     "metadata": {
      "slideshow": {
       "slide_type": "subslide"
      }
     },
     "source": [
      "## \u7f16\u7a0b\u7ec6\u8282\n",
      "\n",
      "* \u4ee3\u7801\u5e94\u5f53\u88ab\u7f16\u5199\u7684\u5c3d\u91cf\u4e0d\u59a8\u788d\u5176\u4ed6python\u5b9e\u73b0\u3002\uff08\u4f8b\u5982pypy\uff0cetc\uff09\u6240\u4ee5\u4e0d\u8981\u4f9d\u8d56\u4e8e\u4e00\u4e9bCPython\u4e2d\u7279\u5b9a\u7684\u7279\u6027/\u4f18\u5316\u3002\n",
      "* \u5bf9\u5355\u4f8b\u53d8\u91cf\uff08\u4f8b\u5982True/False/None\uff09\u7684\u6bd4\u8f83\u5e94\u59cb\u7ec8\u4f7f\u7528is/is not\uff0c\u800c\u4e0d\u662f\u6bd4\u8f83\u7b97\u7b26\u3002\n",
      "* \u4f7f\u7528is not\u800c\u4e0d\u662fnot \u2026 is ...\u3002\u867d\u7136\u903b\u8f91\u610f\u4e49\u4e0d\u53d8\uff0c\u4f46\u662f\u540e\u8005\u4e0d\u7b26\u5408\u82f1\u8bed\u8bed\u6cd5\u3002\n",
      "* \u4f7f\u7528def\u800c\u4e0d\u662flambda\u52a0\u8d4b\u503c\u3002\n",
      "* return\u65f6\u7684\u5185\u5bb9\u5e94\u8be5\u5728\u51fd\u6570\u5185\u4fdd\u6301\u4e00\u81f4\u3002\n",
      "* \u4f7f\u7528startswith, endswith\u800c\u4e0d\u662f\u4f7f\u7528slice\u8ba1\u7b97\uff0c\u56e0\u4e3a\u524d\u8005\u66f4\u52a0\u7b26\u5408\u81ea\u7136\u8bed\u8a00\u3002\n",
      "* \u4f7f\u7528isinstance\u800c\u4e0d\u662f\u7c7b\u578b\u6bd4\u8f83\u3002"
     ]
    },
    {
     "cell_type": "markdown",
     "metadata": {
      "slideshow": {
       "slide_type": "subslide"
      }
     },
     "source": [
      "* \u4f7f\u7528\u7c7b\u578b\u5e03\u5c14\u6362\u7b97\u6765\u505aif\u800c\u975elen\u3002\u4f8b\u5982if list:\uff0c\u800c\u975eif len(list):\u3002\n",
      "* \u4e0d\u8981\u5199\u4e00\u4e2a\u5c3e\u90e8\u6709\u7a7a\u683c\u7684\u591a\u884c\u5b57\u7b26\u4e32\uff0c\u5c3e\u90e8\u7684\u7a7a\u683c\u5bf9\u4e8e\u7f16\u8f91\u8005\u6765\u8bf4\u662f\u4e0d\u53ef\u89c1\u7684\uff0c\u6240\u4ee5\u90e8\u5206\u7f16\u8f91\u5668\u4f1a\u81ea\u52a8\u5220\u9664\u3002\u8fd9\u5bfc\u81f4\u4f60\u7684\u5b57\u7b26\u4e32\u51fa\u73b0\u9519\u8bef\u3002\n",
      "* \u4e0d\u5efa\u8bae\u4e00\u884c\u5305\u542b\u591a\u4e2a\u903b\u8f91\u8bed\u53e5\u3002\n",
      "* \u6709\u7684\u65f6\u5019\uff0c\u5bf9\u4e8eif/for/while\u63a5\u4e00\u4e2a\u5c0f\u903b\u8f91\u4f53\uff0c\u5305\u542b\u5728\u4e00\u884c\u662fOK\u7684\u3002\u4f46\u662f\u4e0d\u8981\u5728\u591a\u884c\u7ed3\u6784\u91cc\u9762\u5305\u542b\u903b\u8f91\u4f53\uff0c\u66f4\u4e0d\u8981\u8bd5\u56fe\u5bf9\u8fd9\u79cd\u903b\u8f91\u4f53\u505a\u8de8\u884c\u6298\u53e0\u3002"
     ]
    },
    {
     "cell_type": "markdown",
     "metadata": {
      "slideshow": {
       "slide_type": "slide"
      }
     },
     "source": [
      "# Python\u5de5\u7a0b"
     ]
    },
    {
     "cell_type": "markdown",
     "metadata": {
      "slideshow": {
       "slide_type": "subslide"
      }
     },
     "source": [
      "## \u4ee3\u7801\u68c0\u67e5\u5de5\u5177\n",
      "\n",
      "* pylint\n",
      "* pycodestyle\n",
      "* maccabe\n",
      "* flake8"
     ]
    },
    {
     "cell_type": "code",
     "collapsed": false,
     "input": [
      "%%writefile calc.py\n",
      "#!/usr/bin/python\n",
      "# -*- coding: utf-8 -*-\n",
      "'''\n",
      "@date: 2016-09-02\n",
      "@author: Shell.Xu\n",
      "@copyright: 2016, Shell.Xu <shell909090@gmail.com>\n",
      "@license: BSD-3-clause\n",
      "'''\n",
      "\n",
      "op_set = {'(': None,\n",
      "    ')': None,\n",
      "    '+': lambda x, y: x+y,\n",
      "    '-': lambda x, y: x-y,\n",
      "    '*': lambda x, y: x*y,\n",
      "    '/': lambda x, y: float(x)/y,}\n",
      "\n",
      "op_priority = {'+': 10, '-': 10,\n",
      "    '*': 20,\n",
      "    '/': 20,}\n",
      "\n",
      "def parser_exp(exp):\n",
      "    s = ''\n",
      "    for c in exp:\n",
      "        if c in op_set:\n",
      "            if s: yield s\n",
      "            s = ''\n",
      "            yield c\n",
      "        else: s += c\n",
      "    if s: yield s\n",
      "\n",
      "def find_last_op(l):\n",
      "    for e in reversed(l):\n",
      "        if e in op_set: return e\n",
      "\n",
      "def force_stack(stack):\n",
      "    r = stack.pop(-1)\n",
      "    op = stack.pop(-1)\n",
      "    l = stack.pop(-1)\n",
      "    result = op_set[op](l, r)\n",
      "    print('{} {} {} => {}'.format(op, l, r, result))\n",
      "    stack.append(result)\n",
      "\n",
      "def eval_exp(exp):\n",
      "    stack = []\n",
      "    for e in exp:\n",
      "        if e == ')': break\n",
      "        elif e == '(':\n",
      "            stack.append(eval_exp(exp))\n",
      "            continue\n",
      "        if e not in op_set:\n",
      "            stack.append(float(e))\n",
      "            continue\n",
      "        while True:\n",
      "            last = find_last_op(stack)\n",
      "            if last is None or op_priority[last] < op_priority[e]: break\n",
      "            force_stack(stack)\n",
      "        stack.append(e)\n",
      "    while len(stack) > 1:\n",
      "        force_stack(stack)\n",
      "    return stack[0]\n",
      "\n",
      "def calc(exp):\n",
      "    s = parser_exp(exp)\n",
      "    return eval_exp(s)\n",
      "\n",
      "print(calc('2*3+1'))\n",
      "print(calc('1+2*3'))\n",
      "print(calc('(1.1+2.5/10)*3/4+1'))"
     ],
     "language": "python",
     "metadata": {
      "slideshow": {
       "slide_type": "subslide"
      }
     },
     "outputs": [
      {
       "output_type": "stream",
       "stream": "stdout",
       "text": [
        "Writing calc.py\n"
       ]
      }
     ],
     "prompt_number": 78
    },
    {
     "cell_type": "code",
     "collapsed": false,
     "input": [
      "!pylint calc.py | head -n 10"
     ],
     "language": "python",
     "metadata": {
      "slideshow": {
       "slide_type": "subslide"
      }
     },
     "outputs": [
      {
       "output_type": "stream",
       "stream": "stdout",
       "text": [
        "************* Module calc\r\n",
        "C: 11, 0: Wrong continued indentation (add 6 spaces).\r\n",
        "    ')': None,\r\n",
        "    ^     | (bad-continuation)\r\n",
        "C: 12, 0: Wrong continued indentation (add 6 spaces).\r\n",
        "    '+': lambda x, y: x+y,\r\n",
        "    ^     | (bad-continuation)\r\n",
        "C: 13, 0: Wrong continued indentation (add 6 spaces).\r\n",
        "    '-': lambda x, y: x-y,\r\n",
        "    ^     | (bad-continuation)\r\n"
       ]
      }
     ],
     "prompt_number": 79
    },
    {
     "cell_type": "code",
     "collapsed": false,
     "input": [
      "!pylint calc.py | tail -n 5"
     ],
     "language": "python",
     "metadata": {},
     "outputs": [
      {
       "output_type": "stream",
       "stream": "stdout",
       "text": [
        "\r\n",
        "Global evaluation\r\n",
        "-----------------\r\n",
        "Your code has been rated at 4.00/10 (previous run: 4.00/10, +0.00)\r\n",
        "\r\n"
       ]
      }
     ],
     "prompt_number": 80
    },
    {
     "cell_type": "code",
     "collapsed": false,
     "input": [
      "!flake8 calc.py"
     ],
     "language": "python",
     "metadata": {
      "slideshow": {
       "slide_type": "subslide"
      }
     },
     "outputs": [
      {
       "output_type": "stream",
       "stream": "stdout",
       "text": [
        "calc.py:11:5: E128 continuation line under-indented for visual indent\r\n",
        "calc.py:12:5: E128 continuation line under-indented for visual indent\r\n",
        "calc.py:13:5: E128 continuation line under-indented for visual indent\r\n",
        "calc.py:14:5: E128 continuation line under-indented for visual indent\r\n",
        "calc.py:15:5: E128 continuation line under-indented for visual indent\r\n",
        "calc.py:15:33: E231 missing whitespace after ','\r\n",
        "calc.py:18:5: E128 continuation line under-indented for visual indent\r\n",
        "calc.py:19:5: E128 continuation line under-indented for visual indent\r\n",
        "calc.py:19:12: E231 missing whitespace after ','\r\n",
        "calc.py:21:1: E302 expected 2 blank lines, found 1\r\n",
        "calc.py:25:17: E701 multiple statements on one line (colon)\r\n",
        "calc.py:28:13: E701 multiple statements on one line (colon)\r\n",
        "calc.py:29:9: E701 multiple statements on one line (colon)\r\n",
        "calc.py:31:1: E302 expected 2 blank lines, found 1\r\n",
        "calc.py:33:23: E701 multiple statements on one line (colon)\r\n",
        "calc.py:35:1: E302 expected 2 blank lines, found 1\r\n",
        "calc.py:43:1: E302 expected 2 blank lines, found 1\r\n",
        "calc.py:46:20: E701 multiple statements on one line (colon)\r\n",
        "calc.py:55:66: E701 multiple statements on one line (colon)\r\n",
        "calc.py:62:1: E302 expected 2 blank lines, found 1\r\n",
        "calc.py:68:34: W292 no newline at end of file\r\n"
       ]
      }
     ],
     "prompt_number": 81
    },
    {
     "cell_type": "code",
     "collapsed": false,
     "input": [
      "!python3 -m mccabe calc.py"
     ],
     "language": "python",
     "metadata": {
      "slideshow": {
       "slide_type": "subslide"
      }
     },
     "outputs": [
      {
       "output_type": "stream",
       "stream": "stdout",
       "text": [
        "21:1: 'parser_exp' 5\r\n",
        "62:1: 'calc' 1\r\n",
        "31:1: 'find_last_op' 3\r\n",
        "43:1: 'eval_exp' 8\r\n",
        "35:1: 'force_stack' 1\r\n"
       ]
      }
     ],
     "prompt_number": 82
    },
    {
     "cell_type": "code",
     "collapsed": false,
     "input": [
      "%%writefile calc.py\n",
      "#!/usr/bin/python\n",
      "# -*- coding: utf-8 -*-\n",
      "'''\n",
      "@date: 2016-09-02\n",
      "@author: Shell.Xu\n",
      "@copyright: 2016, Shell.Xu <shell909090@gmail.com>\n",
      "@license: BSD-3-clause\n",
      "'''\n",
      "from __future__ import absolute_import, division,\\\n",
      "    print_function, unicode_literals\n",
      "\n",
      "\n",
      "op_set = {\n",
      "    '(': None,\n",
      "    ')': None,\n",
      "    '+': lambda x, y: x+y,\n",
      "    '-': lambda x, y: x-y,\n",
      "    '*': lambda x, y: x*y,\n",
      "    '/': lambda x, y: float(x)/y,\n",
      "}\n",
      "\n",
      "\n",
      "op_priority = {\n",
      "    '+': 10,\n",
      "    '-': 10,\n",
      "    '*': 20,\n",
      "    '/': 20,\n",
      "}\n",
      "\n",
      "\n",
      "def parser_exp(exp):\n",
      "    s = ''\n",
      "    for c in exp:\n",
      "        if c in op_set:\n",
      "            if s:\n",
      "                yield s\n",
      "            s = ''\n",
      "            yield c\n",
      "        else:\n",
      "            s += c\n",
      "    if s:\n",
      "        yield s\n",
      "\n",
      "\n",
      "def find_last_op(l):\n",
      "    for e in reversed(l):\n",
      "        if e in op_set:\n",
      "            return e\n",
      "\n",
      "\n",
      "def force_stack(stack):\n",
      "    r = stack.pop(-1)\n",
      "    op = stack.pop(-1)\n",
      "    l = stack.pop(-1)\n",
      "    result = op_set[op](l, r)\n",
      "    print('{} {} {} => {}'.format(op, l, r, result))\n",
      "    stack.append(result)\n",
      "\n",
      "\n",
      "def eval_exp(exp):\n",
      "    stack = []\n",
      "    for e in exp:\n",
      "        if e == ')':\n",
      "            break\n",
      "        elif e == '(':\n",
      "            stack.append(eval_exp(exp))\n",
      "            continue\n",
      "        if e not in op_set:\n",
      "            stack.append(float(e))\n",
      "            continue\n",
      "        while True:\n",
      "            last = find_last_op(stack)\n",
      "            if last is None or op_priority[last] < op_priority[e]:\n",
      "                break\n",
      "            force_stack(stack)\n",
      "        stack.append(e)\n",
      "    while len(stack) > 1:\n",
      "        force_stack(stack)\n",
      "    return stack[0]\n",
      "\n",
      "\n",
      "def calc(exp):\n",
      "    s = parser_exp(exp)\n",
      "    result = eval_exp(s)\n",
      "    assert not list(s)\n",
      "    return result\n",
      "\n",
      "\n",
      "print(calc('2*3+1'))\n",
      "print(calc('1+2*3'))\n",
      "print(calc('(1.1+2.5/10)*3/4+1'))"
     ],
     "language": "python",
     "metadata": {
      "slideshow": {
       "slide_type": "subslide"
      }
     },
     "outputs": [
      {
       "output_type": "stream",
       "stream": "stdout",
       "text": [
        "Overwriting calc.py\n"
       ]
      }
     ],
     "prompt_number": 83
    },
    {
     "cell_type": "code",
     "collapsed": false,
     "input": [
      "!pylint calc.py | head -n 10"
     ],
     "language": "python",
     "metadata": {
      "slideshow": {
       "slide_type": "subslide"
      }
     },
     "outputs": [
      {
       "output_type": "stream",
       "stream": "stdout",
       "text": [
        "************* Module calc\r\n",
        "C: 91, 0: Final newline missing (missing-final-newline)\r\n",
        "C: 13, 0: Invalid constant name \"op_set\" (invalid-name)\r\n",
        "C: 23, 0: Invalid constant name \"op_priority\" (invalid-name)\r\n",
        "C: 32, 4: Invalid variable name \"s\" (invalid-name)\r\n",
        "C: 33, 8: Invalid variable name \"c\" (invalid-name)\r\n",
        "C: 37,12: Invalid variable name \"s\" (invalid-name)\r\n",
        "C: 40,12: Invalid variable name \"s\" (invalid-name)\r\n",
        "C: 45, 0: Invalid argument name \"l\" (invalid-name)\r\n",
        "C: 46, 8: Invalid variable name \"e\" (invalid-name)\r\n"
       ]
      }
     ],
     "prompt_number": 84
    },
    {
     "cell_type": "code",
     "collapsed": false,
     "input": [
      "!pylint calc.py | tail -n 5"
     ],
     "language": "python",
     "metadata": {},
     "outputs": [
      {
       "output_type": "stream",
       "stream": "stdout",
       "text": [
        "\r\n",
        "Global evaluation\r\n",
        "-----------------\r\n",
        "Your code has been rated at 7.36/10 (previous run: 7.36/10, +0.00)\r\n",
        "\r\n"
       ]
      }
     ],
     "prompt_number": 85
    },
    {
     "cell_type": "code",
     "collapsed": false,
     "input": [
      "!flake8 calc.py"
     ],
     "language": "python",
     "metadata": {
      "slideshow": {
       "slide_type": "subslide"
      }
     },
     "outputs": [
      {
       "output_type": "stream",
       "stream": "stdout",
       "text": [
        "calc.py:91:34: W292 no newline at end of file\r\n"
       ]
      }
     ],
     "prompt_number": 86
    },
    {
     "cell_type": "code",
     "collapsed": false,
     "input": [
      "!flake8 --max-complexity 10 calc.py"
     ],
     "language": "python",
     "metadata": {
      "slideshow": {
       "slide_type": "-"
      }
     },
     "outputs": [
      {
       "output_type": "stream",
       "stream": "stdout",
       "text": [
        "calc.py:91:34: W292 no newline at end of file\r\n"
       ]
      }
     ],
     "prompt_number": 87
    },
    {
     "cell_type": "markdown",
     "metadata": {
      "slideshow": {
       "slide_type": "subslide"
      }
     },
     "source": [
      "## \u8986\u76d6\u7387\u5206\u6790\u5de5\u5177\n",
      "\n",
      "coverage"
     ]
    },
    {
     "cell_type": "code",
     "collapsed": false,
     "input": [
      "!python-coverage run calc.py"
     ],
     "language": "python",
     "metadata": {
      "slideshow": {
       "slide_type": "subslide"
      }
     },
     "outputs": [
      {
       "output_type": "stream",
       "stream": "stdout",
       "text": [
        "* 2.0 3.0 => 6.0\r\n",
        "+ 6.0 1.0 => 7.0\r\n",
        "7.0\r\n",
        "* 2.0 3.0 => 6.0\r\n",
        "+ 1.0 6.0 => 7.0\r\n",
        "7.0\r\n",
        "/ 2.5 10.0 => 0.25\r\n",
        "+ 1.1 0.25 => 1.35\r\n",
        "* 1.35 3.0 => 4.05\r\n",
        "/ 4.05 4.0 => 1.0125\r\n",
        "+ 1.0125 1.0 => 2.0125\r\n",
        "2.0125\r\n"
       ]
      }
     ],
     "prompt_number": 88
    },
    {
     "cell_type": "code",
     "collapsed": false,
     "input": [
      "!python-coverage report -m"
     ],
     "language": "python",
     "metadata": {},
     "outputs": [
      {
       "output_type": "stream",
       "stream": "stdout",
       "text": [
        "Name      Stmts   Miss  Cover   Missing\r\n",
        "---------------------------------------\r\n",
        "calc.py      54      0   100%\r\n"
       ]
      }
     ],
     "prompt_number": 89
    },
    {
     "cell_type": "code",
     "collapsed": false,
     "input": [
      "!rm -f calc.py"
     ],
     "language": "python",
     "metadata": {
      "slideshow": {
       "slide_type": "skip"
      }
     },
     "outputs": [],
     "prompt_number": 90
    },
    {
     "cell_type": "markdown",
     "metadata": {
      "slideshow": {
       "slide_type": "subslide"
      }
     },
     "source": [
      "## \u6587\u6863\u5de5\u5177\n",
      "\n",
      "* pydoc\n",
      "* doxygen\n",
      "* sphinx\n",
      "* pandoc"
     ]
    },
    {
     "cell_type": "markdown",
     "metadata": {
      "slideshow": {
       "slide_type": "slide"
      }
     },
     "source": [
      "# \u7f16\u8f91\u5668\u8bbe\u5b9a"
     ]
    },
    {
     "cell_type": "markdown",
     "metadata": {
      "slideshow": {
       "slide_type": "subslide"
      }
     },
     "source": [
      "## \u7f16\u8f91\u5668\u8f85\u52a9\u529f\u80fd\n",
      "\n",
      "\u5728\u5f00\u53d1python\u7684\u65f6\u5019\uff0c\u6709\u4e00\u6b3e\u597d\u7684\u7f16\u8f91\u5668\u5f80\u5f80\u80fd\u5f88\u5927\u7684\u63d0\u5347\u5de5\u4f5c\u6548\u7387\u3002\u9488\u5bf9python\u6765\u8bf4\uff0c\u7f16\u8f91\u5668\u53ef\u80fd\u63d0\u4f9b\u7684\u7279\u6027\u6709\uff1a\n",
      "\n",
      "* \u8bed\u6cd5\u9ad8\u4eae\n",
      "* \u81ea\u52a8\u7f29\u8fdb\n",
      "* \u81ea\u52a8\u8865\u5168/\u7c7b\u578b\u63a8\u65ad\n",
      "* \u4ee3\u7801\u6298\u53e0/\u4ee3\u7801\u5bfc\u822a\n",
      "* \u7b26\u53f7\u67e5\u627e\u548c\u5b9a\u4f4d\n",
      "* \u81ea\u52a8\u9519\u8bef\u68c0\u67e5\n",
      "* REPL\u8f85\u52a9"
     ]
    },
    {
     "cell_type": "markdown",
     "metadata": {
      "slideshow": {
       "slide_type": "subslide"
      }
     },
     "source": [
      "## Emacs\u914d\u7f6e\n",
      "\n",
      "Emacs\u7684\u6388\u6743\u662fGPLv3\u3002\u66f4\u591a\u7ec6\u8282\uff0c\u53ef\u4ee5\u53c2\u8003[\u8fd9\u91cc](https://www.emacswiki.org/emacs/PythonProgrammingInEmacs)\n",
      "\n",
      "\u5047\u5b9a\u4f60\u5df2\u7ecf\u9009\u62e9\u4e86\u4f7f\u7528emacs\u4f5c\u4e3a\u65e5\u5e38\u7f16\u8f91\u5668\uff0c\u61c2\u5f97\u5982\u4f55\u8bbe\u5b9a\u914d\u7f6e\u6587\u4ef6\u548c\u5b89\u88c5\u63d2\u4ef6\u3002\u77e5\u9053\u5982\u4f55\u5207\u6362\u5230python-mode\u3002\n",
      "\n",
      "Emacs\u9ed8\u8ba4\u5185\u7f6e\u4e86python.el\uff0c\u81ea\u52a8\u5f00\u542f\u4e86\u4ee5\u4e0b\u529f\u80fd\uff1a\n",
      "\n",
      "* \u8bed\u6cd5\u9ad8\u4eae\uff1a\u81ea\u52a8\u3002\n",
      "* \u81ea\u52a8\u7f29\u8fdb\uff1a\u9700\u8981\u624b\u5de5\u51b3\u5b9a\u7f29\u8fdb\u6df1\u5ea6\uff0c\u4f46\u662f\u53ef\u4ee5\u6309tab\u5728\u591a\u4e2a\u53ef\u80fd\u6df1\u5ea6\u4e2d\u81ea\u52a8\u5de1\u822a\u3002\n",
      "* \u81ea\u52a8\u8865\u5168\uff08\u534a\u81ea\u52a8\uff09\uff1a\u5bf9\u4e8e\u5f53\u524d\u6587\u4ef6\u6216\u5de5\u7a0b\u4e2d\u7684\u7b26\u53f7\u53ef\u4ee5\u81ea\u52a8\u8865\u5168\uff0c\u4f46\u662f\u4e0d\u4f1a\u63d0\u793a\u7cfb\u7edf\u5e93\u4e2d\u7684\u7b26\u53f7\uff0c\u6216\u8005\u4f9d\u8d56\u7684\u9879\u76ee\u4e2d\u7684\u7b26\u53f7\u3002\n",
      "* \u4ee3\u7801\u6298\u53e0\uff1a\u4f7f\u7528hs-minor-mode\u5b50\u6a21\u5f0f\u5373\u53ef\u5b8c\u6210\u3002\n",
      "* \u7b26\u53f7\u5b9a\u4f4d\u548c\u67e5\u627e\uff1a\u7528etags\u5bf9\u6240\u6709\u6587\u4ef6\u751f\u6210\u4e00\u4efdTAGS\u6587\u4ef6\uff0c\u5728emacs\u4e2d\u53ef\u4ee5\u501f\u52a9TAGS\u6587\u4ef6\u505a\u6587\u4ef6\u7b26\u53f7\u5b9a\u4f4d\u5de1\u822a\u3002\n",
      "* REPL\uff1aemacs\u5185\u7f6e\u4e86REPL\u652f\u6301\u3002"
     ]
    },
    {
     "cell_type": "markdown",
     "metadata": {
      "slideshow": {
       "slide_type": "subslide"
      }
     },
     "source": [
      "## Vim\u914d\u7f6e\n",
      "\n",
      "Vim\u662f\u548cEmacs\u5e76\u79f0\u7684\u5f3a\u5927\u7f16\u8f91\u5668\u3002Vim\u7684\u6388\u6743\u662f\u72ec\u7279\u7684Vim\u6388\u6743\uff0c\u4f46\u662f\u662fGPL\u517c\u5bb9\u7684\u3002\n",
      "\n",
      "* \u8bed\u6cd5\u9ad8\u4eae\uff1a\u4e0b\u8f7d[\u8fd9\u4e2a\u63d2\u4ef6](http://www.vim.org/scripts/script.php?script_id=1599)\uff0c\u653e\u5728~/.vim/plugin/\u3002\n",
      "* \u81ea\u52a8\u7f29\u8fdb\uff1a\u81ea\u52a8\u3002\n",
      "* \u81ea\u52a8\u8865\u5168\uff1aCtrl+n\u5c31\u53ef\u4ee5\u8865\u5168\u3002\u8fd8\u53ef\u4ee5\u52a0\u8f7dpydiction\u8fdb\u884c\u8865\u5168\u3002\n",
      "* \u4ee3\u7801\u6298\u53e0\uff1a\u4e0b\u8f7d[\u8fd9\u4e2a\u63d2\u4ef6](http://vim.sourceforge.net/scripts/script.php?script_id=515)\uff0c\u653e\u5728~/.vim/plugin/\u3002\n",
      "  * \u64cd\u4f5c\uff1azc\u6298\u53e0\uff0czo\u53cd\u6298\u53e0\u3002zN\u6298\u53e0\u6240\u6709\uff0czn\u53cd\u6298\u53e0\u6240\u6709\u3002\n",
      "* \u7b26\u53f7\u5b9a\u4f4d\u548c\u67e5\u627e\uff1a\u4f7f\u7528ctags -R *\u751f\u6210\u7b26\u53f7\u5217\u8868\uff0c\u4f7f\u7528Ctrl-]\u8f6c\u8df3\uff0cCtrl-o\u8fd4\u56de\u3002\n",
      "* REPL\uff1a\u9700\u8bbe\u5b9a\u63d2\u4ef6\uff0c\u8bf7\u81ea\u884c\u7814\u7a76\u3002\n",
      "\n",
      "\u66f4\u591a\u8d44\u6599\uff0c\u53c2\u8003[\u8fd9\u91cc](http://www.cnblogs.com/ifantastic/p/3185665.html)\u3002"
     ]
    },
    {
     "cell_type": "markdown",
     "metadata": {
      "slideshow": {
       "slide_type": "subslide"
      }
     },
     "source": [
      "## pydiction\u7684\u5b89\u88c5\n",
      "\n",
      "1. \u5728[\u8fd9\u91cc](http://vim.sourceforge.net/scripts/script.php?script_id=850)\u4e0b\u8f7d\u7ec4\u4ef6\u3002\n",
      "2. \u7136\u540e\u5c06pydiction/after/ftplugin/python_pydiction.vim\u79fb\u52a8\u5230~/.vim/after/ftplugin/\u3002\n",
      "3. \u5c06pydiction/complete-dict\u79fb\u52a8\u5230~/.vim/tools/pydiction/\u3002\n",
      "4. \u5728~/.vimrc\u91cc\u6dfb\u52a0\u3002\n",
      "\n",
      "\n",
      "    filetype plugin on\n",
      "    let g:pydiction_location = '~/.vim/tools/pydiction/complete-dict'"
     ]
    },
    {
     "cell_type": "markdown",
     "metadata": {
      "slideshow": {
       "slide_type": "subslide"
      }
     },
     "source": [
      "## Eclipse\u914d\u7f6e\n",
      "\n",
      "Eclipse\u7684\u6388\u6743\u4e3a\u72ec\u7279\u7684EPL\u3002Eclipse\u5b89\u88c5\u5b8c\u6210\u540e\uff0c\u52a0\u88c5[pydev\u7ec4\u4ef6](http://www.pydev.org)\n",
      "\n",
      "* \u8bed\u6cd5\u9ad8\u4eae\uff1a\u81ea\u52a8\u652f\u6301\n",
      "* \u81ea\u52a8\u7f29\u8fdb\uff1a\u81ea\u52a8\u652f\u6301\n",
      "* \u81ea\u52a8\u8865\u5168\uff1a\u652f\u6301\u81ea\u52a8\u8865\u5168\uff08Ctrl+Atl+/\uff09\uff0c\u5185\u7f6e\u7c7b\u578b\u652f\u6301\u7c7b\u578b\u63a8\u65ad\u3002\n",
      "* \u4ee3\u7801\u6298\u53e0\uff1a\u6709\u529f\u80fd\uff0c\u4f46\u65e0\u6cd5\u6d4b\u8bd5\u901a\u8fc7\n",
      "* \u7b26\u53f7\u67e5\u627e\u548c\u5b9a\u4f4d\uff1a\u81ea\u52a8\u652f\u6301\uff0c\u6309F3\u3002\n",
      "* REPL\u8f85\u52a9\uff1a\u4e0d\u652f\u6301\u3002\n",
      "* \u5185\u7f6e\u8bed\u6cd5\u68c0\u67e5\u3002"
     ]
    },
    {
     "cell_type": "markdown",
     "metadata": {
      "slideshow": {
       "slide_type": "subslide"
      }
     },
     "source": [
      "## PyCharm\u914d\u7f6e\n",
      "\n",
      "PyCharm\u662f\u4e00\u6b3e\u5546\u4e1a\u7684Python IDE\uff0c\u4e13\u4e1a\u7248\u4ee5\u4e0a\u4e3a\u5546\u4e1a\u6388\u6743\u3002\u540c\u65f6\u6709\u793e\u533a\u7248\uff0c[\u793e\u533a\u7248\u6388\u6743](https://en.wikipedia.org/wiki/PyCharm#Licensing)\u4e3aApache License\u3002\n",
      "\n",
      "* \u8bed\u6cd5\u9ad8\u4eae\uff1a\u81ea\u52a8\u652f\u6301\n",
      "* \u81ea\u52a8\u7f29\u8fdb\uff1a\u81ea\u52a8\u652f\u6301\n",
      "* \u81ea\u52a8\u8865\u5168/\u7c7b\u578b\u63a8\u65ad\uff1a\u652f\u6301\u81ea\u52a8\u8865\u5168\u3002\n",
      "* \u4ee3\u7801\u6298\u53e0/\u4ee3\u7801\u5bfc\u822a\n",
      "* \u7b26\u53f7\u67e5\u627e\u548c\u5b9a\u4f4d\n",
      "* REPL\u8f85\u52a9"
     ]
    },
    {
     "cell_type": "markdown",
     "metadata": {
      "slideshow": {
       "slide_type": "subslide"
      }
     },
     "source": [
      "## \u5176\u4ed6\u7f16\u8f91\u5668\n",
      "\n",
      "* VS code\n",
      "* Atom\n",
      "* Sublime\n",
      "* TextMate\n",
      "* Kate\n",
      "* Gedit"
     ]
    },
    {
     "cell_type": "markdown",
     "metadata": {
      "slideshow": {
       "slide_type": "subslide"
      }
     },
     "source": [
      "# \u6700\u540e\u4f5c\u4e1a\n",
      "\n",
      "\u6839\u636e\u5f53\u524d\u7528\u6237\u76ee\u5f55\u4e0b\u7684~/.backup_setting.ini\u6587\u4ef6\uff0c\u4ece\u4e2d\u8bfb\u53d6\u6240\u6709\u9700\u8981\u5907\u4efd\u7684\u76ee\u5f55\u5217\u8868\u3002\n",
      "\n",
      "\u627e\u51fa\u6240\u6709\u6587\u4ef6\uff0c\u8fc7\u6ee4~\u548c.bak\u7ed3\u5c3e\u7684\u6587\u4ef6\uff0c\u8fc7\u6ee4\u7279\u5b9a\u65f6\u95f4\u4e4b\u524d\u7684\uff0c\u8fc7\u6ee4\u7279\u5b9a\u6b63\u5219\u8868\u8fbe\u5f0f\uff0c\u7136\u540e\u4f7f\u7528tar.gz\u6253\u5305\u3002\n",
      "\n",
      "\u518d\u5c06\u6253\u5305\u7ed3\u679c\u547d\u540d\u4e3a\u201d\u5e74\u6708\u65e5/\u65f6\u5206\u79d2.tar.gz\u201d\uff0c\u653e\u5728\u6307\u5b9a\u76ee\u5f55\u4e0b\u3002\n",
      "\n",
      "\u4e0a\u8ff0\u5185\u5bb9\u9700\u8981\u7528python\u5b8c\u6210\uff0c\u4e0d\u5f97\u4f7f\u7528\u5b50\u8fdb\u7a0b\u8c03\u7528\u5176\u4ed6\u7a0b\u5e8f\u3002\n",
      "\n",
      "\u6709\u80fd\u529b\u7684\u540c\u5b66\u53ef\u4ee5\u9644\u52a0\u529f\u80fd\uff1a\n",
      "\n",
      "1. \u5bf9\u7ed3\u679c\u505agpg\u52a0\u5bc6\u6216\u7b7e\u540d\u3002\u6ce8\u610f\u52a0\u5bc6\u7684\u5bc6\u94a5\u4e0d\u5e94\u5f53\u653e\u5728\u673a\u5668\u4e0a\uff0c\u56e0\u6b64\u52a0\u5bc6\u548c\u7b7e\u540d\u5f88\u53ef\u80fd\u4e0d\u662f\u540c\u4e00\u5bf9\u516c\u79c1\u94a5\u3002\n",
      "2. \u53ef\u4ee5\u5bf9\u7ed3\u679c\u505a\u5207\u7247\u3002\n",
      "3. \u6253\u5305\u5b8c\u6210\u540e\u4e0a\u4f20\u5230S3\uff0c\u7136\u540e\u4ece\u672c\u5730\u5220\u9664\u3002"
     ]
    }
   ],
   "metadata": {}
  }
 ]
}